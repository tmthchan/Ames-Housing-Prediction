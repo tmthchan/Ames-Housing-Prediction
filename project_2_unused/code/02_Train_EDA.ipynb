{
 "cells": [
  {
   "cell_type": "markdown",
   "id": "abf1e70a",
   "metadata": {},
   "source": [
    "# 2. EDA"
   ]
  },
  {
   "cell_type": "code",
   "execution_count": 1,
   "id": "98681b10",
   "metadata": {},
   "outputs": [],
   "source": [
    "#import packages\n",
    "import numpy as np\n",
    "import seaborn as sns\n",
    "import matplotlib.pyplot as plt\n",
    "import pandas as pd\n",
    "\n",
    "%config InlineBackend.figure_format='retina'\n",
    "%matplotlib inline"
   ]
  },
  {
   "cell_type": "code",
   "execution_count": 2,
   "id": "f4a194af",
   "metadata": {},
   "outputs": [
    {
     "data": {
      "text/html": [
       "<div>\n",
       "<style scoped>\n",
       "    .dataframe tbody tr th:only-of-type {\n",
       "        vertical-align: middle;\n",
       "    }\n",
       "\n",
       "    .dataframe tbody tr th {\n",
       "        vertical-align: top;\n",
       "    }\n",
       "\n",
       "    .dataframe thead th {\n",
       "        text-align: right;\n",
       "    }\n",
       "</style>\n",
       "<table border=\"1\" class=\"dataframe\">\n",
       "  <thead>\n",
       "    <tr style=\"text-align: right;\">\n",
       "      <th></th>\n",
       "      <th>ms_subclass</th>\n",
       "      <th>ms_zoning</th>\n",
       "      <th>lot_frontage</th>\n",
       "      <th>lot_area</th>\n",
       "      <th>street</th>\n",
       "      <th>lot_shape</th>\n",
       "      <th>land_contour</th>\n",
       "      <th>utilities</th>\n",
       "      <th>lot_config</th>\n",
       "      <th>land_slope</th>\n",
       "      <th>...</th>\n",
       "      <th>open_porch_sf</th>\n",
       "      <th>enclosed_porch</th>\n",
       "      <th>3ssn_porch</th>\n",
       "      <th>screen_porch</th>\n",
       "      <th>pool_area</th>\n",
       "      <th>misc_val</th>\n",
       "      <th>mo_sold</th>\n",
       "      <th>yr_sold</th>\n",
       "      <th>sale_type</th>\n",
       "      <th>saleprice</th>\n",
       "    </tr>\n",
       "  </thead>\n",
       "  <tbody>\n",
       "    <tr>\n",
       "      <th>0</th>\n",
       "      <td>60</td>\n",
       "      <td>RL</td>\n",
       "      <td>68.0</td>\n",
       "      <td>13517</td>\n",
       "      <td>Pave</td>\n",
       "      <td>IR1</td>\n",
       "      <td>Lvl</td>\n",
       "      <td>AllPub</td>\n",
       "      <td>CulDSac</td>\n",
       "      <td>Gtl</td>\n",
       "      <td>...</td>\n",
       "      <td>44</td>\n",
       "      <td>0</td>\n",
       "      <td>0</td>\n",
       "      <td>0</td>\n",
       "      <td>0</td>\n",
       "      <td>0</td>\n",
       "      <td>3</td>\n",
       "      <td>2010</td>\n",
       "      <td>WD</td>\n",
       "      <td>130500</td>\n",
       "    </tr>\n",
       "    <tr>\n",
       "      <th>1</th>\n",
       "      <td>60</td>\n",
       "      <td>RL</td>\n",
       "      <td>43.0</td>\n",
       "      <td>11492</td>\n",
       "      <td>Pave</td>\n",
       "      <td>IR1</td>\n",
       "      <td>Lvl</td>\n",
       "      <td>AllPub</td>\n",
       "      <td>CulDSac</td>\n",
       "      <td>Gtl</td>\n",
       "      <td>...</td>\n",
       "      <td>74</td>\n",
       "      <td>0</td>\n",
       "      <td>0</td>\n",
       "      <td>0</td>\n",
       "      <td>0</td>\n",
       "      <td>0</td>\n",
       "      <td>4</td>\n",
       "      <td>2009</td>\n",
       "      <td>WD</td>\n",
       "      <td>220000</td>\n",
       "    </tr>\n",
       "    <tr>\n",
       "      <th>2</th>\n",
       "      <td>20</td>\n",
       "      <td>RL</td>\n",
       "      <td>68.0</td>\n",
       "      <td>7922</td>\n",
       "      <td>Pave</td>\n",
       "      <td>Reg</td>\n",
       "      <td>Lvl</td>\n",
       "      <td>AllPub</td>\n",
       "      <td>Inside</td>\n",
       "      <td>Gtl</td>\n",
       "      <td>...</td>\n",
       "      <td>52</td>\n",
       "      <td>0</td>\n",
       "      <td>0</td>\n",
       "      <td>0</td>\n",
       "      <td>0</td>\n",
       "      <td>0</td>\n",
       "      <td>1</td>\n",
       "      <td>2010</td>\n",
       "      <td>WD</td>\n",
       "      <td>109000</td>\n",
       "    </tr>\n",
       "    <tr>\n",
       "      <th>3</th>\n",
       "      <td>60</td>\n",
       "      <td>RL</td>\n",
       "      <td>73.0</td>\n",
       "      <td>9802</td>\n",
       "      <td>Pave</td>\n",
       "      <td>Reg</td>\n",
       "      <td>Lvl</td>\n",
       "      <td>AllPub</td>\n",
       "      <td>Inside</td>\n",
       "      <td>Gtl</td>\n",
       "      <td>...</td>\n",
       "      <td>0</td>\n",
       "      <td>0</td>\n",
       "      <td>0</td>\n",
       "      <td>0</td>\n",
       "      <td>0</td>\n",
       "      <td>0</td>\n",
       "      <td>4</td>\n",
       "      <td>2010</td>\n",
       "      <td>WD</td>\n",
       "      <td>174000</td>\n",
       "    </tr>\n",
       "    <tr>\n",
       "      <th>4</th>\n",
       "      <td>50</td>\n",
       "      <td>RL</td>\n",
       "      <td>82.0</td>\n",
       "      <td>14235</td>\n",
       "      <td>Pave</td>\n",
       "      <td>IR1</td>\n",
       "      <td>Lvl</td>\n",
       "      <td>AllPub</td>\n",
       "      <td>Inside</td>\n",
       "      <td>Gtl</td>\n",
       "      <td>...</td>\n",
       "      <td>59</td>\n",
       "      <td>0</td>\n",
       "      <td>0</td>\n",
       "      <td>0</td>\n",
       "      <td>0</td>\n",
       "      <td>0</td>\n",
       "      <td>3</td>\n",
       "      <td>2010</td>\n",
       "      <td>WD</td>\n",
       "      <td>138500</td>\n",
       "    </tr>\n",
       "  </tbody>\n",
       "</table>\n",
       "<p>5 rows × 68 columns</p>\n",
       "</div>"
      ],
      "text/plain": [
       "   ms_subclass ms_zoning  lot_frontage  lot_area street lot_shape  \\\n",
       "0           60        RL          68.0     13517   Pave       IR1   \n",
       "1           60        RL          43.0     11492   Pave       IR1   \n",
       "2           20        RL          68.0      7922   Pave       Reg   \n",
       "3           60        RL          73.0      9802   Pave       Reg   \n",
       "4           50        RL          82.0     14235   Pave       IR1   \n",
       "\n",
       "  land_contour utilities lot_config land_slope  ... open_porch_sf  \\\n",
       "0          Lvl    AllPub    CulDSac        Gtl  ...            44   \n",
       "1          Lvl    AllPub    CulDSac        Gtl  ...            74   \n",
       "2          Lvl    AllPub     Inside        Gtl  ...            52   \n",
       "3          Lvl    AllPub     Inside        Gtl  ...             0   \n",
       "4          Lvl    AllPub     Inside        Gtl  ...            59   \n",
       "\n",
       "  enclosed_porch 3ssn_porch screen_porch pool_area  misc_val  mo_sold  \\\n",
       "0              0          0            0         0         0        3   \n",
       "1              0          0            0         0         0        4   \n",
       "2              0          0            0         0         0        1   \n",
       "3              0          0            0         0         0        4   \n",
       "4              0          0            0         0         0        3   \n",
       "\n",
       "   yr_sold  sale_type saleprice  \n",
       "0     2010        WD     130500  \n",
       "1     2009        WD     220000  \n",
       "2     2010        WD     109000  \n",
       "3     2010        WD     174000  \n",
       "4     2010        WD     138500  \n",
       "\n",
       "[5 rows x 68 columns]"
      ]
     },
     "execution_count": 2,
     "metadata": {},
     "output_type": "execute_result"
    }
   ],
   "source": [
    "#load dataset\n",
    "ames_df = pd.read_csv('../data/df_train_cleaned.csv')\n",
    "ames_df.head()"
   ]
  },
  {
   "cell_type": "code",
   "execution_count": 3,
   "id": "bbe2d999",
   "metadata": {},
   "outputs": [
    {
     "name": "stdout",
     "output_type": "stream",
     "text": [
      "<class 'pandas.core.frame.DataFrame'>\n",
      "RangeIndex: 2049 entries, 0 to 2048\n",
      "Data columns (total 68 columns):\n",
      " #   Column          Non-Null Count  Dtype  \n",
      "---  ------          --------------  -----  \n",
      " 0   ms_subclass     2049 non-null   int64  \n",
      " 1   ms_zoning       2049 non-null   object \n",
      " 2   lot_frontage    2049 non-null   float64\n",
      " 3   lot_area        2049 non-null   int64  \n",
      " 4   street          2049 non-null   object \n",
      " 5   lot_shape       2049 non-null   object \n",
      " 6   land_contour    2049 non-null   object \n",
      " 7   utilities       2049 non-null   object \n",
      " 8   lot_config      2049 non-null   object \n",
      " 9   land_slope      2049 non-null   object \n",
      " 10  neighborhood    2049 non-null   object \n",
      " 11  condition_1     2049 non-null   object \n",
      " 12  condition_2     2049 non-null   object \n",
      " 13  bldg_type       2049 non-null   object \n",
      " 14  house_style     2049 non-null   object \n",
      " 15  overall_qual    2049 non-null   int64  \n",
      " 16  overall_cond    2049 non-null   int64  \n",
      " 17  year_built      2049 non-null   int64  \n",
      " 18  year_remod/add  2049 non-null   int64  \n",
      " 19  roof_style      2049 non-null   object \n",
      " 20  roof_matl       2049 non-null   object \n",
      " 21  exterior_1st    2049 non-null   object \n",
      " 22  exterior_2nd    2049 non-null   object \n",
      " 23  mas_vnr_type    2049 non-null   object \n",
      " 24  mas_vnr_area    2049 non-null   float64\n",
      " 25  exter_qual      2049 non-null   object \n",
      " 26  exter_cond      2049 non-null   object \n",
      " 27  foundation      2049 non-null   object \n",
      " 28  bsmt_qual       2049 non-null   int64  \n",
      " 29  bsmt_cond       2049 non-null   int64  \n",
      " 30  bsmt_exposure   2049 non-null   int64  \n",
      " 31  bsmtfin_type_1  2049 non-null   int64  \n",
      " 32  bsmtfin_type_2  2049 non-null   int64  \n",
      " 33  total_bsmt_sf   2049 non-null   float64\n",
      " 34  heating         2049 non-null   object \n",
      " 35  heating_qc      2049 non-null   object \n",
      " 36  central_air     2049 non-null   object \n",
      " 37  electrical      2049 non-null   object \n",
      " 38  gr_liv_area     2049 non-null   int64  \n",
      " 39  bsmt_full_bath  2049 non-null   float64\n",
      " 40  bsmt_half_bath  2049 non-null   float64\n",
      " 41  full_bath       2049 non-null   int64  \n",
      " 42  half_bath       2049 non-null   int64  \n",
      " 43  bedroom_abvgr   2049 non-null   int64  \n",
      " 44  kitchen_abvgr   2049 non-null   int64  \n",
      " 45  kitchen_qual    2049 non-null   object \n",
      " 46  totrms_abvgrd   2049 non-null   int64  \n",
      " 47  functional      2049 non-null   object \n",
      " 48  fireplaces      2049 non-null   int64  \n",
      " 49  fireplace_qu    2049 non-null   object \n",
      " 50  garage_type     2049 non-null   object \n",
      " 51  garage_finish   2049 non-null   int64  \n",
      " 52  garage_cars     2048 non-null   float64\n",
      " 53  garage_area     2048 non-null   float64\n",
      " 54  garage_qual     2049 non-null   int64  \n",
      " 55  garage_cond     2049 non-null   int64  \n",
      " 56  paved_drive     2049 non-null   object \n",
      " 57  wood_deck_sf    2049 non-null   int64  \n",
      " 58  open_porch_sf   2049 non-null   int64  \n",
      " 59  enclosed_porch  2049 non-null   int64  \n",
      " 60  3ssn_porch      2049 non-null   int64  \n",
      " 61  screen_porch    2049 non-null   int64  \n",
      " 62  pool_area       2049 non-null   int64  \n",
      " 63  misc_val        2049 non-null   int64  \n",
      " 64  mo_sold         2049 non-null   int64  \n",
      " 65  yr_sold         2049 non-null   int64  \n",
      " 66  sale_type       2049 non-null   object \n",
      " 67  saleprice       2049 non-null   int64  \n",
      "dtypes: float64(7), int64(31), object(30)\n",
      "memory usage: 1.1+ MB\n"
     ]
    }
   ],
   "source": [
    "ames_df.info()"
   ]
  },
  {
   "cell_type": "markdown",
   "id": "534dbb33",
   "metadata": {},
   "source": [
    "### Residential Zoning"
   ]
  },
  {
   "cell_type": "markdown",
   "id": "1fc07ca9",
   "metadata": {},
   "source": [
    "Rows with entries from categories A (Agriculture), C (Commericial) and I (Industrial) are dropped as the analysis concentrates on the zoning for residential properties. Since the entries from these three categories attributed to 22 entries, they will not have a significant impact on the size of data samples."
   ]
  },
  {
   "cell_type": "code",
   "execution_count": 4,
   "id": "2b465eae",
   "metadata": {},
   "outputs": [
    {
     "data": {
      "text/plain": [
       "(2049, 68)"
      ]
     },
     "execution_count": 4,
     "metadata": {},
     "output_type": "execute_result"
    }
   ],
   "source": [
    "ames_df.shape"
   ]
  },
  {
   "cell_type": "code",
   "execution_count": 5,
   "id": "e4331ee3",
   "metadata": {},
   "outputs": [],
   "source": [
    "#drop categories A (agr), C (all) and I (all)\n",
    "ames_df.drop(ames_df[ames_df['ms_zoning'] == 'A (agr)'].index, inplace = True)\n",
    "ames_df.drop(ames_df[ames_df['ms_zoning'] == 'C (all)'].index, inplace = True)\n",
    "ames_df.drop(ames_df[ames_df['ms_zoning'] == 'I (all)'].index, inplace = True)"
   ]
  },
  {
   "cell_type": "code",
   "execution_count": 6,
   "id": "888b0ee1",
   "metadata": {},
   "outputs": [
    {
     "data": {
      "text/plain": [
       "(2027, 68)"
      ]
     },
     "execution_count": 6,
     "metadata": {},
     "output_type": "execute_result"
    }
   ],
   "source": [
    "ames_df.shape"
   ]
  },
  {
   "cell_type": "markdown",
   "id": "9092630e",
   "metadata": {},
   "source": [
    "### Convert Categorical Variables to Numeric"
   ]
  },
  {
   "cell_type": "code",
   "execution_count": 7,
   "id": "015faaec",
   "metadata": {},
   "outputs": [],
   "source": [
    "#convert nominal variables to numeric using get_dummies\n",
    "ames_df = pd.get_dummies(columns=\n",
    "                         ['ms_subclass', 'ms_zoning','street', 'land_contour', 'lot_config',\n",
    "                    'neighborhood', 'condition_1', 'condition_2', 'bldg_type', 'house_style',\n",
    "                     'roof_style', 'roof_matl', 'exterior_1st', 'exterior_2nd','mas_vnr_type','foundation',\n",
    "                     'heating', 'central_air', 'garage_type', 'sale_type'], data=ames_df)"
   ]
  },
  {
   "cell_type": "code",
   "execution_count": 8,
   "id": "8655d472",
   "metadata": {},
   "outputs": [
    {
     "name": "stdout",
     "output_type": "stream",
     "text": [
      "<class 'pandas.core.frame.DataFrame'>\n",
      "Int64Index: 2027 entries, 0 to 2048\n",
      "Columns: 212 entries, lot_frontage to sale_type_WD \n",
      "dtypes: float64(7), int64(30), object(11), uint8(164)\n",
      "memory usage: 1.1+ MB\n"
     ]
    }
   ],
   "source": [
    "ames_df.info()"
   ]
  },
  {
   "cell_type": "code",
   "execution_count": 9,
   "id": "003121e6",
   "metadata": {},
   "outputs": [],
   "source": [
    "#convert strings to numeric in 'lot_shape'\n",
    "ames_df.lot_shape = ames_df.lot_shape.map({'Reg': 1, 'IR1': 2, 'IR2': 3, 'IR3': 4})"
   ]
  },
  {
   "cell_type": "code",
   "execution_count": 10,
   "id": "1fe5c953",
   "metadata": {},
   "outputs": [
    {
     "data": {
      "text/plain": [
       "1    1273\n",
       "2     690\n",
       "3      55\n",
       "4       9\n",
       "Name: lot_shape, dtype: int64"
      ]
     },
     "execution_count": 10,
     "metadata": {},
     "output_type": "execute_result"
    }
   ],
   "source": [
    "ames_df['lot_shape'].value_counts()"
   ]
  },
  {
   "cell_type": "code",
   "execution_count": 11,
   "id": "e550efa9",
   "metadata": {},
   "outputs": [
    {
     "data": {
      "text/plain": [
       "4    2026\n",
       "2       1\n",
       "Name: utilities, dtype: int64"
      ]
     },
     "execution_count": 11,
     "metadata": {},
     "output_type": "execute_result"
    }
   ],
   "source": [
    "#convert strings to numeric in 'utilities'\n",
    "ames_df.utilities = ames_df.utilities.map({'ELO': 1, 'NoSeWa': 2, 'NoSewr': 3, 'AllPub': 4})\n",
    "ames_df['utilities'].value_counts()"
   ]
  },
  {
   "cell_type": "code",
   "execution_count": 12,
   "id": "38f13622",
   "metadata": {},
   "outputs": [
    {
     "data": {
      "text/plain": [
       "1    1933\n",
       "2      84\n",
       "3      10\n",
       "Name: land_slope, dtype: int64"
      ]
     },
     "execution_count": 12,
     "metadata": {},
     "output_type": "execute_result"
    }
   ],
   "source": [
    "#convert strings to numeric in 'land_slope'\n",
    "ames_df.land_slope = ames_df.land_slope.map({'Gtl': 1, 'Mod': 2, 'Sev': 3})\n",
    "ames_df['land_slope'].value_counts()"
   ]
  },
  {
   "cell_type": "code",
   "execution_count": 13,
   "id": "d21ae185",
   "metadata": {},
   "outputs": [
    {
     "data": {
      "text/plain": [
       "3    1232\n",
       "4     695\n",
       "5      81\n",
       "2      19\n",
       "Name: exter_qual, dtype: int64"
      ]
     },
     "execution_count": 13,
     "metadata": {},
     "output_type": "execute_result"
    }
   ],
   "source": [
    "#convert strings to numeric in 'exter_qual'\n",
    "ames_df.exter_qual = ames_df.exter_qual.map({'Po': 1, 'Fa': 2, 'TA': 3, 'Gd': 4, 'Ex': 5})\n",
    "ames_df['exter_qual'].value_counts()"
   ]
  },
  {
   "cell_type": "code",
   "execution_count": 14,
   "id": "e27abf22",
   "metadata": {},
   "outputs": [
    {
     "data": {
      "text/plain": [
       "3    1765\n",
       "4     213\n",
       "2      41\n",
       "5       7\n",
       "1       1\n",
       "Name: exter_cond, dtype: int64"
      ]
     },
     "execution_count": 14,
     "metadata": {},
     "output_type": "execute_result"
    }
   ],
   "source": [
    "#convert strings to numeric in 'exter_cond'\n",
    "ames_df.exter_cond = ames_df.exter_cond.map({'Po': 1, 'Fa': 2, 'TA': 3, 'Gd': 4, 'Ex': 5})\n",
    "ames_df['exter_cond'].value_counts()"
   ]
  },
  {
   "cell_type": "code",
   "execution_count": 15,
   "id": "bc6937fc",
   "metadata": {},
   "outputs": [
    {
     "data": {
      "text/plain": [
       "5    1062\n",
       "3     586\n",
       "4     314\n",
       "2      63\n",
       "1       2\n",
       "Name: heating_qc, dtype: int64"
      ]
     },
     "execution_count": 15,
     "metadata": {},
     "output_type": "execute_result"
    }
   ],
   "source": [
    "#convert strings to numeric in 'heating_qc'\n",
    "ames_df.heating_qc = ames_df.heating_qc.map({'Po': 1, 'Fa': 2, 'TA': 3, 'Gd': 4, 'Ex': 5})\n",
    "ames_df['heating_qc'].value_counts()"
   ]
  },
  {
   "cell_type": "code",
   "execution_count": 16,
   "id": "364804ce",
   "metadata": {},
   "outputs": [
    {
     "data": {
      "text/plain": [
       "5    1854\n",
       "4     132\n",
       "3      35\n",
       "2       5\n",
       "1       1\n",
       "Name: electrical, dtype: int64"
      ]
     },
     "execution_count": 16,
     "metadata": {},
     "output_type": "execute_result"
    }
   ],
   "source": [
    "#convert strings to numeric in 'electrical'\n",
    "ames_df.electrical = ames_df.electrical.map({'Mix': 1, 'FuseP': 2, 'FuseF': 3, 'FuseA': 4, 'SBrkr': 5})\n",
    "ames_df['electrical'].value_counts()"
   ]
  },
  {
   "cell_type": "code",
   "execution_count": 17,
   "id": "26ab538d",
   "metadata": {},
   "outputs": [
    {
     "data": {
      "text/plain": [
       "3    1029\n",
       "4     804\n",
       "5     151\n",
       "2      43\n",
       "Name: kitchen_qual, dtype: int64"
      ]
     },
     "execution_count": 17,
     "metadata": {},
     "output_type": "execute_result"
    }
   ],
   "source": [
    "#convert strings to numeric in 'kitchen_qual'\n",
    "ames_df.kitchen_qual = ames_df.kitchen_qual.map({'Po': 1, 'Fa': 2, 'TA': 3, 'Gd': 4, 'Ex': 5})\n",
    "ames_df['kitchen_qual'].value_counts()"
   ]
  },
  {
   "cell_type": "code",
   "execution_count": 18,
   "id": "99fafde0",
   "metadata": {},
   "outputs": [
    {
     "data": {
      "text/plain": [
       "8    1897\n",
       "7      41\n",
       "6      40\n",
       "5      27\n",
       "4      12\n",
       "3       7\n",
       "2       2\n",
       "1       1\n",
       "Name: functional, dtype: int64"
      ]
     },
     "execution_count": 18,
     "metadata": {},
     "output_type": "execute_result"
    }
   ],
   "source": [
    "#convert strings to numeric in 'functional'\n",
    "ames_df.functional = ames_df.functional.map({'Sal': 1, 'Sev': 2, 'Maj2': 3, 'Maj1': 4, 'Mod': 5, 'Min2': 6, 'Min1': 7, 'Typ':8})\n",
    "ames_df['functional'].value_counts()"
   ]
  },
  {
   "cell_type": "code",
   "execution_count": 19,
   "id": "a1507ca1",
   "metadata": {},
   "outputs": [
    {
     "data": {
      "text/plain": [
       "0    978\n",
       "4    523\n",
       "3    405\n",
       "2     59\n",
       "1     31\n",
       "5     31\n",
       "Name: fireplace_qu, dtype: int64"
      ]
     },
     "execution_count": 19,
     "metadata": {},
     "output_type": "execute_result"
    }
   ],
   "source": [
    "#convert strings to numeric in 'fireplace_qu'\n",
    "ames_df.fireplace_qu = ames_df.fireplace_qu.map({'None': 0, 'Po': 1, 'Fa': 2, 'TA': 3, 'Gd': 4, 'Ex': 5})\n",
    "ames_df['fireplace_qu'].value_counts()"
   ]
  },
  {
   "cell_type": "code",
   "execution_count": 20,
   "id": "92a7da4b",
   "metadata": {},
   "outputs": [
    {
     "data": {
      "text/plain": [
       "3    1853\n",
       "1     135\n",
       "2      39\n",
       "Name: paved_drive, dtype: int64"
      ]
     },
     "execution_count": 20,
     "metadata": {},
     "output_type": "execute_result"
    }
   ],
   "source": [
    "#convert strings to numeric in 'paved_drive'\n",
    "ames_df.paved_drive = ames_df.paved_drive.map({'N': 1, 'P': 2, 'Y': 3})\n",
    "ames_df['paved_drive'].value_counts()"
   ]
  },
  {
   "cell_type": "code",
   "execution_count": 21,
   "id": "c65b05ef",
   "metadata": {},
   "outputs": [
    {
     "name": "stdout",
     "output_type": "stream",
     "text": [
      "<class 'pandas.core.frame.DataFrame'>\n",
      "Int64Index: 2027 entries, 0 to 2048\n",
      "Columns: 212 entries, lot_frontage to sale_type_WD \n",
      "dtypes: float64(7), int64(41), uint8(164)\n",
      "memory usage: 1.1 MB\n"
     ]
    }
   ],
   "source": [
    "ames_df.info()"
   ]
  },
  {
   "cell_type": "code",
   "execution_count": 22,
   "id": "5e7ba07e",
   "metadata": {},
   "outputs": [
    {
     "data": {
      "text/plain": [
       "lot_frontage       0\n",
       "lot_area           0\n",
       "lot_shape          0\n",
       "utilities          0\n",
       "land_slope         0\n",
       "                  ..\n",
       "sale_type_ConLI    0\n",
       "sale_type_ConLw    0\n",
       "sale_type_New      0\n",
       "sale_type_Oth      0\n",
       "sale_type_WD       0\n",
       "Length: 212, dtype: int64"
      ]
     },
     "execution_count": 22,
     "metadata": {},
     "output_type": "execute_result"
    }
   ],
   "source": [
    "ames_df.isnull().sum()"
   ]
  },
  {
   "cell_type": "markdown",
   "id": "2766fa98",
   "metadata": {},
   "source": [
    "### Sales Price Outliers"
   ]
  },
  {
   "cell_type": "code",
   "execution_count": 23,
   "id": "5bf3d9a6",
   "metadata": {},
   "outputs": [
    {
     "data": {
      "image/png": "[encoded data removed]",
      "text/plain": [
       "<Figure size 576x576 with 1 Axes>"
      ]
     },
     "metadata": {
      "image/png": {
       "height": 546,
       "width": 522
      },
      "needs_background": "light"
     },
     "output_type": "display_data"
    }
   ],
   "source": [
    "#assign variable name for plot\n",
    "saleprice_hist = ames_df['saleprice'].hist(figsize = (8,8), bins=30, grid=False, color = '#86bf91', rwidth = 0.9)\n",
    "\n",
    "#set title and x,y labels\n",
    "plt.title(\"Distribution of Sale Price\", pad=30, weight='bold', size=20)\n",
    "plt.xlabel('Sale Price of Property', labelpad=20, size=16)\n",
    "plt.ylabel('No. of Properties Sold', labelpad=20, size=16)\n",
    "\n",
    "#despine top and right\n",
    "saleprice_hist.spines['right'].set_visible(False)\n",
    "saleprice_hist.spines['top'].set_visible(False)"
   ]
  },
  {
   "cell_type": "code",
   "execution_count": 24,
   "id": "75335859",
   "metadata": {},
   "outputs": [
    {
     "data": {
      "text/plain": [
       "count      2027.000000\n",
       "mean     182619.524420\n",
       "std       78851.366494\n",
       "min       12789.000000\n",
       "25%      130000.000000\n",
       "50%      163500.000000\n",
       "75%      214700.000000\n",
       "max      611657.000000\n",
       "Name: saleprice, dtype: float64"
      ]
     },
     "execution_count": 24,
     "metadata": {},
     "output_type": "execute_result"
    }
   ],
   "source": [
    "ames_df['saleprice'].describe()"
   ]
  },
  {
   "cell_type": "code",
   "execution_count": 25,
   "id": "f1a6302d",
   "metadata": {},
   "outputs": [
    {
     "data": {
      "image/png": "[encoded data removed]",
      "text/plain": [
       "<Figure size 576x576 with 1 Axes>"
      ]
     },
     "metadata": {
      "image/png": {
       "height": 511,
       "width": 541
      },
      "needs_background": "light"
     },
     "output_type": "display_data"
    }
   ],
   "source": [
    "#boxplot for 'saleprice'\n",
    "saleprice_boxplot = ames_df.boxplot(column=['saleprice'], figsize = (8,8))\n",
    "\n",
    "#set title and y labels\n",
    "plt.title(\"Boxplot of Property Sale Price\", pad=30, weight='bold', size=20)\n",
    "plt.ylabel('Sale Price', labelpad=20, size=16)\n",
    "\n",
    "#despine\n",
    "saleprice_boxplot.spines['right'].set_visible(False)\n",
    "saleprice_boxplot.spines['top'].set_visible(False)\n",
    "saleprice_boxplot.spines['bottom'].set_visible(False)\n",
    "saleprice_boxplot.spines['left'].set_visible(False)"
   ]
  },
  {
   "cell_type": "markdown",
   "id": "8fb801a1",
   "metadata": {},
   "source": [
    "### Feature Engineering"
   ]
  },
  {
   "cell_type": "code",
   "execution_count": null,
   "id": "d0a42336",
   "metadata": {},
   "outputs": [],
   "source": []
  },
  {
   "cell_type": "code",
   "execution_count": 26,
   "id": "ddd58c56",
   "metadata": {},
   "outputs": [],
   "source": [
    "#save dataframe to csv\n",
    "ames_df.to_csv('../data/dummied_train.csv',index=False)"
   ]
  }
 ],
 "metadata": {
  "kernelspec": {
   "display_name": "Python 3",
   "language": "python",
   "name": "python3"
  },
  "language_info": {
   "codemirror_mode": {
    "name": "ipython",
    "version": 3
   },
   "file_extension": ".py",
   "mimetype": "text/x-python",
   "name": "python",
   "nbconvert_exporter": "python",
   "pygments_lexer": "ipython3",
   "version": "3.8.8"
  }
 },
 "nbformat": 4,
 "nbformat_minor": 5
}
