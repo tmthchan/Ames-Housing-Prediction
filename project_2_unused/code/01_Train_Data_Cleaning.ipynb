{
 "cells": [
  {
   "cell_type": "markdown",
   "id": "010e7d21",
   "metadata": {},
   "source": [
    "# 1. Train Data Cleaning"
   ]
  },
  {
   "cell_type": "code",
   "execution_count": 1,
   "id": "566c117b",
   "metadata": {},
   "outputs": [],
   "source": [
    "#import packages\n",
    "import numpy as np\n",
    "import seaborn as sns\n",
    "import matplotlib.pyplot as plt\n",
    "import pandas as pd\n",
    "\n",
    "%matplotlib inline"
   ]
  },
  {
   "cell_type": "code",
   "execution_count": 2,
   "id": "db2735e5",
   "metadata": {},
   "outputs": [
    {
     "data": {
      "text/html": [
       "<div>\n",
       "<style scoped>\n",
       "    .dataframe tbody tr th:only-of-type {\n",
       "        vertical-align: middle;\n",
       "    }\n",
       "\n",
       "    .dataframe tbody tr th {\n",
       "        vertical-align: top;\n",
       "    }\n",
       "\n",
       "    .dataframe thead th {\n",
       "        text-align: right;\n",
       "    }\n",
       "</style>\n",
       "<table border=\"1\" class=\"dataframe\">\n",
       "  <thead>\n",
       "    <tr style=\"text-align: right;\">\n",
       "      <th></th>\n",
       "      <th>Id</th>\n",
       "      <th>PID</th>\n",
       "      <th>MS SubClass</th>\n",
       "      <th>MS Zoning</th>\n",
       "      <th>Lot Frontage</th>\n",
       "      <th>Lot Area</th>\n",
       "      <th>Street</th>\n",
       "      <th>Alley</th>\n",
       "      <th>Lot Shape</th>\n",
       "      <th>Land Contour</th>\n",
       "      <th>...</th>\n",
       "      <th>Screen Porch</th>\n",
       "      <th>Pool Area</th>\n",
       "      <th>Pool QC</th>\n",
       "      <th>Fence</th>\n",
       "      <th>Misc Feature</th>\n",
       "      <th>Misc Val</th>\n",
       "      <th>Mo Sold</th>\n",
       "      <th>Yr Sold</th>\n",
       "      <th>Sale Type</th>\n",
       "      <th>SalePrice</th>\n",
       "    </tr>\n",
       "  </thead>\n",
       "  <tbody>\n",
       "    <tr>\n",
       "      <th>0</th>\n",
       "      <td>109</td>\n",
       "      <td>533352170</td>\n",
       "      <td>60</td>\n",
       "      <td>RL</td>\n",
       "      <td>NaN</td>\n",
       "      <td>13517</td>\n",
       "      <td>Pave</td>\n",
       "      <td>NaN</td>\n",
       "      <td>IR1</td>\n",
       "      <td>Lvl</td>\n",
       "      <td>...</td>\n",
       "      <td>0</td>\n",
       "      <td>0</td>\n",
       "      <td>NaN</td>\n",
       "      <td>NaN</td>\n",
       "      <td>NaN</td>\n",
       "      <td>0</td>\n",
       "      <td>3</td>\n",
       "      <td>2010</td>\n",
       "      <td>WD</td>\n",
       "      <td>130500</td>\n",
       "    </tr>\n",
       "    <tr>\n",
       "      <th>1</th>\n",
       "      <td>544</td>\n",
       "      <td>531379050</td>\n",
       "      <td>60</td>\n",
       "      <td>RL</td>\n",
       "      <td>43.0</td>\n",
       "      <td>11492</td>\n",
       "      <td>Pave</td>\n",
       "      <td>NaN</td>\n",
       "      <td>IR1</td>\n",
       "      <td>Lvl</td>\n",
       "      <td>...</td>\n",
       "      <td>0</td>\n",
       "      <td>0</td>\n",
       "      <td>NaN</td>\n",
       "      <td>NaN</td>\n",
       "      <td>NaN</td>\n",
       "      <td>0</td>\n",
       "      <td>4</td>\n",
       "      <td>2009</td>\n",
       "      <td>WD</td>\n",
       "      <td>220000</td>\n",
       "    </tr>\n",
       "    <tr>\n",
       "      <th>2</th>\n",
       "      <td>153</td>\n",
       "      <td>535304180</td>\n",
       "      <td>20</td>\n",
       "      <td>RL</td>\n",
       "      <td>68.0</td>\n",
       "      <td>7922</td>\n",
       "      <td>Pave</td>\n",
       "      <td>NaN</td>\n",
       "      <td>Reg</td>\n",
       "      <td>Lvl</td>\n",
       "      <td>...</td>\n",
       "      <td>0</td>\n",
       "      <td>0</td>\n",
       "      <td>NaN</td>\n",
       "      <td>NaN</td>\n",
       "      <td>NaN</td>\n",
       "      <td>0</td>\n",
       "      <td>1</td>\n",
       "      <td>2010</td>\n",
       "      <td>WD</td>\n",
       "      <td>109000</td>\n",
       "    </tr>\n",
       "    <tr>\n",
       "      <th>3</th>\n",
       "      <td>318</td>\n",
       "      <td>916386060</td>\n",
       "      <td>60</td>\n",
       "      <td>RL</td>\n",
       "      <td>73.0</td>\n",
       "      <td>9802</td>\n",
       "      <td>Pave</td>\n",
       "      <td>NaN</td>\n",
       "      <td>Reg</td>\n",
       "      <td>Lvl</td>\n",
       "      <td>...</td>\n",
       "      <td>0</td>\n",
       "      <td>0</td>\n",
       "      <td>NaN</td>\n",
       "      <td>NaN</td>\n",
       "      <td>NaN</td>\n",
       "      <td>0</td>\n",
       "      <td>4</td>\n",
       "      <td>2010</td>\n",
       "      <td>WD</td>\n",
       "      <td>174000</td>\n",
       "    </tr>\n",
       "    <tr>\n",
       "      <th>4</th>\n",
       "      <td>255</td>\n",
       "      <td>906425045</td>\n",
       "      <td>50</td>\n",
       "      <td>RL</td>\n",
       "      <td>82.0</td>\n",
       "      <td>14235</td>\n",
       "      <td>Pave</td>\n",
       "      <td>NaN</td>\n",
       "      <td>IR1</td>\n",
       "      <td>Lvl</td>\n",
       "      <td>...</td>\n",
       "      <td>0</td>\n",
       "      <td>0</td>\n",
       "      <td>NaN</td>\n",
       "      <td>NaN</td>\n",
       "      <td>NaN</td>\n",
       "      <td>0</td>\n",
       "      <td>3</td>\n",
       "      <td>2010</td>\n",
       "      <td>WD</td>\n",
       "      <td>138500</td>\n",
       "    </tr>\n",
       "  </tbody>\n",
       "</table>\n",
       "<p>5 rows × 81 columns</p>\n",
       "</div>"
      ],
      "text/plain": [
       "    Id        PID  MS SubClass MS Zoning  Lot Frontage  Lot Area Street Alley  \\\n",
       "0  109  533352170           60        RL           NaN     13517   Pave   NaN   \n",
       "1  544  531379050           60        RL          43.0     11492   Pave   NaN   \n",
       "2  153  535304180           20        RL          68.0      7922   Pave   NaN   \n",
       "3  318  916386060           60        RL          73.0      9802   Pave   NaN   \n",
       "4  255  906425045           50        RL          82.0     14235   Pave   NaN   \n",
       "\n",
       "  Lot Shape Land Contour  ... Screen Porch Pool Area Pool QC Fence  \\\n",
       "0       IR1          Lvl  ...            0         0     NaN   NaN   \n",
       "1       IR1          Lvl  ...            0         0     NaN   NaN   \n",
       "2       Reg          Lvl  ...            0         0     NaN   NaN   \n",
       "3       Reg          Lvl  ...            0         0     NaN   NaN   \n",
       "4       IR1          Lvl  ...            0         0     NaN   NaN   \n",
       "\n",
       "  Misc Feature Misc Val Mo Sold Yr Sold  Sale Type  SalePrice  \n",
       "0          NaN        0       3    2010        WD      130500  \n",
       "1          NaN        0       4    2009        WD      220000  \n",
       "2          NaN        0       1    2010        WD      109000  \n",
       "3          NaN        0       4    2010        WD      174000  \n",
       "4          NaN        0       3    2010        WD      138500  \n",
       "\n",
       "[5 rows x 81 columns]"
      ]
     },
     "execution_count": 2,
     "metadata": {},
     "output_type": "execute_result"
    }
   ],
   "source": [
    "#load dataset\n",
    "ames_df = pd.read_csv('../data/train.csv')\n",
    "ames_df.head()"
   ]
  },
  {
   "cell_type": "code",
   "execution_count": 3,
   "id": "fbe9166a",
   "metadata": {},
   "outputs": [],
   "source": [
    "#convert column names to lower case\n",
    "ames_df.columns= ames_df.columns.str.lower()"
   ]
  },
  {
   "cell_type": "code",
   "execution_count": 4,
   "id": "bd778272",
   "metadata": {},
   "outputs": [
    {
     "data": {
      "text/html": [
       "<div>\n",
       "<style scoped>\n",
       "    .dataframe tbody tr th:only-of-type {\n",
       "        vertical-align: middle;\n",
       "    }\n",
       "\n",
       "    .dataframe tbody tr th {\n",
       "        vertical-align: top;\n",
       "    }\n",
       "\n",
       "    .dataframe thead th {\n",
       "        text-align: right;\n",
       "    }\n",
       "</style>\n",
       "<table border=\"1\" class=\"dataframe\">\n",
       "  <thead>\n",
       "    <tr style=\"text-align: right;\">\n",
       "      <th></th>\n",
       "      <th>id</th>\n",
       "      <th>pid</th>\n",
       "      <th>ms_subclass</th>\n",
       "      <th>ms_zoning</th>\n",
       "      <th>lot_frontage</th>\n",
       "      <th>lot_area</th>\n",
       "      <th>street</th>\n",
       "      <th>alley</th>\n",
       "      <th>lot_shape</th>\n",
       "      <th>land_contour</th>\n",
       "      <th>...</th>\n",
       "      <th>screen_porch</th>\n",
       "      <th>pool_area</th>\n",
       "      <th>pool_qc</th>\n",
       "      <th>fence</th>\n",
       "      <th>misc_feature</th>\n",
       "      <th>misc_val</th>\n",
       "      <th>mo_sold</th>\n",
       "      <th>yr_sold</th>\n",
       "      <th>sale_type</th>\n",
       "      <th>saleprice</th>\n",
       "    </tr>\n",
       "  </thead>\n",
       "  <tbody>\n",
       "    <tr>\n",
       "      <th>0</th>\n",
       "      <td>109</td>\n",
       "      <td>533352170</td>\n",
       "      <td>60</td>\n",
       "      <td>RL</td>\n",
       "      <td>NaN</td>\n",
       "      <td>13517</td>\n",
       "      <td>Pave</td>\n",
       "      <td>NaN</td>\n",
       "      <td>IR1</td>\n",
       "      <td>Lvl</td>\n",
       "      <td>...</td>\n",
       "      <td>0</td>\n",
       "      <td>0</td>\n",
       "      <td>NaN</td>\n",
       "      <td>NaN</td>\n",
       "      <td>NaN</td>\n",
       "      <td>0</td>\n",
       "      <td>3</td>\n",
       "      <td>2010</td>\n",
       "      <td>WD</td>\n",
       "      <td>130500</td>\n",
       "    </tr>\n",
       "    <tr>\n",
       "      <th>1</th>\n",
       "      <td>544</td>\n",
       "      <td>531379050</td>\n",
       "      <td>60</td>\n",
       "      <td>RL</td>\n",
       "      <td>43.0</td>\n",
       "      <td>11492</td>\n",
       "      <td>Pave</td>\n",
       "      <td>NaN</td>\n",
       "      <td>IR1</td>\n",
       "      <td>Lvl</td>\n",
       "      <td>...</td>\n",
       "      <td>0</td>\n",
       "      <td>0</td>\n",
       "      <td>NaN</td>\n",
       "      <td>NaN</td>\n",
       "      <td>NaN</td>\n",
       "      <td>0</td>\n",
       "      <td>4</td>\n",
       "      <td>2009</td>\n",
       "      <td>WD</td>\n",
       "      <td>220000</td>\n",
       "    </tr>\n",
       "    <tr>\n",
       "      <th>2</th>\n",
       "      <td>153</td>\n",
       "      <td>535304180</td>\n",
       "      <td>20</td>\n",
       "      <td>RL</td>\n",
       "      <td>68.0</td>\n",
       "      <td>7922</td>\n",
       "      <td>Pave</td>\n",
       "      <td>NaN</td>\n",
       "      <td>Reg</td>\n",
       "      <td>Lvl</td>\n",
       "      <td>...</td>\n",
       "      <td>0</td>\n",
       "      <td>0</td>\n",
       "      <td>NaN</td>\n",
       "      <td>NaN</td>\n",
       "      <td>NaN</td>\n",
       "      <td>0</td>\n",
       "      <td>1</td>\n",
       "      <td>2010</td>\n",
       "      <td>WD</td>\n",
       "      <td>109000</td>\n",
       "    </tr>\n",
       "    <tr>\n",
       "      <th>3</th>\n",
       "      <td>318</td>\n",
       "      <td>916386060</td>\n",
       "      <td>60</td>\n",
       "      <td>RL</td>\n",
       "      <td>73.0</td>\n",
       "      <td>9802</td>\n",
       "      <td>Pave</td>\n",
       "      <td>NaN</td>\n",
       "      <td>Reg</td>\n",
       "      <td>Lvl</td>\n",
       "      <td>...</td>\n",
       "      <td>0</td>\n",
       "      <td>0</td>\n",
       "      <td>NaN</td>\n",
       "      <td>NaN</td>\n",
       "      <td>NaN</td>\n",
       "      <td>0</td>\n",
       "      <td>4</td>\n",
       "      <td>2010</td>\n",
       "      <td>WD</td>\n",
       "      <td>174000</td>\n",
       "    </tr>\n",
       "    <tr>\n",
       "      <th>4</th>\n",
       "      <td>255</td>\n",
       "      <td>906425045</td>\n",
       "      <td>50</td>\n",
       "      <td>RL</td>\n",
       "      <td>82.0</td>\n",
       "      <td>14235</td>\n",
       "      <td>Pave</td>\n",
       "      <td>NaN</td>\n",
       "      <td>IR1</td>\n",
       "      <td>Lvl</td>\n",
       "      <td>...</td>\n",
       "      <td>0</td>\n",
       "      <td>0</td>\n",
       "      <td>NaN</td>\n",
       "      <td>NaN</td>\n",
       "      <td>NaN</td>\n",
       "      <td>0</td>\n",
       "      <td>3</td>\n",
       "      <td>2010</td>\n",
       "      <td>WD</td>\n",
       "      <td>138500</td>\n",
       "    </tr>\n",
       "  </tbody>\n",
       "</table>\n",
       "<p>5 rows × 81 columns</p>\n",
       "</div>"
      ],
      "text/plain": [
       "    id        pid  ms_subclass ms_zoning  lot_frontage  lot_area street alley  \\\n",
       "0  109  533352170           60        RL           NaN     13517   Pave   NaN   \n",
       "1  544  531379050           60        RL          43.0     11492   Pave   NaN   \n",
       "2  153  535304180           20        RL          68.0      7922   Pave   NaN   \n",
       "3  318  916386060           60        RL          73.0      9802   Pave   NaN   \n",
       "4  255  906425045           50        RL          82.0     14235   Pave   NaN   \n",
       "\n",
       "  lot_shape land_contour  ... screen_porch pool_area pool_qc fence  \\\n",
       "0       IR1          Lvl  ...            0         0     NaN   NaN   \n",
       "1       IR1          Lvl  ...            0         0     NaN   NaN   \n",
       "2       Reg          Lvl  ...            0         0     NaN   NaN   \n",
       "3       Reg          Lvl  ...            0         0     NaN   NaN   \n",
       "4       IR1          Lvl  ...            0         0     NaN   NaN   \n",
       "\n",
       "  misc_feature misc_val mo_sold yr_sold  sale_type  saleprice  \n",
       "0          NaN        0       3    2010        WD      130500  \n",
       "1          NaN        0       4    2009        WD      220000  \n",
       "2          NaN        0       1    2010        WD      109000  \n",
       "3          NaN        0       4    2010        WD      174000  \n",
       "4          NaN        0       3    2010        WD      138500  \n",
       "\n",
       "[5 rows x 81 columns]"
      ]
     },
     "execution_count": 4,
     "metadata": {},
     "output_type": "execute_result"
    }
   ],
   "source": [
    "#replace spaces in column names with _\n",
    "ames_df.columns = ames_df.columns.str.replace(' ', '_')\n",
    "ames_df.head()"
   ]
  },
  {
   "cell_type": "code",
   "execution_count": 5,
   "id": "7fc90553",
   "metadata": {},
   "outputs": [
    {
     "name": "stdout",
     "output_type": "stream",
     "text": [
      "<class 'pandas.core.frame.DataFrame'>\n",
      "RangeIndex: 2051 entries, 0 to 2050\n",
      "Data columns (total 81 columns):\n",
      " #   Column           Non-Null Count  Dtype  \n",
      "---  ------           --------------  -----  \n",
      " 0   id               2051 non-null   int64  \n",
      " 1   pid              2051 non-null   int64  \n",
      " 2   ms_subclass      2051 non-null   int64  \n",
      " 3   ms_zoning        2051 non-null   object \n",
      " 4   lot_frontage     1721 non-null   float64\n",
      " 5   lot_area         2051 non-null   int64  \n",
      " 6   street           2051 non-null   object \n",
      " 7   alley            140 non-null    object \n",
      " 8   lot_shape        2051 non-null   object \n",
      " 9   land_contour     2051 non-null   object \n",
      " 10  utilities        2051 non-null   object \n",
      " 11  lot_config       2051 non-null   object \n",
      " 12  land_slope       2051 non-null   object \n",
      " 13  neighborhood     2051 non-null   object \n",
      " 14  condition_1      2051 non-null   object \n",
      " 15  condition_2      2051 non-null   object \n",
      " 16  bldg_type        2051 non-null   object \n",
      " 17  house_style      2051 non-null   object \n",
      " 18  overall_qual     2051 non-null   int64  \n",
      " 19  overall_cond     2051 non-null   int64  \n",
      " 20  year_built       2051 non-null   int64  \n",
      " 21  year_remod/add   2051 non-null   int64  \n",
      " 22  roof_style       2051 non-null   object \n",
      " 23  roof_matl        2051 non-null   object \n",
      " 24  exterior_1st     2051 non-null   object \n",
      " 25  exterior_2nd     2051 non-null   object \n",
      " 26  mas_vnr_type     2029 non-null   object \n",
      " 27  mas_vnr_area     2029 non-null   float64\n",
      " 28  exter_qual       2051 non-null   object \n",
      " 29  exter_cond       2051 non-null   object \n",
      " 30  foundation       2051 non-null   object \n",
      " 31  bsmt_qual        1996 non-null   object \n",
      " 32  bsmt_cond        1996 non-null   object \n",
      " 33  bsmt_exposure    1993 non-null   object \n",
      " 34  bsmtfin_type_1   1996 non-null   object \n",
      " 35  bsmtfin_sf_1     2050 non-null   float64\n",
      " 36  bsmtfin_type_2   1995 non-null   object \n",
      " 37  bsmtfin_sf_2     2050 non-null   float64\n",
      " 38  bsmt_unf_sf      2050 non-null   float64\n",
      " 39  total_bsmt_sf    2050 non-null   float64\n",
      " 40  heating          2051 non-null   object \n",
      " 41  heating_qc       2051 non-null   object \n",
      " 42  central_air      2051 non-null   object \n",
      " 43  electrical       2051 non-null   object \n",
      " 44  1st_flr_sf       2051 non-null   int64  \n",
      " 45  2nd_flr_sf       2051 non-null   int64  \n",
      " 46  low_qual_fin_sf  2051 non-null   int64  \n",
      " 47  gr_liv_area      2051 non-null   int64  \n",
      " 48  bsmt_full_bath   2049 non-null   float64\n",
      " 49  bsmt_half_bath   2049 non-null   float64\n",
      " 50  full_bath        2051 non-null   int64  \n",
      " 51  half_bath        2051 non-null   int64  \n",
      " 52  bedroom_abvgr    2051 non-null   int64  \n",
      " 53  kitchen_abvgr    2051 non-null   int64  \n",
      " 54  kitchen_qual     2051 non-null   object \n",
      " 55  totrms_abvgrd    2051 non-null   int64  \n",
      " 56  functional       2051 non-null   object \n",
      " 57  fireplaces       2051 non-null   int64  \n",
      " 58  fireplace_qu     1051 non-null   object \n",
      " 59  garage_type      1938 non-null   object \n",
      " 60  garage_yr_blt    1937 non-null   float64\n",
      " 61  garage_finish    1937 non-null   object \n",
      " 62  garage_cars      2050 non-null   float64\n",
      " 63  garage_area      2050 non-null   float64\n",
      " 64  garage_qual      1937 non-null   object \n",
      " 65  garage_cond      1937 non-null   object \n",
      " 66  paved_drive      2051 non-null   object \n",
      " 67  wood_deck_sf     2051 non-null   int64  \n",
      " 68  open_porch_sf    2051 non-null   int64  \n",
      " 69  enclosed_porch   2051 non-null   int64  \n",
      " 70  3ssn_porch       2051 non-null   int64  \n",
      " 71  screen_porch     2051 non-null   int64  \n",
      " 72  pool_area        2051 non-null   int64  \n",
      " 73  pool_qc          9 non-null      object \n",
      " 74  fence            400 non-null    object \n",
      " 75  misc_feature     65 non-null     object \n",
      " 76  misc_val         2051 non-null   int64  \n",
      " 77  mo_sold          2051 non-null   int64  \n",
      " 78  yr_sold          2051 non-null   int64  \n",
      " 79  sale_type        2051 non-null   object \n",
      " 80  saleprice        2051 non-null   int64  \n",
      "dtypes: float64(11), int64(28), object(42)\n",
      "memory usage: 1.3+ MB\n"
     ]
    }
   ],
   "source": [
    "#look at the info\n",
    "ames_df.info()"
   ]
  },
  {
   "cell_type": "code",
   "execution_count": 6,
   "id": "afca5414",
   "metadata": {},
   "outputs": [
    {
     "data": {
      "text/plain": [
       "pool_qc           2042\n",
       "misc_feature      1986\n",
       "alley             1911\n",
       "fence             1651\n",
       "fireplace_qu      1000\n",
       "lot_frontage       330\n",
       "garage_finish      114\n",
       "garage_qual        114\n",
       "garage_yr_blt      114\n",
       "garage_cond        114\n",
       "garage_type        113\n",
       "bsmt_exposure       58\n",
       "bsmtfin_type_2      56\n",
       "bsmtfin_type_1      55\n",
       "bsmt_cond           55\n",
       "                  ... \n",
       "year_built           0\n",
       "year_remod/add       0\n",
       "roof_style           0\n",
       "roof_matl            0\n",
       "exterior_1st         0\n",
       "exterior_2nd         0\n",
       "exter_qual           0\n",
       "exter_cond           0\n",
       "foundation           0\n",
       "pid                  0\n",
       "heating_qc           0\n",
       "central_air          0\n",
       "electrical           0\n",
       "1st_flr_sf           0\n",
       "saleprice            0\n",
       "Length: 81, dtype: int64"
      ]
     },
     "execution_count": 6,
     "metadata": {},
     "output_type": "execute_result"
    }
   ],
   "source": [
    "#display number of null values for each variable\n",
    "pd.options.display.min_rows = 30\n",
    "ames_df.isnull().sum().sort_values(ascending=False)"
   ]
  },
  {
   "cell_type": "markdown",
   "id": "9280da7f",
   "metadata": {},
   "source": [
    "### Pool QC, Misc Feature, Alley & Fence"
   ]
  },
  {
   "cell_type": "markdown",
   "id": "7c18915f",
   "metadata": {},
   "source": [
    "Since the 4 variables 'pool_qc', 'misc_feature', 'alley' and 'fence' have more than 1500 null values and they do not appear to be key variables affecting the sale price, we decide to drop all 4 columns."
   ]
  },
  {
   "cell_type": "code",
   "execution_count": 7,
   "id": "b37b67ba",
   "metadata": {},
   "outputs": [],
   "source": [
    "#drop 'pool_qc', 'misc_feature', 'alley' and 'fence' columns\n",
    "ames_df.drop(columns=['pool_qc', 'misc_feature', 'alley', 'fence'], inplace=True)"
   ]
  },
  {
   "cell_type": "code",
   "execution_count": 8,
   "id": "e1da368a",
   "metadata": {},
   "outputs": [
    {
     "data": {
      "text/plain": [
       "(2051, 77)"
      ]
     },
     "execution_count": 8,
     "metadata": {},
     "output_type": "execute_result"
    }
   ],
   "source": [
    "ames_df.shape"
   ]
  },
  {
   "cell_type": "code",
   "execution_count": 9,
   "id": "c2721a93",
   "metadata": {},
   "outputs": [
    {
     "data": {
      "text/plain": [
       "fireplace_qu      1000\n",
       "lot_frontage       330\n",
       "garage_cond        114\n",
       "garage_yr_blt      114\n",
       "garage_finish      114\n",
       "garage_qual        114\n",
       "garage_type        113\n",
       "bsmt_exposure       58\n",
       "bsmtfin_type_2      56\n",
       "bsmt_qual           55\n",
       "bsmt_cond           55\n",
       "bsmtfin_type_1      55\n",
       "mas_vnr_type        22\n",
       "mas_vnr_area        22\n",
       "bsmt_half_bath       2\n",
       "                  ... \n",
       "overall_cond         0\n",
       "year_built           0\n",
       "year_remod/add       0\n",
       "roof_style           0\n",
       "roof_matl            0\n",
       "exterior_1st         0\n",
       "exterior_2nd         0\n",
       "exter_qual           0\n",
       "exter_cond           0\n",
       "foundation           0\n",
       "pid                  0\n",
       "heating              0\n",
       "heating_qc           0\n",
       "central_air          0\n",
       "saleprice            0\n",
       "Length: 77, dtype: int64"
      ]
     },
     "execution_count": 9,
     "metadata": {},
     "output_type": "execute_result"
    }
   ],
   "source": [
    "ames_df.isnull().sum().sort_values(ascending=False)"
   ]
  },
  {
   "cell_type": "markdown",
   "id": "a3c1277e",
   "metadata": {},
   "source": [
    "### Fireplace"
   ]
  },
  {
   "cell_type": "code",
   "execution_count": 10,
   "id": "0e45dc69",
   "metadata": {},
   "outputs": [
    {
     "data": {
      "text/html": [
       "<div>\n",
       "<style scoped>\n",
       "    .dataframe tbody tr th:only-of-type {\n",
       "        vertical-align: middle;\n",
       "    }\n",
       "\n",
       "    .dataframe tbody tr th {\n",
       "        vertical-align: top;\n",
       "    }\n",
       "\n",
       "    .dataframe thead th {\n",
       "        text-align: right;\n",
       "    }\n",
       "</style>\n",
       "<table border=\"1\" class=\"dataframe\">\n",
       "  <thead>\n",
       "    <tr style=\"text-align: right;\">\n",
       "      <th></th>\n",
       "      <th>fireplaces</th>\n",
       "      <th>fireplace_qu</th>\n",
       "    </tr>\n",
       "  </thead>\n",
       "  <tbody>\n",
       "    <tr>\n",
       "      <th>0</th>\n",
       "      <td>0</td>\n",
       "      <td>NaN</td>\n",
       "    </tr>\n",
       "    <tr>\n",
       "      <th>1</th>\n",
       "      <td>1</td>\n",
       "      <td>TA</td>\n",
       "    </tr>\n",
       "    <tr>\n",
       "      <th>2</th>\n",
       "      <td>0</td>\n",
       "      <td>NaN</td>\n",
       "    </tr>\n",
       "    <tr>\n",
       "      <th>3</th>\n",
       "      <td>0</td>\n",
       "      <td>NaN</td>\n",
       "    </tr>\n",
       "    <tr>\n",
       "      <th>4</th>\n",
       "      <td>0</td>\n",
       "      <td>NaN</td>\n",
       "    </tr>\n",
       "    <tr>\n",
       "      <th>5</th>\n",
       "      <td>1</td>\n",
       "      <td>Gd</td>\n",
       "    </tr>\n",
       "    <tr>\n",
       "      <th>6</th>\n",
       "      <td>0</td>\n",
       "      <td>NaN</td>\n",
       "    </tr>\n",
       "    <tr>\n",
       "      <th>7</th>\n",
       "      <td>0</td>\n",
       "      <td>NaN</td>\n",
       "    </tr>\n",
       "    <tr>\n",
       "      <th>8</th>\n",
       "      <td>0</td>\n",
       "      <td>NaN</td>\n",
       "    </tr>\n",
       "    <tr>\n",
       "      <th>9</th>\n",
       "      <td>2</td>\n",
       "      <td>TA</td>\n",
       "    </tr>\n",
       "    <tr>\n",
       "      <th>10</th>\n",
       "      <td>0</td>\n",
       "      <td>NaN</td>\n",
       "    </tr>\n",
       "    <tr>\n",
       "      <th>11</th>\n",
       "      <td>0</td>\n",
       "      <td>NaN</td>\n",
       "    </tr>\n",
       "    <tr>\n",
       "      <th>12</th>\n",
       "      <td>1</td>\n",
       "      <td>TA</td>\n",
       "    </tr>\n",
       "    <tr>\n",
       "      <th>13</th>\n",
       "      <td>0</td>\n",
       "      <td>NaN</td>\n",
       "    </tr>\n",
       "    <tr>\n",
       "      <th>14</th>\n",
       "      <td>0</td>\n",
       "      <td>NaN</td>\n",
       "    </tr>\n",
       "  </tbody>\n",
       "</table>\n",
       "</div>"
      ],
      "text/plain": [
       "    fireplaces fireplace_qu\n",
       "0            0          NaN\n",
       "1            1           TA\n",
       "2            0          NaN\n",
       "3            0          NaN\n",
       "4            0          NaN\n",
       "5            1           Gd\n",
       "6            0          NaN\n",
       "7            0          NaN\n",
       "8            0          NaN\n",
       "9            2           TA\n",
       "10           0          NaN\n",
       "11           0          NaN\n",
       "12           1           TA\n",
       "13           0          NaN\n",
       "14           0          NaN"
      ]
     },
     "execution_count": 10,
     "metadata": {},
     "output_type": "execute_result"
    }
   ],
   "source": [
    "ames_df[['fireplaces','fireplace_qu']].head(15)"
   ]
  },
  {
   "cell_type": "code",
   "execution_count": 11,
   "id": "d0119d36",
   "metadata": {},
   "outputs": [
    {
     "data": {
      "text/plain": [
       "Gd    523\n",
       "TA    407\n",
       "Fa     59\n",
       "Ex     31\n",
       "Po     31\n",
       "Name: fireplace_qu, dtype: int64"
      ]
     },
     "execution_count": 11,
     "metadata": {},
     "output_type": "execute_result"
    }
   ],
   "source": [
    "ames_df['fireplace_qu'].value_counts()"
   ]
  },
  {
   "cell_type": "code",
   "execution_count": 12,
   "id": "8a562f88",
   "metadata": {},
   "outputs": [],
   "source": [
    "#replace 'NaN' with 'None' if 'fireplaces' = 0\n",
    "ames_df.loc[ames_df.fireplaces.isin([0]),'fireplace_qu']='None'"
   ]
  },
  {
   "cell_type": "code",
   "execution_count": 13,
   "id": "0d0bce07",
   "metadata": {},
   "outputs": [
    {
     "data": {
      "text/html": [
       "<div>\n",
       "<style scoped>\n",
       "    .dataframe tbody tr th:only-of-type {\n",
       "        vertical-align: middle;\n",
       "    }\n",
       "\n",
       "    .dataframe tbody tr th {\n",
       "        vertical-align: top;\n",
       "    }\n",
       "\n",
       "    .dataframe thead th {\n",
       "        text-align: right;\n",
       "    }\n",
       "</style>\n",
       "<table border=\"1\" class=\"dataframe\">\n",
       "  <thead>\n",
       "    <tr style=\"text-align: right;\">\n",
       "      <th></th>\n",
       "      <th>fireplaces</th>\n",
       "      <th>fireplace_qu</th>\n",
       "    </tr>\n",
       "  </thead>\n",
       "  <tbody>\n",
       "    <tr>\n",
       "      <th>0</th>\n",
       "      <td>0</td>\n",
       "      <td>None</td>\n",
       "    </tr>\n",
       "    <tr>\n",
       "      <th>1</th>\n",
       "      <td>1</td>\n",
       "      <td>TA</td>\n",
       "    </tr>\n",
       "    <tr>\n",
       "      <th>2</th>\n",
       "      <td>0</td>\n",
       "      <td>None</td>\n",
       "    </tr>\n",
       "    <tr>\n",
       "      <th>3</th>\n",
       "      <td>0</td>\n",
       "      <td>None</td>\n",
       "    </tr>\n",
       "    <tr>\n",
       "      <th>4</th>\n",
       "      <td>0</td>\n",
       "      <td>None</td>\n",
       "    </tr>\n",
       "    <tr>\n",
       "      <th>5</th>\n",
       "      <td>1</td>\n",
       "      <td>Gd</td>\n",
       "    </tr>\n",
       "    <tr>\n",
       "      <th>6</th>\n",
       "      <td>0</td>\n",
       "      <td>None</td>\n",
       "    </tr>\n",
       "    <tr>\n",
       "      <th>7</th>\n",
       "      <td>0</td>\n",
       "      <td>None</td>\n",
       "    </tr>\n",
       "    <tr>\n",
       "      <th>8</th>\n",
       "      <td>0</td>\n",
       "      <td>None</td>\n",
       "    </tr>\n",
       "    <tr>\n",
       "      <th>9</th>\n",
       "      <td>2</td>\n",
       "      <td>TA</td>\n",
       "    </tr>\n",
       "    <tr>\n",
       "      <th>10</th>\n",
       "      <td>0</td>\n",
       "      <td>None</td>\n",
       "    </tr>\n",
       "    <tr>\n",
       "      <th>11</th>\n",
       "      <td>0</td>\n",
       "      <td>None</td>\n",
       "    </tr>\n",
       "    <tr>\n",
       "      <th>12</th>\n",
       "      <td>1</td>\n",
       "      <td>TA</td>\n",
       "    </tr>\n",
       "    <tr>\n",
       "      <th>13</th>\n",
       "      <td>0</td>\n",
       "      <td>None</td>\n",
       "    </tr>\n",
       "    <tr>\n",
       "      <th>14</th>\n",
       "      <td>0</td>\n",
       "      <td>None</td>\n",
       "    </tr>\n",
       "  </tbody>\n",
       "</table>\n",
       "</div>"
      ],
      "text/plain": [
       "    fireplaces fireplace_qu\n",
       "0            0         None\n",
       "1            1           TA\n",
       "2            0         None\n",
       "3            0         None\n",
       "4            0         None\n",
       "5            1           Gd\n",
       "6            0         None\n",
       "7            0         None\n",
       "8            0         None\n",
       "9            2           TA\n",
       "10           0         None\n",
       "11           0         None\n",
       "12           1           TA\n",
       "13           0         None\n",
       "14           0         None"
      ]
     },
     "execution_count": 13,
     "metadata": {},
     "output_type": "execute_result"
    }
   ],
   "source": [
    "ames_df[['fireplaces','fireplace_qu']].head(15)"
   ]
  },
  {
   "cell_type": "code",
   "execution_count": 14,
   "id": "a4f81398",
   "metadata": {},
   "outputs": [
    {
     "data": {
      "text/plain": [
       "None    1000\n",
       "Gd       523\n",
       "TA       407\n",
       "Fa        59\n",
       "Ex        31\n",
       "Po        31\n",
       "Name: fireplace_qu, dtype: int64"
      ]
     },
     "execution_count": 14,
     "metadata": {},
     "output_type": "execute_result"
    }
   ],
   "source": [
    "#check value count for 'fireplace_qu'\n",
    "ames_df['fireplace_qu'].value_counts()"
   ]
  },
  {
   "cell_type": "code",
   "execution_count": 15,
   "id": "fb68529e",
   "metadata": {},
   "outputs": [
    {
     "data": {
      "text/plain": [
       "0    1000\n",
       "1     898\n",
       "2     146\n",
       "3       6\n",
       "4       1\n",
       "Name: fireplaces, dtype: int64"
      ]
     },
     "execution_count": 15,
     "metadata": {},
     "output_type": "execute_result"
    }
   ],
   "source": [
    "#check value count for 'fireplaces'\n",
    "ames_df['fireplaces'].value_counts()"
   ]
  },
  {
   "cell_type": "markdown",
   "id": "d162c1ad",
   "metadata": {},
   "source": [
    "Both 'fireplaces' and 'fireplace_qu' have corresponding value counts for 0 and 'None'.  "
   ]
  },
  {
   "cell_type": "markdown",
   "id": "8dec5dc5",
   "metadata": {},
   "source": [
    "### Lot Frontage"
   ]
  },
  {
   "cell_type": "code",
   "execution_count": 16,
   "id": "6decfcfd",
   "metadata": {
    "scrolled": true
   },
   "outputs": [
    {
     "data": {
      "text/html": [
       "<div>\n",
       "<style scoped>\n",
       "    .dataframe tbody tr th:only-of-type {\n",
       "        vertical-align: middle;\n",
       "    }\n",
       "\n",
       "    .dataframe tbody tr th {\n",
       "        vertical-align: top;\n",
       "    }\n",
       "\n",
       "    .dataframe thead th {\n",
       "        text-align: right;\n",
       "    }\n",
       "</style>\n",
       "<table border=\"1\" class=\"dataframe\">\n",
       "  <thead>\n",
       "    <tr style=\"text-align: right;\">\n",
       "      <th></th>\n",
       "      <th>lot_frontage</th>\n",
       "      <th>lot_area</th>\n",
       "    </tr>\n",
       "  </thead>\n",
       "  <tbody>\n",
       "    <tr>\n",
       "      <th>0</th>\n",
       "      <td>NaN</td>\n",
       "      <td>13517</td>\n",
       "    </tr>\n",
       "    <tr>\n",
       "      <th>1</th>\n",
       "      <td>43.0</td>\n",
       "      <td>11492</td>\n",
       "    </tr>\n",
       "    <tr>\n",
       "      <th>2</th>\n",
       "      <td>68.0</td>\n",
       "      <td>7922</td>\n",
       "    </tr>\n",
       "    <tr>\n",
       "      <th>3</th>\n",
       "      <td>73.0</td>\n",
       "      <td>9802</td>\n",
       "    </tr>\n",
       "    <tr>\n",
       "      <th>4</th>\n",
       "      <td>82.0</td>\n",
       "      <td>14235</td>\n",
       "    </tr>\n",
       "  </tbody>\n",
       "</table>\n",
       "</div>"
      ],
      "text/plain": [
       "   lot_frontage  lot_area\n",
       "0           NaN     13517\n",
       "1          43.0     11492\n",
       "2          68.0      7922\n",
       "3          73.0      9802\n",
       "4          82.0     14235"
      ]
     },
     "execution_count": 16,
     "metadata": {},
     "output_type": "execute_result"
    }
   ],
   "source": [
    "#check values for 'lot_frontage'\n",
    "ames_df[['lot_frontage','lot_area']].head()"
   ]
  },
  {
   "cell_type": "code",
   "execution_count": 17,
   "id": "8711494a",
   "metadata": {},
   "outputs": [],
   "source": [
    "#Replace NaN with ames_df['lot_frontage'].median()\n",
    "ames_df['lot_frontage'] = ames_df['lot_frontage'].replace(np.nan,ames_df['lot_frontage'].median())"
   ]
  },
  {
   "cell_type": "code",
   "execution_count": 18,
   "id": "7ac95fd3",
   "metadata": {},
   "outputs": [
    {
     "data": {
      "text/html": [
       "<div>\n",
       "<style scoped>\n",
       "    .dataframe tbody tr th:only-of-type {\n",
       "        vertical-align: middle;\n",
       "    }\n",
       "\n",
       "    .dataframe tbody tr th {\n",
       "        vertical-align: top;\n",
       "    }\n",
       "\n",
       "    .dataframe thead th {\n",
       "        text-align: right;\n",
       "    }\n",
       "</style>\n",
       "<table border=\"1\" class=\"dataframe\">\n",
       "  <thead>\n",
       "    <tr style=\"text-align: right;\">\n",
       "      <th></th>\n",
       "      <th>lot_frontage</th>\n",
       "      <th>lot_area</th>\n",
       "    </tr>\n",
       "  </thead>\n",
       "  <tbody>\n",
       "    <tr>\n",
       "      <th>0</th>\n",
       "      <td>68.0</td>\n",
       "      <td>13517</td>\n",
       "    </tr>\n",
       "    <tr>\n",
       "      <th>1</th>\n",
       "      <td>43.0</td>\n",
       "      <td>11492</td>\n",
       "    </tr>\n",
       "    <tr>\n",
       "      <th>2</th>\n",
       "      <td>68.0</td>\n",
       "      <td>7922</td>\n",
       "    </tr>\n",
       "    <tr>\n",
       "      <th>3</th>\n",
       "      <td>73.0</td>\n",
       "      <td>9802</td>\n",
       "    </tr>\n",
       "    <tr>\n",
       "      <th>4</th>\n",
       "      <td>82.0</td>\n",
       "      <td>14235</td>\n",
       "    </tr>\n",
       "  </tbody>\n",
       "</table>\n",
       "</div>"
      ],
      "text/plain": [
       "   lot_frontage  lot_area\n",
       "0          68.0     13517\n",
       "1          43.0     11492\n",
       "2          68.0      7922\n",
       "3          73.0      9802\n",
       "4          82.0     14235"
      ]
     },
     "execution_count": 18,
     "metadata": {},
     "output_type": "execute_result"
    }
   ],
   "source": [
    "#check values for 'lot_frontage'\n",
    "ames_df[['lot_frontage','lot_area']].head()"
   ]
  },
  {
   "cell_type": "code",
   "execution_count": 19,
   "id": "a2c7807b",
   "metadata": {},
   "outputs": [
    {
     "data": {
      "text/plain": [
       "garage_yr_blt     114\n",
       "garage_finish     114\n",
       "garage_qual       114\n",
       "garage_cond       114\n",
       "garage_type       113\n",
       "bsmt_exposure      58\n",
       "bsmtfin_type_2     56\n",
       "bsmt_cond          55\n",
       "bsmt_qual          55\n",
       "bsmtfin_type_1     55\n",
       "mas_vnr_type       22\n",
       "mas_vnr_area       22\n",
       "bsmt_half_bath      2\n",
       "bsmt_full_bath      2\n",
       "bsmtfin_sf_1        1\n",
       "                 ... \n",
       "overall_cond        0\n",
       "year_built          0\n",
       "year_remod/add      0\n",
       "roof_style          0\n",
       "roof_matl           0\n",
       "exterior_1st        0\n",
       "exterior_2nd        0\n",
       "exter_qual          0\n",
       "exter_cond          0\n",
       "foundation          0\n",
       "pid                 0\n",
       "heating             0\n",
       "heating_qc          0\n",
       "central_air         0\n",
       "saleprice           0\n",
       "Length: 77, dtype: int64"
      ]
     },
     "execution_count": 19,
     "metadata": {},
     "output_type": "execute_result"
    }
   ],
   "source": [
    "ames_df.isnull().sum().sort_values(ascending=False)"
   ]
  },
  {
   "cell_type": "markdown",
   "id": "28f0f91e",
   "metadata": {},
   "source": [
    "### Garage"
   ]
  },
  {
   "cell_type": "code",
   "execution_count": 20,
   "id": "7144c0bc",
   "metadata": {},
   "outputs": [
    {
     "data": {
      "text/html": [
       "<div>\n",
       "<style scoped>\n",
       "    .dataframe tbody tr th:only-of-type {\n",
       "        vertical-align: middle;\n",
       "    }\n",
       "\n",
       "    .dataframe tbody tr th {\n",
       "        vertical-align: top;\n",
       "    }\n",
       "\n",
       "    .dataframe thead th {\n",
       "        text-align: right;\n",
       "    }\n",
       "</style>\n",
       "<table border=\"1\" class=\"dataframe\">\n",
       "  <thead>\n",
       "    <tr style=\"text-align: right;\">\n",
       "      <th></th>\n",
       "      <th>garage_yr_blt</th>\n",
       "      <th>year_built</th>\n",
       "    </tr>\n",
       "  </thead>\n",
       "  <tbody>\n",
       "    <tr>\n",
       "      <th>0</th>\n",
       "      <td>1976.0</td>\n",
       "      <td>1976</td>\n",
       "    </tr>\n",
       "    <tr>\n",
       "      <th>1</th>\n",
       "      <td>1997.0</td>\n",
       "      <td>1996</td>\n",
       "    </tr>\n",
       "    <tr>\n",
       "      <th>2</th>\n",
       "      <td>1953.0</td>\n",
       "      <td>1953</td>\n",
       "    </tr>\n",
       "    <tr>\n",
       "      <th>3</th>\n",
       "      <td>2007.0</td>\n",
       "      <td>2006</td>\n",
       "    </tr>\n",
       "    <tr>\n",
       "      <th>4</th>\n",
       "      <td>1957.0</td>\n",
       "      <td>1900</td>\n",
       "    </tr>\n",
       "    <tr>\n",
       "      <th>5</th>\n",
       "      <td>1966.0</td>\n",
       "      <td>1966</td>\n",
       "    </tr>\n",
       "    <tr>\n",
       "      <th>6</th>\n",
       "      <td>2005.0</td>\n",
       "      <td>2005</td>\n",
       "    </tr>\n",
       "    <tr>\n",
       "      <th>7</th>\n",
       "      <td>1959.0</td>\n",
       "      <td>1959</td>\n",
       "    </tr>\n",
       "    <tr>\n",
       "      <th>8</th>\n",
       "      <td>1952.0</td>\n",
       "      <td>1952</td>\n",
       "    </tr>\n",
       "    <tr>\n",
       "      <th>9</th>\n",
       "      <td>1969.0</td>\n",
       "      <td>1969</td>\n",
       "    </tr>\n",
       "  </tbody>\n",
       "</table>\n",
       "</div>"
      ],
      "text/plain": [
       "   garage_yr_blt  year_built\n",
       "0         1976.0        1976\n",
       "1         1997.0        1996\n",
       "2         1953.0        1953\n",
       "3         2007.0        2006\n",
       "4         1957.0        1900\n",
       "5         1966.0        1966\n",
       "6         2005.0        2005\n",
       "7         1959.0        1959\n",
       "8         1952.0        1952\n",
       "9         1969.0        1969"
      ]
     },
     "execution_count": 20,
     "metadata": {},
     "output_type": "execute_result"
    }
   ],
   "source": [
    "ames_df[['garage_yr_blt','year_built']].head(10)"
   ]
  },
  {
   "cell_type": "markdown",
   "id": "15a861c5",
   "metadata": {},
   "source": [
    "The columns 'garage_yr_blt' and 'year_built' are very similar, therefore it would be better to drop 'garage_year_blt'."
   ]
  },
  {
   "cell_type": "code",
   "execution_count": 21,
   "id": "743eb69f",
   "metadata": {},
   "outputs": [],
   "source": [
    "#drop 'garage_yr_blt' \n",
    "ames_df.drop(columns=['garage_yr_blt'], inplace=True)"
   ]
  },
  {
   "cell_type": "code",
   "execution_count": 22,
   "id": "aa0fec6d",
   "metadata": {},
   "outputs": [
    {
     "data": {
      "text/html": [
       "<div>\n",
       "<style scoped>\n",
       "    .dataframe tbody tr th:only-of-type {\n",
       "        vertical-align: middle;\n",
       "    }\n",
       "\n",
       "    .dataframe tbody tr th {\n",
       "        vertical-align: top;\n",
       "    }\n",
       "\n",
       "    .dataframe thead th {\n",
       "        text-align: right;\n",
       "    }\n",
       "</style>\n",
       "<table border=\"1\" class=\"dataframe\">\n",
       "  <thead>\n",
       "    <tr style=\"text-align: right;\">\n",
       "      <th></th>\n",
       "      <th>garage_finish</th>\n",
       "      <th>garage_qual</th>\n",
       "      <th>garage_cond</th>\n",
       "      <th>garage_type</th>\n",
       "    </tr>\n",
       "  </thead>\n",
       "  <tbody>\n",
       "    <tr>\n",
       "      <th>28</th>\n",
       "      <td>NaN</td>\n",
       "      <td>NaN</td>\n",
       "      <td>NaN</td>\n",
       "      <td>NaN</td>\n",
       "    </tr>\n",
       "    <tr>\n",
       "      <th>53</th>\n",
       "      <td>NaN</td>\n",
       "      <td>NaN</td>\n",
       "      <td>NaN</td>\n",
       "      <td>NaN</td>\n",
       "    </tr>\n",
       "    <tr>\n",
       "      <th>65</th>\n",
       "      <td>NaN</td>\n",
       "      <td>NaN</td>\n",
       "      <td>NaN</td>\n",
       "      <td>NaN</td>\n",
       "    </tr>\n",
       "    <tr>\n",
       "      <th>79</th>\n",
       "      <td>NaN</td>\n",
       "      <td>NaN</td>\n",
       "      <td>NaN</td>\n",
       "      <td>NaN</td>\n",
       "    </tr>\n",
       "    <tr>\n",
       "      <th>101</th>\n",
       "      <td>NaN</td>\n",
       "      <td>NaN</td>\n",
       "      <td>NaN</td>\n",
       "      <td>NaN</td>\n",
       "    </tr>\n",
       "    <tr>\n",
       "      <th>103</th>\n",
       "      <td>NaN</td>\n",
       "      <td>NaN</td>\n",
       "      <td>NaN</td>\n",
       "      <td>NaN</td>\n",
       "    </tr>\n",
       "    <tr>\n",
       "      <th>114</th>\n",
       "      <td>NaN</td>\n",
       "      <td>NaN</td>\n",
       "      <td>NaN</td>\n",
       "      <td>NaN</td>\n",
       "    </tr>\n",
       "    <tr>\n",
       "      <th>120</th>\n",
       "      <td>NaN</td>\n",
       "      <td>NaN</td>\n",
       "      <td>NaN</td>\n",
       "      <td>NaN</td>\n",
       "    </tr>\n",
       "    <tr>\n",
       "      <th>134</th>\n",
       "      <td>NaN</td>\n",
       "      <td>NaN</td>\n",
       "      <td>NaN</td>\n",
       "      <td>NaN</td>\n",
       "    </tr>\n",
       "    <tr>\n",
       "      <th>136</th>\n",
       "      <td>NaN</td>\n",
       "      <td>NaN</td>\n",
       "      <td>NaN</td>\n",
       "      <td>NaN</td>\n",
       "    </tr>\n",
       "  </tbody>\n",
       "</table>\n",
       "</div>"
      ],
      "text/plain": [
       "    garage_finish garage_qual garage_cond garage_type\n",
       "28            NaN         NaN         NaN         NaN\n",
       "53            NaN         NaN         NaN         NaN\n",
       "65            NaN         NaN         NaN         NaN\n",
       "79            NaN         NaN         NaN         NaN\n",
       "101           NaN         NaN         NaN         NaN\n",
       "103           NaN         NaN         NaN         NaN\n",
       "114           NaN         NaN         NaN         NaN\n",
       "120           NaN         NaN         NaN         NaN\n",
       "134           NaN         NaN         NaN         NaN\n",
       "136           NaN         NaN         NaN         NaN"
      ]
     },
     "execution_count": 22,
     "metadata": {},
     "output_type": "execute_result"
    }
   ],
   "source": [
    "#display NaN values in 'garage_finish','garage_qual', 'garage_cond', 'garage_type'\n",
    "ames_df.loc[pd.isnull(ames_df.garage_finish), ['garage_finish','garage_qual', 'garage_cond', 'garage_type']].head(10)"
   ]
  },
  {
   "cell_type": "markdown",
   "id": "163f5f3b",
   "metadata": {},
   "source": [
    "Since the missing values in the 4 columns, 'garage_finish','garage_qual', 'garage_cond' & 'garage_type' all correspond to each other, we can fill the missing values in 'garage_finish','garage_qual', 'garage_cond' and 'garage_type' with 'None'."
   ]
  },
  {
   "cell_type": "code",
   "execution_count": 23,
   "id": "b2dbf765",
   "metadata": {},
   "outputs": [],
   "source": [
    "#replace NaN values with None in 'garage_finish'\n",
    "ames_df['garage_finish'] = ames_df['garage_finish'].replace(np.nan,'None')\n",
    "\n",
    "#replace NaN values with None in 'garage_qual'\n",
    "ames_df['garage_qual'] = ames_df['garage_qual'].replace(np.nan,'None')\n",
    "\n",
    "#replace NaN values with None in 'garage_cond'\n",
    "ames_df['garage_cond'] = ames_df['garage_cond'].replace(np.nan,'None')\n",
    "\n",
    "#replace NaN values with None in 'garage_type'\n",
    "ames_df['garage_type'] = ames_df['garage_type'].replace(np.nan,'None')"
   ]
  },
  {
   "cell_type": "code",
   "execution_count": 24,
   "id": "cc3bbaf3",
   "metadata": {},
   "outputs": [],
   "source": [
    "#convert string values to numberic values in 'garage_finish','garage_qual', 'garage_cond'\n",
    "ames_df.garage_finish = ames_df.garage_finish.map({'None': 0, 'Unf': 1, 'RFn': 2, 'Fin': 3})\n",
    "\n",
    "ames_df.garage_qual = ames_df.garage_qual.map({'None': 0, 'Po': 1, 'Fa': 2, 'TA': 3, 'Gd': 4, 'Ex': 5})\n",
    "\n",
    "ames_df.garage_cond = ames_df.garage_cond.map({'None': 0, 'Po': 1, 'Fa': 2, 'TA': 3, 'Gd': 4, 'Ex': 5})"
   ]
  },
  {
   "cell_type": "code",
   "execution_count": 25,
   "id": "852160bd",
   "metadata": {},
   "outputs": [
    {
     "data": {
      "text/plain": [
       "1    849\n",
       "2    579\n",
       "3    509\n",
       "0    114\n",
       "Name: garage_finish, dtype: int64"
      ]
     },
     "execution_count": 25,
     "metadata": {},
     "output_type": "execute_result"
    }
   ],
   "source": [
    "ames_df['garage_finish'].value_counts() "
   ]
  },
  {
   "cell_type": "code",
   "execution_count": 26,
   "id": "3ec9247c",
   "metadata": {},
   "outputs": [
    {
     "data": {
      "text/plain": [
       "3    1832\n",
       "0     114\n",
       "2      82\n",
       "4      18\n",
       "5       3\n",
       "1       2\n",
       "Name: garage_qual, dtype: int64"
      ]
     },
     "execution_count": 26,
     "metadata": {},
     "output_type": "execute_result"
    }
   ],
   "source": [
    "ames_df['garage_qual'].value_counts() "
   ]
  },
  {
   "cell_type": "code",
   "execution_count": 27,
   "id": "1d567947",
   "metadata": {},
   "outputs": [
    {
     "data": {
      "text/plain": [
       "3    1868\n",
       "0     114\n",
       "2      47\n",
       "4      12\n",
       "1       8\n",
       "5       2\n",
       "Name: garage_cond, dtype: int64"
      ]
     },
     "execution_count": 27,
     "metadata": {},
     "output_type": "execute_result"
    }
   ],
   "source": [
    "ames_df['garage_cond'].value_counts() "
   ]
  },
  {
   "cell_type": "code",
   "execution_count": 28,
   "id": "d7de5aaa",
   "metadata": {},
   "outputs": [
    {
     "data": {
      "text/plain": [
       "bsmt_exposure     58\n",
       "bsmtfin_type_2    56\n",
       "bsmt_cond         55\n",
       "bsmt_qual         55\n",
       "bsmtfin_type_1    55\n",
       "mas_vnr_type      22\n",
       "mas_vnr_area      22\n",
       "bsmt_full_bath     2\n",
       "bsmt_half_bath     2\n",
       "garage_cars        1\n",
       "garage_area        1\n",
       "total_bsmt_sf      1\n",
       "bsmtfin_sf_1       1\n",
       "bsmtfin_sf_2       1\n",
       "bsmt_unf_sf        1\n",
       "                  ..\n",
       "overall_qual       0\n",
       "overall_cond       0\n",
       "year_built         0\n",
       "year_remod/add     0\n",
       "roof_style         0\n",
       "roof_matl          0\n",
       "exterior_1st       0\n",
       "exterior_2nd       0\n",
       "exter_qual         0\n",
       "exter_cond         0\n",
       "foundation         0\n",
       "pid                0\n",
       "heating            0\n",
       "heating_qc         0\n",
       "saleprice          0\n",
       "Length: 76, dtype: int64"
      ]
     },
     "execution_count": 28,
     "metadata": {},
     "output_type": "execute_result"
    }
   ],
   "source": [
    "ames_df.isnull().sum().sort_values(ascending=False)"
   ]
  },
  {
   "cell_type": "markdown",
   "id": "4b821a6a",
   "metadata": {},
   "source": [
    "### Basement"
   ]
  },
  {
   "cell_type": "code",
   "execution_count": 29,
   "id": "b132c1d4",
   "metadata": {},
   "outputs": [
    {
     "data": {
      "text/html": [
       "<div>\n",
       "<style scoped>\n",
       "    .dataframe tbody tr th:only-of-type {\n",
       "        vertical-align: middle;\n",
       "    }\n",
       "\n",
       "    .dataframe tbody tr th {\n",
       "        vertical-align: top;\n",
       "    }\n",
       "\n",
       "    .dataframe thead th {\n",
       "        text-align: right;\n",
       "    }\n",
       "</style>\n",
       "<table border=\"1\" class=\"dataframe\">\n",
       "  <thead>\n",
       "    <tr style=\"text-align: right;\">\n",
       "      <th></th>\n",
       "      <th>bsmtfin_type_1</th>\n",
       "      <th>bsmtfin_type_2</th>\n",
       "      <th>bsmt_exposure</th>\n",
       "      <th>bsmt_cond</th>\n",
       "      <th>bsmt_qual</th>\n",
       "    </tr>\n",
       "  </thead>\n",
       "  <tbody>\n",
       "    <tr>\n",
       "      <th>12</th>\n",
       "      <td>NaN</td>\n",
       "      <td>NaN</td>\n",
       "      <td>NaN</td>\n",
       "      <td>NaN</td>\n",
       "      <td>NaN</td>\n",
       "    </tr>\n",
       "    <tr>\n",
       "      <th>93</th>\n",
       "      <td>NaN</td>\n",
       "      <td>NaN</td>\n",
       "      <td>NaN</td>\n",
       "      <td>NaN</td>\n",
       "      <td>NaN</td>\n",
       "    </tr>\n",
       "    <tr>\n",
       "      <th>114</th>\n",
       "      <td>NaN</td>\n",
       "      <td>NaN</td>\n",
       "      <td>NaN</td>\n",
       "      <td>NaN</td>\n",
       "      <td>NaN</td>\n",
       "    </tr>\n",
       "    <tr>\n",
       "      <th>146</th>\n",
       "      <td>NaN</td>\n",
       "      <td>NaN</td>\n",
       "      <td>NaN</td>\n",
       "      <td>NaN</td>\n",
       "      <td>NaN</td>\n",
       "    </tr>\n",
       "    <tr>\n",
       "      <th>183</th>\n",
       "      <td>NaN</td>\n",
       "      <td>NaN</td>\n",
       "      <td>NaN</td>\n",
       "      <td>NaN</td>\n",
       "      <td>NaN</td>\n",
       "    </tr>\n",
       "    <tr>\n",
       "      <th>240</th>\n",
       "      <td>NaN</td>\n",
       "      <td>NaN</td>\n",
       "      <td>NaN</td>\n",
       "      <td>NaN</td>\n",
       "      <td>NaN</td>\n",
       "    </tr>\n",
       "    <tr>\n",
       "      <th>249</th>\n",
       "      <td>NaN</td>\n",
       "      <td>NaN</td>\n",
       "      <td>NaN</td>\n",
       "      <td>NaN</td>\n",
       "      <td>NaN</td>\n",
       "    </tr>\n",
       "    <tr>\n",
       "      <th>256</th>\n",
       "      <td>NaN</td>\n",
       "      <td>NaN</td>\n",
       "      <td>NaN</td>\n",
       "      <td>NaN</td>\n",
       "      <td>NaN</td>\n",
       "    </tr>\n",
       "    <tr>\n",
       "      <th>390</th>\n",
       "      <td>NaN</td>\n",
       "      <td>NaN</td>\n",
       "      <td>NaN</td>\n",
       "      <td>NaN</td>\n",
       "      <td>NaN</td>\n",
       "    </tr>\n",
       "    <tr>\n",
       "      <th>437</th>\n",
       "      <td>NaN</td>\n",
       "      <td>NaN</td>\n",
       "      <td>NaN</td>\n",
       "      <td>NaN</td>\n",
       "      <td>NaN</td>\n",
       "    </tr>\n",
       "  </tbody>\n",
       "</table>\n",
       "</div>"
      ],
      "text/plain": [
       "    bsmtfin_type_1 bsmtfin_type_2 bsmt_exposure bsmt_cond bsmt_qual\n",
       "12             NaN            NaN           NaN       NaN       NaN\n",
       "93             NaN            NaN           NaN       NaN       NaN\n",
       "114            NaN            NaN           NaN       NaN       NaN\n",
       "146            NaN            NaN           NaN       NaN       NaN\n",
       "183            NaN            NaN           NaN       NaN       NaN\n",
       "240            NaN            NaN           NaN       NaN       NaN\n",
       "249            NaN            NaN           NaN       NaN       NaN\n",
       "256            NaN            NaN           NaN       NaN       NaN\n",
       "390            NaN            NaN           NaN       NaN       NaN\n",
       "437            NaN            NaN           NaN       NaN       NaN"
      ]
     },
     "execution_count": 29,
     "metadata": {},
     "output_type": "execute_result"
    }
   ],
   "source": [
    "#display NaN values in 'bsmt_type_1', 'bsmt_type_2', 'bsmt_exposure','bsmt_cond', ''bsmt_qual'\n",
    "ames_df.loc[pd.isnull(ames_df.bsmtfin_type_1), ['bsmtfin_type_1', 'bsmtfin_type_2', 'bsmt_exposure', 'bsmt_cond', 'bsmt_qual']].head(10)"
   ]
  },
  {
   "cell_type": "markdown",
   "id": "5dbdc6c4",
   "metadata": {},
   "source": [
    "Since the missing values in the 5 columns, 'bsmtfin_type_1', 'bsmtfin_type_2', 'bsmt_exposure', 'bsmt_cond' & 'bsmt_qual' all correspond to each other, we can fill the missing values in the 5 columns with 'None' as they are likely to have no basement."
   ]
  },
  {
   "cell_type": "code",
   "execution_count": 30,
   "id": "d620e000",
   "metadata": {},
   "outputs": [],
   "source": [
    "#replace NaN values with None in 'bsmtfin_type_1', 'bsmtfin_type_2', 'bsmt_exposure', 'bsmt_cond' & 'bsmt_qual'\n",
    "ames_df['bsmtfin_type_1'] = ames_df['bsmtfin_type_1'].replace(np.nan,'None')\n",
    "\n",
    "ames_df['bsmtfin_type_2'] = ames_df['bsmtfin_type_2'].replace(np.nan,'None')\n",
    "\n",
    "ames_df['bsmt_exposure'] = ames_df['bsmt_exposure'].replace(np.nan,'None')\n",
    "\n",
    "ames_df['bsmt_cond'] = ames_df['bsmt_cond'].replace(np.nan,'None')\n",
    "\n",
    "ames_df['bsmt_qual'] = ames_df['bsmt_qual'].replace(np.nan,'None')"
   ]
  },
  {
   "cell_type": "code",
   "execution_count": 31,
   "id": "e2ae7dab",
   "metadata": {},
   "outputs": [],
   "source": [
    "#convert strings to numeric values in 'bsmtfin_type_1', 'bsmtfin_type_2', 'bsmt_exposure', 'bsmt_cond' & 'bsmt_qual'\n",
    "ames_df.bsmtfin_type_1 = ames_df.bsmtfin_type_1.map({'None': 0, 'Unf': 1, 'LwQ': 2, 'Rec': 3, 'BLQ': 4, 'ALQ': 5, 'GLQ': 6})\n",
    "\n",
    "ames_df.bsmtfin_type_2 = ames_df.bsmtfin_type_2.map({'None': 0, 'Unf': 1, 'LwQ': 2, 'Rec': 3, 'BLQ': 4, 'ALQ': 5, 'GLQ': 6})\n",
    "\n",
    "ames_df.bsmt_exposure = ames_df.bsmt_exposure.map({'None': 0, 'No': 1, 'Mn': 2, 'Av': 3, 'Gd': 4})\n",
    "\n",
    "ames_df.bsmt_cond = ames_df.bsmt_cond.map({'None': 0, 'Po': 1, 'Fa': 2, 'TA': 3, 'Gd': 4, 'Ex': 5})\n",
    "\n",
    "ames_df.bsmt_qual = ames_df.bsmt_qual.map({'None': 0, 'Po': 1, 'Fa': 2, 'TA': 3, 'Gd': 4, 'Ex': 5})\n"
   ]
  },
  {
   "cell_type": "code",
   "execution_count": 32,
   "id": "262926c5",
   "metadata": {},
   "outputs": [
    {
     "data": {
      "text/plain": [
       "6    615\n",
       "1    603\n",
       "5    293\n",
       "4    200\n",
       "3    183\n",
       "2    102\n",
       "0     55\n",
       "Name: bsmtfin_type_1, dtype: int64"
      ]
     },
     "execution_count": 32,
     "metadata": {},
     "output_type": "execute_result"
    }
   ],
   "source": [
    "ames_df['bsmtfin_type_1'].value_counts()"
   ]
  },
  {
   "cell_type": "code",
   "execution_count": 33,
   "id": "cc570017",
   "metadata": {},
   "outputs": [
    {
     "data": {
      "text/plain": [
       "1    1749\n",
       "3      80\n",
       "2      60\n",
       "0      56\n",
       "4      48\n",
       "5      35\n",
       "6      23\n",
       "Name: bsmtfin_type_2, dtype: int64"
      ]
     },
     "execution_count": 33,
     "metadata": {},
     "output_type": "execute_result"
    }
   ],
   "source": [
    "ames_df['bsmtfin_type_2'].value_counts()"
   ]
  },
  {
   "cell_type": "code",
   "execution_count": 34,
   "id": "a9152eaf",
   "metadata": {},
   "outputs": [
    {
     "data": {
      "text/plain": [
       "1    1339\n",
       "3     288\n",
       "4     203\n",
       "2     163\n",
       "0      58\n",
       "Name: bsmt_exposure, dtype: int64"
      ]
     },
     "execution_count": 34,
     "metadata": {},
     "output_type": "execute_result"
    }
   ],
   "source": [
    "ames_df['bsmt_exposure'].value_counts()"
   ]
  },
  {
   "cell_type": "code",
   "execution_count": 35,
   "id": "5bfe690d",
   "metadata": {},
   "outputs": [
    {
     "data": {
      "text/plain": [
       "3    1834\n",
       "4      89\n",
       "2      65\n",
       "0      55\n",
       "1       5\n",
       "5       3\n",
       "Name: bsmt_cond, dtype: int64"
      ]
     },
     "execution_count": 35,
     "metadata": {},
     "output_type": "execute_result"
    }
   ],
   "source": [
    "ames_df['bsmt_cond'].value_counts()"
   ]
  },
  {
   "cell_type": "code",
   "execution_count": 36,
   "id": "2d351be5",
   "metadata": {},
   "outputs": [
    {
     "data": {
      "text/plain": [
       "3    887\n",
       "4    864\n",
       "5    184\n",
       "2     60\n",
       "0     55\n",
       "1      1\n",
       "Name: bsmt_qual, dtype: int64"
      ]
     },
     "execution_count": 36,
     "metadata": {},
     "output_type": "execute_result"
    }
   ],
   "source": [
    "ames_df['bsmt_qual'].value_counts()"
   ]
  },
  {
   "cell_type": "code",
   "execution_count": 37,
   "id": "69fbf7b1",
   "metadata": {},
   "outputs": [
    {
     "data": {
      "text/plain": [
       "mas_vnr_type      22\n",
       "mas_vnr_area      22\n",
       "bsmt_half_bath     2\n",
       "bsmt_full_bath     2\n",
       "garage_cars        1\n",
       "garage_area        1\n",
       "total_bsmt_sf      1\n",
       "bsmtfin_sf_1       1\n",
       "bsmtfin_sf_2       1\n",
       "bsmt_unf_sf        1\n",
       "                  ..\n",
       "bsmt_qual          0\n",
       "exter_cond         0\n",
       "year_built         0\n",
       "exter_qual         0\n",
       "exterior_2nd       0\n",
       "exterior_1st       0\n",
       "roof_matl          0\n",
       "roof_style         0\n",
       "year_remod/add     0\n",
       "saleprice          0\n",
       "Length: 76, dtype: int64"
      ]
     },
     "execution_count": 37,
     "metadata": {},
     "output_type": "execute_result"
    }
   ],
   "source": [
    "pd.options.display.min_rows = 20\n",
    "ames_df.isnull().sum().sort_values(ascending=False)"
   ]
  },
  {
   "cell_type": "markdown",
   "id": "4ec44e18",
   "metadata": {},
   "source": [
    "### Masonry Veneer"
   ]
  },
  {
   "cell_type": "code",
   "execution_count": 38,
   "id": "7e862e3f",
   "metadata": {},
   "outputs": [
    {
     "data": {
      "text/html": [
       "<div>\n",
       "<style scoped>\n",
       "    .dataframe tbody tr th:only-of-type {\n",
       "        vertical-align: middle;\n",
       "    }\n",
       "\n",
       "    .dataframe tbody tr th {\n",
       "        vertical-align: top;\n",
       "    }\n",
       "\n",
       "    .dataframe thead th {\n",
       "        text-align: right;\n",
       "    }\n",
       "</style>\n",
       "<table border=\"1\" class=\"dataframe\">\n",
       "  <thead>\n",
       "    <tr style=\"text-align: right;\">\n",
       "      <th></th>\n",
       "      <th>mas_vnr_type</th>\n",
       "      <th>mas_vnr_area</th>\n",
       "    </tr>\n",
       "  </thead>\n",
       "  <tbody>\n",
       "    <tr>\n",
       "      <th>22</th>\n",
       "      <td>NaN</td>\n",
       "      <td>NaN</td>\n",
       "    </tr>\n",
       "    <tr>\n",
       "      <th>41</th>\n",
       "      <td>NaN</td>\n",
       "      <td>NaN</td>\n",
       "    </tr>\n",
       "    <tr>\n",
       "      <th>86</th>\n",
       "      <td>NaN</td>\n",
       "      <td>NaN</td>\n",
       "    </tr>\n",
       "    <tr>\n",
       "      <th>212</th>\n",
       "      <td>NaN</td>\n",
       "      <td>NaN</td>\n",
       "    </tr>\n",
       "    <tr>\n",
       "      <th>276</th>\n",
       "      <td>NaN</td>\n",
       "      <td>NaN</td>\n",
       "    </tr>\n",
       "    <tr>\n",
       "      <th>338</th>\n",
       "      <td>NaN</td>\n",
       "      <td>NaN</td>\n",
       "    </tr>\n",
       "    <tr>\n",
       "      <th>431</th>\n",
       "      <td>NaN</td>\n",
       "      <td>NaN</td>\n",
       "    </tr>\n",
       "    <tr>\n",
       "      <th>451</th>\n",
       "      <td>NaN</td>\n",
       "      <td>NaN</td>\n",
       "    </tr>\n",
       "    <tr>\n",
       "      <th>591</th>\n",
       "      <td>NaN</td>\n",
       "      <td>NaN</td>\n",
       "    </tr>\n",
       "    <tr>\n",
       "      <th>844</th>\n",
       "      <td>NaN</td>\n",
       "      <td>NaN</td>\n",
       "    </tr>\n",
       "  </tbody>\n",
       "</table>\n",
       "</div>"
      ],
      "text/plain": [
       "    mas_vnr_type  mas_vnr_area\n",
       "22           NaN           NaN\n",
       "41           NaN           NaN\n",
       "86           NaN           NaN\n",
       "212          NaN           NaN\n",
       "276          NaN           NaN\n",
       "338          NaN           NaN\n",
       "431          NaN           NaN\n",
       "451          NaN           NaN\n",
       "591          NaN           NaN\n",
       "844          NaN           NaN"
      ]
     },
     "execution_count": 38,
     "metadata": {},
     "output_type": "execute_result"
    }
   ],
   "source": [
    "#display NaN values in 'mas_vnr_type' & 'mas_vnr_area' \n",
    "ames_df.loc[pd.isnull(ames_df.mas_vnr_type), ['mas_vnr_type', 'mas_vnr_area']].head(10)"
   ]
  },
  {
   "cell_type": "markdown",
   "id": "c32159b7",
   "metadata": {},
   "source": [
    "Since the missing values in 'mas_vnr_type' & 'mas_vnr_area' columns correspond to each other, we can fill the missing values in 'mas_vnr_type' as 'None' and 'mas_vnr_area' as 0."
   ]
  },
  {
   "cell_type": "code",
   "execution_count": 39,
   "id": "96f4b1a4",
   "metadata": {},
   "outputs": [],
   "source": [
    "#replace NaN values with None in 'mas_vnr_type'\n",
    "ames_df['mas_vnr_type'] = ames_df['mas_vnr_type'].replace(np.nan,'None')\n",
    "\n",
    "#replace NaN values with 0 in 'mas_vnr_area'\n",
    "ames_df['mas_vnr_area'] = ames_df['mas_vnr_area'].replace(np.nan,0)"
   ]
  },
  {
   "cell_type": "code",
   "execution_count": 40,
   "id": "1873497d",
   "metadata": {},
   "outputs": [
    {
     "data": {
      "text/plain": [
       "None       1240\n",
       "BrkFace     630\n",
       "Stone       168\n",
       "BrkCmn       13\n",
       "Name: mas_vnr_type, dtype: int64"
      ]
     },
     "execution_count": 40,
     "metadata": {},
     "output_type": "execute_result"
    }
   ],
   "source": [
    "ames_df['mas_vnr_type'].value_counts()"
   ]
  },
  {
   "cell_type": "code",
   "execution_count": 41,
   "id": "38394685",
   "metadata": {},
   "outputs": [
    {
     "data": {
      "text/plain": [
       "0.0      1238\n",
       "120.0      11\n",
       "176.0      10\n",
       "200.0      10\n",
       "210.0       9\n",
       "180.0       9\n",
       "72.0        9\n",
       "16.0        9\n",
       "108.0       9\n",
       "132.0       8\n",
       "         ... \n",
       "253.0       1\n",
       "324.0       1\n",
       "640.0       1\n",
       "179.0       1\n",
       "541.0       1\n",
       "576.0       1\n",
       "796.0       1\n",
       "573.0       1\n",
       "372.0       1\n",
       "428.0       1\n",
       "Name: mas_vnr_area, Length: 373, dtype: int64"
      ]
     },
     "execution_count": 41,
     "metadata": {},
     "output_type": "execute_result"
    }
   ],
   "source": [
    "ames_df['mas_vnr_area'].value_counts()"
   ]
  },
  {
   "cell_type": "code",
   "execution_count": 42,
   "id": "e75e54e5",
   "metadata": {},
   "outputs": [],
   "source": [
    "#find the entry where ['mas_vnr_type'] == 'None' but ['mas_vnr_area'] != 0"
   ]
  },
  {
   "cell_type": "code",
   "execution_count": 43,
   "id": "3cfd2137",
   "metadata": {},
   "outputs": [],
   "source": [
    "#find the index of entries where ['mas_vnr_type'] == 'None' but ['mas_vnr_area'] != 0\n",
    "x = ames_df[(ames_df['mas_vnr_type'] == 'None') & (ames_df['mas_vnr_area'] != 0)]"
   ]
  },
  {
   "cell_type": "code",
   "execution_count": 44,
   "id": "85bc3d11",
   "metadata": {},
   "outputs": [
    {
     "data": {
      "text/html": [
       "<div>\n",
       "<style scoped>\n",
       "    .dataframe tbody tr th:only-of-type {\n",
       "        vertical-align: middle;\n",
       "    }\n",
       "\n",
       "    .dataframe tbody tr th {\n",
       "        vertical-align: top;\n",
       "    }\n",
       "\n",
       "    .dataframe thead th {\n",
       "        text-align: right;\n",
       "    }\n",
       "</style>\n",
       "<table border=\"1\" class=\"dataframe\">\n",
       "  <thead>\n",
       "    <tr style=\"text-align: right;\">\n",
       "      <th></th>\n",
       "      <th>mas_vnr_type</th>\n",
       "      <th>mas_vnr_area</th>\n",
       "    </tr>\n",
       "  </thead>\n",
       "  <tbody>\n",
       "    <tr>\n",
       "      <th>765</th>\n",
       "      <td>None</td>\n",
       "      <td>1.0</td>\n",
       "    </tr>\n",
       "    <tr>\n",
       "      <th>810</th>\n",
       "      <td>None</td>\n",
       "      <td>288.0</td>\n",
       "    </tr>\n",
       "    <tr>\n",
       "      <th>1148</th>\n",
       "      <td>None</td>\n",
       "      <td>1.0</td>\n",
       "    </tr>\n",
       "    <tr>\n",
       "      <th>1684</th>\n",
       "      <td>None</td>\n",
       "      <td>1.0</td>\n",
       "    </tr>\n",
       "    <tr>\n",
       "      <th>1832</th>\n",
       "      <td>None</td>\n",
       "      <td>344.0</td>\n",
       "    </tr>\n",
       "  </tbody>\n",
       "</table>\n",
       "</div>"
      ],
      "text/plain": [
       "     mas_vnr_type  mas_vnr_area\n",
       "765          None           1.0\n",
       "810          None         288.0\n",
       "1148         None           1.0\n",
       "1684         None           1.0\n",
       "1832         None         344.0"
      ]
     },
     "execution_count": 44,
     "metadata": {},
     "output_type": "execute_result"
    }
   ],
   "source": [
    "x[['mas_vnr_type','mas_vnr_area']]"
   ]
  },
  {
   "cell_type": "code",
   "execution_count": 45,
   "id": "a202139a",
   "metadata": {},
   "outputs": [
    {
     "data": {
      "text/plain": [
       "(2051, 76)"
      ]
     },
     "execution_count": 45,
     "metadata": {},
     "output_type": "execute_result"
    }
   ],
   "source": [
    "ames_df.shape"
   ]
  },
  {
   "cell_type": "code",
   "execution_count": 46,
   "id": "d3230924",
   "metadata": {},
   "outputs": [],
   "source": [
    "#drop entries 810 and 1832 from ames_df as the mas_vnr_area is >0 but the mas_vnr_type is None.\n",
    "ames_df = ames_df.drop([810, 1832], axis=0)"
   ]
  },
  {
   "cell_type": "code",
   "execution_count": 47,
   "id": "96b12a5a",
   "metadata": {},
   "outputs": [
    {
     "data": {
      "text/plain": [
       "(2049, 76)"
      ]
     },
     "execution_count": 47,
     "metadata": {},
     "output_type": "execute_result"
    }
   ],
   "source": [
    "ames_df.shape"
   ]
  },
  {
   "cell_type": "code",
   "execution_count": 48,
   "id": "00600160",
   "metadata": {},
   "outputs": [
    {
     "data": {
      "text/plain": [
       "None       1238\n",
       "BrkFace     630\n",
       "Stone       168\n",
       "BrkCmn       13\n",
       "Name: mas_vnr_type, dtype: int64"
      ]
     },
     "execution_count": 48,
     "metadata": {},
     "output_type": "execute_result"
    }
   ],
   "source": [
    "ames_df['mas_vnr_type'].value_counts()"
   ]
  },
  {
   "cell_type": "code",
   "execution_count": 49,
   "id": "80eef156",
   "metadata": {},
   "outputs": [
    {
     "data": {
      "text/plain": [
       "0.0      1238\n",
       "120.0      11\n",
       "176.0      10\n",
       "200.0      10\n",
       "210.0       9\n",
       "180.0       9\n",
       "72.0        9\n",
       "16.0        9\n",
       "108.0       9\n",
       "132.0       8\n",
       "         ... \n",
       "253.0       1\n",
       "324.0       1\n",
       "640.0       1\n",
       "179.0       1\n",
       "541.0       1\n",
       "576.0       1\n",
       "796.0       1\n",
       "573.0       1\n",
       "372.0       1\n",
       "428.0       1\n",
       "Name: mas_vnr_area, Length: 373, dtype: int64"
      ]
     },
     "execution_count": 49,
     "metadata": {},
     "output_type": "execute_result"
    }
   ],
   "source": [
    "ames_df['mas_vnr_area'].value_counts()"
   ]
  },
  {
   "cell_type": "markdown",
   "id": "fe8bf6bb",
   "metadata": {},
   "source": [
    "### Basement "
   ]
  },
  {
   "cell_type": "code",
   "execution_count": 50,
   "id": "580eaa61",
   "metadata": {},
   "outputs": [
    {
     "data": {
      "text/plain": [
       "bsmt_full_bath    2\n",
       "bsmt_half_bath    2\n",
       "bsmtfin_sf_1      1\n",
       "garage_cars       1\n",
       "garage_area       1\n",
       "total_bsmt_sf     1\n",
       "bsmtfin_sf_2      1\n",
       "bsmt_unf_sf       1\n",
       "1st_flr_sf        0\n",
       "2nd_flr_sf        0\n",
       "                 ..\n",
       "foundation        0\n",
       "exter_qual        0\n",
       "year_remod/add    0\n",
       "mas_vnr_area      0\n",
       "mas_vnr_type      0\n",
       "exterior_2nd      0\n",
       "exterior_1st      0\n",
       "roof_matl         0\n",
       "roof_style        0\n",
       "saleprice         0\n",
       "Length: 76, dtype: int64"
      ]
     },
     "execution_count": 50,
     "metadata": {},
     "output_type": "execute_result"
    }
   ],
   "source": [
    "pd.options.display.min_rows = 20\n",
    "ames_df.isnull().sum().sort_values(ascending=False)"
   ]
  },
  {
   "cell_type": "code",
   "execution_count": 51,
   "id": "c497be18",
   "metadata": {},
   "outputs": [
    {
     "data": {
      "text/html": [
       "<div>\n",
       "<style scoped>\n",
       "    .dataframe tbody tr th:only-of-type {\n",
       "        vertical-align: middle;\n",
       "    }\n",
       "\n",
       "    .dataframe tbody tr th {\n",
       "        vertical-align: top;\n",
       "    }\n",
       "\n",
       "    .dataframe thead th {\n",
       "        text-align: right;\n",
       "    }\n",
       "</style>\n",
       "<table border=\"1\" class=\"dataframe\">\n",
       "  <thead>\n",
       "    <tr style=\"text-align: right;\">\n",
       "      <th></th>\n",
       "      <th>bsmt_full_bath</th>\n",
       "      <th>bsmt_half_bath</th>\n",
       "      <th>bsmtfin_sf_1</th>\n",
       "      <th>bsmtfin_sf_2</th>\n",
       "      <th>bsmt_unf_sf</th>\n",
       "      <th>total_bsmt_sf</th>\n",
       "      <th>bsmt_qual</th>\n",
       "    </tr>\n",
       "  </thead>\n",
       "  <tbody>\n",
       "    <tr>\n",
       "      <th>616</th>\n",
       "      <td>NaN</td>\n",
       "      <td>NaN</td>\n",
       "      <td>0.0</td>\n",
       "      <td>0.0</td>\n",
       "      <td>0.0</td>\n",
       "      <td>0.0</td>\n",
       "      <td>0</td>\n",
       "    </tr>\n",
       "    <tr>\n",
       "      <th>1327</th>\n",
       "      <td>NaN</td>\n",
       "      <td>NaN</td>\n",
       "      <td>NaN</td>\n",
       "      <td>NaN</td>\n",
       "      <td>NaN</td>\n",
       "      <td>NaN</td>\n",
       "      <td>0</td>\n",
       "    </tr>\n",
       "  </tbody>\n",
       "</table>\n",
       "</div>"
      ],
      "text/plain": [
       "      bsmt_full_bath  bsmt_half_bath  bsmtfin_sf_1  bsmtfin_sf_2  bsmt_unf_sf  \\\n",
       "616              NaN             NaN           0.0           0.0          0.0   \n",
       "1327             NaN             NaN           NaN           NaN          NaN   \n",
       "\n",
       "      total_bsmt_sf  bsmt_qual  \n",
       "616             0.0          0  \n",
       "1327            NaN          0  "
      ]
     },
     "execution_count": 51,
     "metadata": {},
     "output_type": "execute_result"
    }
   ],
   "source": [
    "#display NaN values in 'mas_vnr_type' & 'mas_vnr_area' \n",
    "ames_df.loc[pd.isnull(ames_df.bsmt_full_bath), ['bsmt_full_bath', 'bsmt_half_bath', 'bsmtfin_sf_1', 'bsmtfin_sf_2', 'bsmt_unf_sf', 'total_bsmt_sf', 'bsmt_qual']].head(10)"
   ]
  },
  {
   "cell_type": "markdown",
   "id": "56e83e5a",
   "metadata": {},
   "source": [
    "Since basement quality is 0 for 616 and 1327, we can replace the null values with 0."
   ]
  },
  {
   "cell_type": "code",
   "execution_count": 52,
   "id": "a6e36f6a",
   "metadata": {},
   "outputs": [],
   "source": [
    "#replace NaN in 'bsmt_full_bath', 'bsmt_half_bath', 'bsmtfin_sf_1', 'bsmtfin_sf_2', 'bsmt_unf_sf', 'total_bsmt_sf' with 0\n",
    "ames_df['bsmt_full_bath'] = ames_df['bsmt_full_bath'].replace(np.nan,0)\n",
    "\n",
    "ames_df['bsmt_half_bath'] = ames_df['bsmt_half_bath'].replace(np.nan,0)\n",
    "\n",
    "ames_df['bsmtfin_sf_1'] = ames_df['bsmtfin_sf_1'].replace(np.nan,0)\n",
    "\n",
    "ames_df['bsmtfin_sf_2'] = ames_df['bsmtfin_sf_2'].replace(np.nan,0)\n",
    "\n",
    "ames_df['bsmt_unf_sf'] = ames_df['bsmt_unf_sf'].replace(np.nan,0)\n",
    "\n",
    "ames_df['total_bsmt_sf'] = ames_df['total_bsmt_sf'].replace(np.nan,0)"
   ]
  },
  {
   "cell_type": "code",
   "execution_count": 53,
   "id": "23a966dd",
   "metadata": {},
   "outputs": [
    {
     "data": {
      "text/plain": [
       "garage_cars      1\n",
       "garage_area      1\n",
       "id               0\n",
       "fireplaces       0\n",
       "totrms_abvgrd    0\n",
       "kitchen_qual     0\n",
       "kitchen_abvgr    0\n",
       "bedroom_abvgr    0\n",
       "half_bath        0\n",
       "full_bath        0\n",
       "                ..\n",
       "foundation       0\n",
       "exter_cond       0\n",
       "exter_qual       0\n",
       "mas_vnr_area     0\n",
       "mas_vnr_type     0\n",
       "exterior_2nd     0\n",
       "exterior_1st     0\n",
       "roof_matl        0\n",
       "roof_style       0\n",
       "saleprice        0\n",
       "Length: 76, dtype: int64"
      ]
     },
     "execution_count": 53,
     "metadata": {},
     "output_type": "execute_result"
    }
   ],
   "source": [
    "pd.options.display.min_rows = 20\n",
    "ames_df.isnull().sum().sort_values(ascending=False)"
   ]
  },
  {
   "cell_type": "code",
   "execution_count": 54,
   "id": "1a7898bf",
   "metadata": {},
   "outputs": [
    {
     "data": {
      "text/html": [
       "<div>\n",
       "<style scoped>\n",
       "    .dataframe tbody tr th:only-of-type {\n",
       "        vertical-align: middle;\n",
       "    }\n",
       "\n",
       "    .dataframe tbody tr th {\n",
       "        vertical-align: top;\n",
       "    }\n",
       "\n",
       "    .dataframe thead th {\n",
       "        text-align: right;\n",
       "    }\n",
       "</style>\n",
       "<table border=\"1\" class=\"dataframe\">\n",
       "  <thead>\n",
       "    <tr style=\"text-align: right;\">\n",
       "      <th></th>\n",
       "      <th>bsmtfin_sf_1</th>\n",
       "      <th>bsmtfin_sf_2</th>\n",
       "      <th>bsmt_unf_sf</th>\n",
       "      <th>total_bsmt_sf</th>\n",
       "    </tr>\n",
       "  </thead>\n",
       "  <tbody>\n",
       "    <tr>\n",
       "      <th>0</th>\n",
       "      <td>533.0</td>\n",
       "      <td>0.0</td>\n",
       "      <td>192.0</td>\n",
       "      <td>725.0</td>\n",
       "    </tr>\n",
       "    <tr>\n",
       "      <th>1</th>\n",
       "      <td>637.0</td>\n",
       "      <td>0.0</td>\n",
       "      <td>276.0</td>\n",
       "      <td>913.0</td>\n",
       "    </tr>\n",
       "    <tr>\n",
       "      <th>2</th>\n",
       "      <td>731.0</td>\n",
       "      <td>0.0</td>\n",
       "      <td>326.0</td>\n",
       "      <td>1057.0</td>\n",
       "    </tr>\n",
       "    <tr>\n",
       "      <th>3</th>\n",
       "      <td>0.0</td>\n",
       "      <td>0.0</td>\n",
       "      <td>384.0</td>\n",
       "      <td>384.0</td>\n",
       "    </tr>\n",
       "    <tr>\n",
       "      <th>4</th>\n",
       "      <td>0.0</td>\n",
       "      <td>0.0</td>\n",
       "      <td>676.0</td>\n",
       "      <td>676.0</td>\n",
       "    </tr>\n",
       "    <tr>\n",
       "      <th>5</th>\n",
       "      <td>247.0</td>\n",
       "      <td>713.0</td>\n",
       "      <td>557.0</td>\n",
       "      <td>1517.0</td>\n",
       "    </tr>\n",
       "    <tr>\n",
       "      <th>6</th>\n",
       "      <td>547.0</td>\n",
       "      <td>0.0</td>\n",
       "      <td>0.0</td>\n",
       "      <td>547.0</td>\n",
       "    </tr>\n",
       "    <tr>\n",
       "      <th>7</th>\n",
       "      <td>1000.0</td>\n",
       "      <td>0.0</td>\n",
       "      <td>188.0</td>\n",
       "      <td>1188.0</td>\n",
       "    </tr>\n",
       "    <tr>\n",
       "      <th>8</th>\n",
       "      <td>292.0</td>\n",
       "      <td>0.0</td>\n",
       "      <td>632.0</td>\n",
       "      <td>924.0</td>\n",
       "    </tr>\n",
       "    <tr>\n",
       "      <th>9</th>\n",
       "      <td>650.0</td>\n",
       "      <td>0.0</td>\n",
       "      <td>390.0</td>\n",
       "      <td>1040.0</td>\n",
       "    </tr>\n",
       "  </tbody>\n",
       "</table>\n",
       "</div>"
      ],
      "text/plain": [
       "   bsmtfin_sf_1  bsmtfin_sf_2  bsmt_unf_sf  total_bsmt_sf\n",
       "0         533.0           0.0        192.0          725.0\n",
       "1         637.0           0.0        276.0          913.0\n",
       "2         731.0           0.0        326.0         1057.0\n",
       "3           0.0           0.0        384.0          384.0\n",
       "4           0.0           0.0        676.0          676.0\n",
       "5         247.0         713.0        557.0         1517.0\n",
       "6         547.0           0.0          0.0          547.0\n",
       "7        1000.0           0.0        188.0         1188.0\n",
       "8         292.0           0.0        632.0          924.0\n",
       "9         650.0           0.0        390.0         1040.0"
      ]
     },
     "execution_count": 54,
     "metadata": {},
     "output_type": "execute_result"
    }
   ],
   "source": [
    "ames_df[['bsmtfin_sf_1','bsmtfin_sf_2','bsmt_unf_sf','total_bsmt_sf']].head(10)"
   ]
  },
  {
   "cell_type": "markdown",
   "id": "bd9a1f27",
   "metadata": {},
   "source": [
    "The sum of 'bsmtfin_sf_1','bsmtfin_sf_2' & 'bsmt_unf_sf' equals to 'total_bsmt_sf', therefore it would be better to drop these three columns and keep 'total_bsmt_sf'."
   ]
  },
  {
   "cell_type": "code",
   "execution_count": 55,
   "id": "1a3bd059",
   "metadata": {},
   "outputs": [],
   "source": [
    "#drop 'bsmtfin_sf_1','bsmtfin_sf_2','bsmt_unf_sf'\n",
    "ames_df.drop(columns=['bsmtfin_sf_1','bsmtfin_sf_2','bsmt_unf_sf'], inplace=True)"
   ]
  },
  {
   "cell_type": "code",
   "execution_count": 56,
   "id": "b610d433",
   "metadata": {},
   "outputs": [
    {
     "data": {
      "text/plain": [
       "(2049, 73)"
      ]
     },
     "execution_count": 56,
     "metadata": {},
     "output_type": "execute_result"
    }
   ],
   "source": [
    "ames_df.shape"
   ]
  },
  {
   "cell_type": "markdown",
   "id": "aa14c5ae",
   "metadata": {},
   "source": [
    "### Above Ground Living Area"
   ]
  },
  {
   "cell_type": "code",
   "execution_count": 57,
   "id": "6dd329bb",
   "metadata": {},
   "outputs": [
    {
     "data": {
      "text/html": [
       "<div>\n",
       "<style scoped>\n",
       "    .dataframe tbody tr th:only-of-type {\n",
       "        vertical-align: middle;\n",
       "    }\n",
       "\n",
       "    .dataframe tbody tr th {\n",
       "        vertical-align: top;\n",
       "    }\n",
       "\n",
       "    .dataframe thead th {\n",
       "        text-align: right;\n",
       "    }\n",
       "</style>\n",
       "<table border=\"1\" class=\"dataframe\">\n",
       "  <thead>\n",
       "    <tr style=\"text-align: right;\">\n",
       "      <th></th>\n",
       "      <th>1st_flr_sf</th>\n",
       "      <th>2nd_flr_sf</th>\n",
       "      <th>low_qual_fin_sf</th>\n",
       "      <th>gr_liv_area</th>\n",
       "    </tr>\n",
       "  </thead>\n",
       "  <tbody>\n",
       "    <tr>\n",
       "      <th>249</th>\n",
       "      <td>640</td>\n",
       "      <td>0</td>\n",
       "      <td>205</td>\n",
       "      <td>845</td>\n",
       "    </tr>\n",
       "    <tr>\n",
       "      <th>269</th>\n",
       "      <td>520</td>\n",
       "      <td>600</td>\n",
       "      <td>80</td>\n",
       "      <td>1200</td>\n",
       "    </tr>\n",
       "    <tr>\n",
       "      <th>320</th>\n",
       "      <td>854</td>\n",
       "      <td>0</td>\n",
       "      <td>528</td>\n",
       "      <td>1382</td>\n",
       "    </tr>\n",
       "    <tr>\n",
       "      <th>356</th>\n",
       "      <td>1013</td>\n",
       "      <td>0</td>\n",
       "      <td>513</td>\n",
       "      <td>1526</td>\n",
       "    </tr>\n",
       "    <tr>\n",
       "      <th>382</th>\n",
       "      <td>929</td>\n",
       "      <td>929</td>\n",
       "      <td>371</td>\n",
       "      <td>2229</td>\n",
       "    </tr>\n",
       "  </tbody>\n",
       "</table>\n",
       "</div>"
      ],
      "text/plain": [
       "     1st_flr_sf  2nd_flr_sf  low_qual_fin_sf  gr_liv_area\n",
       "249         640           0              205          845\n",
       "269         520         600               80         1200\n",
       "320         854           0              528         1382\n",
       "356        1013           0              513         1526\n",
       "382         929         929              371         2229"
      ]
     },
     "execution_count": 57,
     "metadata": {},
     "output_type": "execute_result"
    }
   ],
   "source": [
    "ames_df.loc[ames_df['low_qual_fin_sf']!= 0,['1st_flr_sf','2nd_flr_sf','low_qual_fin_sf','gr_liv_area']].head()"
   ]
  },
  {
   "cell_type": "markdown",
   "id": "1392b7b0",
   "metadata": {},
   "source": [
    "Since 'gr_liv_area' is the sum of '1st_flr_sf','2nd_flr_sf' & 'low_qual_fin_sf', we can drop the 3 columns and keep 'gr_liv_area'."
   ]
  },
  {
   "cell_type": "code",
   "execution_count": 58,
   "id": "812f776b",
   "metadata": {},
   "outputs": [],
   "source": [
    "#drop '1st_flr_sf','2nd_flr_sf' & 'low_qual_fin_sf' columns\n",
    "ames_df.drop(columns=['1st_flr_sf','2nd_flr_sf','low_qual_fin_sf'], inplace=True)"
   ]
  },
  {
   "cell_type": "code",
   "execution_count": 59,
   "id": "cc38e474",
   "metadata": {},
   "outputs": [
    {
     "data": {
      "text/plain": [
       "(2049, 70)"
      ]
     },
     "execution_count": 59,
     "metadata": {},
     "output_type": "execute_result"
    }
   ],
   "source": [
    "ames_df.shape"
   ]
  },
  {
   "cell_type": "markdown",
   "id": "f7dc276a",
   "metadata": {},
   "source": [
    "### ID & PID"
   ]
  },
  {
   "cell_type": "markdown",
   "id": "6f2a4dbf",
   "metadata": {},
   "source": [
    "'id' & 'pid' columns are dropped as they are identification numbers and are not likely to affect the sale price."
   ]
  },
  {
   "cell_type": "code",
   "execution_count": 60,
   "id": "ee6ce664",
   "metadata": {},
   "outputs": [],
   "source": [
    "#drop 'id' & 'pid' columns\n",
    "ames_df.drop(columns=['id','pid'], inplace=True)"
   ]
  },
  {
   "cell_type": "code",
   "execution_count": 61,
   "id": "ea7e0205",
   "metadata": {},
   "outputs": [
    {
     "data": {
      "text/plain": [
       "(2049, 68)"
      ]
     },
     "execution_count": 61,
     "metadata": {},
     "output_type": "execute_result"
    }
   ],
   "source": [
    "ames_df.shape"
   ]
  },
  {
   "cell_type": "code",
   "execution_count": 62,
   "id": "3c37d688",
   "metadata": {},
   "outputs": [],
   "source": [
    "#save train_dataframe to csv\n",
    "ames_df.to_csv('../data/df_train_cleaned.csv',index=False)"
   ]
  },
  {
   "cell_type": "code",
   "execution_count": null,
   "id": "926bf68b",
   "metadata": {},
   "outputs": [],
   "source": []
  }
 ],
 "metadata": {
  "kernelspec": {
   "display_name": "Python 3",
   "language": "python",
   "name": "python3"
  },
  "language_info": {
   "codemirror_mode": {
    "name": "ipython",
    "version": 3
   },
   "file_extension": ".py",
   "mimetype": "text/x-python",
   "name": "python",
   "nbconvert_exporter": "python",
   "pygments_lexer": "ipython3",
   "version": "3.8.8"
  }
 },
 "nbformat": 4,
 "nbformat_minor": 5
}
