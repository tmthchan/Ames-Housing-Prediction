{
 "cells": [
  {
   "cell_type": "markdown",
   "id": "ddfc5a5c",
   "metadata": {},
   "source": [
    "# Test Data Cleaning Part 2"
   ]
  },
  {
   "cell_type": "code",
   "execution_count": 1,
   "id": "0ec17ec3",
   "metadata": {},
   "outputs": [],
   "source": [
    "#import packages\n",
    "import numpy as np\n",
    "import seaborn as sns\n",
    "import matplotlib.pyplot as plt\n",
    "import pandas as pd\n",
    "\n",
    "%config InlineBackend.figure_format='retina'\n",
    "%matplotlib inline"
   ]
  },
  {
   "cell_type": "code",
   "execution_count": 2,
   "id": "5ee8162b",
   "metadata": {},
   "outputs": [
    {
     "data": {
      "text/html": [
       "<div>\n",
       "<style scoped>\n",
       "    .dataframe tbody tr th:only-of-type {\n",
       "        vertical-align: middle;\n",
       "    }\n",
       "\n",
       "    .dataframe tbody tr th {\n",
       "        vertical-align: top;\n",
       "    }\n",
       "\n",
       "    .dataframe thead th {\n",
       "        text-align: right;\n",
       "    }\n",
       "</style>\n",
       "<table border=\"1\" class=\"dataframe\">\n",
       "  <thead>\n",
       "    <tr style=\"text-align: right;\">\n",
       "      <th></th>\n",
       "      <th>id</th>\n",
       "      <th>pid</th>\n",
       "      <th>ms_subclass</th>\n",
       "      <th>ms_zoning</th>\n",
       "      <th>lot_frontage</th>\n",
       "      <th>lot_area</th>\n",
       "      <th>street</th>\n",
       "      <th>alley</th>\n",
       "      <th>lot_shape</th>\n",
       "      <th>land_contour</th>\n",
       "      <th>...</th>\n",
       "      <th>3ssn_porch</th>\n",
       "      <th>screen_porch</th>\n",
       "      <th>pool_area</th>\n",
       "      <th>pool_qc</th>\n",
       "      <th>fence</th>\n",
       "      <th>misc_feature</th>\n",
       "      <th>misc_val</th>\n",
       "      <th>mo_sold</th>\n",
       "      <th>yr_sold</th>\n",
       "      <th>sale_type</th>\n",
       "    </tr>\n",
       "  </thead>\n",
       "  <tbody>\n",
       "    <tr>\n",
       "      <th>0</th>\n",
       "      <td>2658</td>\n",
       "      <td>902301120</td>\n",
       "      <td>190</td>\n",
       "      <td>RM</td>\n",
       "      <td>69</td>\n",
       "      <td>9142</td>\n",
       "      <td>Pave</td>\n",
       "      <td>Grvl</td>\n",
       "      <td>Reg</td>\n",
       "      <td>Lvl</td>\n",
       "      <td>...</td>\n",
       "      <td>0</td>\n",
       "      <td>0</td>\n",
       "      <td>0</td>\n",
       "      <td>None</td>\n",
       "      <td>None</td>\n",
       "      <td>None</td>\n",
       "      <td>0</td>\n",
       "      <td>4</td>\n",
       "      <td>2006</td>\n",
       "      <td>WD</td>\n",
       "    </tr>\n",
       "    <tr>\n",
       "      <th>1</th>\n",
       "      <td>2718</td>\n",
       "      <td>905108090</td>\n",
       "      <td>90</td>\n",
       "      <td>RL</td>\n",
       "      <td>0</td>\n",
       "      <td>9662</td>\n",
       "      <td>Pave</td>\n",
       "      <td>None</td>\n",
       "      <td>IR1</td>\n",
       "      <td>Lvl</td>\n",
       "      <td>...</td>\n",
       "      <td>0</td>\n",
       "      <td>0</td>\n",
       "      <td>0</td>\n",
       "      <td>None</td>\n",
       "      <td>None</td>\n",
       "      <td>None</td>\n",
       "      <td>0</td>\n",
       "      <td>8</td>\n",
       "      <td>2006</td>\n",
       "      <td>WD</td>\n",
       "    </tr>\n",
       "    <tr>\n",
       "      <th>2</th>\n",
       "      <td>2414</td>\n",
       "      <td>528218130</td>\n",
       "      <td>60</td>\n",
       "      <td>RL</td>\n",
       "      <td>58</td>\n",
       "      <td>17104</td>\n",
       "      <td>Pave</td>\n",
       "      <td>None</td>\n",
       "      <td>IR1</td>\n",
       "      <td>Lvl</td>\n",
       "      <td>...</td>\n",
       "      <td>0</td>\n",
       "      <td>0</td>\n",
       "      <td>0</td>\n",
       "      <td>None</td>\n",
       "      <td>None</td>\n",
       "      <td>None</td>\n",
       "      <td>0</td>\n",
       "      <td>9</td>\n",
       "      <td>2006</td>\n",
       "      <td>New</td>\n",
       "    </tr>\n",
       "    <tr>\n",
       "      <th>3</th>\n",
       "      <td>1989</td>\n",
       "      <td>902207150</td>\n",
       "      <td>30</td>\n",
       "      <td>RM</td>\n",
       "      <td>60</td>\n",
       "      <td>8520</td>\n",
       "      <td>Pave</td>\n",
       "      <td>None</td>\n",
       "      <td>Reg</td>\n",
       "      <td>Lvl</td>\n",
       "      <td>...</td>\n",
       "      <td>0</td>\n",
       "      <td>0</td>\n",
       "      <td>0</td>\n",
       "      <td>None</td>\n",
       "      <td>None</td>\n",
       "      <td>None</td>\n",
       "      <td>0</td>\n",
       "      <td>7</td>\n",
       "      <td>2007</td>\n",
       "      <td>WD</td>\n",
       "    </tr>\n",
       "    <tr>\n",
       "      <th>4</th>\n",
       "      <td>625</td>\n",
       "      <td>535105100</td>\n",
       "      <td>20</td>\n",
       "      <td>RL</td>\n",
       "      <td>0</td>\n",
       "      <td>9500</td>\n",
       "      <td>Pave</td>\n",
       "      <td>None</td>\n",
       "      <td>IR1</td>\n",
       "      <td>Lvl</td>\n",
       "      <td>...</td>\n",
       "      <td>0</td>\n",
       "      <td>185</td>\n",
       "      <td>0</td>\n",
       "      <td>None</td>\n",
       "      <td>None</td>\n",
       "      <td>None</td>\n",
       "      <td>0</td>\n",
       "      <td>7</td>\n",
       "      <td>2009</td>\n",
       "      <td>WD</td>\n",
       "    </tr>\n",
       "  </tbody>\n",
       "</table>\n",
       "<p>5 rows × 80 columns</p>\n",
       "</div>"
      ],
      "text/plain": [
       "     id        pid  ms_subclass ms_zoning  lot_frontage  lot_area street  \\\n",
       "0  2658  902301120          190        RM            69      9142   Pave   \n",
       "1  2718  905108090           90        RL             0      9662   Pave   \n",
       "2  2414  528218130           60        RL            58     17104   Pave   \n",
       "3  1989  902207150           30        RM            60      8520   Pave   \n",
       "4   625  535105100           20        RL             0      9500   Pave   \n",
       "\n",
       "  alley lot_shape land_contour  ... 3ssn_porch screen_porch pool_area pool_qc  \\\n",
       "0  Grvl       Reg          Lvl  ...          0            0         0    None   \n",
       "1  None       IR1          Lvl  ...          0            0         0    None   \n",
       "2  None       IR1          Lvl  ...          0            0         0    None   \n",
       "3  None       Reg          Lvl  ...          0            0         0    None   \n",
       "4  None       IR1          Lvl  ...          0          185         0    None   \n",
       "\n",
       "  fence misc_feature misc_val mo_sold  yr_sold  sale_type  \n",
       "0  None         None        0       4     2006        WD   \n",
       "1  None         None        0       8     2006        WD   \n",
       "2  None         None        0       9     2006        New  \n",
       "3  None         None        0       7     2007        WD   \n",
       "4  None         None        0       7     2009        WD   \n",
       "\n",
       "[5 rows x 80 columns]"
      ]
     },
     "execution_count": 2,
     "metadata": {},
     "output_type": "execute_result"
    }
   ],
   "source": [
    "#load dataset\n",
    "ames_df = pd.read_csv('../data/ames_df_test.csv')\n",
    "ames_df.head()"
   ]
  },
  {
   "cell_type": "code",
   "execution_count": 3,
   "id": "a146ced3",
   "metadata": {},
   "outputs": [
    {
     "name": "stdout",
     "output_type": "stream",
     "text": [
      "<class 'pandas.core.frame.DataFrame'>\n",
      "RangeIndex: 878 entries, 0 to 877\n",
      "Data columns (total 80 columns):\n",
      " #   Column           Non-Null Count  Dtype  \n",
      "---  ------           --------------  -----  \n",
      " 0   id               878 non-null    int64  \n",
      " 1   pid              878 non-null    int64  \n",
      " 2   ms_subclass      878 non-null    int64  \n",
      " 3   ms_zoning        878 non-null    object \n",
      " 4   lot_frontage     878 non-null    int64  \n",
      " 5   lot_area         878 non-null    int64  \n",
      " 6   street           878 non-null    object \n",
      " 7   alley            878 non-null    object \n",
      " 8   lot_shape        878 non-null    object \n",
      " 9   land_contour     878 non-null    object \n",
      " 10  utilities        878 non-null    object \n",
      " 11  lot_config       878 non-null    object \n",
      " 12  land_slope       878 non-null    object \n",
      " 13  neighborhood     878 non-null    object \n",
      " 14  condition_1      878 non-null    object \n",
      " 15  condition_2      878 non-null    object \n",
      " 16  bldg_type        878 non-null    object \n",
      " 17  house_style      878 non-null    object \n",
      " 18  overall_qual     878 non-null    int64  \n",
      " 19  overall_cond     878 non-null    int64  \n",
      " 20  year_built       878 non-null    int64  \n",
      " 21  year_remod/add   878 non-null    int64  \n",
      " 22  roof_style       878 non-null    object \n",
      " 23  roof_matl        878 non-null    object \n",
      " 24  exterior_1st     878 non-null    object \n",
      " 25  exterior_2nd     878 non-null    object \n",
      " 26  mas_vnr_type     878 non-null    object \n",
      " 27  mas_vnr_area     878 non-null    float64\n",
      " 28  exter_qual       878 non-null    object \n",
      " 29  exter_cond       878 non-null    object \n",
      " 30  foundation       878 non-null    object \n",
      " 31  bsmt_qual        878 non-null    object \n",
      " 32  bsmt_cond        878 non-null    object \n",
      " 33  bsmt_exposure    878 non-null    object \n",
      " 34  bsmtfin_type_1   878 non-null    object \n",
      " 35  bsmtfin_sf_1     878 non-null    int64  \n",
      " 36  bsmtfin_type_2   878 non-null    object \n",
      " 37  bsmtfin_sf_2     878 non-null    int64  \n",
      " 38  bsmt_unf_sf      878 non-null    int64  \n",
      " 39  total_bsmt_sf    878 non-null    int64  \n",
      " 40  heating          878 non-null    object \n",
      " 41  heating_qc       878 non-null    object \n",
      " 42  central_air      878 non-null    object \n",
      " 43  electrical       878 non-null    object \n",
      " 44  1st_flr_sf       878 non-null    int64  \n",
      " 45  2nd_flr_sf       878 non-null    int64  \n",
      " 46  low_qual_fin_sf  878 non-null    int64  \n",
      " 47  gr_liv_area      878 non-null    int64  \n",
      " 48  bsmt_full_bath   878 non-null    int64  \n",
      " 49  bsmt_half_bath   878 non-null    int64  \n",
      " 50  full_bath        878 non-null    int64  \n",
      " 51  half_bath        878 non-null    int64  \n",
      " 52  bedroom_abvgr    878 non-null    int64  \n",
      " 53  kitchen_abvgr    878 non-null    int64  \n",
      " 54  kitchen_qual     878 non-null    object \n",
      " 55  totrms_abvgrd    878 non-null    int64  \n",
      " 56  functional       878 non-null    object \n",
      " 57  fireplaces       878 non-null    int64  \n",
      " 58  fireplace_qu     878 non-null    object \n",
      " 59  garage_type      878 non-null    object \n",
      " 60  garage_yr_blt    878 non-null    int64  \n",
      " 61  garage_finish    878 non-null    object \n",
      " 62  garage_cars      878 non-null    int64  \n",
      " 63  garage_area      878 non-null    int64  \n",
      " 64  garage_qual      878 non-null    object \n",
      " 65  garage_cond      878 non-null    object \n",
      " 66  paved_drive      878 non-null    object \n",
      " 67  wood_deck_sf     878 non-null    int64  \n",
      " 68  open_porch_sf    878 non-null    int64  \n",
      " 69  enclosed_porch   878 non-null    int64  \n",
      " 70  3ssn_porch       878 non-null    int64  \n",
      " 71  screen_porch     878 non-null    int64  \n",
      " 72  pool_area        878 non-null    int64  \n",
      " 73  pool_qc          878 non-null    object \n",
      " 74  fence            878 non-null    object \n",
      " 75  misc_feature     878 non-null    object \n",
      " 76  misc_val         878 non-null    int64  \n",
      " 77  mo_sold          878 non-null    int64  \n",
      " 78  yr_sold          878 non-null    int64  \n",
      " 79  sale_type        878 non-null    object \n",
      "dtypes: float64(1), int64(37), object(42)\n",
      "memory usage: 548.9+ KB\n"
     ]
    }
   ],
   "source": [
    "ames_df.info()"
   ]
  },
  {
   "cell_type": "markdown",
   "id": "57c3ee30",
   "metadata": {},
   "source": [
    "## Dropping unwanted columns and rows"
   ]
  },
  {
   "cell_type": "markdown",
   "id": "e843cf9f",
   "metadata": {},
   "source": [
    "### Basement Area"
   ]
  },
  {
   "cell_type": "code",
   "execution_count": 4,
   "id": "a4fdf996",
   "metadata": {},
   "outputs": [
    {
     "data": {
      "text/html": [
       "<div>\n",
       "<style scoped>\n",
       "    .dataframe tbody tr th:only-of-type {\n",
       "        vertical-align: middle;\n",
       "    }\n",
       "\n",
       "    .dataframe tbody tr th {\n",
       "        vertical-align: top;\n",
       "    }\n",
       "\n",
       "    .dataframe thead th {\n",
       "        text-align: right;\n",
       "    }\n",
       "</style>\n",
       "<table border=\"1\" class=\"dataframe\">\n",
       "  <thead>\n",
       "    <tr style=\"text-align: right;\">\n",
       "      <th></th>\n",
       "      <th>bsmtfin_sf_1</th>\n",
       "      <th>bsmtfin_sf_2</th>\n",
       "      <th>bsmt_unf_sf</th>\n",
       "      <th>total_bsmt_sf</th>\n",
       "    </tr>\n",
       "  </thead>\n",
       "  <tbody>\n",
       "    <tr>\n",
       "      <th>0</th>\n",
       "      <td>0</td>\n",
       "      <td>0</td>\n",
       "      <td>1020</td>\n",
       "      <td>1020</td>\n",
       "    </tr>\n",
       "    <tr>\n",
       "      <th>1</th>\n",
       "      <td>0</td>\n",
       "      <td>0</td>\n",
       "      <td>1967</td>\n",
       "      <td>1967</td>\n",
       "    </tr>\n",
       "    <tr>\n",
       "      <th>2</th>\n",
       "      <td>554</td>\n",
       "      <td>0</td>\n",
       "      <td>100</td>\n",
       "      <td>654</td>\n",
       "    </tr>\n",
       "    <tr>\n",
       "      <th>3</th>\n",
       "      <td>0</td>\n",
       "      <td>0</td>\n",
       "      <td>968</td>\n",
       "      <td>968</td>\n",
       "    </tr>\n",
       "    <tr>\n",
       "      <th>4</th>\n",
       "      <td>609</td>\n",
       "      <td>0</td>\n",
       "      <td>785</td>\n",
       "      <td>1394</td>\n",
       "    </tr>\n",
       "    <tr>\n",
       "      <th>5</th>\n",
       "      <td>294</td>\n",
       "      <td>0</td>\n",
       "      <td>252</td>\n",
       "      <td>546</td>\n",
       "    </tr>\n",
       "    <tr>\n",
       "      <th>6</th>\n",
       "      <td>0</td>\n",
       "      <td>0</td>\n",
       "      <td>869</td>\n",
       "      <td>869</td>\n",
       "    </tr>\n",
       "    <tr>\n",
       "      <th>7</th>\n",
       "      <td>196</td>\n",
       "      <td>0</td>\n",
       "      <td>1072</td>\n",
       "      <td>1268</td>\n",
       "    </tr>\n",
       "    <tr>\n",
       "      <th>8</th>\n",
       "      <td>0</td>\n",
       "      <td>0</td>\n",
       "      <td>840</td>\n",
       "      <td>840</td>\n",
       "    </tr>\n",
       "    <tr>\n",
       "      <th>9</th>\n",
       "      <td>641</td>\n",
       "      <td>279</td>\n",
       "      <td>276</td>\n",
       "      <td>1196</td>\n",
       "    </tr>\n",
       "  </tbody>\n",
       "</table>\n",
       "</div>"
      ],
      "text/plain": [
       "   bsmtfin_sf_1  bsmtfin_sf_2  bsmt_unf_sf  total_bsmt_sf\n",
       "0             0             0         1020           1020\n",
       "1             0             0         1967           1967\n",
       "2           554             0          100            654\n",
       "3             0             0          968            968\n",
       "4           609             0          785           1394\n",
       "5           294             0          252            546\n",
       "6             0             0          869            869\n",
       "7           196             0         1072           1268\n",
       "8             0             0          840            840\n",
       "9           641           279          276           1196"
      ]
     },
     "execution_count": 4,
     "metadata": {},
     "output_type": "execute_result"
    }
   ],
   "source": [
    "ames_df[['bsmtfin_sf_1','bsmtfin_sf_2','bsmt_unf_sf','total_bsmt_sf']].head(10)"
   ]
  },
  {
   "cell_type": "markdown",
   "id": "a7203d98",
   "metadata": {},
   "source": [
    "The sum of 'bsmtfin_sf_1','bsmtfin_sf_2' & 'bsmt_unf_sf' equals to 'total_bsmt_sf', therefore it would be better to drop these three columns and keep 'total_bsmt_sf'."
   ]
  },
  {
   "cell_type": "code",
   "execution_count": 5,
   "id": "1be4bdac",
   "metadata": {},
   "outputs": [],
   "source": [
    "#drop 'bsmtfin_sf_1','bsmtfin_sf_2','bsmt_unf_sf'\n",
    "ames_df.drop(columns=['bsmtfin_sf_1','bsmtfin_sf_2','bsmt_unf_sf'], inplace=True)"
   ]
  },
  {
   "cell_type": "code",
   "execution_count": 6,
   "id": "937f6dcc",
   "metadata": {},
   "outputs": [
    {
     "data": {
      "text/plain": [
       "(878, 77)"
      ]
     },
     "execution_count": 6,
     "metadata": {},
     "output_type": "execute_result"
    }
   ],
   "source": [
    "ames_df.shape"
   ]
  },
  {
   "cell_type": "markdown",
   "id": "a3cb18b8",
   "metadata": {},
   "source": [
    "### Garage Year"
   ]
  },
  {
   "cell_type": "code",
   "execution_count": 7,
   "id": "831b2daf",
   "metadata": {},
   "outputs": [
    {
     "data": {
      "text/html": [
       "<div>\n",
       "<style scoped>\n",
       "    .dataframe tbody tr th:only-of-type {\n",
       "        vertical-align: middle;\n",
       "    }\n",
       "\n",
       "    .dataframe tbody tr th {\n",
       "        vertical-align: top;\n",
       "    }\n",
       "\n",
       "    .dataframe thead th {\n",
       "        text-align: right;\n",
       "    }\n",
       "</style>\n",
       "<table border=\"1\" class=\"dataframe\">\n",
       "  <thead>\n",
       "    <tr style=\"text-align: right;\">\n",
       "      <th></th>\n",
       "      <th>garage_yr_blt</th>\n",
       "      <th>year_built</th>\n",
       "    </tr>\n",
       "  </thead>\n",
       "  <tbody>\n",
       "    <tr>\n",
       "      <th>0</th>\n",
       "      <td>1910</td>\n",
       "      <td>1910</td>\n",
       "    </tr>\n",
       "    <tr>\n",
       "      <th>1</th>\n",
       "      <td>1977</td>\n",
       "      <td>1977</td>\n",
       "    </tr>\n",
       "    <tr>\n",
       "      <th>2</th>\n",
       "      <td>2006</td>\n",
       "      <td>2006</td>\n",
       "    </tr>\n",
       "    <tr>\n",
       "      <th>3</th>\n",
       "      <td>1935</td>\n",
       "      <td>1923</td>\n",
       "    </tr>\n",
       "    <tr>\n",
       "      <th>4</th>\n",
       "      <td>1963</td>\n",
       "      <td>1963</td>\n",
       "    </tr>\n",
       "    <tr>\n",
       "      <th>5</th>\n",
       "      <td>1972</td>\n",
       "      <td>1972</td>\n",
       "    </tr>\n",
       "    <tr>\n",
       "      <th>6</th>\n",
       "      <td>1959</td>\n",
       "      <td>1958</td>\n",
       "    </tr>\n",
       "    <tr>\n",
       "      <th>7</th>\n",
       "      <td>1978</td>\n",
       "      <td>1977</td>\n",
       "    </tr>\n",
       "    <tr>\n",
       "      <th>8</th>\n",
       "      <td>2004</td>\n",
       "      <td>2004</td>\n",
       "    </tr>\n",
       "    <tr>\n",
       "      <th>9</th>\n",
       "      <td>1980</td>\n",
       "      <td>1977</td>\n",
       "    </tr>\n",
       "  </tbody>\n",
       "</table>\n",
       "</div>"
      ],
      "text/plain": [
       "   garage_yr_blt  year_built\n",
       "0           1910        1910\n",
       "1           1977        1977\n",
       "2           2006        2006\n",
       "3           1935        1923\n",
       "4           1963        1963\n",
       "5           1972        1972\n",
       "6           1959        1958\n",
       "7           1978        1977\n",
       "8           2004        2004\n",
       "9           1980        1977"
      ]
     },
     "execution_count": 7,
     "metadata": {},
     "output_type": "execute_result"
    }
   ],
   "source": [
    "ames_df[['garage_yr_blt','year_built']].head(10)"
   ]
  },
  {
   "cell_type": "markdown",
   "id": "6d5fdbe0",
   "metadata": {},
   "source": [
    "The columns 'garage_yr_blt' and 'year_built' are very similar, therefore it would be better to drop 'garage_year_blt'."
   ]
  },
  {
   "cell_type": "code",
   "execution_count": 8,
   "id": "82538fcd",
   "metadata": {},
   "outputs": [],
   "source": [
    "#drop 'garage_yr_blt' \n",
    "ames_df.drop(columns=['garage_yr_blt'], inplace=True)"
   ]
  },
  {
   "cell_type": "code",
   "execution_count": 9,
   "id": "4e57892a",
   "metadata": {},
   "outputs": [
    {
     "data": {
      "text/plain": [
       "(878, 76)"
      ]
     },
     "execution_count": 9,
     "metadata": {},
     "output_type": "execute_result"
    }
   ],
   "source": [
    "ames_df.shape"
   ]
  },
  {
   "cell_type": "markdown",
   "id": "1e81e775",
   "metadata": {},
   "source": [
    "### Above Ground Living Area"
   ]
  },
  {
   "cell_type": "code",
   "execution_count": 10,
   "id": "a65f094a",
   "metadata": {},
   "outputs": [
    {
     "data": {
      "text/html": [
       "<div>\n",
       "<style scoped>\n",
       "    .dataframe tbody tr th:only-of-type {\n",
       "        vertical-align: middle;\n",
       "    }\n",
       "\n",
       "    .dataframe tbody tr th {\n",
       "        vertical-align: top;\n",
       "    }\n",
       "\n",
       "    .dataframe thead th {\n",
       "        text-align: right;\n",
       "    }\n",
       "</style>\n",
       "<table border=\"1\" class=\"dataframe\">\n",
       "  <thead>\n",
       "    <tr style=\"text-align: right;\">\n",
       "      <th></th>\n",
       "      <th>1st_flr_sf</th>\n",
       "      <th>2nd_flr_sf</th>\n",
       "      <th>low_qual_fin_sf</th>\n",
       "      <th>gr_liv_area</th>\n",
       "    </tr>\n",
       "  </thead>\n",
       "  <tbody>\n",
       "    <tr>\n",
       "      <th>31</th>\n",
       "      <td>848</td>\n",
       "      <td>0</td>\n",
       "      <td>360</td>\n",
       "      <td>1208</td>\n",
       "    </tr>\n",
       "    <tr>\n",
       "      <th>89</th>\n",
       "      <td>1064</td>\n",
       "      <td>0</td>\n",
       "      <td>431</td>\n",
       "      <td>1495</td>\n",
       "    </tr>\n",
       "    <tr>\n",
       "      <th>124</th>\n",
       "      <td>954</td>\n",
       "      <td>795</td>\n",
       "      <td>481</td>\n",
       "      <td>2230</td>\n",
       "    </tr>\n",
       "    <tr>\n",
       "      <th>173</th>\n",
       "      <td>520</td>\n",
       "      <td>623</td>\n",
       "      <td>80</td>\n",
       "      <td>1223</td>\n",
       "    </tr>\n",
       "    <tr>\n",
       "      <th>234</th>\n",
       "      <td>1360</td>\n",
       "      <td>1360</td>\n",
       "      <td>392</td>\n",
       "      <td>3112</td>\n",
       "    </tr>\n",
       "  </tbody>\n",
       "</table>\n",
       "</div>"
      ],
      "text/plain": [
       "     1st_flr_sf  2nd_flr_sf  low_qual_fin_sf  gr_liv_area\n",
       "31          848           0              360         1208\n",
       "89         1064           0              431         1495\n",
       "124         954         795              481         2230\n",
       "173         520         623               80         1223\n",
       "234        1360        1360              392         3112"
      ]
     },
     "execution_count": 10,
     "metadata": {},
     "output_type": "execute_result"
    }
   ],
   "source": [
    "ames_df.loc[ames_df['low_qual_fin_sf']!= 0,['1st_flr_sf','2nd_flr_sf','low_qual_fin_sf','gr_liv_area']].head()"
   ]
  },
  {
   "cell_type": "markdown",
   "id": "f0b2c48d",
   "metadata": {},
   "source": [
    "Since 'gr_liv_area' is the sum of '1st_flr_sf','2nd_flr_sf' & 'low_qual_fin_sf', we can drop the 3 columns and keep 'gr_liv_area'."
   ]
  },
  {
   "cell_type": "code",
   "execution_count": 11,
   "id": "8f45dbc0",
   "metadata": {},
   "outputs": [],
   "source": [
    "#drop '1st_flr_sf','2nd_flr_sf' & 'low_qual_fin_sf' columns\n",
    "ames_df.drop(columns=['1st_flr_sf','2nd_flr_sf','low_qual_fin_sf'], inplace=True)"
   ]
  },
  {
   "cell_type": "code",
   "execution_count": 12,
   "id": "e85672a9",
   "metadata": {},
   "outputs": [
    {
     "data": {
      "text/plain": [
       "(878, 73)"
      ]
     },
     "execution_count": 12,
     "metadata": {},
     "output_type": "execute_result"
    }
   ],
   "source": [
    "ames_df.shape"
   ]
  },
  {
   "cell_type": "markdown",
   "id": "efb871c8",
   "metadata": {},
   "source": [
    "### ID & PID  "
   ]
  },
  {
   "cell_type": "markdown",
   "id": "7130b3b0",
   "metadata": {},
   "source": [
    "'ID' & 'PID' columns are dropped as they are identification numbers and are not likely to affect the sale price."
   ]
  },
  {
   "cell_type": "code",
   "execution_count": 13,
   "id": "1d4f996c",
   "metadata": {},
   "outputs": [],
   "source": [
    "#drop 'id' & 'pid' columns\n",
    "ames_df.drop(columns=['id','pid'], inplace=True)"
   ]
  },
  {
   "cell_type": "code",
   "execution_count": 14,
   "id": "fa85fb8a",
   "metadata": {},
   "outputs": [
    {
     "data": {
      "text/plain": [
       "(878, 71)"
      ]
     },
     "execution_count": 14,
     "metadata": {},
     "output_type": "execute_result"
    }
   ],
   "source": [
    "ames_df.shape"
   ]
  },
  {
   "cell_type": "markdown",
   "id": "64d359f7",
   "metadata": {},
   "source": [
    "### Convert Categorical Variables to Numeric"
   ]
  },
  {
   "cell_type": "code",
   "execution_count": 15,
   "id": "f6aa48cd",
   "metadata": {},
   "outputs": [],
   "source": [
    "#convert nominal variables to numeric using get_dummies\n",
    "ames_df = pd.get_dummies(columns=\n",
    "                    ['ms_subclass', 'ms_zoning','street', 'alley', 'land_contour', 'lot_config',\n",
    "                     'neighborhood', 'condition_1', 'condition_2', 'bldg_type', 'house_style',\n",
    "                     'roof_style', 'roof_matl', 'exterior_1st', 'exterior_2nd','mas_vnr_type','foundation',\n",
    "                     'heating', 'central_air', 'garage_type', 'misc_feature', 'sale_type'], data=ames_df)"
   ]
  },
  {
   "cell_type": "code",
   "execution_count": 16,
   "id": "93cc4840",
   "metadata": {},
   "outputs": [],
   "source": [
    "#replace str with numeric values for 'bsmt_qual', 'bsmt_cond', 'bsmt_exposure', 'bsmtfin_type_1', 'bsmtfin_type_2', \n",
    "#'fireplace_qu', 'garage_finish', 'garage_qual', 'garage_cond', 'pool_qc', 'fence'\n",
    "\n",
    "ames_df.bsmtfin_type_1 = ames_df.bsmtfin_type_1.map({'None': 0, 'Unf': 1, 'LwQ': 2, 'Rec': 3, 'BLQ': 4, 'ALQ': 5, 'GLQ': 6})\n",
    "\n",
    "ames_df.bsmtfin_type_2 = ames_df.bsmtfin_type_2.map({'None': 0, 'Unf': 1, 'LwQ': 2, 'Rec': 3, 'BLQ': 4, 'ALQ': 5, 'GLQ': 6})\n",
    "\n",
    "ames_df.bsmt_qual = ames_df.bsmt_qual.map({'None': 0, 'Po': 1, 'Fa': 2, 'TA': 3, 'Gd': 4, 'Ex': 5})\n",
    "\n",
    "ames_df.bsmt_cond = ames_df.bsmt_cond.map({'None': 0, 'Po': 1, 'Fa': 2, 'TA': 3, 'Gd': 4, 'Ex': 5})\n",
    "\n",
    "ames_df.bsmt_exposure = ames_df.bsmt_exposure.map({'None': 0, 'No': 1, 'Mn': 2, 'Av': 3, 'Gd': 4})\n",
    "\n",
    "ames_df.fireplace_qu = ames_df.fireplace_qu.map({'None': 0, 'Po': 1, 'Fa': 2, 'TA': 3, 'Gd': 4, 'Ex': 5})\n",
    "\n",
    "ames_df.garage_finish = ames_df.garage_finish.map({'None': 0, 'Unf': 1, 'RFn': 2, 'Fin': 3})\n",
    "\n",
    "ames_df.garage_qual = ames_df.garage_qual.map({'None': 0, 'Po': 1, 'Fa': 2, 'TA': 3, 'Gd': 4, 'Ex': 5})\n",
    "\n",
    "ames_df.garage_cond = ames_df.garage_cond.map({'None': 0, 'Po': 1, 'Fa': 2, 'TA': 3, 'Gd': 4, 'Ex': 5})\n",
    "\n",
    "ames_df.pool_qc = ames_df.pool_qc.map({'None': 0, 'Fa': 1, 'TA': 2, 'Gd': 3, 'Ex': 4})\n",
    "\n",
    "ames_df.fence = ames_df.fence.map({'None': 0, 'MnWw': 1, 'GdWo': 2, 'MnPrv': 3, 'GdPrv': 4})"
   ]
  },
  {
   "cell_type": "code",
   "execution_count": 17,
   "id": "a7f52ed5",
   "metadata": {},
   "outputs": [
    {
     "name": "stdout",
     "output_type": "stream",
     "text": [
      "<class 'pandas.core.frame.DataFrame'>\n",
      "RangeIndex: 878 entries, 0 to 877\n",
      "Columns: 214 entries, lot_frontage to sale_type_WD \n",
      "dtypes: float64(1), int64(38), object(10), uint8(165)\n",
      "memory usage: 477.7+ KB\n"
     ]
    }
   ],
   "source": [
    "ames_df.info()"
   ]
  },
  {
   "cell_type": "code",
   "execution_count": 18,
   "id": "04f67170",
   "metadata": {},
   "outputs": [],
   "source": [
    "#replace str with numeric values for 'lot_shape'\n",
    "ames_df.lot_shape = ames_df.lot_shape.map({'Reg': 1, 'IR1': 2, 'IR2': 3, 'IR3': 4})"
   ]
  },
  {
   "cell_type": "code",
   "execution_count": 19,
   "id": "c4b72e89",
   "metadata": {},
   "outputs": [
    {
     "data": {
      "text/plain": [
       "1    564\n",
       "2    286\n",
       "3     21\n",
       "4      7\n",
       "Name: lot_shape, dtype: int64"
      ]
     },
     "execution_count": 19,
     "metadata": {},
     "output_type": "execute_result"
    }
   ],
   "source": [
    "ames_df['lot_shape'].value_counts()"
   ]
  },
  {
   "cell_type": "code",
   "execution_count": 20,
   "id": "6e529f9e",
   "metadata": {},
   "outputs": [],
   "source": [
    "#replace str with numeric values for 'utilities'\n",
    "ames_df.utilities = ames_df.utilities.map({'ELO': 1, 'NoSeWa': 2, 'NoSewr': 3, 'AllPub': 4})"
   ]
  },
  {
   "cell_type": "code",
   "execution_count": 21,
   "id": "8b01ba35",
   "metadata": {},
   "outputs": [
    {
     "data": {
      "text/plain": [
       "4    877\n",
       "3      1\n",
       "Name: utilities, dtype: int64"
      ]
     },
     "execution_count": 21,
     "metadata": {},
     "output_type": "execute_result"
    }
   ],
   "source": [
    "ames_df['utilities'].value_counts()"
   ]
  },
  {
   "cell_type": "code",
   "execution_count": 22,
   "id": "879f1a81",
   "metadata": {},
   "outputs": [],
   "source": [
    "#replace str with numeric values for 'land_slope'\n",
    "ames_df.land_slope = ames_df.land_slope.map({'Gtl': 1, 'Mod': 2, 'Sev': 3})"
   ]
  },
  {
   "cell_type": "code",
   "execution_count": 23,
   "id": "82112931",
   "metadata": {},
   "outputs": [
    {
     "data": {
      "text/plain": [
       "1    835\n",
       "2     37\n",
       "3      6\n",
       "Name: land_slope, dtype: int64"
      ]
     },
     "execution_count": 23,
     "metadata": {},
     "output_type": "execute_result"
    }
   ],
   "source": [
    "ames_df['land_slope'].value_counts()"
   ]
  },
  {
   "cell_type": "code",
   "execution_count": 24,
   "id": "fb9fd5f7",
   "metadata": {},
   "outputs": [],
   "source": [
    "#replace str with numeric values for 'exter_qual'\n",
    "ames_df.exter_qual = ames_df.exter_qual.map({'Po': 1, 'Fa': 2, 'TA': 3, 'Gd': 4, 'Ex': 5})"
   ]
  },
  {
   "cell_type": "code",
   "execution_count": 25,
   "id": "8ee7444c",
   "metadata": {},
   "outputs": [
    {
     "data": {
      "text/plain": [
       "3    552\n",
       "4    292\n",
       "5     25\n",
       "2      9\n",
       "Name: exter_qual, dtype: int64"
      ]
     },
     "execution_count": 25,
     "metadata": {},
     "output_type": "execute_result"
    }
   ],
   "source": [
    "ames_df['exter_qual'].value_counts()"
   ]
  },
  {
   "cell_type": "code",
   "execution_count": 26,
   "id": "132218e6",
   "metadata": {},
   "outputs": [],
   "source": [
    "#replace str with numeric values for 'exter_cond'\n",
    "ames_df.exter_cond = ames_df.exter_cond.map({'Po': 1, 'Fa': 2, 'TA': 3, 'Gd': 4, 'Ex': 5})"
   ]
  },
  {
   "cell_type": "code",
   "execution_count": 27,
   "id": "2de1be14",
   "metadata": {},
   "outputs": [
    {
     "data": {
      "text/plain": [
       "3    770\n",
       "4     84\n",
       "2     18\n",
       "5      5\n",
       "1      1\n",
       "Name: exter_cond, dtype: int64"
      ]
     },
     "execution_count": 27,
     "metadata": {},
     "output_type": "execute_result"
    }
   ],
   "source": [
    "ames_df['exter_cond'].value_counts()"
   ]
  },
  {
   "cell_type": "code",
   "execution_count": 28,
   "id": "c06c555b",
   "metadata": {},
   "outputs": [],
   "source": [
    "#replace str with numeric values for 'heating_qc'\n",
    "ames_df.heating_qc = ames_df.heating_qc.map({'Po': 1, 'Fa': 2, 'TA': 3, 'Gd': 4, 'Ex': 5})"
   ]
  },
  {
   "cell_type": "code",
   "execution_count": 29,
   "id": "f8d740dd",
   "metadata": {},
   "outputs": [
    {
     "data": {
      "text/plain": [
       "5    429\n",
       "3    267\n",
       "4    157\n",
       "2     25\n",
       "Name: heating_qc, dtype: int64"
      ]
     },
     "execution_count": 29,
     "metadata": {},
     "output_type": "execute_result"
    }
   ],
   "source": [
    "ames_df['heating_qc'].value_counts()"
   ]
  },
  {
   "cell_type": "code",
   "execution_count": 30,
   "id": "ac36807b",
   "metadata": {},
   "outputs": [
    {
     "data": {
      "text/plain": [
       "5.0    813\n",
       "4.0     48\n",
       "3.0     15\n",
       "2.0      1\n",
       "Name: electrical, dtype: int64"
      ]
     },
     "execution_count": 30,
     "metadata": {},
     "output_type": "execute_result"
    }
   ],
   "source": [
    "#replace str with numeric values for 'electrical'\n",
    "ames_df.electrical = ames_df.electrical.map({'Mix': 1, 'FuseP': 2, 'FuseF': 3, 'FuseA': 4, 'SBrkr': 5})\n",
    "ames_df['electrical'].value_counts()"
   ]
  },
  {
   "cell_type": "code",
   "execution_count": 31,
   "id": "295c7296",
   "metadata": {},
   "outputs": [
    {
     "data": {
      "text/plain": [
       "5.0    813\n",
       "4.0     48\n",
       "3.0     15\n",
       "2.0      1\n",
       "Name: electrical, dtype: int64"
      ]
     },
     "execution_count": 31,
     "metadata": {},
     "output_type": "execute_result"
    }
   ],
   "source": [
    "#replace str with numeric values for 'kitchen_qual'\n",
    "ames_df.kitchen_qual = ames_df.kitchen_qual.map({'Po': 1, 'Fa': 2, 'TA': 3, 'Gd': 4, 'Ex': 5})\n",
    "ames_df['electrical'].value_counts()"
   ]
  },
  {
   "cell_type": "code",
   "execution_count": 32,
   "id": "89e1af76",
   "metadata": {},
   "outputs": [
    {
     "data": {
      "text/plain": [
       "8    812\n",
       "6     28\n",
       "7     23\n",
       "4      7\n",
       "5      6\n",
       "3      2\n",
       "Name: functional, dtype: int64"
      ]
     },
     "execution_count": 32,
     "metadata": {},
     "output_type": "execute_result"
    }
   ],
   "source": [
    "#replace str with numeric values for 'functional'\n",
    "ames_df.functional = ames_df.functional.map({'Sal': 1, 'Sev': 2, 'Maj2': 3, 'Maj1': 4, 'Mod': 5, 'Min2': 6, 'Min1': 7, 'Typ':8})\n",
    "ames_df['functional'].value_counts()"
   ]
  },
  {
   "cell_type": "code",
   "execution_count": 33,
   "id": "3466f0a8",
   "metadata": {},
   "outputs": [
    {
     "data": {
      "text/plain": [
       "3    790\n",
       "1     65\n",
       "2     23\n",
       "Name: paved_drive, dtype: int64"
      ]
     },
     "execution_count": 33,
     "metadata": {},
     "output_type": "execute_result"
    }
   ],
   "source": [
    "#replace str with numeric values for 'paved_drive'\n",
    "ames_df.paved_drive = ames_df.paved_drive.map({'N': 1, 'P': 2, 'Y': 3})\n",
    "ames_df['paved_drive'].value_counts()"
   ]
  },
  {
   "cell_type": "code",
   "execution_count": 34,
   "id": "99c25231",
   "metadata": {},
   "outputs": [
    {
     "name": "stdout",
     "output_type": "stream",
     "text": [
      "<class 'pandas.core.frame.DataFrame'>\n",
      "RangeIndex: 878 entries, 0 to 877\n",
      "Columns: 214 entries, lot_frontage to sale_type_WD \n",
      "dtypes: float64(2), int64(47), uint8(165)\n",
      "memory usage: 477.7 KB\n"
     ]
    }
   ],
   "source": [
    "#check for non-numeric dtypes\n",
    "ames_df.info()"
   ]
  },
  {
   "cell_type": "code",
   "execution_count": 35,
   "id": "1dc82b13",
   "metadata": {},
   "outputs": [
    {
     "data": {
      "text/plain": [
       "lot_frontage       0\n",
       "lot_area           0\n",
       "lot_shape          0\n",
       "utilities          0\n",
       "land_slope         0\n",
       "                  ..\n",
       "sale_type_ConLw    0\n",
       "sale_type_New      0\n",
       "sale_type_Oth      0\n",
       "sale_type_VWD      0\n",
       "sale_type_WD       0\n",
       "Length: 214, dtype: int64"
      ]
     },
     "execution_count": 35,
     "metadata": {},
     "output_type": "execute_result"
    }
   ],
   "source": [
    "ames_df.isnull().sum()"
   ]
  },
  {
   "cell_type": "markdown",
   "id": "262b4ddd",
   "metadata": {},
   "source": [
    "### Feature Engineering"
   ]
  },
  {
   "cell_type": "code",
   "execution_count": 36,
   "id": "c8299303",
   "metadata": {},
   "outputs": [],
   "source": [
    "#create new feature 'property_age'\n",
    "ames_df['property_age'] = ames_df['yr_sold'] - ames_df['year_built']"
   ]
  },
  {
   "cell_type": "code",
   "execution_count": 37,
   "id": "74a427b7",
   "metadata": {},
   "outputs": [
    {
     "data": {
      "text/html": [
       "<div>\n",
       "<style scoped>\n",
       "    .dataframe tbody tr th:only-of-type {\n",
       "        vertical-align: middle;\n",
       "    }\n",
       "\n",
       "    .dataframe tbody tr th {\n",
       "        vertical-align: top;\n",
       "    }\n",
       "\n",
       "    .dataframe thead th {\n",
       "        text-align: right;\n",
       "    }\n",
       "</style>\n",
       "<table border=\"1\" class=\"dataframe\">\n",
       "  <thead>\n",
       "    <tr style=\"text-align: right;\">\n",
       "      <th></th>\n",
       "      <th>property_age</th>\n",
       "      <th>yr_sold</th>\n",
       "      <th>year_built</th>\n",
       "    </tr>\n",
       "  </thead>\n",
       "  <tbody>\n",
       "    <tr>\n",
       "      <th>0</th>\n",
       "      <td>96</td>\n",
       "      <td>2006</td>\n",
       "      <td>1910</td>\n",
       "    </tr>\n",
       "    <tr>\n",
       "      <th>1</th>\n",
       "      <td>29</td>\n",
       "      <td>2006</td>\n",
       "      <td>1977</td>\n",
       "    </tr>\n",
       "    <tr>\n",
       "      <th>2</th>\n",
       "      <td>0</td>\n",
       "      <td>2006</td>\n",
       "      <td>2006</td>\n",
       "    </tr>\n",
       "    <tr>\n",
       "      <th>3</th>\n",
       "      <td>84</td>\n",
       "      <td>2007</td>\n",
       "      <td>1923</td>\n",
       "    </tr>\n",
       "    <tr>\n",
       "      <th>4</th>\n",
       "      <td>46</td>\n",
       "      <td>2009</td>\n",
       "      <td>1963</td>\n",
       "    </tr>\n",
       "  </tbody>\n",
       "</table>\n",
       "</div>"
      ],
      "text/plain": [
       "   property_age  yr_sold  year_built\n",
       "0            96     2006        1910\n",
       "1            29     2006        1977\n",
       "2             0     2006        2006\n",
       "3            84     2007        1923\n",
       "4            46     2009        1963"
      ]
     },
     "execution_count": 37,
     "metadata": {},
     "output_type": "execute_result"
    }
   ],
   "source": [
    "ames_df[['property_age','yr_sold','year_built']].head()"
   ]
  },
  {
   "cell_type": "code",
   "execution_count": 38,
   "id": "e5f2ca2a",
   "metadata": {},
   "outputs": [],
   "source": [
    "#save train_dataframe to csv\n",
    "ames_df.to_csv('../data/ames_df_dummied_test.csv',index=False)"
   ]
  },
  {
   "cell_type": "code",
   "execution_count": null,
   "id": "f803180d",
   "metadata": {},
   "outputs": [],
   "source": []
  }
 ],
 "metadata": {
  "kernelspec": {
   "display_name": "Python 3",
   "language": "python",
   "name": "python3"
  },
  "language_info": {
   "codemirror_mode": {
    "name": "ipython",
    "version": 3
   },
   "file_extension": ".py",
   "mimetype": "text/x-python",
   "name": "python",
   "nbconvert_exporter": "python",
   "pygments_lexer": "ipython3",
   "version": "3.8.8"
  }
 },
 "nbformat": 4,
 "nbformat_minor": 5
}
