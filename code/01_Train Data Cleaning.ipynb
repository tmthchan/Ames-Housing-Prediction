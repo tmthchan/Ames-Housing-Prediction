{
 "cells": [
  {
   "cell_type": "markdown",
   "id": "ae7b56b3",
   "metadata": {},
   "source": [
    "# 1. Data Cleaning"
   ]
  },
  {
   "cell_type": "code",
   "execution_count": 1,
   "id": "04822bcf",
   "metadata": {},
   "outputs": [],
   "source": [
    "#import packages\n",
    "import numpy as np\n",
    "import seaborn as sns\n",
    "import matplotlib.pyplot as plt\n",
    "import pandas as pd\n",
    "\n",
    "%matplotlib inline\n"
   ]
  },
  {
   "cell_type": "code",
   "execution_count": 2,
   "id": "64cff475",
   "metadata": {},
   "outputs": [
    {
     "data": {
      "text/html": [
       "<div>\n",
       "<style scoped>\n",
       "    .dataframe tbody tr th:only-of-type {\n",
       "        vertical-align: middle;\n",
       "    }\n",
       "\n",
       "    .dataframe tbody tr th {\n",
       "        vertical-align: top;\n",
       "    }\n",
       "\n",
       "    .dataframe thead th {\n",
       "        text-align: right;\n",
       "    }\n",
       "</style>\n",
       "<table border=\"1\" class=\"dataframe\">\n",
       "  <thead>\n",
       "    <tr style=\"text-align: right;\">\n",
       "      <th></th>\n",
       "      <th>Id</th>\n",
       "      <th>PID</th>\n",
       "      <th>MS SubClass</th>\n",
       "      <th>MS Zoning</th>\n",
       "      <th>Lot Frontage</th>\n",
       "      <th>Lot Area</th>\n",
       "      <th>Street</th>\n",
       "      <th>Alley</th>\n",
       "      <th>Lot Shape</th>\n",
       "      <th>Land Contour</th>\n",
       "      <th>...</th>\n",
       "      <th>Screen Porch</th>\n",
       "      <th>Pool Area</th>\n",
       "      <th>Pool QC</th>\n",
       "      <th>Fence</th>\n",
       "      <th>Misc Feature</th>\n",
       "      <th>Misc Val</th>\n",
       "      <th>Mo Sold</th>\n",
       "      <th>Yr Sold</th>\n",
       "      <th>Sale Type</th>\n",
       "      <th>SalePrice</th>\n",
       "    </tr>\n",
       "  </thead>\n",
       "  <tbody>\n",
       "    <tr>\n",
       "      <th>0</th>\n",
       "      <td>109</td>\n",
       "      <td>533352170</td>\n",
       "      <td>60</td>\n",
       "      <td>RL</td>\n",
       "      <td>NaN</td>\n",
       "      <td>13517</td>\n",
       "      <td>Pave</td>\n",
       "      <td>NaN</td>\n",
       "      <td>IR1</td>\n",
       "      <td>Lvl</td>\n",
       "      <td>...</td>\n",
       "      <td>0</td>\n",
       "      <td>0</td>\n",
       "      <td>NaN</td>\n",
       "      <td>NaN</td>\n",
       "      <td>NaN</td>\n",
       "      <td>0</td>\n",
       "      <td>3</td>\n",
       "      <td>2010</td>\n",
       "      <td>WD</td>\n",
       "      <td>130500</td>\n",
       "    </tr>\n",
       "    <tr>\n",
       "      <th>1</th>\n",
       "      <td>544</td>\n",
       "      <td>531379050</td>\n",
       "      <td>60</td>\n",
       "      <td>RL</td>\n",
       "      <td>43.0</td>\n",
       "      <td>11492</td>\n",
       "      <td>Pave</td>\n",
       "      <td>NaN</td>\n",
       "      <td>IR1</td>\n",
       "      <td>Lvl</td>\n",
       "      <td>...</td>\n",
       "      <td>0</td>\n",
       "      <td>0</td>\n",
       "      <td>NaN</td>\n",
       "      <td>NaN</td>\n",
       "      <td>NaN</td>\n",
       "      <td>0</td>\n",
       "      <td>4</td>\n",
       "      <td>2009</td>\n",
       "      <td>WD</td>\n",
       "      <td>220000</td>\n",
       "    </tr>\n",
       "    <tr>\n",
       "      <th>2</th>\n",
       "      <td>153</td>\n",
       "      <td>535304180</td>\n",
       "      <td>20</td>\n",
       "      <td>RL</td>\n",
       "      <td>68.0</td>\n",
       "      <td>7922</td>\n",
       "      <td>Pave</td>\n",
       "      <td>NaN</td>\n",
       "      <td>Reg</td>\n",
       "      <td>Lvl</td>\n",
       "      <td>...</td>\n",
       "      <td>0</td>\n",
       "      <td>0</td>\n",
       "      <td>NaN</td>\n",
       "      <td>NaN</td>\n",
       "      <td>NaN</td>\n",
       "      <td>0</td>\n",
       "      <td>1</td>\n",
       "      <td>2010</td>\n",
       "      <td>WD</td>\n",
       "      <td>109000</td>\n",
       "    </tr>\n",
       "    <tr>\n",
       "      <th>3</th>\n",
       "      <td>318</td>\n",
       "      <td>916386060</td>\n",
       "      <td>60</td>\n",
       "      <td>RL</td>\n",
       "      <td>73.0</td>\n",
       "      <td>9802</td>\n",
       "      <td>Pave</td>\n",
       "      <td>NaN</td>\n",
       "      <td>Reg</td>\n",
       "      <td>Lvl</td>\n",
       "      <td>...</td>\n",
       "      <td>0</td>\n",
       "      <td>0</td>\n",
       "      <td>NaN</td>\n",
       "      <td>NaN</td>\n",
       "      <td>NaN</td>\n",
       "      <td>0</td>\n",
       "      <td>4</td>\n",
       "      <td>2010</td>\n",
       "      <td>WD</td>\n",
       "      <td>174000</td>\n",
       "    </tr>\n",
       "    <tr>\n",
       "      <th>4</th>\n",
       "      <td>255</td>\n",
       "      <td>906425045</td>\n",
       "      <td>50</td>\n",
       "      <td>RL</td>\n",
       "      <td>82.0</td>\n",
       "      <td>14235</td>\n",
       "      <td>Pave</td>\n",
       "      <td>NaN</td>\n",
       "      <td>IR1</td>\n",
       "      <td>Lvl</td>\n",
       "      <td>...</td>\n",
       "      <td>0</td>\n",
       "      <td>0</td>\n",
       "      <td>NaN</td>\n",
       "      <td>NaN</td>\n",
       "      <td>NaN</td>\n",
       "      <td>0</td>\n",
       "      <td>3</td>\n",
       "      <td>2010</td>\n",
       "      <td>WD</td>\n",
       "      <td>138500</td>\n",
       "    </tr>\n",
       "  </tbody>\n",
       "</table>\n",
       "<p>5 rows × 81 columns</p>\n",
       "</div>"
      ],
      "text/plain": [
       "    Id        PID  MS SubClass MS Zoning  Lot Frontage  Lot Area Street Alley  \\\n",
       "0  109  533352170           60        RL           NaN     13517   Pave   NaN   \n",
       "1  544  531379050           60        RL          43.0     11492   Pave   NaN   \n",
       "2  153  535304180           20        RL          68.0      7922   Pave   NaN   \n",
       "3  318  916386060           60        RL          73.0      9802   Pave   NaN   \n",
       "4  255  906425045           50        RL          82.0     14235   Pave   NaN   \n",
       "\n",
       "  Lot Shape Land Contour  ... Screen Porch Pool Area Pool QC Fence  \\\n",
       "0       IR1          Lvl  ...            0         0     NaN   NaN   \n",
       "1       IR1          Lvl  ...            0         0     NaN   NaN   \n",
       "2       Reg          Lvl  ...            0         0     NaN   NaN   \n",
       "3       Reg          Lvl  ...            0         0     NaN   NaN   \n",
       "4       IR1          Lvl  ...            0         0     NaN   NaN   \n",
       "\n",
       "  Misc Feature Misc Val Mo Sold Yr Sold  Sale Type  SalePrice  \n",
       "0          NaN        0       3    2010        WD      130500  \n",
       "1          NaN        0       4    2009        WD      220000  \n",
       "2          NaN        0       1    2010        WD      109000  \n",
       "3          NaN        0       4    2010        WD      174000  \n",
       "4          NaN        0       3    2010        WD      138500  \n",
       "\n",
       "[5 rows x 81 columns]"
      ]
     },
     "execution_count": 2,
     "metadata": {},
     "output_type": "execute_result"
    }
   ],
   "source": [
    "#load dataset\n",
    "ames_df = pd.read_csv('../data/train.csv')\n",
    "ames_df.head()"
   ]
  },
  {
   "cell_type": "code",
   "execution_count": 3,
   "id": "7dbe5a42",
   "metadata": {},
   "outputs": [],
   "source": [
    "#convert column names to lower case\n",
    "ames_df.columns= ames_df.columns.str.lower()"
   ]
  },
  {
   "cell_type": "code",
   "execution_count": 4,
   "id": "8a5c602d",
   "metadata": {},
   "outputs": [
    {
     "data": {
      "text/html": [
       "<div>\n",
       "<style scoped>\n",
       "    .dataframe tbody tr th:only-of-type {\n",
       "        vertical-align: middle;\n",
       "    }\n",
       "\n",
       "    .dataframe tbody tr th {\n",
       "        vertical-align: top;\n",
       "    }\n",
       "\n",
       "    .dataframe thead th {\n",
       "        text-align: right;\n",
       "    }\n",
       "</style>\n",
       "<table border=\"1\" class=\"dataframe\">\n",
       "  <thead>\n",
       "    <tr style=\"text-align: right;\">\n",
       "      <th></th>\n",
       "      <th>id</th>\n",
       "      <th>pid</th>\n",
       "      <th>ms_subclass</th>\n",
       "      <th>ms_zoning</th>\n",
       "      <th>lot_frontage</th>\n",
       "      <th>lot_area</th>\n",
       "      <th>street</th>\n",
       "      <th>alley</th>\n",
       "      <th>lot_shape</th>\n",
       "      <th>land_contour</th>\n",
       "      <th>...</th>\n",
       "      <th>screen_porch</th>\n",
       "      <th>pool_area</th>\n",
       "      <th>pool_qc</th>\n",
       "      <th>fence</th>\n",
       "      <th>misc_feature</th>\n",
       "      <th>misc_val</th>\n",
       "      <th>mo_sold</th>\n",
       "      <th>yr_sold</th>\n",
       "      <th>sale_type</th>\n",
       "      <th>saleprice</th>\n",
       "    </tr>\n",
       "  </thead>\n",
       "  <tbody>\n",
       "    <tr>\n",
       "      <th>0</th>\n",
       "      <td>109</td>\n",
       "      <td>533352170</td>\n",
       "      <td>60</td>\n",
       "      <td>RL</td>\n",
       "      <td>NaN</td>\n",
       "      <td>13517</td>\n",
       "      <td>Pave</td>\n",
       "      <td>NaN</td>\n",
       "      <td>IR1</td>\n",
       "      <td>Lvl</td>\n",
       "      <td>...</td>\n",
       "      <td>0</td>\n",
       "      <td>0</td>\n",
       "      <td>NaN</td>\n",
       "      <td>NaN</td>\n",
       "      <td>NaN</td>\n",
       "      <td>0</td>\n",
       "      <td>3</td>\n",
       "      <td>2010</td>\n",
       "      <td>WD</td>\n",
       "      <td>130500</td>\n",
       "    </tr>\n",
       "    <tr>\n",
       "      <th>1</th>\n",
       "      <td>544</td>\n",
       "      <td>531379050</td>\n",
       "      <td>60</td>\n",
       "      <td>RL</td>\n",
       "      <td>43.0</td>\n",
       "      <td>11492</td>\n",
       "      <td>Pave</td>\n",
       "      <td>NaN</td>\n",
       "      <td>IR1</td>\n",
       "      <td>Lvl</td>\n",
       "      <td>...</td>\n",
       "      <td>0</td>\n",
       "      <td>0</td>\n",
       "      <td>NaN</td>\n",
       "      <td>NaN</td>\n",
       "      <td>NaN</td>\n",
       "      <td>0</td>\n",
       "      <td>4</td>\n",
       "      <td>2009</td>\n",
       "      <td>WD</td>\n",
       "      <td>220000</td>\n",
       "    </tr>\n",
       "    <tr>\n",
       "      <th>2</th>\n",
       "      <td>153</td>\n",
       "      <td>535304180</td>\n",
       "      <td>20</td>\n",
       "      <td>RL</td>\n",
       "      <td>68.0</td>\n",
       "      <td>7922</td>\n",
       "      <td>Pave</td>\n",
       "      <td>NaN</td>\n",
       "      <td>Reg</td>\n",
       "      <td>Lvl</td>\n",
       "      <td>...</td>\n",
       "      <td>0</td>\n",
       "      <td>0</td>\n",
       "      <td>NaN</td>\n",
       "      <td>NaN</td>\n",
       "      <td>NaN</td>\n",
       "      <td>0</td>\n",
       "      <td>1</td>\n",
       "      <td>2010</td>\n",
       "      <td>WD</td>\n",
       "      <td>109000</td>\n",
       "    </tr>\n",
       "    <tr>\n",
       "      <th>3</th>\n",
       "      <td>318</td>\n",
       "      <td>916386060</td>\n",
       "      <td>60</td>\n",
       "      <td>RL</td>\n",
       "      <td>73.0</td>\n",
       "      <td>9802</td>\n",
       "      <td>Pave</td>\n",
       "      <td>NaN</td>\n",
       "      <td>Reg</td>\n",
       "      <td>Lvl</td>\n",
       "      <td>...</td>\n",
       "      <td>0</td>\n",
       "      <td>0</td>\n",
       "      <td>NaN</td>\n",
       "      <td>NaN</td>\n",
       "      <td>NaN</td>\n",
       "      <td>0</td>\n",
       "      <td>4</td>\n",
       "      <td>2010</td>\n",
       "      <td>WD</td>\n",
       "      <td>174000</td>\n",
       "    </tr>\n",
       "    <tr>\n",
       "      <th>4</th>\n",
       "      <td>255</td>\n",
       "      <td>906425045</td>\n",
       "      <td>50</td>\n",
       "      <td>RL</td>\n",
       "      <td>82.0</td>\n",
       "      <td>14235</td>\n",
       "      <td>Pave</td>\n",
       "      <td>NaN</td>\n",
       "      <td>IR1</td>\n",
       "      <td>Lvl</td>\n",
       "      <td>...</td>\n",
       "      <td>0</td>\n",
       "      <td>0</td>\n",
       "      <td>NaN</td>\n",
       "      <td>NaN</td>\n",
       "      <td>NaN</td>\n",
       "      <td>0</td>\n",
       "      <td>3</td>\n",
       "      <td>2010</td>\n",
       "      <td>WD</td>\n",
       "      <td>138500</td>\n",
       "    </tr>\n",
       "  </tbody>\n",
       "</table>\n",
       "<p>5 rows × 81 columns</p>\n",
       "</div>"
      ],
      "text/plain": [
       "    id        pid  ms_subclass ms_zoning  lot_frontage  lot_area street alley  \\\n",
       "0  109  533352170           60        RL           NaN     13517   Pave   NaN   \n",
       "1  544  531379050           60        RL          43.0     11492   Pave   NaN   \n",
       "2  153  535304180           20        RL          68.0      7922   Pave   NaN   \n",
       "3  318  916386060           60        RL          73.0      9802   Pave   NaN   \n",
       "4  255  906425045           50        RL          82.0     14235   Pave   NaN   \n",
       "\n",
       "  lot_shape land_contour  ... screen_porch pool_area pool_qc fence  \\\n",
       "0       IR1          Lvl  ...            0         0     NaN   NaN   \n",
       "1       IR1          Lvl  ...            0         0     NaN   NaN   \n",
       "2       Reg          Lvl  ...            0         0     NaN   NaN   \n",
       "3       Reg          Lvl  ...            0         0     NaN   NaN   \n",
       "4       IR1          Lvl  ...            0         0     NaN   NaN   \n",
       "\n",
       "  misc_feature misc_val mo_sold yr_sold  sale_type  saleprice  \n",
       "0          NaN        0       3    2010        WD      130500  \n",
       "1          NaN        0       4    2009        WD      220000  \n",
       "2          NaN        0       1    2010        WD      109000  \n",
       "3          NaN        0       4    2010        WD      174000  \n",
       "4          NaN        0       3    2010        WD      138500  \n",
       "\n",
       "[5 rows x 81 columns]"
      ]
     },
     "execution_count": 4,
     "metadata": {},
     "output_type": "execute_result"
    }
   ],
   "source": [
    "#replace spaces in column names with _\n",
    "ames_df.columns = ames_df.columns.str.replace(' ', '_')\n",
    "ames_df.head()"
   ]
  },
  {
   "cell_type": "code",
   "execution_count": 5,
   "id": "34edf42f",
   "metadata": {},
   "outputs": [
    {
     "name": "stdout",
     "output_type": "stream",
     "text": [
      "<class 'pandas.core.frame.DataFrame'>\n",
      "RangeIndex: 2051 entries, 0 to 2050\n",
      "Data columns (total 81 columns):\n",
      " #   Column           Non-Null Count  Dtype  \n",
      "---  ------           --------------  -----  \n",
      " 0   id               2051 non-null   int64  \n",
      " 1   pid              2051 non-null   int64  \n",
      " 2   ms_subclass      2051 non-null   int64  \n",
      " 3   ms_zoning        2051 non-null   object \n",
      " 4   lot_frontage     1721 non-null   float64\n",
      " 5   lot_area         2051 non-null   int64  \n",
      " 6   street           2051 non-null   object \n",
      " 7   alley            140 non-null    object \n",
      " 8   lot_shape        2051 non-null   object \n",
      " 9   land_contour     2051 non-null   object \n",
      " 10  utilities        2051 non-null   object \n",
      " 11  lot_config       2051 non-null   object \n",
      " 12  land_slope       2051 non-null   object \n",
      " 13  neighborhood     2051 non-null   object \n",
      " 14  condition_1      2051 non-null   object \n",
      " 15  condition_2      2051 non-null   object \n",
      " 16  bldg_type        2051 non-null   object \n",
      " 17  house_style      2051 non-null   object \n",
      " 18  overall_qual     2051 non-null   int64  \n",
      " 19  overall_cond     2051 non-null   int64  \n",
      " 20  year_built       2051 non-null   int64  \n",
      " 21  year_remod/add   2051 non-null   int64  \n",
      " 22  roof_style       2051 non-null   object \n",
      " 23  roof_matl        2051 non-null   object \n",
      " 24  exterior_1st     2051 non-null   object \n",
      " 25  exterior_2nd     2051 non-null   object \n",
      " 26  mas_vnr_type     2029 non-null   object \n",
      " 27  mas_vnr_area     2029 non-null   float64\n",
      " 28  exter_qual       2051 non-null   object \n",
      " 29  exter_cond       2051 non-null   object \n",
      " 30  foundation       2051 non-null   object \n",
      " 31  bsmt_qual        1996 non-null   object \n",
      " 32  bsmt_cond        1996 non-null   object \n",
      " 33  bsmt_exposure    1993 non-null   object \n",
      " 34  bsmtfin_type_1   1996 non-null   object \n",
      " 35  bsmtfin_sf_1     2050 non-null   float64\n",
      " 36  bsmtfin_type_2   1995 non-null   object \n",
      " 37  bsmtfin_sf_2     2050 non-null   float64\n",
      " 38  bsmt_unf_sf      2050 non-null   float64\n",
      " 39  total_bsmt_sf    2050 non-null   float64\n",
      " 40  heating          2051 non-null   object \n",
      " 41  heating_qc       2051 non-null   object \n",
      " 42  central_air      2051 non-null   object \n",
      " 43  electrical       2051 non-null   object \n",
      " 44  1st_flr_sf       2051 non-null   int64  \n",
      " 45  2nd_flr_sf       2051 non-null   int64  \n",
      " 46  low_qual_fin_sf  2051 non-null   int64  \n",
      " 47  gr_liv_area      2051 non-null   int64  \n",
      " 48  bsmt_full_bath   2049 non-null   float64\n",
      " 49  bsmt_half_bath   2049 non-null   float64\n",
      " 50  full_bath        2051 non-null   int64  \n",
      " 51  half_bath        2051 non-null   int64  \n",
      " 52  bedroom_abvgr    2051 non-null   int64  \n",
      " 53  kitchen_abvgr    2051 non-null   int64  \n",
      " 54  kitchen_qual     2051 non-null   object \n",
      " 55  totrms_abvgrd    2051 non-null   int64  \n",
      " 56  functional       2051 non-null   object \n",
      " 57  fireplaces       2051 non-null   int64  \n",
      " 58  fireplace_qu     1051 non-null   object \n",
      " 59  garage_type      1938 non-null   object \n",
      " 60  garage_yr_blt    1937 non-null   float64\n",
      " 61  garage_finish    1937 non-null   object \n",
      " 62  garage_cars      2050 non-null   float64\n",
      " 63  garage_area      2050 non-null   float64\n",
      " 64  garage_qual      1937 non-null   object \n",
      " 65  garage_cond      1937 non-null   object \n",
      " 66  paved_drive      2051 non-null   object \n",
      " 67  wood_deck_sf     2051 non-null   int64  \n",
      " 68  open_porch_sf    2051 non-null   int64  \n",
      " 69  enclosed_porch   2051 non-null   int64  \n",
      " 70  3ssn_porch       2051 non-null   int64  \n",
      " 71  screen_porch     2051 non-null   int64  \n",
      " 72  pool_area        2051 non-null   int64  \n",
      " 73  pool_qc          9 non-null      object \n",
      " 74  fence            400 non-null    object \n",
      " 75  misc_feature     65 non-null     object \n",
      " 76  misc_val         2051 non-null   int64  \n",
      " 77  mo_sold          2051 non-null   int64  \n",
      " 78  yr_sold          2051 non-null   int64  \n",
      " 79  sale_type        2051 non-null   object \n",
      " 80  saleprice        2051 non-null   int64  \n",
      "dtypes: float64(11), int64(28), object(42)\n",
      "memory usage: 1.3+ MB\n"
     ]
    }
   ],
   "source": [
    "#look at the info\n",
    "ames_df.info()"
   ]
  },
  {
   "cell_type": "code",
   "execution_count": 6,
   "id": "3023096c",
   "metadata": {},
   "outputs": [
    {
     "data": {
      "text/plain": [
       "pool_qc           2042\n",
       "misc_feature      1986\n",
       "alley             1911\n",
       "fence             1651\n",
       "fireplace_qu      1000\n",
       "lot_frontage       330\n",
       "garage_finish      114\n",
       "garage_qual        114\n",
       "garage_yr_blt      114\n",
       "garage_cond        114\n",
       "garage_type        113\n",
       "bsmt_exposure       58\n",
       "bsmtfin_type_2      56\n",
       "bsmtfin_type_1      55\n",
       "bsmt_cond           55\n",
       "bsmt_qual           55\n",
       "mas_vnr_area        22\n",
       "mas_vnr_type        22\n",
       "bsmt_half_bath       2\n",
       "bsmt_full_bath       2\n",
       "garage_area          1\n",
       "total_bsmt_sf        1\n",
       "bsmt_unf_sf          1\n",
       "bsmtfin_sf_2         1\n",
       "bsmtfin_sf_1         1\n",
       "garage_cars          1\n",
       "mo_sold              0\n",
       "sale_type            0\n",
       "full_bath            0\n",
       "half_bath            0\n",
       "                  ... \n",
       "ms_zoning            0\n",
       "lot_area             0\n",
       "street               0\n",
       "lot_shape            0\n",
       "land_contour         0\n",
       "utilities            0\n",
       "lot_config           0\n",
       "land_slope           0\n",
       "neighborhood         0\n",
       "condition_1          0\n",
       "condition_2          0\n",
       "bldg_type            0\n",
       "house_style          0\n",
       "overall_cond         0\n",
       "2nd_flr_sf           0\n",
       "year_built           0\n",
       "year_remod/add       0\n",
       "roof_style           0\n",
       "roof_matl            0\n",
       "exterior_1st         0\n",
       "exterior_2nd         0\n",
       "exter_qual           0\n",
       "exter_cond           0\n",
       "foundation           0\n",
       "pid                  0\n",
       "heating_qc           0\n",
       "central_air          0\n",
       "electrical           0\n",
       "1st_flr_sf           0\n",
       "saleprice            0\n",
       "Length: 81, dtype: int64"
      ]
     },
     "execution_count": 6,
     "metadata": {},
     "output_type": "execute_result"
    }
   ],
   "source": [
    "#display number of null values for each variable\n",
    "pd.options.display.min_rows = 60\n",
    "ames_df.isnull().sum().sort_values(ascending=False)"
   ]
  },
  {
   "cell_type": "code",
   "execution_count": 7,
   "id": "34c92ca2",
   "metadata": {},
   "outputs": [
    {
     "data": {
      "text/plain": [
       "array([[ 20, 770],\n",
       "       [ 30, 101],\n",
       "       [ 40,   4],\n",
       "       [ 45,  11],\n",
       "       [ 50, 198],\n",
       "       [ 60, 394],\n",
       "       [ 70,  90],\n",
       "       [ 75,  16],\n",
       "       [ 80,  86],\n",
       "       [ 85,  28],\n",
       "       [ 90,  75],\n",
       "       [120, 132],\n",
       "       [150,   1],\n",
       "       [160,  88],\n",
       "       [180,  11],\n",
       "       [190,  46]], dtype=int64)"
      ]
     },
     "execution_count": 7,
     "metadata": {},
     "output_type": "execute_result"
    }
   ],
   "source": [
    "#view unique values of 'ms_subclass'\n",
    "np.array(np.unique(ames_df['ms_subclass'], return_counts=True)).T\n",
    "\n",
    "#'ms_subclass' does not show any unusual values "
   ]
  },
  {
   "cell_type": "code",
   "execution_count": 8,
   "id": "6c3924eb",
   "metadata": {},
   "outputs": [
    {
     "data": {
      "text/plain": [
       "array([['A (agr)', 2],\n",
       "       ['C (all)', 19],\n",
       "       ['FV', 101],\n",
       "       ['I (all)', 1],\n",
       "       ['RH', 14],\n",
       "       ['RL', 1598],\n",
       "       ['RM', 316]], dtype=object)"
      ]
     },
     "execution_count": 8,
     "metadata": {},
     "output_type": "execute_result"
    }
   ],
   "source": [
    "#view unique values of 'ms_zoning'\n",
    "np.array(np.unique(ames_df['ms_zoning'], return_counts=True)).T\n",
    "\n",
    "#ms_zoning does not show any unusual values"
   ]
  },
  {
   "cell_type": "code",
   "execution_count": 9,
   "id": "cc4061b0",
   "metadata": {},
   "outputs": [],
   "source": [
    "#convert nan values to 0 and convert 'lot_frontage' to int type\n",
    "ames_df['lot_frontage'] = ames_df['lot_frontage'].fillna(0).astype(int)"
   ]
  },
  {
   "cell_type": "markdown",
   "id": "40433ade",
   "metadata": {},
   "source": [
    "Since there are 330 null values in 'lot frontage', the cells are filled with the 0 value."
   ]
  },
  {
   "cell_type": "code",
   "execution_count": 10,
   "id": "58186b64",
   "metadata": {},
   "outputs": [
    {
     "data": {
      "text/html": [
       "<div>\n",
       "<style scoped>\n",
       "    .dataframe tbody tr th:only-of-type {\n",
       "        vertical-align: middle;\n",
       "    }\n",
       "\n",
       "    .dataframe tbody tr th {\n",
       "        vertical-align: top;\n",
       "    }\n",
       "\n",
       "    .dataframe thead th {\n",
       "        text-align: right;\n",
       "    }\n",
       "</style>\n",
       "<table border=\"1\" class=\"dataframe\">\n",
       "  <thead>\n",
       "    <tr style=\"text-align: right;\">\n",
       "      <th></th>\n",
       "      <th>id</th>\n",
       "      <th>pid</th>\n",
       "      <th>ms_subclass</th>\n",
       "      <th>ms_zoning</th>\n",
       "      <th>lot_frontage</th>\n",
       "      <th>lot_area</th>\n",
       "      <th>street</th>\n",
       "      <th>alley</th>\n",
       "      <th>lot_shape</th>\n",
       "      <th>land_contour</th>\n",
       "      <th>...</th>\n",
       "      <th>screen_porch</th>\n",
       "      <th>pool_area</th>\n",
       "      <th>pool_qc</th>\n",
       "      <th>fence</th>\n",
       "      <th>misc_feature</th>\n",
       "      <th>misc_val</th>\n",
       "      <th>mo_sold</th>\n",
       "      <th>yr_sold</th>\n",
       "      <th>sale_type</th>\n",
       "      <th>saleprice</th>\n",
       "    </tr>\n",
       "  </thead>\n",
       "  <tbody>\n",
       "    <tr>\n",
       "      <th>0</th>\n",
       "      <td>109</td>\n",
       "      <td>533352170</td>\n",
       "      <td>60</td>\n",
       "      <td>RL</td>\n",
       "      <td>0</td>\n",
       "      <td>13517</td>\n",
       "      <td>Pave</td>\n",
       "      <td>NaN</td>\n",
       "      <td>IR1</td>\n",
       "      <td>Lvl</td>\n",
       "      <td>...</td>\n",
       "      <td>0</td>\n",
       "      <td>0</td>\n",
       "      <td>NaN</td>\n",
       "      <td>NaN</td>\n",
       "      <td>NaN</td>\n",
       "      <td>0</td>\n",
       "      <td>3</td>\n",
       "      <td>2010</td>\n",
       "      <td>WD</td>\n",
       "      <td>130500</td>\n",
       "    </tr>\n",
       "    <tr>\n",
       "      <th>1</th>\n",
       "      <td>544</td>\n",
       "      <td>531379050</td>\n",
       "      <td>60</td>\n",
       "      <td>RL</td>\n",
       "      <td>43</td>\n",
       "      <td>11492</td>\n",
       "      <td>Pave</td>\n",
       "      <td>NaN</td>\n",
       "      <td>IR1</td>\n",
       "      <td>Lvl</td>\n",
       "      <td>...</td>\n",
       "      <td>0</td>\n",
       "      <td>0</td>\n",
       "      <td>NaN</td>\n",
       "      <td>NaN</td>\n",
       "      <td>NaN</td>\n",
       "      <td>0</td>\n",
       "      <td>4</td>\n",
       "      <td>2009</td>\n",
       "      <td>WD</td>\n",
       "      <td>220000</td>\n",
       "    </tr>\n",
       "    <tr>\n",
       "      <th>2</th>\n",
       "      <td>153</td>\n",
       "      <td>535304180</td>\n",
       "      <td>20</td>\n",
       "      <td>RL</td>\n",
       "      <td>68</td>\n",
       "      <td>7922</td>\n",
       "      <td>Pave</td>\n",
       "      <td>NaN</td>\n",
       "      <td>Reg</td>\n",
       "      <td>Lvl</td>\n",
       "      <td>...</td>\n",
       "      <td>0</td>\n",
       "      <td>0</td>\n",
       "      <td>NaN</td>\n",
       "      <td>NaN</td>\n",
       "      <td>NaN</td>\n",
       "      <td>0</td>\n",
       "      <td>1</td>\n",
       "      <td>2010</td>\n",
       "      <td>WD</td>\n",
       "      <td>109000</td>\n",
       "    </tr>\n",
       "    <tr>\n",
       "      <th>3</th>\n",
       "      <td>318</td>\n",
       "      <td>916386060</td>\n",
       "      <td>60</td>\n",
       "      <td>RL</td>\n",
       "      <td>73</td>\n",
       "      <td>9802</td>\n",
       "      <td>Pave</td>\n",
       "      <td>NaN</td>\n",
       "      <td>Reg</td>\n",
       "      <td>Lvl</td>\n",
       "      <td>...</td>\n",
       "      <td>0</td>\n",
       "      <td>0</td>\n",
       "      <td>NaN</td>\n",
       "      <td>NaN</td>\n",
       "      <td>NaN</td>\n",
       "      <td>0</td>\n",
       "      <td>4</td>\n",
       "      <td>2010</td>\n",
       "      <td>WD</td>\n",
       "      <td>174000</td>\n",
       "    </tr>\n",
       "    <tr>\n",
       "      <th>4</th>\n",
       "      <td>255</td>\n",
       "      <td>906425045</td>\n",
       "      <td>50</td>\n",
       "      <td>RL</td>\n",
       "      <td>82</td>\n",
       "      <td>14235</td>\n",
       "      <td>Pave</td>\n",
       "      <td>NaN</td>\n",
       "      <td>IR1</td>\n",
       "      <td>Lvl</td>\n",
       "      <td>...</td>\n",
       "      <td>0</td>\n",
       "      <td>0</td>\n",
       "      <td>NaN</td>\n",
       "      <td>NaN</td>\n",
       "      <td>NaN</td>\n",
       "      <td>0</td>\n",
       "      <td>3</td>\n",
       "      <td>2010</td>\n",
       "      <td>WD</td>\n",
       "      <td>138500</td>\n",
       "    </tr>\n",
       "  </tbody>\n",
       "</table>\n",
       "<p>5 rows × 81 columns</p>\n",
       "</div>"
      ],
      "text/plain": [
       "    id        pid  ms_subclass ms_zoning  lot_frontage  lot_area street alley  \\\n",
       "0  109  533352170           60        RL             0     13517   Pave   NaN   \n",
       "1  544  531379050           60        RL            43     11492   Pave   NaN   \n",
       "2  153  535304180           20        RL            68      7922   Pave   NaN   \n",
       "3  318  916386060           60        RL            73      9802   Pave   NaN   \n",
       "4  255  906425045           50        RL            82     14235   Pave   NaN   \n",
       "\n",
       "  lot_shape land_contour  ... screen_porch pool_area pool_qc fence  \\\n",
       "0       IR1          Lvl  ...            0         0     NaN   NaN   \n",
       "1       IR1          Lvl  ...            0         0     NaN   NaN   \n",
       "2       Reg          Lvl  ...            0         0     NaN   NaN   \n",
       "3       Reg          Lvl  ...            0         0     NaN   NaN   \n",
       "4       IR1          Lvl  ...            0         0     NaN   NaN   \n",
       "\n",
       "  misc_feature misc_val mo_sold yr_sold  sale_type  saleprice  \n",
       "0          NaN        0       3    2010        WD      130500  \n",
       "1          NaN        0       4    2009        WD      220000  \n",
       "2          NaN        0       1    2010        WD      109000  \n",
       "3          NaN        0       4    2010        WD      174000  \n",
       "4          NaN        0       3    2010        WD      138500  \n",
       "\n",
       "[5 rows x 81 columns]"
      ]
     },
     "execution_count": 10,
     "metadata": {},
     "output_type": "execute_result"
    }
   ],
   "source": [
    "ames_df.head()"
   ]
  },
  {
   "cell_type": "code",
   "execution_count": 11,
   "id": "2ec91432",
   "metadata": {},
   "outputs": [
    {
     "data": {
      "text/plain": [
       "array([[  1300,      1],\n",
       "       [  1470,      1],\n",
       "       [  1476,      1],\n",
       "       ...,\n",
       "       [ 70761,      1],\n",
       "       [115149,      1],\n",
       "       [159000,      1]], dtype=int64)"
      ]
     },
     "execution_count": 11,
     "metadata": {},
     "output_type": "execute_result"
    }
   ],
   "source": [
    "#checking for unusual values in 'lot_area'\n",
    "np.array(np.unique(ames_df['lot_area'], return_counts=True)).T\n",
    "\n",
    "#'lot_area' does not contain any unusual values"
   ]
  },
  {
   "cell_type": "code",
   "execution_count": 12,
   "id": "65ab9c03",
   "metadata": {},
   "outputs": [
    {
     "data": {
      "text/plain": [
       "array([['Grvl', 7],\n",
       "       ['Pave', 2044]], dtype=object)"
      ]
     },
     "execution_count": 12,
     "metadata": {},
     "output_type": "execute_result"
    }
   ],
   "source": [
    "#checking 'street' for unusual values\n",
    "np.array(np.unique(ames_df['street'], return_counts=True)).T\n",
    "\n",
    "#'street' does not contain any unusual values"
   ]
  },
  {
   "cell_type": "code",
   "execution_count": 13,
   "id": "abfcac21",
   "metadata": {},
   "outputs": [
    {
     "data": {
      "text/html": [
       "<div>\n",
       "<style scoped>\n",
       "    .dataframe tbody tr th:only-of-type {\n",
       "        vertical-align: middle;\n",
       "    }\n",
       "\n",
       "    .dataframe tbody tr th {\n",
       "        vertical-align: top;\n",
       "    }\n",
       "\n",
       "    .dataframe thead th {\n",
       "        text-align: right;\n",
       "    }\n",
       "</style>\n",
       "<table border=\"1\" class=\"dataframe\">\n",
       "  <thead>\n",
       "    <tr style=\"text-align: right;\">\n",
       "      <th></th>\n",
       "      <th>id</th>\n",
       "      <th>pid</th>\n",
       "      <th>ms_subclass</th>\n",
       "      <th>ms_zoning</th>\n",
       "      <th>lot_frontage</th>\n",
       "      <th>lot_area</th>\n",
       "      <th>street</th>\n",
       "      <th>alley</th>\n",
       "      <th>lot_shape</th>\n",
       "      <th>land_contour</th>\n",
       "      <th>...</th>\n",
       "      <th>screen_porch</th>\n",
       "      <th>pool_area</th>\n",
       "      <th>pool_qc</th>\n",
       "      <th>fence</th>\n",
       "      <th>misc_feature</th>\n",
       "      <th>misc_val</th>\n",
       "      <th>mo_sold</th>\n",
       "      <th>yr_sold</th>\n",
       "      <th>sale_type</th>\n",
       "      <th>saleprice</th>\n",
       "    </tr>\n",
       "  </thead>\n",
       "  <tbody>\n",
       "    <tr>\n",
       "      <th>0</th>\n",
       "      <td>109</td>\n",
       "      <td>533352170</td>\n",
       "      <td>60</td>\n",
       "      <td>RL</td>\n",
       "      <td>0</td>\n",
       "      <td>13517</td>\n",
       "      <td>Pave</td>\n",
       "      <td>NaN</td>\n",
       "      <td>IR1</td>\n",
       "      <td>Lvl</td>\n",
       "      <td>...</td>\n",
       "      <td>0</td>\n",
       "      <td>0</td>\n",
       "      <td>NaN</td>\n",
       "      <td>NaN</td>\n",
       "      <td>NaN</td>\n",
       "      <td>0</td>\n",
       "      <td>3</td>\n",
       "      <td>2010</td>\n",
       "      <td>WD</td>\n",
       "      <td>130500</td>\n",
       "    </tr>\n",
       "    <tr>\n",
       "      <th>1</th>\n",
       "      <td>544</td>\n",
       "      <td>531379050</td>\n",
       "      <td>60</td>\n",
       "      <td>RL</td>\n",
       "      <td>43</td>\n",
       "      <td>11492</td>\n",
       "      <td>Pave</td>\n",
       "      <td>NaN</td>\n",
       "      <td>IR1</td>\n",
       "      <td>Lvl</td>\n",
       "      <td>...</td>\n",
       "      <td>0</td>\n",
       "      <td>0</td>\n",
       "      <td>NaN</td>\n",
       "      <td>NaN</td>\n",
       "      <td>NaN</td>\n",
       "      <td>0</td>\n",
       "      <td>4</td>\n",
       "      <td>2009</td>\n",
       "      <td>WD</td>\n",
       "      <td>220000</td>\n",
       "    </tr>\n",
       "    <tr>\n",
       "      <th>2</th>\n",
       "      <td>153</td>\n",
       "      <td>535304180</td>\n",
       "      <td>20</td>\n",
       "      <td>RL</td>\n",
       "      <td>68</td>\n",
       "      <td>7922</td>\n",
       "      <td>Pave</td>\n",
       "      <td>NaN</td>\n",
       "      <td>Reg</td>\n",
       "      <td>Lvl</td>\n",
       "      <td>...</td>\n",
       "      <td>0</td>\n",
       "      <td>0</td>\n",
       "      <td>NaN</td>\n",
       "      <td>NaN</td>\n",
       "      <td>NaN</td>\n",
       "      <td>0</td>\n",
       "      <td>1</td>\n",
       "      <td>2010</td>\n",
       "      <td>WD</td>\n",
       "      <td>109000</td>\n",
       "    </tr>\n",
       "    <tr>\n",
       "      <th>3</th>\n",
       "      <td>318</td>\n",
       "      <td>916386060</td>\n",
       "      <td>60</td>\n",
       "      <td>RL</td>\n",
       "      <td>73</td>\n",
       "      <td>9802</td>\n",
       "      <td>Pave</td>\n",
       "      <td>NaN</td>\n",
       "      <td>Reg</td>\n",
       "      <td>Lvl</td>\n",
       "      <td>...</td>\n",
       "      <td>0</td>\n",
       "      <td>0</td>\n",
       "      <td>NaN</td>\n",
       "      <td>NaN</td>\n",
       "      <td>NaN</td>\n",
       "      <td>0</td>\n",
       "      <td>4</td>\n",
       "      <td>2010</td>\n",
       "      <td>WD</td>\n",
       "      <td>174000</td>\n",
       "    </tr>\n",
       "    <tr>\n",
       "      <th>4</th>\n",
       "      <td>255</td>\n",
       "      <td>906425045</td>\n",
       "      <td>50</td>\n",
       "      <td>RL</td>\n",
       "      <td>82</td>\n",
       "      <td>14235</td>\n",
       "      <td>Pave</td>\n",
       "      <td>NaN</td>\n",
       "      <td>IR1</td>\n",
       "      <td>Lvl</td>\n",
       "      <td>...</td>\n",
       "      <td>0</td>\n",
       "      <td>0</td>\n",
       "      <td>NaN</td>\n",
       "      <td>NaN</td>\n",
       "      <td>NaN</td>\n",
       "      <td>0</td>\n",
       "      <td>3</td>\n",
       "      <td>2010</td>\n",
       "      <td>WD</td>\n",
       "      <td>138500</td>\n",
       "    </tr>\n",
       "  </tbody>\n",
       "</table>\n",
       "<p>5 rows × 81 columns</p>\n",
       "</div>"
      ],
      "text/plain": [
       "    id        pid  ms_subclass ms_zoning  lot_frontage  lot_area street alley  \\\n",
       "0  109  533352170           60        RL             0     13517   Pave   NaN   \n",
       "1  544  531379050           60        RL            43     11492   Pave   NaN   \n",
       "2  153  535304180           20        RL            68      7922   Pave   NaN   \n",
       "3  318  916386060           60        RL            73      9802   Pave   NaN   \n",
       "4  255  906425045           50        RL            82     14235   Pave   NaN   \n",
       "\n",
       "  lot_shape land_contour  ... screen_porch pool_area pool_qc fence  \\\n",
       "0       IR1          Lvl  ...            0         0     NaN   NaN   \n",
       "1       IR1          Lvl  ...            0         0     NaN   NaN   \n",
       "2       Reg          Lvl  ...            0         0     NaN   NaN   \n",
       "3       Reg          Lvl  ...            0         0     NaN   NaN   \n",
       "4       IR1          Lvl  ...            0         0     NaN   NaN   \n",
       "\n",
       "  misc_feature misc_val mo_sold yr_sold  sale_type  saleprice  \n",
       "0          NaN        0       3    2010        WD      130500  \n",
       "1          NaN        0       4    2009        WD      220000  \n",
       "2          NaN        0       1    2010        WD      109000  \n",
       "3          NaN        0       4    2010        WD      174000  \n",
       "4          NaN        0       3    2010        WD      138500  \n",
       "\n",
       "[5 rows x 81 columns]"
      ]
     },
     "execution_count": 13,
     "metadata": {},
     "output_type": "execute_result"
    }
   ],
   "source": [
    "ames_df.head(5)"
   ]
  },
  {
   "cell_type": "code",
   "execution_count": 14,
   "id": "3f47e264",
   "metadata": {},
   "outputs": [],
   "source": [
    "#replace NaN with None for 'alley'\n",
    "ames_df['alley'] = ames_df['alley'].replace(np.nan,'None')"
   ]
  },
  {
   "cell_type": "code",
   "execution_count": 15,
   "id": "d35d9932",
   "metadata": {},
   "outputs": [
    {
     "data": {
      "text/html": [
       "<div>\n",
       "<style scoped>\n",
       "    .dataframe tbody tr th:only-of-type {\n",
       "        vertical-align: middle;\n",
       "    }\n",
       "\n",
       "    .dataframe tbody tr th {\n",
       "        vertical-align: top;\n",
       "    }\n",
       "\n",
       "    .dataframe thead th {\n",
       "        text-align: right;\n",
       "    }\n",
       "</style>\n",
       "<table border=\"1\" class=\"dataframe\">\n",
       "  <thead>\n",
       "    <tr style=\"text-align: right;\">\n",
       "      <th></th>\n",
       "      <th>id</th>\n",
       "      <th>pid</th>\n",
       "      <th>ms_subclass</th>\n",
       "      <th>ms_zoning</th>\n",
       "      <th>lot_frontage</th>\n",
       "      <th>lot_area</th>\n",
       "      <th>street</th>\n",
       "      <th>alley</th>\n",
       "      <th>lot_shape</th>\n",
       "      <th>land_contour</th>\n",
       "      <th>...</th>\n",
       "      <th>screen_porch</th>\n",
       "      <th>pool_area</th>\n",
       "      <th>pool_qc</th>\n",
       "      <th>fence</th>\n",
       "      <th>misc_feature</th>\n",
       "      <th>misc_val</th>\n",
       "      <th>mo_sold</th>\n",
       "      <th>yr_sold</th>\n",
       "      <th>sale_type</th>\n",
       "      <th>saleprice</th>\n",
       "    </tr>\n",
       "  </thead>\n",
       "  <tbody>\n",
       "    <tr>\n",
       "      <th>0</th>\n",
       "      <td>109</td>\n",
       "      <td>533352170</td>\n",
       "      <td>60</td>\n",
       "      <td>RL</td>\n",
       "      <td>0</td>\n",
       "      <td>13517</td>\n",
       "      <td>Pave</td>\n",
       "      <td>None</td>\n",
       "      <td>IR1</td>\n",
       "      <td>Lvl</td>\n",
       "      <td>...</td>\n",
       "      <td>0</td>\n",
       "      <td>0</td>\n",
       "      <td>NaN</td>\n",
       "      <td>NaN</td>\n",
       "      <td>NaN</td>\n",
       "      <td>0</td>\n",
       "      <td>3</td>\n",
       "      <td>2010</td>\n",
       "      <td>WD</td>\n",
       "      <td>130500</td>\n",
       "    </tr>\n",
       "    <tr>\n",
       "      <th>1</th>\n",
       "      <td>544</td>\n",
       "      <td>531379050</td>\n",
       "      <td>60</td>\n",
       "      <td>RL</td>\n",
       "      <td>43</td>\n",
       "      <td>11492</td>\n",
       "      <td>Pave</td>\n",
       "      <td>None</td>\n",
       "      <td>IR1</td>\n",
       "      <td>Lvl</td>\n",
       "      <td>...</td>\n",
       "      <td>0</td>\n",
       "      <td>0</td>\n",
       "      <td>NaN</td>\n",
       "      <td>NaN</td>\n",
       "      <td>NaN</td>\n",
       "      <td>0</td>\n",
       "      <td>4</td>\n",
       "      <td>2009</td>\n",
       "      <td>WD</td>\n",
       "      <td>220000</td>\n",
       "    </tr>\n",
       "    <tr>\n",
       "      <th>2</th>\n",
       "      <td>153</td>\n",
       "      <td>535304180</td>\n",
       "      <td>20</td>\n",
       "      <td>RL</td>\n",
       "      <td>68</td>\n",
       "      <td>7922</td>\n",
       "      <td>Pave</td>\n",
       "      <td>None</td>\n",
       "      <td>Reg</td>\n",
       "      <td>Lvl</td>\n",
       "      <td>...</td>\n",
       "      <td>0</td>\n",
       "      <td>0</td>\n",
       "      <td>NaN</td>\n",
       "      <td>NaN</td>\n",
       "      <td>NaN</td>\n",
       "      <td>0</td>\n",
       "      <td>1</td>\n",
       "      <td>2010</td>\n",
       "      <td>WD</td>\n",
       "      <td>109000</td>\n",
       "    </tr>\n",
       "    <tr>\n",
       "      <th>3</th>\n",
       "      <td>318</td>\n",
       "      <td>916386060</td>\n",
       "      <td>60</td>\n",
       "      <td>RL</td>\n",
       "      <td>73</td>\n",
       "      <td>9802</td>\n",
       "      <td>Pave</td>\n",
       "      <td>None</td>\n",
       "      <td>Reg</td>\n",
       "      <td>Lvl</td>\n",
       "      <td>...</td>\n",
       "      <td>0</td>\n",
       "      <td>0</td>\n",
       "      <td>NaN</td>\n",
       "      <td>NaN</td>\n",
       "      <td>NaN</td>\n",
       "      <td>0</td>\n",
       "      <td>4</td>\n",
       "      <td>2010</td>\n",
       "      <td>WD</td>\n",
       "      <td>174000</td>\n",
       "    </tr>\n",
       "    <tr>\n",
       "      <th>4</th>\n",
       "      <td>255</td>\n",
       "      <td>906425045</td>\n",
       "      <td>50</td>\n",
       "      <td>RL</td>\n",
       "      <td>82</td>\n",
       "      <td>14235</td>\n",
       "      <td>Pave</td>\n",
       "      <td>None</td>\n",
       "      <td>IR1</td>\n",
       "      <td>Lvl</td>\n",
       "      <td>...</td>\n",
       "      <td>0</td>\n",
       "      <td>0</td>\n",
       "      <td>NaN</td>\n",
       "      <td>NaN</td>\n",
       "      <td>NaN</td>\n",
       "      <td>0</td>\n",
       "      <td>3</td>\n",
       "      <td>2010</td>\n",
       "      <td>WD</td>\n",
       "      <td>138500</td>\n",
       "    </tr>\n",
       "  </tbody>\n",
       "</table>\n",
       "<p>5 rows × 81 columns</p>\n",
       "</div>"
      ],
      "text/plain": [
       "    id        pid  ms_subclass ms_zoning  lot_frontage  lot_area street alley  \\\n",
       "0  109  533352170           60        RL             0     13517   Pave  None   \n",
       "1  544  531379050           60        RL            43     11492   Pave  None   \n",
       "2  153  535304180           20        RL            68      7922   Pave  None   \n",
       "3  318  916386060           60        RL            73      9802   Pave  None   \n",
       "4  255  906425045           50        RL            82     14235   Pave  None   \n",
       "\n",
       "  lot_shape land_contour  ... screen_porch pool_area pool_qc fence  \\\n",
       "0       IR1          Lvl  ...            0         0     NaN   NaN   \n",
       "1       IR1          Lvl  ...            0         0     NaN   NaN   \n",
       "2       Reg          Lvl  ...            0         0     NaN   NaN   \n",
       "3       Reg          Lvl  ...            0         0     NaN   NaN   \n",
       "4       IR1          Lvl  ...            0         0     NaN   NaN   \n",
       "\n",
       "  misc_feature misc_val mo_sold yr_sold  sale_type  saleprice  \n",
       "0          NaN        0       3    2010        WD      130500  \n",
       "1          NaN        0       4    2009        WD      220000  \n",
       "2          NaN        0       1    2010        WD      109000  \n",
       "3          NaN        0       4    2010        WD      174000  \n",
       "4          NaN        0       3    2010        WD      138500  \n",
       "\n",
       "[5 rows x 81 columns]"
      ]
     },
     "execution_count": 15,
     "metadata": {},
     "output_type": "execute_result"
    }
   ],
   "source": [
    "ames_df.head()"
   ]
  },
  {
   "cell_type": "code",
   "execution_count": 16,
   "id": "27d07569",
   "metadata": {},
   "outputs": [
    {
     "data": {
      "text/plain": [
       "array([['Grvl', 85],\n",
       "       ['None', 1911],\n",
       "       ['Pave', 55]], dtype=object)"
      ]
     },
     "execution_count": 16,
     "metadata": {},
     "output_type": "execute_result"
    }
   ],
   "source": [
    "#check for replacement of NaN in 'alley'\n",
    "np.array(np.unique(ames_df['alley'], return_counts=True)).T"
   ]
  },
  {
   "cell_type": "code",
   "execution_count": 17,
   "id": "5a7464d2",
   "metadata": {},
   "outputs": [
    {
     "data": {
      "text/plain": [
       "array([['IR1', 692],\n",
       "       ['IR2', 55],\n",
       "       ['IR3', 9],\n",
       "       ['Reg', 1295]], dtype=object)"
      ]
     },
     "execution_count": 17,
     "metadata": {},
     "output_type": "execute_result"
    }
   ],
   "source": [
    "#check for unusual values in 'lot_shape'\n",
    "np.array(np.unique(ames_df['lot_shape'], return_counts=True)).T\n",
    "\n",
    "#no unusual values in 'lot_shape'"
   ]
  },
  {
   "cell_type": "code",
   "execution_count": 18,
   "id": "dc33c850",
   "metadata": {},
   "outputs": [
    {
     "data": {
      "text/plain": [
       "array([['Bnk', 80],\n",
       "       ['HLS', 85],\n",
       "       ['Low', 43],\n",
       "       ['Lvl', 1843]], dtype=object)"
      ]
     },
     "execution_count": 18,
     "metadata": {},
     "output_type": "execute_result"
    }
   ],
   "source": [
    "#check for unusual values in 'land_contour'\n",
    "np.array(np.unique(ames_df['land_contour'], return_counts=True)).T\n",
    "\n",
    "#no unusual values in 'land contour'"
   ]
  },
  {
   "cell_type": "code",
   "execution_count": 19,
   "id": "721c3882",
   "metadata": {},
   "outputs": [
    {
     "data": {
      "text/plain": [
       "array([['AllPub', 2049],\n",
       "       ['NoSeWa', 1],\n",
       "       ['NoSewr', 1]], dtype=object)"
      ]
     },
     "execution_count": 19,
     "metadata": {},
     "output_type": "execute_result"
    }
   ],
   "source": [
    "#check for unusual values in 'utilities'\n",
    "np.array(np.unique(ames_df['utilities'], return_counts=True)).T\n",
    "\n",
    "#no unusual values in 'utilities'"
   ]
  },
  {
   "cell_type": "code",
   "execution_count": 20,
   "id": "9575dab4",
   "metadata": {},
   "outputs": [
    {
     "data": {
      "text/plain": [
       "array([['Corner', 348],\n",
       "       ['CulDSac', 131],\n",
       "       ['FR2', 60],\n",
       "       ['FR3', 9],\n",
       "       ['Inside', 1503]], dtype=object)"
      ]
     },
     "execution_count": 20,
     "metadata": {},
     "output_type": "execute_result"
    }
   ],
   "source": [
    "#check for unusual values in 'lot_config'\n",
    "np.array(np.unique(ames_df['lot_config'], return_counts=True)).T\n",
    "\n",
    "#no unusual values in 'lot_config'"
   ]
  },
  {
   "cell_type": "code",
   "execution_count": 21,
   "id": "de8661cb",
   "metadata": {},
   "outputs": [
    {
     "data": {
      "text/plain": [
       "array([['Gtl', 1953],\n",
       "       ['Mod', 88],\n",
       "       ['Sev', 10]], dtype=object)"
      ]
     },
     "execution_count": 21,
     "metadata": {},
     "output_type": "execute_result"
    }
   ],
   "source": [
    "#check for unusual values in 'land slope'\n",
    "np.array(np.unique(ames_df['land_slope'], return_counts=True)).T\n",
    "\n",
    "#no unusual values in 'land slope'"
   ]
  },
  {
   "cell_type": "code",
   "execution_count": 22,
   "id": "35433e3d",
   "metadata": {},
   "outputs": [
    {
     "data": {
      "text/plain": [
       "array([['Blmngtn', 22],\n",
       "       ['Blueste', 6],\n",
       "       ['BrDale', 19],\n",
       "       ['BrkSide', 76],\n",
       "       ['ClearCr', 27],\n",
       "       ['CollgCr', 180],\n",
       "       ['Crawfor', 71],\n",
       "       ['Edwards', 143],\n",
       "       ['Gilbert', 116],\n",
       "       ['Greens', 3],\n",
       "       ['GrnHill', 2],\n",
       "       ['IDOTRR', 69],\n",
       "       ['Landmrk', 1],\n",
       "       ['MeadowV', 24],\n",
       "       ['Mitchel', 82],\n",
       "       ['NAmes', 310],\n",
       "       ['NPkVill', 17],\n",
       "       ['NWAmes', 87],\n",
       "       ['NoRidge', 48],\n",
       "       ['NridgHt', 122],\n",
       "       ['OldTown', 163],\n",
       "       ['SWISU', 32],\n",
       "       ['Sawyer', 111],\n",
       "       ['SawyerW', 87],\n",
       "       ['Somerst', 130],\n",
       "       ['StoneBr', 38],\n",
       "       ['Timber', 48],\n",
       "       ['Veenker', 17]], dtype=object)"
      ]
     },
     "execution_count": 22,
     "metadata": {},
     "output_type": "execute_result"
    }
   ],
   "source": [
    "#check for unusual values in 'neighborhood'\n",
    "np.array(np.unique(ames_df['neighborhood'], return_counts=True)).T\n",
    "\n",
    "#no unusual values in 'neighborhood'"
   ]
  },
  {
   "cell_type": "code",
   "execution_count": 23,
   "id": "c5709b2c",
   "metadata": {},
   "outputs": [
    {
     "data": {
      "text/plain": [
       "array([['Artery', 70],\n",
       "       ['Feedr', 109],\n",
       "       ['Norm', 1767],\n",
       "       ['PosA', 12],\n",
       "       ['PosN', 27],\n",
       "       ['RRAe', 21],\n",
       "       ['RRAn', 36],\n",
       "       ['RRNe', 3],\n",
       "       ['RRNn', 6]], dtype=object)"
      ]
     },
     "execution_count": 23,
     "metadata": {},
     "output_type": "execute_result"
    }
   ],
   "source": [
    "#check for unusual values in 'condition_1'\n",
    "np.array(np.unique(ames_df['condition_1'], return_counts=True)).T\n",
    "\n",
    "#no unusual values in 'condition_1'"
   ]
  },
  {
   "cell_type": "code",
   "execution_count": 24,
   "id": "957e7f5d",
   "metadata": {},
   "outputs": [
    {
     "data": {
      "text/plain": [
       "array([['Artery', 5],\n",
       "       ['Feedr', 11],\n",
       "       ['Norm', 2025],\n",
       "       ['PosA', 3],\n",
       "       ['PosN', 3],\n",
       "       ['RRAe', 1],\n",
       "       ['RRAn', 1],\n",
       "       ['RRNn', 2]], dtype=object)"
      ]
     },
     "execution_count": 24,
     "metadata": {},
     "output_type": "execute_result"
    }
   ],
   "source": [
    "#check for unusual values in 'condition_2'\n",
    "np.array(np.unique(ames_df['condition_2'], return_counts=True)).T\n",
    "\n",
    "#no unusual values in 'condition_2'"
   ]
  },
  {
   "cell_type": "code",
   "execution_count": 25,
   "id": "ba9bf1c7",
   "metadata": {},
   "outputs": [
    {
     "data": {
      "text/plain": [
       "array([['1Fam', 1700],\n",
       "       ['2fmCon', 46],\n",
       "       ['Duplex', 75],\n",
       "       ['Twnhs', 69],\n",
       "       ['TwnhsE', 161]], dtype=object)"
      ]
     },
     "execution_count": 25,
     "metadata": {},
     "output_type": "execute_result"
    }
   ],
   "source": [
    "#check for unusual values in 'bldg_type'\n",
    "np.array(np.unique(ames_df['bldg_type'], return_counts=True)).T\n",
    "\n",
    "#Twnhs should be replaced with TwnhsI in 'bldg_type'"
   ]
  },
  {
   "cell_type": "code",
   "execution_count": 26,
   "id": "884c7272",
   "metadata": {},
   "outputs": [],
   "source": [
    "#replace 'Twnhs' with 'TwnhsI'\n",
    "ames_df['bldg_type'] = ames_df['bldg_type'].replace('Twnhs','TwnhsI')"
   ]
  },
  {
   "cell_type": "code",
   "execution_count": 27,
   "id": "c343fbd8",
   "metadata": {},
   "outputs": [
    {
     "data": {
      "text/plain": [
       "array([['1Fam', 1700],\n",
       "       ['2fmCon', 46],\n",
       "       ['Duplex', 75],\n",
       "       ['TwnhsE', 161],\n",
       "       ['TwnhsI', 69]], dtype=object)"
      ]
     },
     "execution_count": 27,
     "metadata": {},
     "output_type": "execute_result"
    }
   ],
   "source": [
    "#check for unusual values in 'bldg_type'\n",
    "\n",
    "np.array(np.unique(ames_df['bldg_type'], return_counts=True)).T\n",
    "\n",
    "#no unusual values in 'bldg_type'"
   ]
  },
  {
   "cell_type": "code",
   "execution_count": 28,
   "id": "c519c380",
   "metadata": {},
   "outputs": [
    {
     "data": {
      "text/plain": [
       "array([['1.5Fin', 218],\n",
       "       ['1.5Unf', 12],\n",
       "       ['1Story', 1059],\n",
       "       ['2.5Fin', 6],\n",
       "       ['2.5Unf', 14],\n",
       "       ['2Story', 598],\n",
       "       ['SFoyer', 50],\n",
       "       ['SLvl', 94]], dtype=object)"
      ]
     },
     "execution_count": 28,
     "metadata": {},
     "output_type": "execute_result"
    }
   ],
   "source": [
    "#check for unusual values in 'house_style'\n",
    "np.array(np.unique(ames_df['house_style'], return_counts=True)).T\n",
    "\n",
    "#no unusual values in 'house_style'"
   ]
  },
  {
   "cell_type": "code",
   "execution_count": 29,
   "id": "0c18bf8a",
   "metadata": {},
   "outputs": [
    {
     "data": {
      "text/plain": [
       "array([[  1,   4],\n",
       "       [  2,   9],\n",
       "       [  3,  29],\n",
       "       [  4, 159],\n",
       "       [  5, 563],\n",
       "       [  6, 506],\n",
       "       [  7, 431],\n",
       "       [  8, 250],\n",
       "       [  9,  77],\n",
       "       [ 10,  23]], dtype=int64)"
      ]
     },
     "execution_count": 29,
     "metadata": {},
     "output_type": "execute_result"
    }
   ],
   "source": [
    "#check for unusual values in 'overall_qual'\n",
    "np.array(np.unique(ames_df['overall_qual'], return_counts=True)).T\n",
    "\n",
    "#no unusual values in 'overall_qual'"
   ]
  },
  {
   "cell_type": "code",
   "execution_count": 30,
   "id": "11ea05ba",
   "metadata": {},
   "outputs": [
    {
     "data": {
      "text/plain": [
       "array([[   1,    4],\n",
       "       [   2,    6],\n",
       "       [   3,   35],\n",
       "       [   4,   70],\n",
       "       [   5, 1168],\n",
       "       [   6,  368],\n",
       "       [   7,  270],\n",
       "       [   8,  101],\n",
       "       [   9,   29]], dtype=int64)"
      ]
     },
     "execution_count": 30,
     "metadata": {},
     "output_type": "execute_result"
    }
   ],
   "source": [
    "#check for unusual values in 'overall_cond'\n",
    "np.array(np.unique(ames_df['overall_cond'], return_counts=True)).T\n",
    "\n",
    "#no unusual values in 'overall_cond'"
   ]
  },
  {
   "cell_type": "code",
   "execution_count": 31,
   "id": "499d3fdc",
   "metadata": {},
   "outputs": [
    {
     "data": {
      "text/plain": [
       "array([[1872,    1],\n",
       "       [1875,    1],\n",
       "       [1879,    1],\n",
       "       [1880,    3],\n",
       "       [1885,    1],\n",
       "       [1890,    5],\n",
       "       [1892,    1],\n",
       "       [1893,    1],\n",
       "       [1895,    3],\n",
       "       [1896,    1],\n",
       "       [1898,    1],\n",
       "       [1900,   20],\n",
       "       [1901,    2],\n",
       "       [1905,    2],\n",
       "       [1908,    1],\n",
       "       [1910,   26],\n",
       "       [1911,    1],\n",
       "       [1912,    3],\n",
       "       [1913,    1],\n",
       "       [1914,    7],\n",
       "       [1915,   17],\n",
       "       [1916,    8],\n",
       "       [1917,    2],\n",
       "       [1918,    4],\n",
       "       [1919,    2],\n",
       "       [1920,   38],\n",
       "       [1921,    9],\n",
       "       [1922,   12],\n",
       "       [1923,   10],\n",
       "       [1924,   11],\n",
       "       [1925,   22],\n",
       "       [1926,   12],\n",
       "       [1927,    8],\n",
       "       [1928,    8],\n",
       "       [1929,    8],\n",
       "       [1930,   18],\n",
       "       [1931,    4],\n",
       "       [1932,    3],\n",
       "       [1934,    4],\n",
       "       [1935,    9],\n",
       "       [1936,    9],\n",
       "       [1937,    7],\n",
       "       [1938,    7],\n",
       "       [1939,   15],\n",
       "       [1940,   29],\n",
       "       [1941,   18],\n",
       "       [1942,    6],\n",
       "       [1945,   11],\n",
       "       [1946,    9],\n",
       "       [1947,    8],\n",
       "       [1948,   20],\n",
       "       [1949,   11],\n",
       "       [1950,   28],\n",
       "       [1951,   13],\n",
       "       [1952,   11],\n",
       "       [1953,   20],\n",
       "       [1954,   28],\n",
       "       [1955,   24],\n",
       "       [1956,   28],\n",
       "       [1957,   23],\n",
       "       [1958,   35],\n",
       "       [1959,   31],\n",
       "       [1960,   23],\n",
       "       [1961,   24],\n",
       "       [1962,   25],\n",
       "       [1963,   24],\n",
       "       [1964,   24],\n",
       "       [1965,   24],\n",
       "       [1966,   25],\n",
       "       [1967,   28],\n",
       "       [1968,   32],\n",
       "       [1969,   16],\n",
       "       [1970,   27],\n",
       "       [1971,   26],\n",
       "       [1972,   23],\n",
       "       [1973,   13],\n",
       "       [1974,   13],\n",
       "       [1975,   21],\n",
       "       [1976,   39],\n",
       "       [1977,   38],\n",
       "       [1978,   32],\n",
       "       [1979,   15],\n",
       "       [1980,   16],\n",
       "       [1981,    6],\n",
       "       [1982,    3],\n",
       "       [1983,    6],\n",
       "       [1984,   11],\n",
       "       [1985,    4],\n",
       "       [1986,    9],\n",
       "       [1987,    7],\n",
       "       [1988,   11],\n",
       "       [1989,    6],\n",
       "       [1990,   16],\n",
       "       [1991,    5],\n",
       "       [1992,   21],\n",
       "       [1993,   27],\n",
       "       [1994,   26],\n",
       "       [1995,   25],\n",
       "       [1996,   24],\n",
       "       [1997,   20],\n",
       "       [1998,   35],\n",
       "       [1999,   37],\n",
       "       [2000,   36],\n",
       "       [2001,   24],\n",
       "       [2002,   36],\n",
       "       [2003,   64],\n",
       "       [2004,   72],\n",
       "       [2005,  102],\n",
       "       [2006,   99],\n",
       "       [2007,   78],\n",
       "       [2008,   36],\n",
       "       [2009,   14],\n",
       "       [2010,    1]], dtype=int64)"
      ]
     },
     "execution_count": 31,
     "metadata": {},
     "output_type": "execute_result"
    }
   ],
   "source": [
    "#check for unusual values in 'year_built'\n",
    "np.array(np.unique(ames_df['year_built'], return_counts=True)).T\n",
    "\n",
    "#no unusual values in 'year_built'"
   ]
  },
  {
   "cell_type": "code",
   "execution_count": 32,
   "id": "d7e5f72d",
   "metadata": {},
   "outputs": [
    {
     "data": {
      "text/plain": [
       "array([[1950,  262],\n",
       "       [1951,   10],\n",
       "       [1952,    9],\n",
       "       [1953,   18],\n",
       "       [1954,   17],\n",
       "       [1955,   18],\n",
       "       [1956,   22],\n",
       "       [1957,   15],\n",
       "       [1958,   28],\n",
       "       [1959,   21],\n",
       "       [1960,   20],\n",
       "       [1961,   17],\n",
       "       [1962,   20],\n",
       "       [1963,   19],\n",
       "       [1964,   17],\n",
       "       [1965,   18],\n",
       "       [1966,   19],\n",
       "       [1967,   22],\n",
       "       [1968,   28],\n",
       "       [1969,   16],\n",
       "       [1970,   31],\n",
       "       [1971,   18],\n",
       "       [1972,   21],\n",
       "       [1973,   13],\n",
       "       [1974,   10],\n",
       "       [1975,   26],\n",
       "       [1976,   32],\n",
       "       [1977,   31],\n",
       "       [1978,   30],\n",
       "       [1979,   16],\n",
       "       [1980,   20],\n",
       "       [1981,    6],\n",
       "       [1982,    3],\n",
       "       [1983,    7],\n",
       "       [1984,   12],\n",
       "       [1985,    9],\n",
       "       [1986,    9],\n",
       "       [1987,   12],\n",
       "       [1988,   12],\n",
       "       [1989,   14],\n",
       "       [1990,   23],\n",
       "       [1991,   19],\n",
       "       [1992,   19],\n",
       "       [1993,   33],\n",
       "       [1994,   41],\n",
       "       [1995,   38],\n",
       "       [1996,   42],\n",
       "       [1997,   29],\n",
       "       [1998,   51],\n",
       "       [1999,   46],\n",
       "       [2000,   69],\n",
       "       [2001,   35],\n",
       "       [2002,   59],\n",
       "       [2003,   68],\n",
       "       [2004,   83],\n",
       "       [2005,  100],\n",
       "       [2006,  139],\n",
       "       [2007,  123],\n",
       "       [2008,   55],\n",
       "       [2009,   23],\n",
       "       [2010,    8]], dtype=int64)"
      ]
     },
     "execution_count": 32,
     "metadata": {},
     "output_type": "execute_result"
    }
   ],
   "source": [
    "#check for unusual values in 'year_remod/add'\n",
    "np.array(np.unique(ames_df['year_remod/add'], return_counts=True)).T\n",
    "\n",
    "#no unusual values in 'year_remod/add'"
   ]
  },
  {
   "cell_type": "code",
   "execution_count": 33,
   "id": "82bd656d",
   "metadata": {},
   "outputs": [
    {
     "data": {
      "text/plain": [
       "array([['Flat', 13],\n",
       "       ['Gable', 1619],\n",
       "       ['Gambrel', 12],\n",
       "       ['Hip', 397],\n",
       "       ['Mansard', 7],\n",
       "       ['Shed', 3]], dtype=object)"
      ]
     },
     "execution_count": 33,
     "metadata": {},
     "output_type": "execute_result"
    }
   ],
   "source": [
    "#check for unusual values in 'roof_style'\n",
    "np.array(np.unique(ames_df['roof_style'], return_counts=True)).T\n",
    "\n",
    "#no unusual values in 'roof_style'"
   ]
  },
  {
   "cell_type": "code",
   "execution_count": 34,
   "id": "2e7496a3",
   "metadata": {},
   "outputs": [
    {
     "data": {
      "text/plain": [
       "array([['ClyTile', 1],\n",
       "       ['CompShg', 2025],\n",
       "       ['Membran', 1],\n",
       "       ['Tar&Grv', 15],\n",
       "       ['WdShake', 4],\n",
       "       ['WdShngl', 5]], dtype=object)"
      ]
     },
     "execution_count": 34,
     "metadata": {},
     "output_type": "execute_result"
    }
   ],
   "source": [
    "#check for unusual values in 'roof_matl'\n",
    "np.array(np.unique(ames_df['roof_matl'], return_counts=True)).T\n",
    "\n",
    "#no unusual values in 'roof_matl'"
   ]
  },
  {
   "cell_type": "code",
   "execution_count": 35,
   "id": "67b02ae4",
   "metadata": {},
   "outputs": [
    {
     "data": {
      "text/plain": [
       "array([['AsbShng', 33],\n",
       "       ['AsphShn', 1],\n",
       "       ['BrkComm', 3],\n",
       "       ['BrkFace', 64],\n",
       "       ['CBlock', 2],\n",
       "       ['CemntBd', 90],\n",
       "       ['HdBoard', 300],\n",
       "       ['ImStucc', 1],\n",
       "       ['MetalSd', 331],\n",
       "       ['Plywood', 152],\n",
       "       ['Stone', 2],\n",
       "       ['Stucco', 27],\n",
       "       ['VinylSd', 724],\n",
       "       ['Wd Sdng', 276],\n",
       "       ['WdShing', 45]], dtype=object)"
      ]
     },
     "execution_count": 35,
     "metadata": {},
     "output_type": "execute_result"
    }
   ],
   "source": [
    "#check for unusual values in 'exterior_1st'\n",
    "np.array(np.unique(ames_df['exterior_1st'], return_counts=True)).T\n",
    "\n",
    "#no unusual values in 'exterior_1st'"
   ]
  },
  {
   "cell_type": "code",
   "execution_count": 36,
   "id": "f8d85eeb",
   "metadata": {},
   "outputs": [
    {
     "data": {
      "text/plain": [
       "array([['AsbShng', 28],\n",
       "       ['AsphShn', 3],\n",
       "       ['Brk Cmn', 17],\n",
       "       ['BrkFace', 34],\n",
       "       ['CBlock', 2],\n",
       "       ['CmentBd', 90],\n",
       "       ['HdBoard', 275],\n",
       "       ['ImStucc', 11],\n",
       "       ['MetalSd', 324],\n",
       "       ['Plywood', 185],\n",
       "       ['Stone', 6],\n",
       "       ['Stucco', 30],\n",
       "       ['VinylSd', 721],\n",
       "       ['Wd Sdng', 262],\n",
       "       ['Wd Shng', 63]], dtype=object)"
      ]
     },
     "execution_count": 36,
     "metadata": {},
     "output_type": "execute_result"
    }
   ],
   "source": [
    "#check for unusual values in 'exterior_2nd'\n",
    "np.array(np.unique(ames_df['exterior_2nd'], return_counts=True)).T\n",
    "\n",
    "#no unusual values in 'exterior_2nd'"
   ]
  },
  {
   "cell_type": "code",
   "execution_count": 37,
   "id": "a6c06c12",
   "metadata": {},
   "outputs": [],
   "source": [
    "#fill empty cells in 'mas_vnr_type' column with 'None'\n",
    "ames_df['mas_vnr_type'].fillna('None', inplace = True)"
   ]
  },
  {
   "cell_type": "code",
   "execution_count": 38,
   "id": "0826ba69",
   "metadata": {},
   "outputs": [
    {
     "data": {
      "text/plain": [
       "array([['BrkCmn', 13],\n",
       "       ['BrkFace', 630],\n",
       "       ['None', 1240],\n",
       "       ['Stone', 168]], dtype=object)"
      ]
     },
     "execution_count": 38,
     "metadata": {},
     "output_type": "execute_result"
    }
   ],
   "source": [
    "#check for unusual values in 'mas_vnr_type'\n",
    "np.array(np.unique(ames_df['mas_vnr_type'], return_counts=True)).T\n",
    "\n",
    "#no unusual values in 'mas_vnr_type'"
   ]
  },
  {
   "cell_type": "code",
   "execution_count": 39,
   "id": "36fb9999",
   "metadata": {},
   "outputs": [
    {
     "data": {
      "text/plain": [
       "array([[0.000e+00, 1.216e+03],\n",
       "       [1.000e+00, 3.000e+00],\n",
       "       [3.000e+00, 1.000e+00],\n",
       "       [1.400e+01, 2.000e+00],\n",
       "       [1.600e+01, 9.000e+00],\n",
       "       [1.800e+01, 2.000e+00],\n",
       "       [2.000e+01, 2.000e+00],\n",
       "       [2.200e+01, 2.000e+00],\n",
       "       [2.300e+01, 3.000e+00],\n",
       "       [2.400e+01, 2.000e+00],\n",
       "       [2.700e+01, 1.000e+00],\n",
       "       [2.800e+01, 2.000e+00],\n",
       "       [3.000e+01, 4.000e+00],\n",
       "       [3.100e+01, 1.000e+00],\n",
       "       [3.200e+01, 3.000e+00],\n",
       "       [3.600e+01, 2.000e+00],\n",
       "       [3.800e+01, 2.000e+00],\n",
       "       [3.900e+01, 1.000e+00],\n",
       "       [4.000e+01, 8.000e+00],\n",
       "       [4.100e+01, 3.000e+00],\n",
       "       [4.200e+01, 3.000e+00],\n",
       "       [4.400e+01, 5.000e+00],\n",
       "       [4.500e+01, 1.000e+00],\n",
       "       [4.600e+01, 1.000e+00],\n",
       "       [4.700e+01, 1.000e+00],\n",
       "       [5.000e+01, 4.000e+00],\n",
       "       [5.100e+01, 2.000e+00],\n",
       "       [5.200e+01, 2.000e+00],\n",
       "       [5.400e+01, 3.000e+00],\n",
       "       [5.600e+01, 2.000e+00],\n",
       "       [5.700e+01, 1.000e+00],\n",
       "       [5.800e+01, 1.000e+00],\n",
       "       [6.000e+01, 6.000e+00],\n",
       "       [6.200e+01, 1.000e+00],\n",
       "       [6.300e+01, 1.000e+00],\n",
       "       [6.400e+01, 1.000e+00],\n",
       "       [6.500e+01, 1.000e+00],\n",
       "       [6.600e+01, 1.000e+00],\n",
       "       [6.700e+01, 1.000e+00],\n",
       "       [6.800e+01, 4.000e+00],\n",
       "       [6.900e+01, 1.000e+00],\n",
       "       [7.000e+01, 2.000e+00],\n",
       "       [7.200e+01, 9.000e+00],\n",
       "       [7.400e+01, 3.000e+00],\n",
       "       [7.500e+01, 1.000e+00],\n",
       "       [7.600e+01, 5.000e+00],\n",
       "       [8.000e+01, 4.000e+00],\n",
       "       [8.200e+01, 3.000e+00],\n",
       "       [8.400e+01, 6.000e+00],\n",
       "       [8.500e+01, 3.000e+00],\n",
       "       [8.600e+01, 3.000e+00],\n",
       "       [8.700e+01, 1.000e+00],\n",
       "       [8.800e+01, 2.000e+00],\n",
       "       [8.900e+01, 1.000e+00],\n",
       "       [9.000e+01, 3.000e+00],\n",
       "       [9.200e+01, 2.000e+00],\n",
       "       [9.400e+01, 3.000e+00],\n",
       "       [9.500e+01, 2.000e+00],\n",
       "       [9.600e+01, 3.000e+00],\n",
       "       [9.700e+01, 1.000e+00],\n",
       "       [9.800e+01, 3.000e+00],\n",
       "       [9.900e+01, 2.000e+00],\n",
       "       [1.000e+02, 3.000e+00],\n",
       "       [1.010e+02, 2.000e+00],\n",
       "       [1.020e+02, 2.000e+00],\n",
       "       [1.040e+02, 2.000e+00],\n",
       "       [1.050e+02, 2.000e+00],\n",
       "       [1.060e+02, 5.000e+00],\n",
       "       [1.080e+02, 9.000e+00],\n",
       "       [1.090e+02, 1.000e+00],\n",
       "       [1.100e+02, 3.000e+00],\n",
       "       [1.120e+02, 5.000e+00],\n",
       "       [1.130e+02, 2.000e+00],\n",
       "       [1.140e+02, 1.000e+00],\n",
       "       [1.150e+02, 2.000e+00],\n",
       "       [1.160e+02, 2.000e+00],\n",
       "       [1.170e+02, 1.000e+00],\n",
       "       [1.180e+02, 1.000e+00],\n",
       "       [1.190e+02, 2.000e+00],\n",
       "       [1.200e+02, 1.100e+01],\n",
       "       [1.210e+02, 1.000e+00],\n",
       "       [1.220e+02, 3.000e+00],\n",
       "       [1.230e+02, 1.000e+00],\n",
       "       [1.240e+02, 1.000e+00],\n",
       "       [1.250e+02, 3.000e+00],\n",
       "       [1.260e+02, 4.000e+00],\n",
       "       [1.270e+02, 1.000e+00],\n",
       "       [1.280e+02, 6.000e+00],\n",
       "       [1.300e+02, 4.000e+00],\n",
       "       [1.320e+02, 8.000e+00],\n",
       "       [1.340e+02, 1.000e+00],\n",
       "       [1.350e+02, 3.000e+00],\n",
       "       [1.360e+02, 4.000e+00],\n",
       "       [1.380e+02, 2.000e+00],\n",
       "       [1.400e+02, 6.000e+00],\n",
       "       [1.420e+02, 1.000e+00],\n",
       "       [1.430e+02, 5.000e+00],\n",
       "       [1.440e+02, 7.000e+00],\n",
       "       [1.450e+02, 5.000e+00],\n",
       "       [1.460e+02, 2.000e+00],\n",
       "       [1.480e+02, 5.000e+00],\n",
       "       [1.490e+02, 1.000e+00],\n",
       "       [1.500e+02, 3.000e+00],\n",
       "       [1.530e+02, 1.000e+00],\n",
       "       [1.540e+02, 1.000e+00],\n",
       "       [1.560e+02, 1.000e+00],\n",
       "       [1.570e+02, 3.000e+00],\n",
       "       [1.580e+02, 3.000e+00],\n",
       "       [1.600e+02, 5.000e+00],\n",
       "       [1.610e+02, 1.000e+00],\n",
       "       [1.620e+02, 3.000e+00],\n",
       "       [1.630e+02, 2.000e+00],\n",
       "       [1.640e+02, 5.000e+00],\n",
       "       [1.650e+02, 3.000e+00],\n",
       "       [1.660e+02, 2.000e+00],\n",
       "       [1.670e+02, 1.000e+00],\n",
       "       [1.680e+02, 5.000e+00],\n",
       "       [1.690e+02, 1.000e+00],\n",
       "       [1.700e+02, 7.000e+00],\n",
       "       [1.710e+02, 1.000e+00],\n",
       "       [1.720e+02, 4.000e+00],\n",
       "       [1.740e+02, 5.000e+00],\n",
       "       [1.760e+02, 1.000e+01],\n",
       "       [1.770e+02, 1.000e+00],\n",
       "       [1.780e+02, 6.000e+00],\n",
       "       [1.790e+02, 1.000e+00],\n",
       "       [1.800e+02, 9.000e+00],\n",
       "       [1.820e+02, 2.000e+00],\n",
       "       [1.830e+02, 4.000e+00],\n",
       "       [1.840e+02, 3.000e+00],\n",
       "       [1.860e+02, 7.000e+00],\n",
       "       [1.880e+02, 2.000e+00],\n",
       "       [1.890e+02, 2.000e+00],\n",
       "       [1.900e+02, 2.000e+00],\n",
       "       [1.920e+02, 4.000e+00],\n",
       "       [1.940e+02, 2.000e+00],\n",
       "       [1.960e+02, 4.000e+00],\n",
       "       [1.970e+02, 1.000e+00],\n",
       "       [1.980e+02, 3.000e+00],\n",
       "       [1.990e+02, 1.000e+00],\n",
       "       [2.000e+02, 1.000e+01],\n",
       "       [2.020e+02, 2.000e+00],\n",
       "       [2.030e+02, 6.000e+00],\n",
       "       [2.040e+02, 2.000e+00],\n",
       "       [2.050e+02, 1.000e+00],\n",
       "       [2.060e+02, 3.000e+00],\n",
       "       [2.080e+02, 2.000e+00],\n",
       "       [2.100e+02, 9.000e+00],\n",
       "       [2.120e+02, 3.000e+00],\n",
       "       [2.140e+02, 1.000e+00],\n",
       "       [2.150e+02, 1.000e+00],\n",
       "       [2.160e+02, 5.000e+00],\n",
       "       [2.180e+02, 2.000e+00],\n",
       "       [2.190e+02, 1.000e+00],\n",
       "       [2.200e+02, 3.000e+00],\n",
       "       [2.210e+02, 1.000e+00],\n",
       "       [2.220e+02, 1.000e+00],\n",
       "       [2.240e+02, 1.000e+00],\n",
       "       [2.250e+02, 1.000e+00],\n",
       "       [2.260e+02, 2.000e+00],\n",
       "       [2.270e+02, 1.000e+00],\n",
       "       [2.280e+02, 2.000e+00],\n",
       "       [2.300e+02, 1.000e+00],\n",
       "       [2.320e+02, 4.000e+00],\n",
       "       [2.330e+02, 1.000e+00],\n",
       "       [2.340e+02, 2.000e+00],\n",
       "       [2.350e+02, 1.000e+00],\n",
       "       [2.360e+02, 2.000e+00],\n",
       "       [2.370e+02, 1.000e+00],\n",
       "       [2.380e+02, 3.000e+00],\n",
       "       [2.390e+02, 1.000e+00],\n",
       "       [2.400e+02, 4.000e+00],\n",
       "       [2.420e+02, 4.000e+00],\n",
       "       [2.430e+02, 2.000e+00],\n",
       "       [2.440e+02, 2.000e+00],\n",
       "       [2.450e+02, 2.000e+00],\n",
       "       [2.460e+02, 4.000e+00],\n",
       "       [2.480e+02, 3.000e+00],\n",
       "       [2.500e+02, 3.000e+00],\n",
       "       [2.510e+02, 1.000e+00],\n",
       "       [2.520e+02, 5.000e+00],\n",
       "       [2.530e+02, 1.000e+00],\n",
       "       [2.540e+02, 2.000e+00],\n",
       "       [2.550e+02, 1.000e+00],\n",
       "       [2.560e+02, 6.000e+00],\n",
       "       [2.570e+02, 1.000e+00],\n",
       "       [2.580e+02, 1.000e+00],\n",
       "       [2.590e+02, 1.000e+00],\n",
       "       [2.600e+02, 5.000e+00],\n",
       "       [2.610e+02, 1.000e+00],\n",
       "       [2.620e+02, 1.000e+00],\n",
       "       [2.640e+02, 2.000e+00],\n",
       "       [2.680e+02, 3.000e+00],\n",
       "       [2.700e+02, 4.000e+00],\n",
       "       [2.720e+02, 5.000e+00],\n",
       "       [2.740e+02, 1.000e+00],\n",
       "       [2.750e+02, 3.000e+00],\n",
       "       [2.760e+02, 1.000e+00],\n",
       "       [2.780e+02, 2.000e+00],\n",
       "       [2.790e+02, 1.000e+00],\n",
       "       [2.800e+02, 2.000e+00],\n",
       "       [2.810e+02, 1.000e+00],\n",
       "       [2.830e+02, 1.000e+00],\n",
       "       [2.840e+02, 2.000e+00],\n",
       "       [2.880e+02, 5.000e+00],\n",
       "       [2.890e+02, 3.000e+00],\n",
       "       [2.900e+02, 3.000e+00],\n",
       "       [2.910e+02, 1.000e+00],\n",
       "       [2.920e+02, 2.000e+00],\n",
       "       [2.940e+02, 2.000e+00],\n",
       "       [2.950e+02, 2.000e+00],\n",
       "       [2.960e+02, 2.000e+00],\n",
       "       [2.980e+02, 3.000e+00],\n",
       "       [2.990e+02, 1.000e+00],\n",
       "       [3.000e+02, 5.000e+00],\n",
       "       [3.020e+02, 5.000e+00],\n",
       "       [3.040e+02, 2.000e+00],\n",
       "       [3.050e+02, 1.000e+00],\n",
       "       [3.060e+02, 3.000e+00],\n",
       "       [3.090e+02, 2.000e+00],\n",
       "       [3.100e+02, 2.000e+00],\n",
       "       [3.120e+02, 2.000e+00],\n",
       "       [3.150e+02, 1.000e+00],\n",
       "       [3.180e+02, 1.000e+00],\n",
       "       [3.200e+02, 5.000e+00],\n",
       "       [3.220e+02, 1.000e+00],\n",
       "       [3.230e+02, 1.000e+00],\n",
       "       [3.240e+02, 1.000e+00],\n",
       "       [3.270e+02, 1.000e+00],\n",
       "       [3.280e+02, 1.000e+00],\n",
       "       [3.320e+02, 1.000e+00],\n",
       "       [3.330e+02, 1.000e+00],\n",
       "       [3.350e+02, 2.000e+00],\n",
       "       [3.360e+02, 4.000e+00],\n",
       "       [3.370e+02, 1.000e+00],\n",
       "       [3.380e+02, 2.000e+00],\n",
       "       [3.400e+02, 6.000e+00],\n",
       "       [3.420e+02, 1.000e+00],\n",
       "       [3.440e+02, 2.000e+00],\n",
       "       [3.480e+02, 1.000e+00],\n",
       "       [3.500e+02, 1.000e+00],\n",
       "       [3.510e+02, 2.000e+00],\n",
       "       [3.530e+02, 1.000e+00],\n",
       "       [3.550e+02, 1.000e+00],\n",
       "       [3.560e+02, 1.000e+00],\n",
       "       [3.590e+02, 1.000e+00],\n",
       "       [3.600e+02, 5.000e+00],\n",
       "       [3.610e+02, 1.000e+00],\n",
       "       [3.620e+02, 1.000e+00],\n",
       "       [3.640e+02, 1.000e+00],\n",
       "       [3.650e+02, 2.000e+00],\n",
       "       [3.660e+02, 1.000e+00],\n",
       "       [3.680e+02, 1.000e+00],\n",
       "       [3.700e+02, 1.000e+00],\n",
       "       [3.720e+02, 1.000e+00],\n",
       "       [3.750e+02, 1.000e+00],\n",
       "       [3.760e+02, 1.000e+00],\n",
       "       [3.780e+02, 1.000e+00],\n",
       "       [3.790e+02, 1.000e+00],\n",
       "       [3.800e+02, 1.000e+00],\n",
       "       [3.810e+02, 1.000e+00],\n",
       "       [3.820e+02, 1.000e+00],\n",
       "       [3.830e+02, 2.000e+00],\n",
       "       [3.850e+02, 1.000e+00],\n",
       "       [3.870e+02, 1.000e+00],\n",
       "       [3.910e+02, 1.000e+00],\n",
       "       [3.940e+02, 1.000e+00],\n",
       "       [3.970e+02, 1.000e+00],\n",
       "       [4.000e+02, 1.000e+00],\n",
       "       [4.020e+02, 2.000e+00],\n",
       "       [4.060e+02, 1.000e+00],\n",
       "       [4.100e+02, 1.000e+00],\n",
       "       [4.120e+02, 1.000e+00],\n",
       "       [4.180e+02, 1.000e+00],\n",
       "       [4.200e+02, 2.000e+00],\n",
       "       [4.220e+02, 1.000e+00],\n",
       "       [4.230e+02, 1.000e+00],\n",
       "       [4.240e+02, 2.000e+00],\n",
       "       [4.250e+02, 3.000e+00],\n",
       "       [4.260e+02, 1.000e+00],\n",
       "       [4.280e+02, 1.000e+00],\n",
       "       [4.300e+02, 1.000e+00],\n",
       "       [4.320e+02, 1.000e+00],\n",
       "       [4.340e+02, 1.000e+00],\n",
       "       [4.360e+02, 1.000e+00],\n",
       "       [4.420e+02, 3.000e+00],\n",
       "       [4.430e+02, 1.000e+00],\n",
       "       [4.500e+02, 2.000e+00],\n",
       "       [4.510e+02, 1.000e+00],\n",
       "       [4.520e+02, 1.000e+00],\n",
       "       [4.560e+02, 4.000e+00],\n",
       "       [4.660e+02, 3.000e+00],\n",
       "       [4.680e+02, 1.000e+00],\n",
       "       [4.700e+02, 1.000e+00],\n",
       "       [4.720e+02, 2.000e+00],\n",
       "       [4.730e+02, 2.000e+00],\n",
       "       [4.790e+02, 1.000e+00],\n",
       "       [4.800e+02, 3.000e+00],\n",
       "       [4.910e+02, 1.000e+00],\n",
       "       [4.920e+02, 1.000e+00],\n",
       "       [5.000e+02, 1.000e+00],\n",
       "       [5.020e+02, 1.000e+00],\n",
       "       [5.040e+02, 5.000e+00],\n",
       "       [5.060e+02, 2.000e+00],\n",
       "       [5.100e+02, 2.000e+00],\n",
       "       [5.130e+02, 4.000e+00],\n",
       "       [5.140e+02, 1.000e+00],\n",
       "       [5.180e+02, 1.000e+00],\n",
       "       [5.190e+02, 1.000e+00],\n",
       "       [5.220e+02, 1.000e+00],\n",
       "       [5.250e+02, 1.000e+00],\n",
       "       [5.260e+02, 1.000e+00],\n",
       "       [5.280e+02, 1.000e+00],\n",
       "       [5.300e+02, 1.000e+00],\n",
       "       [5.410e+02, 1.000e+00],\n",
       "       [5.540e+02, 3.000e+00],\n",
       "       [5.620e+02, 1.000e+00],\n",
       "       [5.640e+02, 1.000e+00],\n",
       "       [5.670e+02, 1.000e+00],\n",
       "       [5.680e+02, 1.000e+00],\n",
       "       [5.710e+02, 1.000e+00],\n",
       "       [5.720e+02, 1.000e+00],\n",
       "       [5.730e+02, 1.000e+00],\n",
       "       [5.760e+02, 1.000e+00],\n",
       "       [5.790e+02, 1.000e+00],\n",
       "       [6.000e+02, 2.000e+00],\n",
       "       [6.030e+02, 1.000e+00],\n",
       "       [6.040e+02, 1.000e+00],\n",
       "       [6.160e+02, 1.000e+00],\n",
       "       [6.300e+02, 1.000e+00],\n",
       "       [6.320e+02, 1.000e+00],\n",
       "       [6.400e+02, 1.000e+00],\n",
       "       [6.470e+02, 1.000e+00],\n",
       "       [6.500e+02, 2.000e+00],\n",
       "       [6.510e+02, 1.000e+00],\n",
       "       [6.520e+02, 1.000e+00],\n",
       "       [6.600e+02, 2.000e+00],\n",
       "       [6.620e+02, 1.000e+00],\n",
       "       [6.640e+02, 1.000e+00],\n",
       "       [6.680e+02, 1.000e+00],\n",
       "       [6.730e+02, 1.000e+00],\n",
       "       [6.740e+02, 1.000e+00],\n",
       "       [6.920e+02, 1.000e+00],\n",
       "       [7.050e+02, 1.000e+00],\n",
       "       [7.100e+02, 1.000e+00],\n",
       "       [7.140e+02, 1.000e+00],\n",
       "       [7.240e+02, 1.000e+00],\n",
       "       [7.300e+02, 1.000e+00],\n",
       "       [7.310e+02, 1.000e+00],\n",
       "       [7.340e+02, 1.000e+00],\n",
       "       [7.380e+02, 1.000e+00],\n",
       "       [7.480e+02, 1.000e+00],\n",
       "       [7.600e+02, 1.000e+00],\n",
       "       [7.660e+02, 1.000e+00],\n",
       "       [7.720e+02, 1.000e+00],\n",
       "       [7.960e+02, 1.000e+00],\n",
       "       [8.160e+02, 1.000e+00],\n",
       "       [8.600e+02, 1.000e+00],\n",
       "       [8.860e+02, 1.000e+00],\n",
       "       [8.940e+02, 1.000e+00],\n",
       "       [9.020e+02, 1.000e+00],\n",
       "       [9.220e+02, 1.000e+00],\n",
       "       [9.450e+02, 1.000e+00],\n",
       "       [9.700e+02, 1.000e+00],\n",
       "       [1.031e+03, 1.000e+00],\n",
       "       [1.047e+03, 1.000e+00],\n",
       "       [1.050e+03, 1.000e+00],\n",
       "       [1.095e+03, 1.000e+00],\n",
       "       [1.110e+03, 1.000e+00],\n",
       "       [1.115e+03, 1.000e+00],\n",
       "       [1.129e+03, 1.000e+00],\n",
       "       [1.224e+03, 1.000e+00],\n",
       "       [1.600e+03, 1.000e+00],\n",
       "       [      nan, 1.000e+00],\n",
       "       [      nan, 1.000e+00],\n",
       "       [      nan, 1.000e+00],\n",
       "       [      nan, 1.000e+00],\n",
       "       [      nan, 1.000e+00],\n",
       "       [      nan, 1.000e+00],\n",
       "       [      nan, 1.000e+00],\n",
       "       [      nan, 1.000e+00],\n",
       "       [      nan, 1.000e+00],\n",
       "       [      nan, 1.000e+00],\n",
       "       [      nan, 1.000e+00],\n",
       "       [      nan, 1.000e+00],\n",
       "       [      nan, 1.000e+00],\n",
       "       [      nan, 1.000e+00],\n",
       "       [      nan, 1.000e+00],\n",
       "       [      nan, 1.000e+00],\n",
       "       [      nan, 1.000e+00],\n",
       "       [      nan, 1.000e+00],\n",
       "       [      nan, 1.000e+00],\n",
       "       [      nan, 1.000e+00],\n",
       "       [      nan, 1.000e+00],\n",
       "       [      nan, 1.000e+00]])"
      ]
     },
     "execution_count": 39,
     "metadata": {},
     "output_type": "execute_result"
    }
   ],
   "source": [
    "#check for unusual values in 'mas_vnr_type'\n",
    "np.array(np.unique(ames_df['mas_vnr_area'], return_counts=True)).T\n",
    "\n",
    "#'mas_vnr_type' contains 22 null values."
   ]
  },
  {
   "cell_type": "code",
   "execution_count": 40,
   "id": "e6e9800d",
   "metadata": {},
   "outputs": [],
   "source": [
    "#fill empty cells in 'mas_vnr_area' column with 0\n",
    "ames_df['mas_vnr_area'].fillna(0, inplace = True)"
   ]
  },
  {
   "cell_type": "code",
   "execution_count": 41,
   "id": "8bdd088a",
   "metadata": {},
   "outputs": [
    {
     "data": {
      "text/plain": [
       "array([['Ex', 81],\n",
       "       ['Fa', 26],\n",
       "       ['Gd', 697],\n",
       "       ['TA', 1247]], dtype=object)"
      ]
     },
     "execution_count": 41,
     "metadata": {},
     "output_type": "execute_result"
    }
   ],
   "source": [
    "#check for unusual values in 'exter_qual'\n",
    "np.array(np.unique(ames_df['exter_qual'], return_counts=True)).T\n",
    "\n",
    "#no unusual values in 'exter_qual'"
   ]
  },
  {
   "cell_type": "code",
   "execution_count": 42,
   "id": "e3855ee1",
   "metadata": {},
   "outputs": [
    {
     "data": {
      "text/plain": [
       "array([['Ex', 7],\n",
       "       ['Fa', 49],\n",
       "       ['Gd', 215],\n",
       "       ['Po', 2],\n",
       "       ['TA', 1778]], dtype=object)"
      ]
     },
     "execution_count": 42,
     "metadata": {},
     "output_type": "execute_result"
    }
   ],
   "source": [
    "#check for unusual values in 'exter_cond'\n",
    "np.array(np.unique(ames_df['exter_cond'], return_counts=True)).T\n",
    "\n",
    "#no unusual values in 'exter_cond'"
   ]
  },
  {
   "cell_type": "code",
   "execution_count": 43,
   "id": "879c013f",
   "metadata": {},
   "outputs": [
    {
     "data": {
      "text/plain": [
       "array([['BrkTil', 221],\n",
       "       ['CBlock', 863],\n",
       "       ['PConc', 926],\n",
       "       ['Slab', 34],\n",
       "       ['Stone', 5],\n",
       "       ['Wood', 2]], dtype=object)"
      ]
     },
     "execution_count": 43,
     "metadata": {},
     "output_type": "execute_result"
    }
   ],
   "source": [
    "#check for unusual values in 'foundation'\n",
    "np.array(np.unique(ames_df['foundation'], return_counts=True)).T\n",
    "\n",
    "#no unusual values in 'foundation'"
   ]
  },
  {
   "cell_type": "code",
   "execution_count": 44,
   "id": "ee1ee2ef",
   "metadata": {},
   "outputs": [],
   "source": [
    "#fill empty cells in 'bsmt_qual' column with 'None'\n",
    "ames_df['bsmt_qual'].fillna('None', inplace = True)"
   ]
  },
  {
   "cell_type": "code",
   "execution_count": 45,
   "id": "77bb1d62",
   "metadata": {},
   "outputs": [
    {
     "data": {
      "text/plain": [
       "array([['Ex', 184],\n",
       "       ['Fa', 60],\n",
       "       ['Gd', 864],\n",
       "       ['None', 55],\n",
       "       ['Po', 1],\n",
       "       ['TA', 887]], dtype=object)"
      ]
     },
     "execution_count": 45,
     "metadata": {},
     "output_type": "execute_result"
    }
   ],
   "source": [
    "#check for unusual values in 'bsmt_qual'\n",
    "np.array(np.unique(ames_df['bsmt_qual'], return_counts=True)).T\n",
    "\n",
    "#no unusual values in 'bsmt_qual'"
   ]
  },
  {
   "cell_type": "code",
   "execution_count": 46,
   "id": "4bf64a11",
   "metadata": {},
   "outputs": [],
   "source": [
    "#fill empty cells in 'bsmt_cond' column with 'None'\n",
    "ames_df['bsmt_cond'].fillna('None', inplace = True)"
   ]
  },
  {
   "cell_type": "code",
   "execution_count": 47,
   "id": "cee12bfb",
   "metadata": {},
   "outputs": [
    {
     "data": {
      "text/plain": [
       "array([['Ex', 3],\n",
       "       ['Fa', 65],\n",
       "       ['Gd', 89],\n",
       "       ['None', 55],\n",
       "       ['Po', 5],\n",
       "       ['TA', 1834]], dtype=object)"
      ]
     },
     "execution_count": 47,
     "metadata": {},
     "output_type": "execute_result"
    }
   ],
   "source": [
    "#check for unusual values in 'bsmt_cond'\n",
    "np.array(np.unique(ames_df['bsmt_cond'], return_counts=True)).T\n",
    "\n",
    "#no unusual values in 'bsmt_cond'"
   ]
  },
  {
   "cell_type": "code",
   "execution_count": 48,
   "id": "26414393",
   "metadata": {},
   "outputs": [],
   "source": [
    "#fill empty cells in 'bsmt_exposure' column with 'None'\n",
    "ames_df['bsmt_exposure'].fillna('None', inplace = True)"
   ]
  },
  {
   "cell_type": "code",
   "execution_count": 49,
   "id": "ff325de8",
   "metadata": {},
   "outputs": [
    {
     "data": {
      "text/plain": [
       "array([['Av', 288],\n",
       "       ['Gd', 203],\n",
       "       ['Mn', 163],\n",
       "       ['No', 1339],\n",
       "       ['None', 58]], dtype=object)"
      ]
     },
     "execution_count": 49,
     "metadata": {},
     "output_type": "execute_result"
    }
   ],
   "source": [
    "#check for unusual values in 'bsmt_exposure'\n",
    "np.array(np.unique(ames_df['bsmt_exposure'], return_counts=True)).T\n",
    "\n",
    "#no unusual values in 'bsmt_exposure'"
   ]
  },
  {
   "cell_type": "code",
   "execution_count": 50,
   "id": "1b0a3f6f",
   "metadata": {},
   "outputs": [],
   "source": [
    "#fill empty cells in 'bsmtfin_type_1' column with 'None'\n",
    "ames_df['bsmtfin_type_1'].fillna('None', inplace = True)"
   ]
  },
  {
   "cell_type": "code",
   "execution_count": 51,
   "id": "7e408766",
   "metadata": {},
   "outputs": [
    {
     "data": {
      "text/plain": [
       "array([['ALQ', 293],\n",
       "       ['BLQ', 200],\n",
       "       ['GLQ', 615],\n",
       "       ['LwQ', 102],\n",
       "       ['None', 55],\n",
       "       ['Rec', 183],\n",
       "       ['Unf', 603]], dtype=object)"
      ]
     },
     "execution_count": 51,
     "metadata": {},
     "output_type": "execute_result"
    }
   ],
   "source": [
    "#check for unusual values in 'bsmtfin_type_1'\n",
    "np.array(np.unique(ames_df['bsmtfin_type_1'], return_counts=True)).T\n",
    "\n",
    "#no unusual values in 'bsmtfin_type_1'"
   ]
  },
  {
   "cell_type": "code",
   "execution_count": 52,
   "id": "f6a7b415",
   "metadata": {},
   "outputs": [],
   "source": [
    "#replace NaN with 0 in 'bsmtfin_sf_1'\n",
    "ames_df['bsmtfin_sf_1'] = ames_df['bsmtfin_sf_1'].replace(np.nan,0)"
   ]
  },
  {
   "cell_type": "code",
   "execution_count": 53,
   "id": "f8410dba",
   "metadata": {},
   "outputs": [
    {
     "data": {
      "text/plain": [
       "array([[0.000e+00, 6.580e+02],\n",
       "       [2.000e+00, 1.000e+00],\n",
       "       [1.600e+01, 1.000e+01],\n",
       "       ...,\n",
       "       [2.188e+03, 1.000e+00],\n",
       "       [4.010e+03, 1.000e+00],\n",
       "       [5.644e+03, 1.000e+00]])"
      ]
     },
     "execution_count": 53,
     "metadata": {},
     "output_type": "execute_result"
    }
   ],
   "source": [
    "#check for unusual values in 'bsmtfin_sf_1'\n",
    "np.array(np.unique(ames_df['bsmtfin_sf_1'], return_counts=True)).T\n",
    "\n",
    "#no unusual values in 'bsmtfin_sf_1'"
   ]
  },
  {
   "cell_type": "code",
   "execution_count": 54,
   "id": "5607e4a5",
   "metadata": {},
   "outputs": [],
   "source": [
    "#fill empty cells in 'bsmtfin_type_2' column with 'None'\n",
    "ames_df['bsmtfin_type_2'].fillna('None', inplace = True)"
   ]
  },
  {
   "cell_type": "code",
   "execution_count": 55,
   "id": "9beca77e",
   "metadata": {},
   "outputs": [
    {
     "data": {
      "text/plain": [
       "array([['ALQ', 35],\n",
       "       ['BLQ', 48],\n",
       "       ['GLQ', 23],\n",
       "       ['LwQ', 60],\n",
       "       ['None', 56],\n",
       "       ['Rec', 80],\n",
       "       ['Unf', 1749]], dtype=object)"
      ]
     },
     "execution_count": 55,
     "metadata": {},
     "output_type": "execute_result"
    }
   ],
   "source": [
    "#check for unusual values in 'bsmtfin_type_2'\n",
    "np.array(np.unique(ames_df['bsmtfin_type_2'], return_counts=True)).T\n",
    "\n",
    "#no unusual values in 'bsmtfin_type_2'"
   ]
  },
  {
   "cell_type": "code",
   "execution_count": 56,
   "id": "b498560c",
   "metadata": {},
   "outputs": [],
   "source": [
    "#replace NaN with 0 in 'bsmtfin_sf_2'\n",
    "ames_df['bsmtfin_sf_2'] = ames_df['bsmtfin_sf_2'].replace(np.nan,0)"
   ]
  },
  {
   "cell_type": "code",
   "execution_count": 57,
   "id": "7eee86ab",
   "metadata": {},
   "outputs": [
    {
     "data": {
      "text/plain": [
       "array([[0.000e+00, 1.804e+03],\n",
       "       [6.000e+00, 1.000e+00],\n",
       "       [1.200e+01, 1.000e+00],\n",
       "       [2.800e+01, 1.000e+00],\n",
       "       [3.500e+01, 1.000e+00],\n",
       "       [3.800e+01, 1.000e+00],\n",
       "       [4.000e+01, 1.000e+00],\n",
       "       [4.100e+01, 2.000e+00],\n",
       "       [4.200e+01, 1.000e+00],\n",
       "       [5.200e+01, 1.000e+00],\n",
       "       [6.000e+01, 2.000e+00],\n",
       "       [6.400e+01, 2.000e+00],\n",
       "       [6.600e+01, 1.000e+00],\n",
       "       [6.800e+01, 2.000e+00],\n",
       "       [7.200e+01, 3.000e+00],\n",
       "       [7.600e+01, 1.000e+00],\n",
       "       [8.000e+01, 2.000e+00],\n",
       "       [8.100e+01, 1.000e+00],\n",
       "       [9.200e+01, 1.000e+00],\n",
       "       [9.300e+01, 1.000e+00],\n",
       "       [9.500e+01, 1.000e+00],\n",
       "       [9.600e+01, 2.000e+00],\n",
       "       [1.020e+02, 1.000e+00],\n",
       "       [1.050e+02, 2.000e+00],\n",
       "       [1.060e+02, 1.000e+00],\n",
       "       [1.080e+02, 2.000e+00],\n",
       "       [1.100e+02, 2.000e+00],\n",
       "       [1.130e+02, 1.000e+00],\n",
       "       [1.160e+02, 2.000e+00],\n",
       "       [1.170e+02, 2.000e+00],\n",
       "       [1.190e+02, 1.000e+00],\n",
       "       [1.200e+02, 1.000e+00],\n",
       "       [1.210e+02, 1.000e+00],\n",
       "       [1.230e+02, 1.000e+00],\n",
       "       [1.250e+02, 1.000e+00],\n",
       "       [1.270e+02, 2.000e+00],\n",
       "       [1.280e+02, 2.000e+00],\n",
       "       [1.320e+02, 1.000e+00],\n",
       "       [1.380e+02, 1.000e+00],\n",
       "       [1.440e+02, 2.000e+00],\n",
       "       [1.470e+02, 1.000e+00],\n",
       "       [1.490e+02, 1.000e+00],\n",
       "       [1.500e+02, 1.000e+00],\n",
       "       [1.540e+02, 1.000e+00],\n",
       "       [1.560e+02, 1.000e+00],\n",
       "       [1.590e+02, 2.000e+00],\n",
       "       [1.620e+02, 3.000e+00],\n",
       "       [1.630e+02, 1.000e+00],\n",
       "       [1.670e+02, 1.000e+00],\n",
       "       [1.680e+02, 1.000e+00],\n",
       "       [1.690e+02, 1.000e+00],\n",
       "       [1.730e+02, 1.000e+00],\n",
       "       [1.740e+02, 1.000e+00],\n",
       "       [1.750e+02, 1.000e+00],\n",
       "       [1.770e+02, 1.000e+00],\n",
       "       [1.800e+02, 3.000e+00],\n",
       "       [1.810e+02, 1.000e+00],\n",
       "       [1.820e+02, 1.000e+00],\n",
       "       [1.860e+02, 1.000e+00],\n",
       "       [1.960e+02, 1.000e+00],\n",
       "       [2.010e+02, 1.000e+00],\n",
       "       [2.020e+02, 2.000e+00],\n",
       "       [2.060e+02, 1.000e+00],\n",
       "       [2.080e+02, 1.000e+00],\n",
       "       [2.100e+02, 1.000e+00],\n",
       "       [2.110e+02, 1.000e+00],\n",
       "       [2.150e+02, 1.000e+00],\n",
       "       [2.190e+02, 1.000e+00],\n",
       "       [2.270e+02, 1.000e+00],\n",
       "       [2.280e+02, 1.000e+00],\n",
       "       [2.300e+02, 1.000e+00],\n",
       "       [2.320e+02, 1.000e+00],\n",
       "       [2.390e+02, 1.000e+00],\n",
       "       [2.400e+02, 1.000e+00],\n",
       "       [2.470e+02, 2.000e+00],\n",
       "       [2.520e+02, 1.000e+00],\n",
       "       [2.580e+02, 1.000e+00],\n",
       "       [2.590e+02, 1.000e+00],\n",
       "       [2.620e+02, 1.000e+00],\n",
       "       [2.630e+02, 1.000e+00],\n",
       "       [2.640e+02, 1.000e+00],\n",
       "       [2.700e+02, 2.000e+00],\n",
       "       [2.730e+02, 2.000e+00],\n",
       "       [2.760e+02, 1.000e+00],\n",
       "       [2.780e+02, 1.000e+00],\n",
       "       [2.790e+02, 1.000e+00],\n",
       "       [2.810e+02, 1.000e+00],\n",
       "       [2.840e+02, 1.000e+00],\n",
       "       [2.860e+02, 1.000e+00],\n",
       "       [2.880e+02, 1.000e+00],\n",
       "       [2.900e+02, 2.000e+00],\n",
       "       [2.940e+02, 5.000e+00],\n",
       "       [2.970e+02, 1.000e+00],\n",
       "       [3.060e+02, 1.000e+00],\n",
       "       [3.080e+02, 1.000e+00],\n",
       "       [3.110e+02, 1.000e+00],\n",
       "       [3.210e+02, 1.000e+00],\n",
       "       [3.240e+02, 1.000e+00],\n",
       "       [3.340e+02, 1.000e+00],\n",
       "       [3.440e+02, 1.000e+00],\n",
       "       [3.450e+02, 1.000e+00],\n",
       "       [3.510e+02, 1.000e+00],\n",
       "       [3.540e+02, 2.000e+00],\n",
       "       [3.640e+02, 1.000e+00],\n",
       "       [3.730e+02, 1.000e+00],\n",
       "       [3.740e+02, 1.000e+00],\n",
       "       [3.750e+02, 1.000e+00],\n",
       "       [3.770e+02, 1.000e+00],\n",
       "       [3.800e+02, 1.000e+00],\n",
       "       [3.820e+02, 1.000e+00],\n",
       "       [3.870e+02, 1.000e+00],\n",
       "       [4.000e+02, 1.000e+00],\n",
       "       [4.040e+02, 1.000e+00],\n",
       "       [4.110e+02, 1.000e+00],\n",
       "       [4.170e+02, 1.000e+00],\n",
       "       [4.190e+02, 1.000e+00],\n",
       "       [4.200e+02, 1.000e+00],\n",
       "       [4.320e+02, 1.000e+00],\n",
       "       [4.350e+02, 1.000e+00],\n",
       "       [4.410e+02, 1.000e+00],\n",
       "       [4.420e+02, 1.000e+00],\n",
       "       [4.500e+02, 1.000e+00],\n",
       "       [4.650e+02, 2.000e+00],\n",
       "       [4.660e+02, 1.000e+00],\n",
       "       [4.680e+02, 1.000e+00],\n",
       "       [4.690e+02, 2.000e+00],\n",
       "       [4.740e+02, 1.000e+00],\n",
       "       [4.790e+02, 1.000e+00],\n",
       "       [4.830e+02, 3.000e+00],\n",
       "       [4.860e+02, 1.000e+00],\n",
       "       [4.880e+02, 1.000e+00],\n",
       "       [4.920e+02, 1.000e+00],\n",
       "       [4.950e+02, 2.000e+00],\n",
       "       [4.970e+02, 1.000e+00],\n",
       "       [4.990e+02, 1.000e+00],\n",
       "       [5.000e+02, 1.000e+00],\n",
       "       [5.060e+02, 1.000e+00],\n",
       "       [5.070e+02, 1.000e+00],\n",
       "       [5.220e+02, 1.000e+00],\n",
       "       [5.260e+02, 1.000e+00],\n",
       "       [5.290e+02, 1.000e+00],\n",
       "       [5.310e+02, 1.000e+00],\n",
       "       [5.320e+02, 1.000e+00],\n",
       "       [5.390e+02, 3.000e+00],\n",
       "       [5.460e+02, 1.000e+00],\n",
       "       [5.470e+02, 1.000e+00],\n",
       "       [5.510e+02, 2.000e+00],\n",
       "       [5.550e+02, 1.000e+00],\n",
       "       [5.570e+02, 1.000e+00],\n",
       "       [5.800e+02, 1.000e+00],\n",
       "       [5.900e+02, 2.000e+00],\n",
       "       [5.960e+02, 2.000e+00],\n",
       "       [6.000e+02, 1.000e+00],\n",
       "       [6.040e+02, 1.000e+00],\n",
       "       [6.080e+02, 1.000e+00],\n",
       "       [6.120e+02, 1.000e+00],\n",
       "       [6.130e+02, 1.000e+00],\n",
       "       [6.190e+02, 1.000e+00],\n",
       "       [6.200e+02, 2.000e+00],\n",
       "       [6.220e+02, 1.000e+00],\n",
       "       [6.240e+02, 1.000e+00],\n",
       "       [6.450e+02, 1.000e+00],\n",
       "       [6.610e+02, 1.000e+00],\n",
       "       [6.700e+02, 2.000e+00],\n",
       "       [6.880e+02, 1.000e+00],\n",
       "       [6.920e+02, 1.000e+00],\n",
       "       [7.120e+02, 1.000e+00],\n",
       "       [7.130e+02, 1.000e+00],\n",
       "       [7.220e+02, 1.000e+00],\n",
       "       [7.230e+02, 1.000e+00],\n",
       "       [7.480e+02, 1.000e+00],\n",
       "       [7.500e+02, 1.000e+00],\n",
       "       [7.610e+02, 1.000e+00],\n",
       "       [7.680e+02, 1.000e+00],\n",
       "       [7.740e+02, 1.000e+00],\n",
       "       [8.110e+02, 1.000e+00],\n",
       "       [8.230e+02, 1.000e+00],\n",
       "       [8.290e+02, 1.000e+00],\n",
       "       [8.410e+02, 1.000e+00],\n",
       "       [8.420e+02, 1.000e+00],\n",
       "       [8.500e+02, 1.000e+00],\n",
       "       [8.520e+02, 1.000e+00],\n",
       "       [8.590e+02, 1.000e+00],\n",
       "       [8.690e+02, 1.000e+00],\n",
       "       [8.720e+02, 1.000e+00],\n",
       "       [8.750e+02, 1.000e+00],\n",
       "       [8.910e+02, 1.000e+00],\n",
       "       [9.060e+02, 1.000e+00],\n",
       "       [9.150e+02, 1.000e+00],\n",
       "       [9.550e+02, 1.000e+00],\n",
       "       [9.560e+02, 1.000e+00],\n",
       "       [9.820e+02, 1.000e+00],\n",
       "       [1.037e+03, 1.000e+00],\n",
       "       [1.039e+03, 1.000e+00],\n",
       "       [1.057e+03, 1.000e+00],\n",
       "       [1.061e+03, 1.000e+00],\n",
       "       [1.063e+03, 1.000e+00],\n",
       "       [1.073e+03, 1.000e+00],\n",
       "       [1.080e+03, 1.000e+00],\n",
       "       [1.083e+03, 1.000e+00],\n",
       "       [1.085e+03, 1.000e+00],\n",
       "       [1.120e+03, 1.000e+00],\n",
       "       [1.127e+03, 1.000e+00],\n",
       "       [1.393e+03, 1.000e+00],\n",
       "       [1.474e+03, 1.000e+00]])"
      ]
     },
     "execution_count": 57,
     "metadata": {},
     "output_type": "execute_result"
    }
   ],
   "source": [
    "#check for unusual values in 'bsmtfin_sf_2'\n",
    "np.array(np.unique(ames_df['bsmtfin_sf_2'], return_counts=True)).T\n",
    "\n",
    "#no unusual values in 'bsmtfin_sf_2'"
   ]
  },
  {
   "cell_type": "code",
   "execution_count": 58,
   "id": "dc44baa9",
   "metadata": {},
   "outputs": [],
   "source": [
    "#replace NaN with 0\n",
    "ames_df['bsmt_unf_sf'] = ames_df['bsmt_unf_sf'].replace(np.nan,0)"
   ]
  },
  {
   "cell_type": "code",
   "execution_count": 59,
   "id": "ce9a8c34",
   "metadata": {},
   "outputs": [
    {
     "data": {
      "text/plain": [
       "array([[0.000e+00, 1.660e+02],\n",
       "       [1.500e+01, 1.000e+00],\n",
       "       [1.700e+01, 1.000e+00],\n",
       "       ...,\n",
       "       [2.140e+03, 1.000e+00],\n",
       "       [2.153e+03, 1.000e+00],\n",
       "       [2.336e+03, 1.000e+00]])"
      ]
     },
     "execution_count": 59,
     "metadata": {},
     "output_type": "execute_result"
    }
   ],
   "source": [
    "#check for unusual values in 'bsmt_unf_sf'\n",
    "np.array(np.unique(ames_df['bsmt_unf_sf'], return_counts=True)).T\n",
    "\n",
    "#no unusual values in 'bsmt_unf_sf'"
   ]
  },
  {
   "cell_type": "code",
   "execution_count": 60,
   "id": "17db7c79",
   "metadata": {},
   "outputs": [],
   "source": [
    "#replace NaN with 0\n",
    "ames_df['total_bsmt_sf'] = ames_df['total_bsmt_sf'].replace(np.nan,0)"
   ]
  },
  {
   "cell_type": "code",
   "execution_count": 61,
   "id": "fd8e277a",
   "metadata": {},
   "outputs": [
    {
     "data": {
      "text/plain": [
       "array([[0.000e+00, 5.500e+01],\n",
       "       [1.600e+02, 1.000e+00],\n",
       "       [1.730e+02, 1.000e+00],\n",
       "       ...,\n",
       "       [3.206e+03, 1.000e+00],\n",
       "       [5.095e+03, 1.000e+00],\n",
       "       [6.110e+03, 1.000e+00]])"
      ]
     },
     "execution_count": 61,
     "metadata": {},
     "output_type": "execute_result"
    }
   ],
   "source": [
    "#check for unusual values in 'total_bsmt_sf'\n",
    "np.array(np.unique(ames_df['total_bsmt_sf'], return_counts=True)).T\n",
    "\n",
    "#no unusual values in 'total_bsmt_sf'"
   ]
  },
  {
   "cell_type": "code",
   "execution_count": 62,
   "id": "f72eea2d",
   "metadata": {},
   "outputs": [
    {
     "data": {
      "text/plain": [
       "array([['GasA', 2018],\n",
       "       ['GasW', 20],\n",
       "       ['Grav', 5],\n",
       "       ['OthW', 2],\n",
       "       ['Wall', 6]], dtype=object)"
      ]
     },
     "execution_count": 62,
     "metadata": {},
     "output_type": "execute_result"
    }
   ],
   "source": [
    "#check for unusual values\n",
    "np.array(np.unique(ames_df['heating'], return_counts=True)).T"
   ]
  },
  {
   "cell_type": "code",
   "execution_count": 63,
   "id": "f9106593",
   "metadata": {},
   "outputs": [
    {
     "data": {
      "text/plain": [
       "array([['Ex', 1065],\n",
       "       ['Fa', 67],\n",
       "       ['Gd', 319],\n",
       "       ['Po', 3],\n",
       "       ['TA', 597]], dtype=object)"
      ]
     },
     "execution_count": 63,
     "metadata": {},
     "output_type": "execute_result"
    }
   ],
   "source": [
    "#check for unusual values\n",
    "np.array(np.unique(ames_df['heating_qc'], return_counts=True)).T"
   ]
  },
  {
   "cell_type": "code",
   "execution_count": 64,
   "id": "f4116dd4",
   "metadata": {},
   "outputs": [
    {
     "data": {
      "text/plain": [
       "array([['N', 141],\n",
       "       ['Y', 1910]], dtype=object)"
      ]
     },
     "execution_count": 64,
     "metadata": {},
     "output_type": "execute_result"
    }
   ],
   "source": [
    "#check for unusual values\n",
    "np.array(np.unique(ames_df['central_air'], return_counts=True)).T"
   ]
  },
  {
   "cell_type": "code",
   "execution_count": 65,
   "id": "8d38b637",
   "metadata": {},
   "outputs": [
    {
     "data": {
      "text/plain": [
       "array([['FuseA', 140],\n",
       "       ['FuseF', 35],\n",
       "       ['FuseP', 7],\n",
       "       ['Mix', 1],\n",
       "       ['SBrkr', 1868]], dtype=object)"
      ]
     },
     "execution_count": 65,
     "metadata": {},
     "output_type": "execute_result"
    }
   ],
   "source": [
    "#check for unusual values\n",
    "np.array(np.unique(ames_df['electrical'], return_counts=True)).T"
   ]
  },
  {
   "cell_type": "code",
   "execution_count": 66,
   "id": "102675af",
   "metadata": {},
   "outputs": [
    {
     "data": {
      "text/plain": [
       "array([[ 334,    1],\n",
       "       [ 372,    1],\n",
       "       [ 438,    1],\n",
       "       ...,\n",
       "       [3820,    1],\n",
       "       [4692,    1],\n",
       "       [5095,    1]], dtype=int64)"
      ]
     },
     "execution_count": 66,
     "metadata": {},
     "output_type": "execute_result"
    }
   ],
   "source": [
    "#check for unusual values\n",
    "np.array(np.unique(ames_df['1st_flr_sf'], return_counts=True)).T"
   ]
  },
  {
   "cell_type": "code",
   "execution_count": 67,
   "id": "d8749fe1",
   "metadata": {},
   "outputs": [
    {
     "data": {
      "text/plain": [
       "array([[   0, 1191],\n",
       "       [ 125,    1],\n",
       "       [ 144,    1],\n",
       "       ...,\n",
       "       [1818,    1],\n",
       "       [1836,    1],\n",
       "       [1862,    1]], dtype=int64)"
      ]
     },
     "execution_count": 67,
     "metadata": {},
     "output_type": "execute_result"
    }
   ],
   "source": [
    "#check for unusual values\n",
    "np.array(np.unique(ames_df['2nd_flr_sf'], return_counts=True)).T"
   ]
  },
  {
   "cell_type": "code",
   "execution_count": 68,
   "id": "c58c3c31",
   "metadata": {},
   "outputs": [
    {
     "data": {
      "text/plain": [
       "array([[   0, 2018],\n",
       "       [  53,    1],\n",
       "       [  80,    3],\n",
       "       [ 108,    1],\n",
       "       [ 114,    1],\n",
       "       [ 120,    1],\n",
       "       [ 140,    1],\n",
       "       [ 144,    1],\n",
       "       [ 156,    1],\n",
       "       [ 205,    2],\n",
       "       [ 234,    1],\n",
       "       [ 259,    1],\n",
       "       [ 312,    1],\n",
       "       [ 360,    1],\n",
       "       [ 362,    1],\n",
       "       [ 371,    1],\n",
       "       [ 384,    1],\n",
       "       [ 390,    1],\n",
       "       [ 397,    1],\n",
       "       [ 436,    1],\n",
       "       [ 450,    1],\n",
       "       [ 473,    1],\n",
       "       [ 479,    1],\n",
       "       [ 512,    1],\n",
       "       [ 513,    1],\n",
       "       [ 514,    1],\n",
       "       [ 515,    1],\n",
       "       [ 528,    1],\n",
       "       [ 572,    1],\n",
       "       [ 697,    1],\n",
       "       [1064,    1]], dtype=int64)"
      ]
     },
     "execution_count": 68,
     "metadata": {},
     "output_type": "execute_result"
    }
   ],
   "source": [
    "#check for unusual values\n",
    "np.array(np.unique(ames_df['low_qual_fin_sf'], return_counts=True)).T"
   ]
  },
  {
   "cell_type": "code",
   "execution_count": 69,
   "id": "ec65619c",
   "metadata": {},
   "outputs": [
    {
     "data": {
      "text/plain": [
       "array([[ 334,    1],\n",
       "       [ 438,    1],\n",
       "       [ 480,    1],\n",
       "       ...,\n",
       "       [3820,    1],\n",
       "       [5095,    1],\n",
       "       [5642,    1]], dtype=int64)"
      ]
     },
     "execution_count": 69,
     "metadata": {},
     "output_type": "execute_result"
    }
   ],
   "source": [
    "#check for unusual values\n",
    "np.array(np.unique(ames_df['gr_liv_area'], return_counts=True)).T"
   ]
  },
  {
   "cell_type": "code",
   "execution_count": 70,
   "id": "bf673d29",
   "metadata": {},
   "outputs": [],
   "source": [
    "#replace NaN with 0\n",
    "ames_df['bsmt_full_bath'] = ames_df['bsmt_full_bath'].replace(np.nan,0)"
   ]
  },
  {
   "cell_type": "code",
   "execution_count": 71,
   "id": "7a14e450",
   "metadata": {},
   "outputs": [
    {
     "data": {
      "text/plain": [
       "array([[0.000e+00, 1.202e+03],\n",
       "       [1.000e+00, 8.240e+02],\n",
       "       [2.000e+00, 2.300e+01],\n",
       "       [3.000e+00, 2.000e+00]])"
      ]
     },
     "execution_count": 71,
     "metadata": {},
     "output_type": "execute_result"
    }
   ],
   "source": [
    "#check for unusual values\n",
    "np.array(np.unique(ames_df['bsmt_full_bath'], return_counts=True)).T"
   ]
  },
  {
   "cell_type": "code",
   "execution_count": 72,
   "id": "14a27656",
   "metadata": {},
   "outputs": [],
   "source": [
    "#replace NaN with 0\n",
    "ames_df['bsmt_half_bath'] = ames_df['bsmt_half_bath'].replace(np.nan,0)"
   ]
  },
  {
   "cell_type": "code",
   "execution_count": 73,
   "id": "28ba4ed2",
   "metadata": {},
   "outputs": [
    {
     "data": {
      "text/plain": [
       "array([[0.000e+00, 1.925e+03],\n",
       "       [1.000e+00, 1.220e+02],\n",
       "       [2.000e+00, 4.000e+00]])"
      ]
     },
     "execution_count": 73,
     "metadata": {},
     "output_type": "execute_result"
    }
   ],
   "source": [
    "#check for unusual values\n",
    "np.array(np.unique(ames_df['bsmt_half_bath'], return_counts=True)).T"
   ]
  },
  {
   "cell_type": "code",
   "execution_count": 74,
   "id": "5f2ac3bc",
   "metadata": {},
   "outputs": [
    {
     "data": {
      "text/plain": [
       "array([[   0,    8],\n",
       "       [   1,  900],\n",
       "       [   2, 1096],\n",
       "       [   3,   45],\n",
       "       [   4,    2]], dtype=int64)"
      ]
     },
     "execution_count": 74,
     "metadata": {},
     "output_type": "execute_result"
    }
   ],
   "source": [
    "#check for unusual values\n",
    "np.array(np.unique(ames_df['full_bath'], return_counts=True)).T"
   ]
  },
  {
   "cell_type": "code",
   "execution_count": 75,
   "id": "4b5cd1a1",
   "metadata": {},
   "outputs": [
    {
     "data": {
      "text/plain": [
       "array([[   0, 1308],\n",
       "       [   1,  725],\n",
       "       [   2,   18]], dtype=int64)"
      ]
     },
     "execution_count": 75,
     "metadata": {},
     "output_type": "execute_result"
    }
   ],
   "source": [
    "#check for unusual values\n",
    "np.array(np.unique(ames_df['half_bath'], return_counts=True)).T"
   ]
  },
  {
   "cell_type": "code",
   "execution_count": 76,
   "id": "d14e6b8d",
   "metadata": {},
   "outputs": [
    {
     "data": {
      "text/plain": [
       "array([[   0,    5],\n",
       "       [   1,   75],\n",
       "       [   2,  544],\n",
       "       [   3, 1108],\n",
       "       [   4,  265],\n",
       "       [   5,   41],\n",
       "       [   6,   12],\n",
       "       [   8,    1]], dtype=int64)"
      ]
     },
     "execution_count": 76,
     "metadata": {},
     "output_type": "execute_result"
    }
   ],
   "source": [
    "#check for unusual values\n",
    "np.array(np.unique(ames_df['bedroom_abvgr'], return_counts=True)).T"
   ]
  },
  {
   "cell_type": "code",
   "execution_count": 77,
   "id": "0053ceda",
   "metadata": {},
   "outputs": [
    {
     "data": {
      "text/plain": [
       "array([[   0,    2],\n",
       "       [   1, 1960],\n",
       "       [   2,   88],\n",
       "       [   3,    1]], dtype=int64)"
      ]
     },
     "execution_count": 77,
     "metadata": {},
     "output_type": "execute_result"
    }
   ],
   "source": [
    "#check for unusual values\n",
    "np.array(np.unique(ames_df['kitchen_abvgr'], return_counts=True)).T"
   ]
  },
  {
   "cell_type": "code",
   "execution_count": 78,
   "id": "c9ceb25b",
   "metadata": {},
   "outputs": [
    {
     "data": {
      "text/plain": [
       "array([['Ex', 151],\n",
       "       ['Fa', 47],\n",
       "       ['Gd', 806],\n",
       "       ['TA', 1047]], dtype=object)"
      ]
     },
     "execution_count": 78,
     "metadata": {},
     "output_type": "execute_result"
    }
   ],
   "source": [
    "#check for unusual values\n",
    "np.array(np.unique(ames_df['kitchen_qual'], return_counts=True)).T"
   ]
  },
  {
   "cell_type": "code",
   "execution_count": 79,
   "id": "a0bc8605",
   "metadata": {},
   "outputs": [
    {
     "data": {
      "text/plain": [
       "array([[  2,   1],\n",
       "       [  3,  12],\n",
       "       [  4, 146],\n",
       "       [  5, 407],\n",
       "       [  6, 597],\n",
       "       [  7, 475],\n",
       "       [  8, 228],\n",
       "       [  9,  98],\n",
       "       [ 10,  49],\n",
       "       [ 11,  22],\n",
       "       [ 12,  13],\n",
       "       [ 13,   1],\n",
       "       [ 14,   1],\n",
       "       [ 15,   1]], dtype=int64)"
      ]
     },
     "execution_count": 79,
     "metadata": {},
     "output_type": "execute_result"
    }
   ],
   "source": [
    "#check for unusual values\n",
    "np.array(np.unique(ames_df['totrms_abvgrd'], return_counts=True)).T"
   ]
  },
  {
   "cell_type": "code",
   "execution_count": 80,
   "id": "ff62c16e",
   "metadata": {},
   "outputs": [
    {
     "data": {
      "text/plain": [
       "array([['Maj1', 12],\n",
       "       ['Maj2', 7],\n",
       "       ['Min1', 42],\n",
       "       ['Min2', 42],\n",
       "       ['Mod', 29],\n",
       "       ['Sal', 2],\n",
       "       ['Sev', 2],\n",
       "       ['Typ', 1915]], dtype=object)"
      ]
     },
     "execution_count": 80,
     "metadata": {},
     "output_type": "execute_result"
    }
   ],
   "source": [
    "#check for unusual values\n",
    "np.array(np.unique(ames_df['functional'], return_counts=True)).T"
   ]
  },
  {
   "cell_type": "code",
   "execution_count": 81,
   "id": "21436520",
   "metadata": {},
   "outputs": [
    {
     "data": {
      "text/plain": [
       "array([[   0, 1000],\n",
       "       [   1,  898],\n",
       "       [   2,  146],\n",
       "       [   3,    6],\n",
       "       [   4,    1]], dtype=int64)"
      ]
     },
     "execution_count": 81,
     "metadata": {},
     "output_type": "execute_result"
    }
   ],
   "source": [
    "#check for unusual values\n",
    "np.array(np.unique(ames_df['fireplaces'], return_counts=True)).T"
   ]
  },
  {
   "cell_type": "code",
   "execution_count": 82,
   "id": "37b4c413",
   "metadata": {},
   "outputs": [],
   "source": [
    "#replace NaN values with None\n",
    "ames_df['fireplace_qu'] = ames_df['fireplace_qu'].replace(np.nan,'None')"
   ]
  },
  {
   "cell_type": "code",
   "execution_count": 83,
   "id": "767ac798",
   "metadata": {},
   "outputs": [
    {
     "data": {
      "text/plain": [
       "array([['Ex', 31],\n",
       "       ['Fa', 59],\n",
       "       ['Gd', 523],\n",
       "       ['None', 1000],\n",
       "       ['Po', 31],\n",
       "       ['TA', 407]], dtype=object)"
      ]
     },
     "execution_count": 83,
     "metadata": {},
     "output_type": "execute_result"
    }
   ],
   "source": [
    "#check for unusual values\n",
    "np.array(np.unique(ames_df['fireplace_qu'], return_counts=True)).T"
   ]
  },
  {
   "cell_type": "code",
   "execution_count": 84,
   "id": "db9bc9ef",
   "metadata": {},
   "outputs": [],
   "source": [
    "#replace NaN values with None\n",
    "ames_df['garage_type'] = ames_df['garage_type'].replace(np.nan,'None')"
   ]
  },
  {
   "cell_type": "code",
   "execution_count": 85,
   "id": "523ea9aa",
   "metadata": {},
   "outputs": [
    {
     "data": {
      "text/plain": [
       "array([['2Types', 19],\n",
       "       ['Attchd', 1213],\n",
       "       ['Basment', 27],\n",
       "       ['BuiltIn', 132],\n",
       "       ['CarPort', 11],\n",
       "       ['Detchd', 536],\n",
       "       ['None', 113]], dtype=object)"
      ]
     },
     "execution_count": 85,
     "metadata": {},
     "output_type": "execute_result"
    }
   ],
   "source": [
    "#check for unusual values\n",
    "np.array(np.unique(ames_df['garage_type'], return_counts=True)).T"
   ]
  },
  {
   "cell_type": "code",
   "execution_count": 86,
   "id": "96528b0e",
   "metadata": {},
   "outputs": [],
   "source": [
    "#replace NaN values with 0\n",
    "ames_df['garage_yr_blt'] = ames_df['garage_yr_blt'].replace(np.nan,0)"
   ]
  },
  {
   "cell_type": "code",
   "execution_count": 87,
   "id": "2ee63d42",
   "metadata": {},
   "outputs": [],
   "source": [
    "#convert 'garage_yr_blt' to int type\n",
    "ames_df['garage_yr_blt'] = ames_df['garage_yr_blt'].astype(int)"
   ]
  },
  {
   "cell_type": "code",
   "execution_count": 88,
   "id": "099dda4e",
   "metadata": {},
   "outputs": [
    {
     "data": {
      "text/plain": [
       "dtype('int32')"
      ]
     },
     "execution_count": 88,
     "metadata": {},
     "output_type": "execute_result"
    }
   ],
   "source": [
    "ames_df['garage_yr_blt'].dtypes"
   ]
  },
  {
   "cell_type": "code",
   "execution_count": 89,
   "id": "e225300c",
   "metadata": {},
   "outputs": [],
   "source": [
    "#replace NaN values with None\n",
    "ames_df['garage_finish'] = ames_df['garage_finish'].replace(np.nan,'None')"
   ]
  },
  {
   "cell_type": "code",
   "execution_count": 90,
   "id": "dffd7d05",
   "metadata": {},
   "outputs": [
    {
     "data": {
      "text/plain": [
       "array([['Fin', 509],\n",
       "       ['None', 114],\n",
       "       ['RFn', 579],\n",
       "       ['Unf', 849]], dtype=object)"
      ]
     },
     "execution_count": 90,
     "metadata": {},
     "output_type": "execute_result"
    }
   ],
   "source": [
    "#check for unusual values\n",
    "np.array(np.unique(ames_df['garage_finish'], return_counts=True)).T"
   ]
  },
  {
   "cell_type": "code",
   "execution_count": 91,
   "id": "f3f15e8e",
   "metadata": {},
   "outputs": [],
   "source": [
    "#replace NaN values with 0\n",
    "ames_df['garage_cars'] = ames_df['garage_cars'].replace(np.nan,0)"
   ]
  },
  {
   "cell_type": "code",
   "execution_count": 92,
   "id": "5e84b033",
   "metadata": {},
   "outputs": [],
   "source": [
    "#convert 'garage_cars' to int type\n",
    "ames_df['garage_cars']=ames_df['garage_cars'].astype(int)"
   ]
  },
  {
   "cell_type": "code",
   "execution_count": 93,
   "id": "80940842",
   "metadata": {},
   "outputs": [
    {
     "data": {
      "text/plain": [
       "array([[   0,  114],\n",
       "       [   1,  524],\n",
       "       [   2, 1136],\n",
       "       [   3,  263],\n",
       "       [   4,   13],\n",
       "       [   5,    1]], dtype=int64)"
      ]
     },
     "execution_count": 93,
     "metadata": {},
     "output_type": "execute_result"
    }
   ],
   "source": [
    "#check for unusual values\n",
    "np.array(np.unique(ames_df['garage_cars'], return_counts=True)).T"
   ]
  },
  {
   "cell_type": "code",
   "execution_count": 94,
   "id": "c381377e",
   "metadata": {},
   "outputs": [
    {
     "data": {
      "text/plain": [
       "dtype('int32')"
      ]
     },
     "execution_count": 94,
     "metadata": {},
     "output_type": "execute_result"
    }
   ],
   "source": [
    "ames_df['garage_cars'].dtypes"
   ]
  },
  {
   "cell_type": "code",
   "execution_count": 95,
   "id": "dd8053f7",
   "metadata": {},
   "outputs": [],
   "source": [
    "#replace NaN values with 0\n",
    "ames_df['garage_area'] = ames_df['garage_area'].replace(np.nan,0)"
   ]
  },
  {
   "cell_type": "code",
   "execution_count": 96,
   "id": "c5f3f68a",
   "metadata": {},
   "outputs": [],
   "source": [
    "#convert 'garage_area' to int type\n",
    "ames_df['garage_area']=ames_df['garage_area'].astype(int)"
   ]
  },
  {
   "cell_type": "code",
   "execution_count": 97,
   "id": "8599d3fa",
   "metadata": {},
   "outputs": [
    {
     "data": {
      "text/plain": [
       "array([[   0,  114],\n",
       "       [ 100,    1],\n",
       "       [ 160,    2],\n",
       "       ...,\n",
       "       [1348,    1],\n",
       "       [1356,    1],\n",
       "       [1418,    1]], dtype=int64)"
      ]
     },
     "execution_count": 97,
     "metadata": {},
     "output_type": "execute_result"
    }
   ],
   "source": [
    "#check for unusual values\n",
    "np.array(np.unique(ames_df['garage_area'], return_counts=True)).T"
   ]
  },
  {
   "cell_type": "code",
   "execution_count": 98,
   "id": "9005a542",
   "metadata": {},
   "outputs": [
    {
     "data": {
      "text/plain": [
       "dtype('int32')"
      ]
     },
     "execution_count": 98,
     "metadata": {},
     "output_type": "execute_result"
    }
   ],
   "source": [
    "ames_df['garage_area'].dtypes"
   ]
  },
  {
   "cell_type": "code",
   "execution_count": 99,
   "id": "d72cdadc",
   "metadata": {},
   "outputs": [],
   "source": [
    "#replace NaN values with 'None' \n",
    "ames_df['garage_qual'] = ames_df['garage_qual'].replace(np.nan,'None')"
   ]
  },
  {
   "cell_type": "code",
   "execution_count": 100,
   "id": "c4215f59",
   "metadata": {},
   "outputs": [
    {
     "data": {
      "text/plain": [
       "array([['Ex', 3],\n",
       "       ['Fa', 82],\n",
       "       ['Gd', 18],\n",
       "       ['None', 114],\n",
       "       ['Po', 2],\n",
       "       ['TA', 1832]], dtype=object)"
      ]
     },
     "execution_count": 100,
     "metadata": {},
     "output_type": "execute_result"
    }
   ],
   "source": [
    "#check for unusual values\n",
    "np.array(np.unique(ames_df['garage_qual'], return_counts=True)).T"
   ]
  },
  {
   "cell_type": "code",
   "execution_count": 101,
   "id": "064dd61f",
   "metadata": {},
   "outputs": [],
   "source": [
    "#replace NaN values with 'None' in 'garage_cond'\n",
    "ames_df['garage_cond'] = ames_df['garage_cond'].replace(np.nan,'None')"
   ]
  },
  {
   "cell_type": "code",
   "execution_count": 102,
   "id": "2239d007",
   "metadata": {},
   "outputs": [
    {
     "data": {
      "text/plain": [
       "array([['Ex', 2],\n",
       "       ['Fa', 47],\n",
       "       ['Gd', 12],\n",
       "       ['None', 114],\n",
       "       ['Po', 8],\n",
       "       ['TA', 1868]], dtype=object)"
      ]
     },
     "execution_count": 102,
     "metadata": {},
     "output_type": "execute_result"
    }
   ],
   "source": [
    "#check for unusual values\n",
    "np.array(np.unique(ames_df['garage_cond'], return_counts=True)).T"
   ]
  },
  {
   "cell_type": "code",
   "execution_count": 103,
   "id": "6194eec0",
   "metadata": {},
   "outputs": [
    {
     "data": {
      "text/plain": [
       "array([['N', 151],\n",
       "       ['P', 39],\n",
       "       ['Y', 1861]], dtype=object)"
      ]
     },
     "execution_count": 103,
     "metadata": {},
     "output_type": "execute_result"
    }
   ],
   "source": [
    "#check for unusual values\n",
    "np.array(np.unique(ames_df['paved_drive'], return_counts=True)).T"
   ]
  },
  {
   "cell_type": "code",
   "execution_count": 104,
   "id": "3c1199f8",
   "metadata": {},
   "outputs": [
    {
     "data": {
      "text/plain": [
       "array([[   0, 1075],\n",
       "       [   4,    1],\n",
       "       [  12,    2],\n",
       "       [  14,    1],\n",
       "       [  16,    1],\n",
       "       [  22,    1],\n",
       "       [  24,    5],\n",
       "       [  26,    1],\n",
       "       [  28,    3],\n",
       "       [  30,    2],\n",
       "       [  32,    2],\n",
       "       [  33,    1],\n",
       "       [  35,    1],\n",
       "       [  36,    5],\n",
       "       [  38,    2],\n",
       "       [  40,    2],\n",
       "       [  42,    2],\n",
       "       [  45,    1],\n",
       "       [  48,    8],\n",
       "       [  49,    2],\n",
       "       [  50,    1],\n",
       "       [  51,    1],\n",
       "       [  52,    3],\n",
       "       [  53,    1],\n",
       "       [  54,    2],\n",
       "       [  56,    1],\n",
       "       [  58,    2],\n",
       "       [  60,    2],\n",
       "       [  63,    2],\n",
       "       [  64,    6],\n",
       "       [  66,    2],\n",
       "       [  68,    2],\n",
       "       [  70,    1],\n",
       "       [  72,    1],\n",
       "       [  73,    1],\n",
       "       [  74,    2],\n",
       "       [  75,    1],\n",
       "       [  78,    1],\n",
       "       [  80,    5],\n",
       "       [  81,    4],\n",
       "       [  84,    4],\n",
       "       [  85,    2],\n",
       "       [  86,    1],\n",
       "       [  87,    1],\n",
       "       [  88,    5],\n",
       "       [  90,    1],\n",
       "       [  92,    3],\n",
       "       [  94,    1],\n",
       "       [  96,    6],\n",
       "       [  97,    1],\n",
       "       [  98,    1],\n",
       "       [  99,    1],\n",
       "       [ 100,   53],\n",
       "       [ 102,    1],\n",
       "       [ 103,    1],\n",
       "       [ 104,    3],\n",
       "       [ 105,    6],\n",
       "       [ 106,    1],\n",
       "       [ 108,    8],\n",
       "       [ 110,    1],\n",
       "       [ 112,    7],\n",
       "       [ 113,    2],\n",
       "       [ 114,    5],\n",
       "       [ 115,    1],\n",
       "       [ 116,    1],\n",
       "       [ 117,    2],\n",
       "       [ 118,    1],\n",
       "       [ 119,    1],\n",
       "       [ 120,   40],\n",
       "       [ 121,    1],\n",
       "       [ 122,    2],\n",
       "       [ 123,    1],\n",
       "       [ 124,    1],\n",
       "       [ 125,    3],\n",
       "       [ 126,    2],\n",
       "       [ 128,    7],\n",
       "       [ 129,    1],\n",
       "       [ 130,    2],\n",
       "       [ 131,    1],\n",
       "       [ 132,    7],\n",
       "       [ 133,    4],\n",
       "       [ 134,    1],\n",
       "       [ 135,    3],\n",
       "       [ 136,    7],\n",
       "       [ 138,    5],\n",
       "       [ 140,   23],\n",
       "       [ 141,    2],\n",
       "       [ 142,    1],\n",
       "       [ 143,   13],\n",
       "       [ 144,   46],\n",
       "       [ 146,    4],\n",
       "       [ 147,    5],\n",
       "       [ 148,    4],\n",
       "       [ 150,    5],\n",
       "       [ 152,    2],\n",
       "       [ 153,    1],\n",
       "       [ 154,    5],\n",
       "       [ 155,    2],\n",
       "       [ 156,    8],\n",
       "       [ 157,    1],\n",
       "       [ 158,    6],\n",
       "       [ 159,    1],\n",
       "       [ 160,   14],\n",
       "       [ 161,    3],\n",
       "       [ 162,    5],\n",
       "       [ 164,    3],\n",
       "       [ 165,    4],\n",
       "       [ 166,    2],\n",
       "       [ 167,    1],\n",
       "       [ 168,   36],\n",
       "       [ 169,    3],\n",
       "       [ 170,    3],\n",
       "       [ 171,    2],\n",
       "       [ 172,    3],\n",
       "       [ 173,    2],\n",
       "       [ 174,    1],\n",
       "       [ 176,    3],\n",
       "       [ 177,    1],\n",
       "       [ 178,    4],\n",
       "       [ 180,    4],\n",
       "       [ 182,    6],\n",
       "       [ 183,    1],\n",
       "       [ 184,    5],\n",
       "       [ 185,    2],\n",
       "       [ 186,    1],\n",
       "       [ 187,    4],\n",
       "       [ 188,    7],\n",
       "       [ 189,    1],\n",
       "       [ 190,    2],\n",
       "       [ 191,    1],\n",
       "       [ 192,   43],\n",
       "       [ 193,    3],\n",
       "       [ 194,    4],\n",
       "       [ 195,    1],\n",
       "       [ 196,    7],\n",
       "       [ 197,    1],\n",
       "       [ 198,    3],\n",
       "       [ 199,    1],\n",
       "       [ 200,   10],\n",
       "       [ 201,    5],\n",
       "       [ 202,    3],\n",
       "       [ 203,    6],\n",
       "       [ 204,    3],\n",
       "       [ 205,    1],\n",
       "       [ 206,    2],\n",
       "       [ 207,    1],\n",
       "       [ 208,    8],\n",
       "       [ 209,    2],\n",
       "       [ 210,    7],\n",
       "       [ 211,    1],\n",
       "       [ 212,    3],\n",
       "       [ 214,    3],\n",
       "       [ 216,   12],\n",
       "       [ 218,    3],\n",
       "       [ 219,    1],\n",
       "       [ 220,    3],\n",
       "       [ 221,    1],\n",
       "       [ 222,    2],\n",
       "       [ 223,    1],\n",
       "       [ 224,   17],\n",
       "       [ 225,    3],\n",
       "       [ 226,    2],\n",
       "       [ 227,    1],\n",
       "       [ 228,    4],\n",
       "       [ 229,    1],\n",
       "       [ 230,    2],\n",
       "       [ 232,    1],\n",
       "       [ 233,    1],\n",
       "       [ 235,    1],\n",
       "       [ 236,    1],\n",
       "       [ 237,    3],\n",
       "       [ 238,    3],\n",
       "       [ 239,    2],\n",
       "       [ 240,   12],\n",
       "       [ 241,    1],\n",
       "       [ 242,    1],\n",
       "       [ 243,    2],\n",
       "       [ 244,    1],\n",
       "       [ 245,    1],\n",
       "       [ 246,    1],\n",
       "       [ 248,    1],\n",
       "       [ 250,    5],\n",
       "       [ 252,    7],\n",
       "       [ 253,    1],\n",
       "       [ 255,    1],\n",
       "       [ 256,    6],\n",
       "       [ 257,    1],\n",
       "       [ 259,    1],\n",
       "       [ 260,    1],\n",
       "       [ 261,    1],\n",
       "       [ 262,    2],\n",
       "       [ 263,    1],\n",
       "       [ 264,    8],\n",
       "       [ 265,    2],\n",
       "       [ 266,    3],\n",
       "       [ 268,    3],\n",
       "       [ 269,    1],\n",
       "       [ 270,    2],\n",
       "       [ 272,    2],\n",
       "       [ 275,    2],\n",
       "       [ 276,    2],\n",
       "       [ 277,    1],\n",
       "       [ 278,    2],\n",
       "       [ 280,    8],\n",
       "       [ 282,    2],\n",
       "       [ 283,    1],\n",
       "       [ 284,    2],\n",
       "       [ 286,    1],\n",
       "       [ 287,    1],\n",
       "       [ 288,    6],\n",
       "       [ 289,    2],\n",
       "       [ 290,    4],\n",
       "       [ 291,    1],\n",
       "       [ 292,    3],\n",
       "       [ 295,    1],\n",
       "       [ 296,    3],\n",
       "       [ 297,    1],\n",
       "       [ 298,    2],\n",
       "       [ 300,    2],\n",
       "       [ 302,    3],\n",
       "       [ 303,    1],\n",
       "       [ 305,    1],\n",
       "       [ 306,    3],\n",
       "       [ 307,    3],\n",
       "       [ 308,    1],\n",
       "       [ 309,    1],\n",
       "       [ 311,    1],\n",
       "       [ 312,    4],\n",
       "       [ 314,    1],\n",
       "       [ 315,    2],\n",
       "       [ 316,    1],\n",
       "       [ 318,    1],\n",
       "       [ 319,    1],\n",
       "       [ 320,    2],\n",
       "       [ 321,    2],\n",
       "       [ 324,    1],\n",
       "       [ 327,    1],\n",
       "       [ 328,    3],\n",
       "       [ 329,    1],\n",
       "       [ 333,    1],\n",
       "       [ 335,    2],\n",
       "       [ 336,    1],\n",
       "       [ 340,    2],\n",
       "       [ 342,    2],\n",
       "       [ 344,    1],\n",
       "       [ 345,    1],\n",
       "       [ 349,    2],\n",
       "       [ 352,    3],\n",
       "       [ 354,    1],\n",
       "       [ 355,    1],\n",
       "       [ 356,    2],\n",
       "       [ 358,    1],\n",
       "       [ 364,    2],\n",
       "       [ 365,    1],\n",
       "       [ 367,    1],\n",
       "       [ 370,    1],\n",
       "       [ 371,    1],\n",
       "       [ 375,    1],\n",
       "       [ 379,    1],\n",
       "       [ 380,    1],\n",
       "       [ 382,    1],\n",
       "       [ 384,    1],\n",
       "       [ 385,    1],\n",
       "       [ 386,    1],\n",
       "       [ 390,    1],\n",
       "       [ 392,    1],\n",
       "       [ 393,    1],\n",
       "       [ 394,    1],\n",
       "       [ 400,    3],\n",
       "       [ 404,    1],\n",
       "       [ 406,    1],\n",
       "       [ 407,    1],\n",
       "       [ 409,    1],\n",
       "       [ 413,    1],\n",
       "       [ 414,    2],\n",
       "       [ 416,    1],\n",
       "       [ 418,    1],\n",
       "       [ 421,    1],\n",
       "       [ 424,    2],\n",
       "       [ 428,    1],\n",
       "       [ 431,    3],\n",
       "       [ 432,    1],\n",
       "       [ 436,    1],\n",
       "       [ 439,    1],\n",
       "       [ 441,    1],\n",
       "       [ 444,    1],\n",
       "       [ 450,    1],\n",
       "       [ 455,    1],\n",
       "       [ 460,    1],\n",
       "       [ 462,    1],\n",
       "       [ 466,    1],\n",
       "       [ 467,    1],\n",
       "       [ 474,    1],\n",
       "       [ 476,    1],\n",
       "       [ 483,    2],\n",
       "       [ 495,    1],\n",
       "       [ 496,    1],\n",
       "       [ 500,    1],\n",
       "       [ 503,    1],\n",
       "       [ 509,    1],\n",
       "       [ 517,    1],\n",
       "       [ 519,    1],\n",
       "       [ 520,    1],\n",
       "       [ 521,    1],\n",
       "       [ 530,    1],\n",
       "       [ 536,    1],\n",
       "       [ 546,    1],\n",
       "       [ 550,    1],\n",
       "       [ 576,    1],\n",
       "       [ 586,    1],\n",
       "       [ 631,    1],\n",
       "       [ 635,    1],\n",
       "       [ 641,    1],\n",
       "       [ 646,    1],\n",
       "       [ 657,    1],\n",
       "       [ 668,    1],\n",
       "       [ 684,    1],\n",
       "       [ 728,    1],\n",
       "       [ 736,    1],\n",
       "       [ 857,    1],\n",
       "       [ 870,    1],\n",
       "       [1424,    1]], dtype=int64)"
      ]
     },
     "execution_count": 104,
     "metadata": {},
     "output_type": "execute_result"
    }
   ],
   "source": [
    "#check for unusual values\n",
    "np.array(np.unique(ames_df['wood_deck_sf'], return_counts=True)).T"
   ]
  },
  {
   "cell_type": "code",
   "execution_count": 105,
   "id": "0131f863",
   "metadata": {},
   "outputs": [
    {
     "data": {
      "text/plain": [
       "array([[  0, 912],\n",
       "       [  4,   1],\n",
       "       [  8,   1],\n",
       "       [ 10,   2],\n",
       "       [ 11,   3],\n",
       "       [ 12,   3],\n",
       "       [ 15,   1],\n",
       "       [ 16,  11],\n",
       "       [ 17,   2],\n",
       "       [ 18,   5],\n",
       "       [ 20,  24],\n",
       "       [ 21,   8],\n",
       "       [ 22,   6],\n",
       "       [ 23,   3],\n",
       "       [ 24,  23],\n",
       "       [ 25,   9],\n",
       "       [ 26,  11],\n",
       "       [ 27,   7],\n",
       "       [ 28,  18],\n",
       "       [ 29,   6],\n",
       "       [ 30,  23],\n",
       "       [ 31,   1],\n",
       "       [ 32,  29],\n",
       "       [ 33,   9],\n",
       "       [ 34,   8],\n",
       "       [ 35,  15],\n",
       "       [ 36,  38],\n",
       "       [ 37,   1],\n",
       "       [ 38,  11],\n",
       "       [ 39,  15],\n",
       "       [ 40,  34],\n",
       "       [ 41,   3],\n",
       "       [ 42,   8],\n",
       "       [ 43,   2],\n",
       "       [ 44,  15],\n",
       "       [ 45,  20],\n",
       "       [ 46,   9],\n",
       "       [ 47,   3],\n",
       "       [ 48,  40],\n",
       "       [ 49,   7],\n",
       "       [ 50,  20],\n",
       "       [ 51,   6],\n",
       "       [ 52,  11],\n",
       "       [ 53,   9],\n",
       "       [ 54,  13],\n",
       "       [ 55,  10],\n",
       "       [ 56,  11],\n",
       "       [ 57,   5],\n",
       "       [ 58,   5],\n",
       "       [ 59,   5],\n",
       "       [ 60,  23],\n",
       "       [ 61,   3],\n",
       "       [ 62,   5],\n",
       "       [ 63,   9],\n",
       "       [ 64,  15],\n",
       "       [ 65,   6],\n",
       "       [ 66,  10],\n",
       "       [ 67,   3],\n",
       "       [ 68,  13],\n",
       "       [ 69,   2],\n",
       "       [ 70,  12],\n",
       "       [ 72,  16],\n",
       "       [ 73,   7],\n",
       "       [ 74,   7],\n",
       "       [ 75,  11],\n",
       "       [ 76,   4],\n",
       "       [ 77,   2],\n",
       "       [ 78,   7],\n",
       "       [ 80,  12],\n",
       "       [ 81,   4],\n",
       "       [ 82,   7],\n",
       "       [ 84,  14],\n",
       "       [ 85,   4],\n",
       "       [ 86,   3],\n",
       "       [ 87,   3],\n",
       "       [ 88,   8],\n",
       "       [ 89,   1],\n",
       "       [ 90,  11],\n",
       "       [ 91,   4],\n",
       "       [ 92,   4],\n",
       "       [ 93,   4],\n",
       "       [ 94,   1],\n",
       "       [ 95,   2],\n",
       "       [ 96,  14],\n",
       "       [ 97,   1],\n",
       "       [ 98,   8],\n",
       "       [ 99,   4],\n",
       "       [100,   9],\n",
       "       [101,   4],\n",
       "       [102,  10],\n",
       "       [103,   4],\n",
       "       [104,   7],\n",
       "       [105,   7],\n",
       "       [106,   1],\n",
       "       [107,   1],\n",
       "       [108,   9],\n",
       "       [110,   7],\n",
       "       [111,   2],\n",
       "       [112,   8],\n",
       "       [113,   5],\n",
       "       [114,   4],\n",
       "       [116,   5],\n",
       "       [117,   1],\n",
       "       [118,   1],\n",
       "       [119,   4],\n",
       "       [120,  16],\n",
       "       [121,   4],\n",
       "       [122,   4],\n",
       "       [123,   3],\n",
       "       [124,   2],\n",
       "       [125,   1],\n",
       "       [126,   3],\n",
       "       [127,   3],\n",
       "       [128,   5],\n",
       "       [129,   1],\n",
       "       [130,   6],\n",
       "       [131,   1],\n",
       "       [132,   1],\n",
       "       [133,   2],\n",
       "       [134,   1],\n",
       "       [135,   2],\n",
       "       [136,   6],\n",
       "       [137,   1],\n",
       "       [138,   1],\n",
       "       [140,   6],\n",
       "       [141,   3],\n",
       "       [142,   5],\n",
       "       [144,   8],\n",
       "       [146,   4],\n",
       "       [148,   3],\n",
       "       [150,   5],\n",
       "       [151,   3],\n",
       "       [152,   2],\n",
       "       [153,   2],\n",
       "       [154,   4],\n",
       "       [155,   2],\n",
       "       [156,   1],\n",
       "       [158,   3],\n",
       "       [159,   1],\n",
       "       [160,   2],\n",
       "       [162,   2],\n",
       "       [164,   1],\n",
       "       [165,   2],\n",
       "       [166,   6],\n",
       "       [168,   5],\n",
       "       [169,   1],\n",
       "       [170,   2],\n",
       "       [171,   1],\n",
       "       [172,   6],\n",
       "       [173,   2],\n",
       "       [174,   1],\n",
       "       [175,   2],\n",
       "       [176,   3],\n",
       "       [180,   2],\n",
       "       [182,   1],\n",
       "       [183,   1],\n",
       "       [184,   2],\n",
       "       [185,   1],\n",
       "       [187,   1],\n",
       "       [189,   3],\n",
       "       [190,   1],\n",
       "       [191,   2],\n",
       "       [192,   7],\n",
       "       [195,   2],\n",
       "       [197,   1],\n",
       "       [198,   1],\n",
       "       [199,   1],\n",
       "       [200,   2],\n",
       "       [204,   2],\n",
       "       [205,   1],\n",
       "       [207,   3],\n",
       "       [208,   2],\n",
       "       [210,   2],\n",
       "       [211,   4],\n",
       "       [213,   1],\n",
       "       [214,   1],\n",
       "       [215,   1],\n",
       "       [224,   1],\n",
       "       [225,   1],\n",
       "       [226,   1],\n",
       "       [228,   5],\n",
       "       [229,   1],\n",
       "       [231,   1],\n",
       "       [234,   2],\n",
       "       [235,   3],\n",
       "       [236,   1],\n",
       "       [238,   2],\n",
       "       [240,   3],\n",
       "       [241,   1],\n",
       "       [243,   1],\n",
       "       [244,   1],\n",
       "       [245,   1],\n",
       "       [251,   1],\n",
       "       [252,   1],\n",
       "       [256,   1],\n",
       "       [258,   1],\n",
       "       [260,   1],\n",
       "       [265,   2],\n",
       "       [266,   1],\n",
       "       [274,   1],\n",
       "       [276,   1],\n",
       "       [278,   1],\n",
       "       [282,   1],\n",
       "       [285,   1],\n",
       "       [288,   1],\n",
       "       [291,   1],\n",
       "       [292,   1],\n",
       "       [299,   1],\n",
       "       [304,   2],\n",
       "       [312,   3],\n",
       "       [319,   1],\n",
       "       [324,   1],\n",
       "       [341,   1],\n",
       "       [364,   1],\n",
       "       [365,   1],\n",
       "       [368,   1],\n",
       "       [372,   1],\n",
       "       [418,   1],\n",
       "       [444,   1],\n",
       "       [484,   1],\n",
       "       [502,   1],\n",
       "       [523,   1],\n",
       "       [547,   1]], dtype=int64)"
      ]
     },
     "execution_count": 105,
     "metadata": {},
     "output_type": "execute_result"
    }
   ],
   "source": [
    "#check for unusual values\n",
    "np.array(np.unique(ames_df['open_porch_sf'], return_counts=True)).T"
   ]
  },
  {
   "cell_type": "code",
   "execution_count": 106,
   "id": "2da17783",
   "metadata": {},
   "outputs": [
    {
     "data": {
      "text/plain": [
       "array([[   0, 1724],\n",
       "       [  16,    1],\n",
       "       [  18,    1],\n",
       "       [  19,    1],\n",
       "       [  20,    1],\n",
       "       [  23,    1],\n",
       "       [  24,    2],\n",
       "       [  25,    1],\n",
       "       [  26,    1],\n",
       "       [  30,    3],\n",
       "       [  32,    2],\n",
       "       [  34,    3],\n",
       "       [  35,    2],\n",
       "       [  36,    5],\n",
       "       [  37,    1],\n",
       "       [  39,    2],\n",
       "       [  40,    6],\n",
       "       [  42,    2],\n",
       "       [  43,    1],\n",
       "       [  44,    1],\n",
       "       [  45,    2],\n",
       "       [  48,    2],\n",
       "       [  50,    1],\n",
       "       [  52,    2],\n",
       "       [  54,    1],\n",
       "       [  55,    1],\n",
       "       [  56,    4],\n",
       "       [  57,    1],\n",
       "       [  60,    4],\n",
       "       [  64,    3],\n",
       "       [  66,    1],\n",
       "       [  67,    1],\n",
       "       [  68,    2],\n",
       "       [  70,    4],\n",
       "       [  72,    1],\n",
       "       [  75,    1],\n",
       "       [  77,    4],\n",
       "       [  78,    2],\n",
       "       [  80,    2],\n",
       "       [  81,    2],\n",
       "       [  84,    6],\n",
       "       [  87,    1],\n",
       "       [  88,    1],\n",
       "       [  90,    3],\n",
       "       [  92,    1],\n",
       "       [  94,    1],\n",
       "       [  96,   10],\n",
       "       [  98,    1],\n",
       "       [  99,    1],\n",
       "       [ 100,    5],\n",
       "       [ 101,    1],\n",
       "       [ 102,    1],\n",
       "       [ 104,    1],\n",
       "       [ 105,    3],\n",
       "       [ 109,    1],\n",
       "       [ 112,   13],\n",
       "       [ 113,    1],\n",
       "       [ 114,    2],\n",
       "       [ 115,    2],\n",
       "       [ 116,    5],\n",
       "       [ 117,    1],\n",
       "       [ 120,    6],\n",
       "       [ 121,    1],\n",
       "       [ 122,    1],\n",
       "       [ 123,    1],\n",
       "       [ 126,    2],\n",
       "       [ 128,    6],\n",
       "       [ 129,    1],\n",
       "       [ 130,    1],\n",
       "       [ 133,    1],\n",
       "       [ 134,    2],\n",
       "       [ 135,    2],\n",
       "       [ 136,    2],\n",
       "       [ 137,    1],\n",
       "       [ 138,    2],\n",
       "       [ 140,    3],\n",
       "       [ 143,    2],\n",
       "       [ 144,    6],\n",
       "       [ 145,    1],\n",
       "       [ 148,    5],\n",
       "       [ 150,    5],\n",
       "       [ 154,    3],\n",
       "       [ 156,    5],\n",
       "       [ 158,    2],\n",
       "       [ 160,    5],\n",
       "       [ 161,    1],\n",
       "       [ 162,    1],\n",
       "       [ 164,    4],\n",
       "       [ 165,    1],\n",
       "       [ 167,    1],\n",
       "       [ 168,    5],\n",
       "       [ 169,    1],\n",
       "       [ 170,    1],\n",
       "       [ 172,    1],\n",
       "       [ 174,    1],\n",
       "       [ 175,    1],\n",
       "       [ 176,    5],\n",
       "       [ 177,    1],\n",
       "       [ 180,    5],\n",
       "       [ 183,    1],\n",
       "       [ 184,    2],\n",
       "       [ 185,    1],\n",
       "       [ 186,    2],\n",
       "       [ 189,    1],\n",
       "       [ 190,    1],\n",
       "       [ 192,    6],\n",
       "       [ 194,    1],\n",
       "       [ 196,    1],\n",
       "       [ 198,    1],\n",
       "       [ 200,    2],\n",
       "       [ 202,    1],\n",
       "       [ 203,    1],\n",
       "       [ 204,    1],\n",
       "       [ 205,    3],\n",
       "       [ 207,    1],\n",
       "       [ 208,    1],\n",
       "       [ 210,    1],\n",
       "       [ 211,    2],\n",
       "       [ 212,    3],\n",
       "       [ 213,    1],\n",
       "       [ 214,    1],\n",
       "       [ 216,    6],\n",
       "       [ 218,    2],\n",
       "       [ 219,    1],\n",
       "       [ 222,    2],\n",
       "       [ 224,    1],\n",
       "       [ 225,    1],\n",
       "       [ 226,    1],\n",
       "       [ 228,    2],\n",
       "       [ 230,    1],\n",
       "       [ 231,    1],\n",
       "       [ 234,    2],\n",
       "       [ 236,    3],\n",
       "       [ 239,    1],\n",
       "       [ 240,    3],\n",
       "       [ 244,    2],\n",
       "       [ 246,    2],\n",
       "       [ 249,    1],\n",
       "       [ 252,    2],\n",
       "       [ 256,    1],\n",
       "       [ 259,    1],\n",
       "       [ 260,    1],\n",
       "       [ 264,    2],\n",
       "       [ 265,    1],\n",
       "       [ 268,    1],\n",
       "       [ 272,    1],\n",
       "       [ 275,    1],\n",
       "       [ 280,    4],\n",
       "       [ 288,    1],\n",
       "       [ 291,    1],\n",
       "       [ 294,    1],\n",
       "       [ 296,    1],\n",
       "       [ 301,    1],\n",
       "       [ 318,    1],\n",
       "       [ 324,    1],\n",
       "       [ 330,    1],\n",
       "       [ 364,    1],\n",
       "       [ 368,    1],\n",
       "       [ 432,    1]], dtype=int64)"
      ]
     },
     "execution_count": 106,
     "metadata": {},
     "output_type": "execute_result"
    }
   ],
   "source": [
    "#check for unusual values\n",
    "np.array(np.unique(ames_df['enclosed_porch'], return_counts=True)).T"
   ]
  },
  {
   "cell_type": "code",
   "execution_count": 107,
   "id": "23a9d8eb",
   "metadata": {},
   "outputs": [
    {
     "data": {
      "text/plain": [
       "array([[   0, 2025],\n",
       "       [  86,    1],\n",
       "       [  96,    1],\n",
       "       [ 120,    1],\n",
       "       [ 140,    1],\n",
       "       [ 144,    2],\n",
       "       [ 150,    1],\n",
       "       [ 153,    3],\n",
       "       [ 162,    1],\n",
       "       [ 168,    3],\n",
       "       [ 176,    1],\n",
       "       [ 180,    1],\n",
       "       [ 182,    1],\n",
       "       [ 216,    1],\n",
       "       [ 224,    1],\n",
       "       [ 245,    1],\n",
       "       [ 255,    1],\n",
       "       [ 290,    1],\n",
       "       [ 304,    1],\n",
       "       [ 323,    1],\n",
       "       [ 407,    1],\n",
       "       [ 508,    1]], dtype=int64)"
      ]
     },
     "execution_count": 107,
     "metadata": {},
     "output_type": "execute_result"
    }
   ],
   "source": [
    "#check for unusual values\n",
    "np.array(np.unique(ames_df['3ssn_porch'], return_counts=True)).T"
   ]
  },
  {
   "cell_type": "code",
   "execution_count": 108,
   "id": "7bd078b1",
   "metadata": {},
   "outputs": [
    {
     "data": {
      "text/plain": [
       "array([[   0, 1870],\n",
       "       [  53,    1],\n",
       "       [  64,    1],\n",
       "       [  84,    1],\n",
       "       [  88,    1],\n",
       "       [  90,    2],\n",
       "       [  92,    1],\n",
       "       [  94,    1],\n",
       "       [  95,    2],\n",
       "       [ 100,    4],\n",
       "       [ 104,    1],\n",
       "       [ 108,    1],\n",
       "       [ 109,    1],\n",
       "       [ 110,    1],\n",
       "       [ 111,    1],\n",
       "       [ 112,    2],\n",
       "       [ 113,    1],\n",
       "       [ 115,    1],\n",
       "       [ 116,    1],\n",
       "       [ 120,    6],\n",
       "       [ 122,    1],\n",
       "       [ 126,    3],\n",
       "       [ 130,    1],\n",
       "       [ 135,    1],\n",
       "       [ 138,    1],\n",
       "       [ 140,    2],\n",
       "       [ 141,    1],\n",
       "       [ 142,    3],\n",
       "       [ 143,    1],\n",
       "       [ 144,    9],\n",
       "       [ 145,    2],\n",
       "       [ 147,    3],\n",
       "       [ 148,    1],\n",
       "       [ 150,    1],\n",
       "       [ 152,    1],\n",
       "       [ 153,    2],\n",
       "       [ 154,    1],\n",
       "       [ 155,    3],\n",
       "       [ 156,    2],\n",
       "       [ 160,    2],\n",
       "       [ 161,    3],\n",
       "       [ 162,    1],\n",
       "       [ 163,    1],\n",
       "       [ 164,    1],\n",
       "       [ 165,    2],\n",
       "       [ 168,    8],\n",
       "       [ 170,    2],\n",
       "       [ 171,    1],\n",
       "       [ 174,    1],\n",
       "       [ 175,    2],\n",
       "       [ 176,    2],\n",
       "       [ 180,    7],\n",
       "       [ 182,    3],\n",
       "       [ 184,    1],\n",
       "       [ 189,    3],\n",
       "       [ 190,    1],\n",
       "       [ 192,    7],\n",
       "       [ 195,    2],\n",
       "       [ 196,    1],\n",
       "       [ 198,    1],\n",
       "       [ 200,    3],\n",
       "       [ 201,    1],\n",
       "       [ 204,    1],\n",
       "       [ 208,    1],\n",
       "       [ 210,    3],\n",
       "       [ 216,    5],\n",
       "       [ 217,    1],\n",
       "       [ 220,    1],\n",
       "       [ 222,    1],\n",
       "       [ 224,    6],\n",
       "       [ 225,    3],\n",
       "       [ 227,    1],\n",
       "       [ 231,    1],\n",
       "       [ 233,    1],\n",
       "       [ 234,    1],\n",
       "       [ 240,    2],\n",
       "       [ 252,    1],\n",
       "       [ 255,    2],\n",
       "       [ 259,    1],\n",
       "       [ 260,    1],\n",
       "       [ 264,    1],\n",
       "       [ 265,    1],\n",
       "       [ 266,    1],\n",
       "       [ 270,    1],\n",
       "       [ 271,    1],\n",
       "       [ 276,    1],\n",
       "       [ 280,    1],\n",
       "       [ 288,    3],\n",
       "       [ 291,    1],\n",
       "       [ 312,    1],\n",
       "       [ 322,    2],\n",
       "       [ 342,    1],\n",
       "       [ 348,    1],\n",
       "       [ 374,    1],\n",
       "       [ 385,    1],\n",
       "       [ 396,    1],\n",
       "       [ 410,    1],\n",
       "       [ 440,    1],\n",
       "       [ 480,    1],\n",
       "       [ 490,    1]], dtype=int64)"
      ]
     },
     "execution_count": 108,
     "metadata": {},
     "output_type": "execute_result"
    }
   ],
   "source": [
    "#check for unusual values\n",
    "np.array(np.unique(ames_df['screen_porch'], return_counts=True)).T"
   ]
  },
  {
   "cell_type": "code",
   "execution_count": 109,
   "id": "dbff252c",
   "metadata": {},
   "outputs": [
    {
     "data": {
      "text/plain": [
       "array([[   0, 2042],\n",
       "       [ 228,    1],\n",
       "       [ 368,    1],\n",
       "       [ 480,    1],\n",
       "       [ 519,    1],\n",
       "       [ 561,    1],\n",
       "       [ 576,    1],\n",
       "       [ 648,    1],\n",
       "       [ 738,    1],\n",
       "       [ 800,    1]], dtype=int64)"
      ]
     },
     "execution_count": 109,
     "metadata": {},
     "output_type": "execute_result"
    }
   ],
   "source": [
    "#check for unusual values\n",
    "np.array(np.unique(ames_df['pool_area'], return_counts=True)).T"
   ]
  },
  {
   "cell_type": "code",
   "execution_count": 110,
   "id": "6939d9d2",
   "metadata": {},
   "outputs": [],
   "source": [
    "#convert NaN values to 'NA' in 'pool_qc'\n",
    "ames_df['pool_qc'] = ames_df['pool_qc'].replace(np.nan,'None')"
   ]
  },
  {
   "cell_type": "code",
   "execution_count": 111,
   "id": "4dcc3083",
   "metadata": {},
   "outputs": [
    {
     "data": {
      "text/plain": [
       "array([['Ex', 1],\n",
       "       ['Fa', 2],\n",
       "       ['Gd', 4],\n",
       "       ['None', 2042],\n",
       "       ['TA', 2]], dtype=object)"
      ]
     },
     "execution_count": 111,
     "metadata": {},
     "output_type": "execute_result"
    }
   ],
   "source": [
    "#check for unusual values\n",
    "np.array(np.unique(ames_df['pool_qc'], return_counts=True)).T"
   ]
  },
  {
   "cell_type": "code",
   "execution_count": 112,
   "id": "33c9ed41",
   "metadata": {},
   "outputs": [],
   "source": [
    "#convert NaN values to 'None' in 'fence'\n",
    "ames_df['fence'] = ames_df['fence'].replace(np.nan,'None')"
   ]
  },
  {
   "cell_type": "code",
   "execution_count": 113,
   "id": "a1cfffaa",
   "metadata": {},
   "outputs": [
    {
     "data": {
      "text/plain": [
       "array([['GdPrv', 83],\n",
       "       ['GdWo', 80],\n",
       "       ['MnPrv', 227],\n",
       "       ['MnWw', 10],\n",
       "       ['None', 1651]], dtype=object)"
      ]
     },
     "execution_count": 113,
     "metadata": {},
     "output_type": "execute_result"
    }
   ],
   "source": [
    "#check for unusual values\n",
    "np.array(np.unique(ames_df['fence'], return_counts=True)).T"
   ]
  },
  {
   "cell_type": "code",
   "execution_count": 114,
   "id": "1769af2d",
   "metadata": {},
   "outputs": [],
   "source": [
    "#convert NaN to 'None' in 'misc_feature'\n",
    "ames_df['misc_feature'] = ames_df['misc_feature'].replace(np.nan,'None')"
   ]
  },
  {
   "cell_type": "code",
   "execution_count": 115,
   "id": "911df328",
   "metadata": {},
   "outputs": [
    {
     "data": {
      "text/plain": [
       "array([['Elev', 1],\n",
       "       ['Gar2', 4],\n",
       "       ['None', 1986],\n",
       "       ['Othr', 3],\n",
       "       ['Shed', 56],\n",
       "       ['TenC', 1]], dtype=object)"
      ]
     },
     "execution_count": 115,
     "metadata": {},
     "output_type": "execute_result"
    }
   ],
   "source": [
    "#check for unusual values\n",
    "np.array(np.unique(ames_df['misc_feature'], return_counts=True)).T"
   ]
  },
  {
   "cell_type": "code",
   "execution_count": 116,
   "id": "35f519eb",
   "metadata": {},
   "outputs": [
    {
     "data": {
      "text/plain": [
       "array([[    0,  1986],\n",
       "       [   54,     1],\n",
       "       [   80,     1],\n",
       "       [  300,     1],\n",
       "       [  400,    12],\n",
       "       [  450,     5],\n",
       "       [  455,     1],\n",
       "       [  460,     1],\n",
       "       [  480,     1],\n",
       "       [  500,     8],\n",
       "       [  600,     6],\n",
       "       [  650,     1],\n",
       "       [  700,     4],\n",
       "       [  800,     1],\n",
       "       [  900,     1],\n",
       "       [ 1150,     1],\n",
       "       [ 1200,     2],\n",
       "       [ 1300,     1],\n",
       "       [ 1500,     1],\n",
       "       [ 2000,     5],\n",
       "       [ 2500,     2],\n",
       "       [ 3000,     2],\n",
       "       [ 3500,     1],\n",
       "       [ 4500,     2],\n",
       "       [ 6500,     1],\n",
       "       [ 8300,     1],\n",
       "       [12500,     1],\n",
       "       [17000,     1]], dtype=int64)"
      ]
     },
     "execution_count": 116,
     "metadata": {},
     "output_type": "execute_result"
    }
   ],
   "source": [
    "#check for unusual values\n",
    "np.array(np.unique(ames_df['misc_val'], return_counts=True)).T"
   ]
  },
  {
   "cell_type": "code",
   "execution_count": 117,
   "id": "66b26db4",
   "metadata": {},
   "outputs": [
    {
     "data": {
      "text/plain": [
       "array([[  1,  79],\n",
       "       [  2, 104],\n",
       "       [  3, 168],\n",
       "       [  4, 208],\n",
       "       [  5, 257],\n",
       "       [  6, 352],\n",
       "       [  7, 303],\n",
       "       [  8, 167],\n",
       "       [  9, 109],\n",
       "       [ 10, 123],\n",
       "       [ 11, 103],\n",
       "       [ 12,  78]], dtype=int64)"
      ]
     },
     "execution_count": 117,
     "metadata": {},
     "output_type": "execute_result"
    }
   ],
   "source": [
    "#check for unusual values\n",
    "np.array(np.unique(ames_df['mo_sold'], return_counts=True)).T"
   ]
  },
  {
   "cell_type": "code",
   "execution_count": 118,
   "id": "3925e348",
   "metadata": {},
   "outputs": [
    {
     "data": {
      "text/plain": [
       "array([[2006,  438],\n",
       "       [2007,  498],\n",
       "       [2008,  435],\n",
       "       [2009,  446],\n",
       "       [2010,  234]], dtype=int64)"
      ]
     },
     "execution_count": 118,
     "metadata": {},
     "output_type": "execute_result"
    }
   ],
   "source": [
    "#check for unusual values\n",
    "np.array(np.unique(ames_df['yr_sold'], return_counts=True)).T"
   ]
  },
  {
   "cell_type": "code",
   "execution_count": 119,
   "id": "11b6eac2",
   "metadata": {},
   "outputs": [
    {
     "data": {
      "text/plain": [
       "array([['COD', 63],\n",
       "       ['CWD', 10],\n",
       "       ['Con', 4],\n",
       "       ['ConLD', 17],\n",
       "       ['ConLI', 7],\n",
       "       ['ConLw', 5],\n",
       "       ['New', 160],\n",
       "       ['Oth', 4],\n",
       "       ['WD ', 1781]], dtype=object)"
      ]
     },
     "execution_count": 119,
     "metadata": {},
     "output_type": "execute_result"
    }
   ],
   "source": [
    "#check for unusual values\n",
    "np.array(np.unique(ames_df['sale_type'], return_counts=True)).T"
   ]
  },
  {
   "cell_type": "code",
   "execution_count": 120,
   "id": "d5cefa29",
   "metadata": {},
   "outputs": [
    {
     "data": {
      "text/plain": [
       "array([[ 12789,      1],\n",
       "       [ 13100,      1],\n",
       "       [ 34900,      1],\n",
       "       ...,\n",
       "       [584500,      1],\n",
       "       [591587,      1],\n",
       "       [611657,      1]], dtype=int64)"
      ]
     },
     "execution_count": 120,
     "metadata": {},
     "output_type": "execute_result"
    }
   ],
   "source": [
    "#check for unusual values\n",
    "np.array(np.unique(ames_df['saleprice'], return_counts=True)).T"
   ]
  },
  {
   "cell_type": "code",
   "execution_count": 121,
   "id": "dde50a05",
   "metadata": {},
   "outputs": [
    {
     "name": "stdout",
     "output_type": "stream",
     "text": [
      "<class 'pandas.core.frame.DataFrame'>\n",
      "RangeIndex: 2051 entries, 0 to 2050\n",
      "Data columns (total 81 columns):\n",
      " #   Column           Non-Null Count  Dtype  \n",
      "---  ------           --------------  -----  \n",
      " 0   id               2051 non-null   int64  \n",
      " 1   pid              2051 non-null   int64  \n",
      " 2   ms_subclass      2051 non-null   int64  \n",
      " 3   ms_zoning        2051 non-null   object \n",
      " 4   lot_frontage     2051 non-null   int32  \n",
      " 5   lot_area         2051 non-null   int64  \n",
      " 6   street           2051 non-null   object \n",
      " 7   alley            2051 non-null   object \n",
      " 8   lot_shape        2051 non-null   object \n",
      " 9   land_contour     2051 non-null   object \n",
      " 10  utilities        2051 non-null   object \n",
      " 11  lot_config       2051 non-null   object \n",
      " 12  land_slope       2051 non-null   object \n",
      " 13  neighborhood     2051 non-null   object \n",
      " 14  condition_1      2051 non-null   object \n",
      " 15  condition_2      2051 non-null   object \n",
      " 16  bldg_type        2051 non-null   object \n",
      " 17  house_style      2051 non-null   object \n",
      " 18  overall_qual     2051 non-null   int64  \n",
      " 19  overall_cond     2051 non-null   int64  \n",
      " 20  year_built       2051 non-null   int64  \n",
      " 21  year_remod/add   2051 non-null   int64  \n",
      " 22  roof_style       2051 non-null   object \n",
      " 23  roof_matl        2051 non-null   object \n",
      " 24  exterior_1st     2051 non-null   object \n",
      " 25  exterior_2nd     2051 non-null   object \n",
      " 26  mas_vnr_type     2051 non-null   object \n",
      " 27  mas_vnr_area     2051 non-null   float64\n",
      " 28  exter_qual       2051 non-null   object \n",
      " 29  exter_cond       2051 non-null   object \n",
      " 30  foundation       2051 non-null   object \n",
      " 31  bsmt_qual        2051 non-null   object \n",
      " 32  bsmt_cond        2051 non-null   object \n",
      " 33  bsmt_exposure    2051 non-null   object \n",
      " 34  bsmtfin_type_1   2051 non-null   object \n",
      " 35  bsmtfin_sf_1     2051 non-null   float64\n",
      " 36  bsmtfin_type_2   2051 non-null   object \n",
      " 37  bsmtfin_sf_2     2051 non-null   float64\n",
      " 38  bsmt_unf_sf      2051 non-null   float64\n",
      " 39  total_bsmt_sf    2051 non-null   float64\n",
      " 40  heating          2051 non-null   object \n",
      " 41  heating_qc       2051 non-null   object \n",
      " 42  central_air      2051 non-null   object \n",
      " 43  electrical       2051 non-null   object \n",
      " 44  1st_flr_sf       2051 non-null   int64  \n",
      " 45  2nd_flr_sf       2051 non-null   int64  \n",
      " 46  low_qual_fin_sf  2051 non-null   int64  \n",
      " 47  gr_liv_area      2051 non-null   int64  \n",
      " 48  bsmt_full_bath   2051 non-null   float64\n",
      " 49  bsmt_half_bath   2051 non-null   float64\n",
      " 50  full_bath        2051 non-null   int64  \n",
      " 51  half_bath        2051 non-null   int64  \n",
      " 52  bedroom_abvgr    2051 non-null   int64  \n",
      " 53  kitchen_abvgr    2051 non-null   int64  \n",
      " 54  kitchen_qual     2051 non-null   object \n",
      " 55  totrms_abvgrd    2051 non-null   int64  \n",
      " 56  functional       2051 non-null   object \n",
      " 57  fireplaces       2051 non-null   int64  \n",
      " 58  fireplace_qu     2051 non-null   object \n",
      " 59  garage_type      2051 non-null   object \n",
      " 60  garage_yr_blt    2051 non-null   int32  \n",
      " 61  garage_finish    2051 non-null   object \n",
      " 62  garage_cars      2051 non-null   int32  \n",
      " 63  garage_area      2051 non-null   int32  \n",
      " 64  garage_qual      2051 non-null   object \n",
      " 65  garage_cond      2051 non-null   object \n",
      " 66  paved_drive      2051 non-null   object \n",
      " 67  wood_deck_sf     2051 non-null   int64  \n",
      " 68  open_porch_sf    2051 non-null   int64  \n",
      " 69  enclosed_porch   2051 non-null   int64  \n",
      " 70  3ssn_porch       2051 non-null   int64  \n",
      " 71  screen_porch     2051 non-null   int64  \n",
      " 72  pool_area        2051 non-null   int64  \n",
      " 73  pool_qc          2051 non-null   object \n",
      " 74  fence            2051 non-null   object \n",
      " 75  misc_feature     2051 non-null   object \n",
      " 76  misc_val         2051 non-null   int64  \n",
      " 77  mo_sold          2051 non-null   int64  \n",
      " 78  yr_sold          2051 non-null   int64  \n",
      " 79  sale_type        2051 non-null   object \n",
      " 80  saleprice        2051 non-null   int64  \n",
      "dtypes: float64(7), int32(4), int64(28), object(42)\n",
      "memory usage: 1.2+ MB\n"
     ]
    }
   ],
   "source": [
    "#check for null values\n",
    "ames_df.info()"
   ]
  },
  {
   "cell_type": "code",
   "execution_count": 122,
   "id": "4e22bbd8",
   "metadata": {},
   "outputs": [],
   "source": [
    "#save train_dataframe to csv\n",
    "ames_df.to_csv('../data/ames_df_train.csv',index=False)"
   ]
  },
  {
   "cell_type": "code",
   "execution_count": null,
   "id": "f3bb3fe7",
   "metadata": {},
   "outputs": [],
   "source": []
  }
 ],
 "metadata": {
  "kernelspec": {
   "display_name": "Python 3",
   "language": "python",
   "name": "python3"
  },
  "language_info": {
   "codemirror_mode": {
    "name": "ipython",
    "version": 3
   },
   "file_extension": ".py",
   "mimetype": "text/x-python",
   "name": "python",
   "nbconvert_exporter": "python",
   "pygments_lexer": "ipython3",
   "version": "3.8.8"
  }
 },
 "nbformat": 4,
 "nbformat_minor": 5
}
