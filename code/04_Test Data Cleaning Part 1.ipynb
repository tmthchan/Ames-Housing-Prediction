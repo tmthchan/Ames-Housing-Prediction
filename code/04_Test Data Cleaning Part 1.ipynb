{
 "cells": [
  {
   "cell_type": "markdown",
   "id": "ae7b56b3",
   "metadata": {},
   "source": [
    "# Test Data Cleaning Part 1"
   ]
  },
  {
   "cell_type": "code",
   "execution_count": 1,
   "id": "04822bcf",
   "metadata": {},
   "outputs": [],
   "source": [
    "#import packages\n",
    "import numpy as np\n",
    "import seaborn as sns\n",
    "import matplotlib.pyplot as plt\n",
    "import pandas as pd\n",
    "\n",
    "%matplotlib inline\n"
   ]
  },
  {
   "cell_type": "code",
   "execution_count": 2,
   "id": "64cff475",
   "metadata": {},
   "outputs": [
    {
     "data": {
      "text/html": [
       "<div>\n",
       "<style scoped>\n",
       "    .dataframe tbody tr th:only-of-type {\n",
       "        vertical-align: middle;\n",
       "    }\n",
       "\n",
       "    .dataframe tbody tr th {\n",
       "        vertical-align: top;\n",
       "    }\n",
       "\n",
       "    .dataframe thead th {\n",
       "        text-align: right;\n",
       "    }\n",
       "</style>\n",
       "<table border=\"1\" class=\"dataframe\">\n",
       "  <thead>\n",
       "    <tr style=\"text-align: right;\">\n",
       "      <th></th>\n",
       "      <th>Id</th>\n",
       "      <th>PID</th>\n",
       "      <th>MS SubClass</th>\n",
       "      <th>MS Zoning</th>\n",
       "      <th>Lot Frontage</th>\n",
       "      <th>Lot Area</th>\n",
       "      <th>Street</th>\n",
       "      <th>Alley</th>\n",
       "      <th>Lot Shape</th>\n",
       "      <th>Land Contour</th>\n",
       "      <th>...</th>\n",
       "      <th>3Ssn Porch</th>\n",
       "      <th>Screen Porch</th>\n",
       "      <th>Pool Area</th>\n",
       "      <th>Pool QC</th>\n",
       "      <th>Fence</th>\n",
       "      <th>Misc Feature</th>\n",
       "      <th>Misc Val</th>\n",
       "      <th>Mo Sold</th>\n",
       "      <th>Yr Sold</th>\n",
       "      <th>Sale Type</th>\n",
       "    </tr>\n",
       "  </thead>\n",
       "  <tbody>\n",
       "    <tr>\n",
       "      <th>0</th>\n",
       "      <td>2658</td>\n",
       "      <td>902301120</td>\n",
       "      <td>190</td>\n",
       "      <td>RM</td>\n",
       "      <td>69.0</td>\n",
       "      <td>9142</td>\n",
       "      <td>Pave</td>\n",
       "      <td>Grvl</td>\n",
       "      <td>Reg</td>\n",
       "      <td>Lvl</td>\n",
       "      <td>...</td>\n",
       "      <td>0</td>\n",
       "      <td>0</td>\n",
       "      <td>0</td>\n",
       "      <td>NaN</td>\n",
       "      <td>NaN</td>\n",
       "      <td>NaN</td>\n",
       "      <td>0</td>\n",
       "      <td>4</td>\n",
       "      <td>2006</td>\n",
       "      <td>WD</td>\n",
       "    </tr>\n",
       "    <tr>\n",
       "      <th>1</th>\n",
       "      <td>2718</td>\n",
       "      <td>905108090</td>\n",
       "      <td>90</td>\n",
       "      <td>RL</td>\n",
       "      <td>NaN</td>\n",
       "      <td>9662</td>\n",
       "      <td>Pave</td>\n",
       "      <td>NaN</td>\n",
       "      <td>IR1</td>\n",
       "      <td>Lvl</td>\n",
       "      <td>...</td>\n",
       "      <td>0</td>\n",
       "      <td>0</td>\n",
       "      <td>0</td>\n",
       "      <td>NaN</td>\n",
       "      <td>NaN</td>\n",
       "      <td>NaN</td>\n",
       "      <td>0</td>\n",
       "      <td>8</td>\n",
       "      <td>2006</td>\n",
       "      <td>WD</td>\n",
       "    </tr>\n",
       "    <tr>\n",
       "      <th>2</th>\n",
       "      <td>2414</td>\n",
       "      <td>528218130</td>\n",
       "      <td>60</td>\n",
       "      <td>RL</td>\n",
       "      <td>58.0</td>\n",
       "      <td>17104</td>\n",
       "      <td>Pave</td>\n",
       "      <td>NaN</td>\n",
       "      <td>IR1</td>\n",
       "      <td>Lvl</td>\n",
       "      <td>...</td>\n",
       "      <td>0</td>\n",
       "      <td>0</td>\n",
       "      <td>0</td>\n",
       "      <td>NaN</td>\n",
       "      <td>NaN</td>\n",
       "      <td>NaN</td>\n",
       "      <td>0</td>\n",
       "      <td>9</td>\n",
       "      <td>2006</td>\n",
       "      <td>New</td>\n",
       "    </tr>\n",
       "    <tr>\n",
       "      <th>3</th>\n",
       "      <td>1989</td>\n",
       "      <td>902207150</td>\n",
       "      <td>30</td>\n",
       "      <td>RM</td>\n",
       "      <td>60.0</td>\n",
       "      <td>8520</td>\n",
       "      <td>Pave</td>\n",
       "      <td>NaN</td>\n",
       "      <td>Reg</td>\n",
       "      <td>Lvl</td>\n",
       "      <td>...</td>\n",
       "      <td>0</td>\n",
       "      <td>0</td>\n",
       "      <td>0</td>\n",
       "      <td>NaN</td>\n",
       "      <td>NaN</td>\n",
       "      <td>NaN</td>\n",
       "      <td>0</td>\n",
       "      <td>7</td>\n",
       "      <td>2007</td>\n",
       "      <td>WD</td>\n",
       "    </tr>\n",
       "    <tr>\n",
       "      <th>4</th>\n",
       "      <td>625</td>\n",
       "      <td>535105100</td>\n",
       "      <td>20</td>\n",
       "      <td>RL</td>\n",
       "      <td>NaN</td>\n",
       "      <td>9500</td>\n",
       "      <td>Pave</td>\n",
       "      <td>NaN</td>\n",
       "      <td>IR1</td>\n",
       "      <td>Lvl</td>\n",
       "      <td>...</td>\n",
       "      <td>0</td>\n",
       "      <td>185</td>\n",
       "      <td>0</td>\n",
       "      <td>NaN</td>\n",
       "      <td>NaN</td>\n",
       "      <td>NaN</td>\n",
       "      <td>0</td>\n",
       "      <td>7</td>\n",
       "      <td>2009</td>\n",
       "      <td>WD</td>\n",
       "    </tr>\n",
       "  </tbody>\n",
       "</table>\n",
       "<p>5 rows × 80 columns</p>\n",
       "</div>"
      ],
      "text/plain": [
       "     Id        PID  MS SubClass MS Zoning  Lot Frontage  Lot Area Street  \\\n",
       "0  2658  902301120          190        RM          69.0      9142   Pave   \n",
       "1  2718  905108090           90        RL           NaN      9662   Pave   \n",
       "2  2414  528218130           60        RL          58.0     17104   Pave   \n",
       "3  1989  902207150           30        RM          60.0      8520   Pave   \n",
       "4   625  535105100           20        RL           NaN      9500   Pave   \n",
       "\n",
       "  Alley Lot Shape Land Contour  ... 3Ssn Porch Screen Porch Pool Area Pool QC  \\\n",
       "0  Grvl       Reg          Lvl  ...          0            0         0     NaN   \n",
       "1   NaN       IR1          Lvl  ...          0            0         0     NaN   \n",
       "2   NaN       IR1          Lvl  ...          0            0         0     NaN   \n",
       "3   NaN       Reg          Lvl  ...          0            0         0     NaN   \n",
       "4   NaN       IR1          Lvl  ...          0          185         0     NaN   \n",
       "\n",
       "  Fence Misc Feature Misc Val Mo Sold  Yr Sold  Sale Type  \n",
       "0   NaN          NaN        0       4     2006        WD   \n",
       "1   NaN          NaN        0       8     2006        WD   \n",
       "2   NaN          NaN        0       9     2006        New  \n",
       "3   NaN          NaN        0       7     2007        WD   \n",
       "4   NaN          NaN        0       7     2009        WD   \n",
       "\n",
       "[5 rows x 80 columns]"
      ]
     },
     "execution_count": 2,
     "metadata": {},
     "output_type": "execute_result"
    }
   ],
   "source": [
    "#load dataset\n",
    "ames_df = pd.read_csv('../data/test.csv')\n",
    "ames_df.head()"
   ]
  },
  {
   "cell_type": "code",
   "execution_count": 3,
   "id": "7dbe5a42",
   "metadata": {},
   "outputs": [],
   "source": [
    "#convert column names to lower case\n",
    "ames_df.columns= ames_df.columns.str.lower()"
   ]
  },
  {
   "cell_type": "code",
   "execution_count": 4,
   "id": "8a5c602d",
   "metadata": {},
   "outputs": [
    {
     "data": {
      "text/html": [
       "<div>\n",
       "<style scoped>\n",
       "    .dataframe tbody tr th:only-of-type {\n",
       "        vertical-align: middle;\n",
       "    }\n",
       "\n",
       "    .dataframe tbody tr th {\n",
       "        vertical-align: top;\n",
       "    }\n",
       "\n",
       "    .dataframe thead th {\n",
       "        text-align: right;\n",
       "    }\n",
       "</style>\n",
       "<table border=\"1\" class=\"dataframe\">\n",
       "  <thead>\n",
       "    <tr style=\"text-align: right;\">\n",
       "      <th></th>\n",
       "      <th>id</th>\n",
       "      <th>pid</th>\n",
       "      <th>ms_subclass</th>\n",
       "      <th>ms_zoning</th>\n",
       "      <th>lot_frontage</th>\n",
       "      <th>lot_area</th>\n",
       "      <th>street</th>\n",
       "      <th>alley</th>\n",
       "      <th>lot_shape</th>\n",
       "      <th>land_contour</th>\n",
       "      <th>...</th>\n",
       "      <th>3ssn_porch</th>\n",
       "      <th>screen_porch</th>\n",
       "      <th>pool_area</th>\n",
       "      <th>pool_qc</th>\n",
       "      <th>fence</th>\n",
       "      <th>misc_feature</th>\n",
       "      <th>misc_val</th>\n",
       "      <th>mo_sold</th>\n",
       "      <th>yr_sold</th>\n",
       "      <th>sale_type</th>\n",
       "    </tr>\n",
       "  </thead>\n",
       "  <tbody>\n",
       "    <tr>\n",
       "      <th>0</th>\n",
       "      <td>2658</td>\n",
       "      <td>902301120</td>\n",
       "      <td>190</td>\n",
       "      <td>RM</td>\n",
       "      <td>69.0</td>\n",
       "      <td>9142</td>\n",
       "      <td>Pave</td>\n",
       "      <td>Grvl</td>\n",
       "      <td>Reg</td>\n",
       "      <td>Lvl</td>\n",
       "      <td>...</td>\n",
       "      <td>0</td>\n",
       "      <td>0</td>\n",
       "      <td>0</td>\n",
       "      <td>NaN</td>\n",
       "      <td>NaN</td>\n",
       "      <td>NaN</td>\n",
       "      <td>0</td>\n",
       "      <td>4</td>\n",
       "      <td>2006</td>\n",
       "      <td>WD</td>\n",
       "    </tr>\n",
       "    <tr>\n",
       "      <th>1</th>\n",
       "      <td>2718</td>\n",
       "      <td>905108090</td>\n",
       "      <td>90</td>\n",
       "      <td>RL</td>\n",
       "      <td>NaN</td>\n",
       "      <td>9662</td>\n",
       "      <td>Pave</td>\n",
       "      <td>NaN</td>\n",
       "      <td>IR1</td>\n",
       "      <td>Lvl</td>\n",
       "      <td>...</td>\n",
       "      <td>0</td>\n",
       "      <td>0</td>\n",
       "      <td>0</td>\n",
       "      <td>NaN</td>\n",
       "      <td>NaN</td>\n",
       "      <td>NaN</td>\n",
       "      <td>0</td>\n",
       "      <td>8</td>\n",
       "      <td>2006</td>\n",
       "      <td>WD</td>\n",
       "    </tr>\n",
       "    <tr>\n",
       "      <th>2</th>\n",
       "      <td>2414</td>\n",
       "      <td>528218130</td>\n",
       "      <td>60</td>\n",
       "      <td>RL</td>\n",
       "      <td>58.0</td>\n",
       "      <td>17104</td>\n",
       "      <td>Pave</td>\n",
       "      <td>NaN</td>\n",
       "      <td>IR1</td>\n",
       "      <td>Lvl</td>\n",
       "      <td>...</td>\n",
       "      <td>0</td>\n",
       "      <td>0</td>\n",
       "      <td>0</td>\n",
       "      <td>NaN</td>\n",
       "      <td>NaN</td>\n",
       "      <td>NaN</td>\n",
       "      <td>0</td>\n",
       "      <td>9</td>\n",
       "      <td>2006</td>\n",
       "      <td>New</td>\n",
       "    </tr>\n",
       "    <tr>\n",
       "      <th>3</th>\n",
       "      <td>1989</td>\n",
       "      <td>902207150</td>\n",
       "      <td>30</td>\n",
       "      <td>RM</td>\n",
       "      <td>60.0</td>\n",
       "      <td>8520</td>\n",
       "      <td>Pave</td>\n",
       "      <td>NaN</td>\n",
       "      <td>Reg</td>\n",
       "      <td>Lvl</td>\n",
       "      <td>...</td>\n",
       "      <td>0</td>\n",
       "      <td>0</td>\n",
       "      <td>0</td>\n",
       "      <td>NaN</td>\n",
       "      <td>NaN</td>\n",
       "      <td>NaN</td>\n",
       "      <td>0</td>\n",
       "      <td>7</td>\n",
       "      <td>2007</td>\n",
       "      <td>WD</td>\n",
       "    </tr>\n",
       "    <tr>\n",
       "      <th>4</th>\n",
       "      <td>625</td>\n",
       "      <td>535105100</td>\n",
       "      <td>20</td>\n",
       "      <td>RL</td>\n",
       "      <td>NaN</td>\n",
       "      <td>9500</td>\n",
       "      <td>Pave</td>\n",
       "      <td>NaN</td>\n",
       "      <td>IR1</td>\n",
       "      <td>Lvl</td>\n",
       "      <td>...</td>\n",
       "      <td>0</td>\n",
       "      <td>185</td>\n",
       "      <td>0</td>\n",
       "      <td>NaN</td>\n",
       "      <td>NaN</td>\n",
       "      <td>NaN</td>\n",
       "      <td>0</td>\n",
       "      <td>7</td>\n",
       "      <td>2009</td>\n",
       "      <td>WD</td>\n",
       "    </tr>\n",
       "  </tbody>\n",
       "</table>\n",
       "<p>5 rows × 80 columns</p>\n",
       "</div>"
      ],
      "text/plain": [
       "     id        pid  ms_subclass ms_zoning  lot_frontage  lot_area street  \\\n",
       "0  2658  902301120          190        RM          69.0      9142   Pave   \n",
       "1  2718  905108090           90        RL           NaN      9662   Pave   \n",
       "2  2414  528218130           60        RL          58.0     17104   Pave   \n",
       "3  1989  902207150           30        RM          60.0      8520   Pave   \n",
       "4   625  535105100           20        RL           NaN      9500   Pave   \n",
       "\n",
       "  alley lot_shape land_contour  ... 3ssn_porch screen_porch pool_area pool_qc  \\\n",
       "0  Grvl       Reg          Lvl  ...          0            0         0     NaN   \n",
       "1   NaN       IR1          Lvl  ...          0            0         0     NaN   \n",
       "2   NaN       IR1          Lvl  ...          0            0         0     NaN   \n",
       "3   NaN       Reg          Lvl  ...          0            0         0     NaN   \n",
       "4   NaN       IR1          Lvl  ...          0          185         0     NaN   \n",
       "\n",
       "  fence misc_feature misc_val mo_sold  yr_sold  sale_type  \n",
       "0   NaN          NaN        0       4     2006        WD   \n",
       "1   NaN          NaN        0       8     2006        WD   \n",
       "2   NaN          NaN        0       9     2006        New  \n",
       "3   NaN          NaN        0       7     2007        WD   \n",
       "4   NaN          NaN        0       7     2009        WD   \n",
       "\n",
       "[5 rows x 80 columns]"
      ]
     },
     "execution_count": 4,
     "metadata": {},
     "output_type": "execute_result"
    }
   ],
   "source": [
    "#replace spaces in column names with _\n",
    "ames_df.columns = ames_df.columns.str.replace(' ', '_')\n",
    "ames_df.head()"
   ]
  },
  {
   "cell_type": "code",
   "execution_count": 5,
   "id": "34edf42f",
   "metadata": {},
   "outputs": [
    {
     "name": "stdout",
     "output_type": "stream",
     "text": [
      "<class 'pandas.core.frame.DataFrame'>\n",
      "RangeIndex: 878 entries, 0 to 877\n",
      "Data columns (total 80 columns):\n",
      " #   Column           Non-Null Count  Dtype  \n",
      "---  ------           --------------  -----  \n",
      " 0   id               878 non-null    int64  \n",
      " 1   pid              878 non-null    int64  \n",
      " 2   ms_subclass      878 non-null    int64  \n",
      " 3   ms_zoning        878 non-null    object \n",
      " 4   lot_frontage     718 non-null    float64\n",
      " 5   lot_area         878 non-null    int64  \n",
      " 6   street           878 non-null    object \n",
      " 7   alley            58 non-null     object \n",
      " 8   lot_shape        878 non-null    object \n",
      " 9   land_contour     878 non-null    object \n",
      " 10  utilities        878 non-null    object \n",
      " 11  lot_config       878 non-null    object \n",
      " 12  land_slope       878 non-null    object \n",
      " 13  neighborhood     878 non-null    object \n",
      " 14  condition_1      878 non-null    object \n",
      " 15  condition_2      878 non-null    object \n",
      " 16  bldg_type        878 non-null    object \n",
      " 17  house_style      878 non-null    object \n",
      " 18  overall_qual     878 non-null    int64  \n",
      " 19  overall_cond     878 non-null    int64  \n",
      " 20  year_built       878 non-null    int64  \n",
      " 21  year_remod/add   878 non-null    int64  \n",
      " 22  roof_style       878 non-null    object \n",
      " 23  roof_matl        878 non-null    object \n",
      " 24  exterior_1st     878 non-null    object \n",
      " 25  exterior_2nd     878 non-null    object \n",
      " 26  mas_vnr_type     877 non-null    object \n",
      " 27  mas_vnr_area     877 non-null    float64\n",
      " 28  exter_qual       878 non-null    object \n",
      " 29  exter_cond       878 non-null    object \n",
      " 30  foundation       878 non-null    object \n",
      " 31  bsmt_qual        853 non-null    object \n",
      " 32  bsmt_cond        853 non-null    object \n",
      " 33  bsmt_exposure    853 non-null    object \n",
      " 34  bsmtfin_type_1   853 non-null    object \n",
      " 35  bsmtfin_sf_1     878 non-null    int64  \n",
      " 36  bsmtfin_type_2   853 non-null    object \n",
      " 37  bsmtfin_sf_2     878 non-null    int64  \n",
      " 38  bsmt_unf_sf      878 non-null    int64  \n",
      " 39  total_bsmt_sf    878 non-null    int64  \n",
      " 40  heating          878 non-null    object \n",
      " 41  heating_qc       878 non-null    object \n",
      " 42  central_air      878 non-null    object \n",
      " 43  electrical       877 non-null    object \n",
      " 44  1st_flr_sf       878 non-null    int64  \n",
      " 45  2nd_flr_sf       878 non-null    int64  \n",
      " 46  low_qual_fin_sf  878 non-null    int64  \n",
      " 47  gr_liv_area      878 non-null    int64  \n",
      " 48  bsmt_full_bath   878 non-null    int64  \n",
      " 49  bsmt_half_bath   878 non-null    int64  \n",
      " 50  full_bath        878 non-null    int64  \n",
      " 51  half_bath        878 non-null    int64  \n",
      " 52  bedroom_abvgr    878 non-null    int64  \n",
      " 53  kitchen_abvgr    878 non-null    int64  \n",
      " 54  kitchen_qual     878 non-null    object \n",
      " 55  totrms_abvgrd    878 non-null    int64  \n",
      " 56  functional       878 non-null    object \n",
      " 57  fireplaces       878 non-null    int64  \n",
      " 58  fireplace_qu     456 non-null    object \n",
      " 59  garage_type      834 non-null    object \n",
      " 60  garage_yr_blt    833 non-null    float64\n",
      " 61  garage_finish    833 non-null    object \n",
      " 62  garage_cars      878 non-null    int64  \n",
      " 63  garage_area      878 non-null    int64  \n",
      " 64  garage_qual      833 non-null    object \n",
      " 65  garage_cond      833 non-null    object \n",
      " 66  paved_drive      878 non-null    object \n",
      " 67  wood_deck_sf     878 non-null    int64  \n",
      " 68  open_porch_sf    878 non-null    int64  \n",
      " 69  enclosed_porch   878 non-null    int64  \n",
      " 70  3ssn_porch       878 non-null    int64  \n",
      " 71  screen_porch     878 non-null    int64  \n",
      " 72  pool_area        878 non-null    int64  \n",
      " 73  pool_qc          4 non-null      object \n",
      " 74  fence            172 non-null    object \n",
      " 75  misc_feature     41 non-null     object \n",
      " 76  misc_val         878 non-null    int64  \n",
      " 77  mo_sold          878 non-null    int64  \n",
      " 78  yr_sold          878 non-null    int64  \n",
      " 79  sale_type        878 non-null    object \n",
      "dtypes: float64(3), int64(35), object(42)\n",
      "memory usage: 548.9+ KB\n"
     ]
    }
   ],
   "source": [
    "#look at the info\n",
    "ames_df.info()"
   ]
  },
  {
   "cell_type": "code",
   "execution_count": 6,
   "id": "3023096c",
   "metadata": {},
   "outputs": [
    {
     "data": {
      "text/plain": [
       "pool_qc           874\n",
       "misc_feature      837\n",
       "alley             820\n",
       "fence             706\n",
       "fireplace_qu      422\n",
       "lot_frontage      160\n",
       "garage_yr_blt      45\n",
       "garage_finish      45\n",
       "garage_qual        45\n",
       "garage_cond        45\n",
       "garage_type        44\n",
       "bsmtfin_type_1     25\n",
       "bsmt_qual          25\n",
       "bsmt_cond          25\n",
       "bsmt_exposure      25\n",
       "bsmtfin_type_2     25\n",
       "electrical          1\n",
       "mas_vnr_type        1\n",
       "mas_vnr_area        1\n",
       "kitchen_abvgr       0\n",
       "totrms_abvgrd       0\n",
       "bedroom_abvgr       0\n",
       "half_bath           0\n",
       "full_bath           0\n",
       "bsmt_half_bath      0\n",
       "bsmt_full_bath      0\n",
       "gr_liv_area         0\n",
       "kitchen_qual        0\n",
       "id                  0\n",
       "functional          0\n",
       "                 ... \n",
       "condition_2         0\n",
       "condition_1         0\n",
       "neighborhood        0\n",
       "land_slope          0\n",
       "utilities           0\n",
       "central_air         0\n",
       "land_contour        0\n",
       "lot_shape           0\n",
       "street              0\n",
       "lot_area            0\n",
       "ms_zoning           0\n",
       "ms_subclass         0\n",
       "overall_qual        0\n",
       "overall_cond        0\n",
       "year_built          0\n",
       "year_remod/add      0\n",
       "roof_style          0\n",
       "roof_matl           0\n",
       "exterior_1st        0\n",
       "exterior_2nd        0\n",
       "exter_qual          0\n",
       "exter_cond          0\n",
       "foundation          0\n",
       "bsmtfin_sf_1        0\n",
       "bsmtfin_sf_2        0\n",
       "bsmt_unf_sf         0\n",
       "total_bsmt_sf       0\n",
       "pid                 0\n",
       "heating_qc          0\n",
       "sale_type           0\n",
       "Length: 80, dtype: int64"
      ]
     },
     "execution_count": 6,
     "metadata": {},
     "output_type": "execute_result"
    }
   ],
   "source": [
    "#display number of null values for each variable\n",
    "pd.options.display.min_rows = 60\n",
    "ames_df.isnull().sum().sort_values(ascending=False)"
   ]
  },
  {
   "cell_type": "code",
   "execution_count": 7,
   "id": "34c92ca2",
   "metadata": {},
   "outputs": [
    {
     "data": {
      "text/plain": [
       "array([[ 20, 309],\n",
       "       [ 30,  38],\n",
       "       [ 40,   2],\n",
       "       [ 45,   7],\n",
       "       [ 50,  89],\n",
       "       [ 60, 180],\n",
       "       [ 70,  38],\n",
       "       [ 75,   7],\n",
       "       [ 80,  32],\n",
       "       [ 85,  20],\n",
       "       [ 90,  34],\n",
       "       [120,  60],\n",
       "       [160,  41],\n",
       "       [180,   6],\n",
       "       [190,  15]], dtype=int64)"
      ]
     },
     "execution_count": 7,
     "metadata": {},
     "output_type": "execute_result"
    }
   ],
   "source": [
    "#view unique values of 'ms_subclass'\n",
    "np.array(np.unique(ames_df['ms_subclass'], return_counts=True)).T\n",
    "\n",
    "#'ms_subclass' does not show any unusual values "
   ]
  },
  {
   "cell_type": "code",
   "execution_count": 8,
   "id": "6c3924eb",
   "metadata": {},
   "outputs": [
    {
     "data": {
      "text/plain": [
       "array([['C (all)', 6],\n",
       "       ['FV', 38],\n",
       "       ['I (all)', 1],\n",
       "       ['RH', 13],\n",
       "       ['RL', 674],\n",
       "       ['RM', 146]], dtype=object)"
      ]
     },
     "execution_count": 8,
     "metadata": {},
     "output_type": "execute_result"
    }
   ],
   "source": [
    "#view unique values of 'ms_zoning'\n",
    "np.array(np.unique(ames_df['ms_zoning'], return_counts=True)).T\n",
    "\n",
    "#ms_zoning does not show any unusual values"
   ]
  },
  {
   "cell_type": "code",
   "execution_count": 9,
   "id": "cc4061b0",
   "metadata": {},
   "outputs": [],
   "source": [
    "#convert nan values to 0 and convert 'lot_frontage' to int type\n",
    "ames_df['lot_frontage'] = ames_df['lot_frontage'].fillna(0).astype(int)"
   ]
  },
  {
   "cell_type": "markdown",
   "id": "40433ade",
   "metadata": {},
   "source": [
    "Since there are 330 null values in 'lot frontage', the cells are filled with the 0 value."
   ]
  },
  {
   "cell_type": "code",
   "execution_count": 10,
   "id": "58186b64",
   "metadata": {},
   "outputs": [
    {
     "data": {
      "text/html": [
       "<div>\n",
       "<style scoped>\n",
       "    .dataframe tbody tr th:only-of-type {\n",
       "        vertical-align: middle;\n",
       "    }\n",
       "\n",
       "    .dataframe tbody tr th {\n",
       "        vertical-align: top;\n",
       "    }\n",
       "\n",
       "    .dataframe thead th {\n",
       "        text-align: right;\n",
       "    }\n",
       "</style>\n",
       "<table border=\"1\" class=\"dataframe\">\n",
       "  <thead>\n",
       "    <tr style=\"text-align: right;\">\n",
       "      <th></th>\n",
       "      <th>id</th>\n",
       "      <th>pid</th>\n",
       "      <th>ms_subclass</th>\n",
       "      <th>ms_zoning</th>\n",
       "      <th>lot_frontage</th>\n",
       "      <th>lot_area</th>\n",
       "      <th>street</th>\n",
       "      <th>alley</th>\n",
       "      <th>lot_shape</th>\n",
       "      <th>land_contour</th>\n",
       "      <th>...</th>\n",
       "      <th>3ssn_porch</th>\n",
       "      <th>screen_porch</th>\n",
       "      <th>pool_area</th>\n",
       "      <th>pool_qc</th>\n",
       "      <th>fence</th>\n",
       "      <th>misc_feature</th>\n",
       "      <th>misc_val</th>\n",
       "      <th>mo_sold</th>\n",
       "      <th>yr_sold</th>\n",
       "      <th>sale_type</th>\n",
       "    </tr>\n",
       "  </thead>\n",
       "  <tbody>\n",
       "    <tr>\n",
       "      <th>0</th>\n",
       "      <td>2658</td>\n",
       "      <td>902301120</td>\n",
       "      <td>190</td>\n",
       "      <td>RM</td>\n",
       "      <td>69</td>\n",
       "      <td>9142</td>\n",
       "      <td>Pave</td>\n",
       "      <td>Grvl</td>\n",
       "      <td>Reg</td>\n",
       "      <td>Lvl</td>\n",
       "      <td>...</td>\n",
       "      <td>0</td>\n",
       "      <td>0</td>\n",
       "      <td>0</td>\n",
       "      <td>NaN</td>\n",
       "      <td>NaN</td>\n",
       "      <td>NaN</td>\n",
       "      <td>0</td>\n",
       "      <td>4</td>\n",
       "      <td>2006</td>\n",
       "      <td>WD</td>\n",
       "    </tr>\n",
       "    <tr>\n",
       "      <th>1</th>\n",
       "      <td>2718</td>\n",
       "      <td>905108090</td>\n",
       "      <td>90</td>\n",
       "      <td>RL</td>\n",
       "      <td>0</td>\n",
       "      <td>9662</td>\n",
       "      <td>Pave</td>\n",
       "      <td>NaN</td>\n",
       "      <td>IR1</td>\n",
       "      <td>Lvl</td>\n",
       "      <td>...</td>\n",
       "      <td>0</td>\n",
       "      <td>0</td>\n",
       "      <td>0</td>\n",
       "      <td>NaN</td>\n",
       "      <td>NaN</td>\n",
       "      <td>NaN</td>\n",
       "      <td>0</td>\n",
       "      <td>8</td>\n",
       "      <td>2006</td>\n",
       "      <td>WD</td>\n",
       "    </tr>\n",
       "    <tr>\n",
       "      <th>2</th>\n",
       "      <td>2414</td>\n",
       "      <td>528218130</td>\n",
       "      <td>60</td>\n",
       "      <td>RL</td>\n",
       "      <td>58</td>\n",
       "      <td>17104</td>\n",
       "      <td>Pave</td>\n",
       "      <td>NaN</td>\n",
       "      <td>IR1</td>\n",
       "      <td>Lvl</td>\n",
       "      <td>...</td>\n",
       "      <td>0</td>\n",
       "      <td>0</td>\n",
       "      <td>0</td>\n",
       "      <td>NaN</td>\n",
       "      <td>NaN</td>\n",
       "      <td>NaN</td>\n",
       "      <td>0</td>\n",
       "      <td>9</td>\n",
       "      <td>2006</td>\n",
       "      <td>New</td>\n",
       "    </tr>\n",
       "    <tr>\n",
       "      <th>3</th>\n",
       "      <td>1989</td>\n",
       "      <td>902207150</td>\n",
       "      <td>30</td>\n",
       "      <td>RM</td>\n",
       "      <td>60</td>\n",
       "      <td>8520</td>\n",
       "      <td>Pave</td>\n",
       "      <td>NaN</td>\n",
       "      <td>Reg</td>\n",
       "      <td>Lvl</td>\n",
       "      <td>...</td>\n",
       "      <td>0</td>\n",
       "      <td>0</td>\n",
       "      <td>0</td>\n",
       "      <td>NaN</td>\n",
       "      <td>NaN</td>\n",
       "      <td>NaN</td>\n",
       "      <td>0</td>\n",
       "      <td>7</td>\n",
       "      <td>2007</td>\n",
       "      <td>WD</td>\n",
       "    </tr>\n",
       "    <tr>\n",
       "      <th>4</th>\n",
       "      <td>625</td>\n",
       "      <td>535105100</td>\n",
       "      <td>20</td>\n",
       "      <td>RL</td>\n",
       "      <td>0</td>\n",
       "      <td>9500</td>\n",
       "      <td>Pave</td>\n",
       "      <td>NaN</td>\n",
       "      <td>IR1</td>\n",
       "      <td>Lvl</td>\n",
       "      <td>...</td>\n",
       "      <td>0</td>\n",
       "      <td>185</td>\n",
       "      <td>0</td>\n",
       "      <td>NaN</td>\n",
       "      <td>NaN</td>\n",
       "      <td>NaN</td>\n",
       "      <td>0</td>\n",
       "      <td>7</td>\n",
       "      <td>2009</td>\n",
       "      <td>WD</td>\n",
       "    </tr>\n",
       "  </tbody>\n",
       "</table>\n",
       "<p>5 rows × 80 columns</p>\n",
       "</div>"
      ],
      "text/plain": [
       "     id        pid  ms_subclass ms_zoning  lot_frontage  lot_area street  \\\n",
       "0  2658  902301120          190        RM            69      9142   Pave   \n",
       "1  2718  905108090           90        RL             0      9662   Pave   \n",
       "2  2414  528218130           60        RL            58     17104   Pave   \n",
       "3  1989  902207150           30        RM            60      8520   Pave   \n",
       "4   625  535105100           20        RL             0      9500   Pave   \n",
       "\n",
       "  alley lot_shape land_contour  ... 3ssn_porch screen_porch pool_area pool_qc  \\\n",
       "0  Grvl       Reg          Lvl  ...          0            0         0     NaN   \n",
       "1   NaN       IR1          Lvl  ...          0            0         0     NaN   \n",
       "2   NaN       IR1          Lvl  ...          0            0         0     NaN   \n",
       "3   NaN       Reg          Lvl  ...          0            0         0     NaN   \n",
       "4   NaN       IR1          Lvl  ...          0          185         0     NaN   \n",
       "\n",
       "  fence misc_feature misc_val mo_sold  yr_sold  sale_type  \n",
       "0   NaN          NaN        0       4     2006        WD   \n",
       "1   NaN          NaN        0       8     2006        WD   \n",
       "2   NaN          NaN        0       9     2006        New  \n",
       "3   NaN          NaN        0       7     2007        WD   \n",
       "4   NaN          NaN        0       7     2009        WD   \n",
       "\n",
       "[5 rows x 80 columns]"
      ]
     },
     "execution_count": 10,
     "metadata": {},
     "output_type": "execute_result"
    }
   ],
   "source": [
    "ames_df.head()"
   ]
  },
  {
   "cell_type": "code",
   "execution_count": 11,
   "id": "2ec91432",
   "metadata": {},
   "outputs": [
    {
     "data": {
      "text/plain": [
       "array([[  1477,      1],\n",
       "       [  1488,      1],\n",
       "       [  1491,      1],\n",
       "       ...,\n",
       "       [ 56600,      1],\n",
       "       [164660,      1],\n",
       "       [215245,      1]], dtype=int64)"
      ]
     },
     "execution_count": 11,
     "metadata": {},
     "output_type": "execute_result"
    }
   ],
   "source": [
    "#checking for unusual values in 'lot_area'\n",
    "np.array(np.unique(ames_df['lot_area'], return_counts=True)).T\n",
    "\n",
    "#'lot_area' does not contain any unusual values"
   ]
  },
  {
   "cell_type": "code",
   "execution_count": 12,
   "id": "65ab9c03",
   "metadata": {},
   "outputs": [
    {
     "data": {
      "text/plain": [
       "array([['Grvl', 5],\n",
       "       ['Pave', 873]], dtype=object)"
      ]
     },
     "execution_count": 12,
     "metadata": {},
     "output_type": "execute_result"
    }
   ],
   "source": [
    "#checking 'street' for unusual values\n",
    "np.array(np.unique(ames_df['street'], return_counts=True)).T\n",
    "\n",
    "#'street' does not contain any unusual values"
   ]
  },
  {
   "cell_type": "code",
   "execution_count": 13,
   "id": "abfcac21",
   "metadata": {},
   "outputs": [
    {
     "data": {
      "text/html": [
       "<div>\n",
       "<style scoped>\n",
       "    .dataframe tbody tr th:only-of-type {\n",
       "        vertical-align: middle;\n",
       "    }\n",
       "\n",
       "    .dataframe tbody tr th {\n",
       "        vertical-align: top;\n",
       "    }\n",
       "\n",
       "    .dataframe thead th {\n",
       "        text-align: right;\n",
       "    }\n",
       "</style>\n",
       "<table border=\"1\" class=\"dataframe\">\n",
       "  <thead>\n",
       "    <tr style=\"text-align: right;\">\n",
       "      <th></th>\n",
       "      <th>id</th>\n",
       "      <th>pid</th>\n",
       "      <th>ms_subclass</th>\n",
       "      <th>ms_zoning</th>\n",
       "      <th>lot_frontage</th>\n",
       "      <th>lot_area</th>\n",
       "      <th>street</th>\n",
       "      <th>alley</th>\n",
       "      <th>lot_shape</th>\n",
       "      <th>land_contour</th>\n",
       "      <th>...</th>\n",
       "      <th>3ssn_porch</th>\n",
       "      <th>screen_porch</th>\n",
       "      <th>pool_area</th>\n",
       "      <th>pool_qc</th>\n",
       "      <th>fence</th>\n",
       "      <th>misc_feature</th>\n",
       "      <th>misc_val</th>\n",
       "      <th>mo_sold</th>\n",
       "      <th>yr_sold</th>\n",
       "      <th>sale_type</th>\n",
       "    </tr>\n",
       "  </thead>\n",
       "  <tbody>\n",
       "    <tr>\n",
       "      <th>0</th>\n",
       "      <td>2658</td>\n",
       "      <td>902301120</td>\n",
       "      <td>190</td>\n",
       "      <td>RM</td>\n",
       "      <td>69</td>\n",
       "      <td>9142</td>\n",
       "      <td>Pave</td>\n",
       "      <td>Grvl</td>\n",
       "      <td>Reg</td>\n",
       "      <td>Lvl</td>\n",
       "      <td>...</td>\n",
       "      <td>0</td>\n",
       "      <td>0</td>\n",
       "      <td>0</td>\n",
       "      <td>NaN</td>\n",
       "      <td>NaN</td>\n",
       "      <td>NaN</td>\n",
       "      <td>0</td>\n",
       "      <td>4</td>\n",
       "      <td>2006</td>\n",
       "      <td>WD</td>\n",
       "    </tr>\n",
       "    <tr>\n",
       "      <th>1</th>\n",
       "      <td>2718</td>\n",
       "      <td>905108090</td>\n",
       "      <td>90</td>\n",
       "      <td>RL</td>\n",
       "      <td>0</td>\n",
       "      <td>9662</td>\n",
       "      <td>Pave</td>\n",
       "      <td>NaN</td>\n",
       "      <td>IR1</td>\n",
       "      <td>Lvl</td>\n",
       "      <td>...</td>\n",
       "      <td>0</td>\n",
       "      <td>0</td>\n",
       "      <td>0</td>\n",
       "      <td>NaN</td>\n",
       "      <td>NaN</td>\n",
       "      <td>NaN</td>\n",
       "      <td>0</td>\n",
       "      <td>8</td>\n",
       "      <td>2006</td>\n",
       "      <td>WD</td>\n",
       "    </tr>\n",
       "    <tr>\n",
       "      <th>2</th>\n",
       "      <td>2414</td>\n",
       "      <td>528218130</td>\n",
       "      <td>60</td>\n",
       "      <td>RL</td>\n",
       "      <td>58</td>\n",
       "      <td>17104</td>\n",
       "      <td>Pave</td>\n",
       "      <td>NaN</td>\n",
       "      <td>IR1</td>\n",
       "      <td>Lvl</td>\n",
       "      <td>...</td>\n",
       "      <td>0</td>\n",
       "      <td>0</td>\n",
       "      <td>0</td>\n",
       "      <td>NaN</td>\n",
       "      <td>NaN</td>\n",
       "      <td>NaN</td>\n",
       "      <td>0</td>\n",
       "      <td>9</td>\n",
       "      <td>2006</td>\n",
       "      <td>New</td>\n",
       "    </tr>\n",
       "    <tr>\n",
       "      <th>3</th>\n",
       "      <td>1989</td>\n",
       "      <td>902207150</td>\n",
       "      <td>30</td>\n",
       "      <td>RM</td>\n",
       "      <td>60</td>\n",
       "      <td>8520</td>\n",
       "      <td>Pave</td>\n",
       "      <td>NaN</td>\n",
       "      <td>Reg</td>\n",
       "      <td>Lvl</td>\n",
       "      <td>...</td>\n",
       "      <td>0</td>\n",
       "      <td>0</td>\n",
       "      <td>0</td>\n",
       "      <td>NaN</td>\n",
       "      <td>NaN</td>\n",
       "      <td>NaN</td>\n",
       "      <td>0</td>\n",
       "      <td>7</td>\n",
       "      <td>2007</td>\n",
       "      <td>WD</td>\n",
       "    </tr>\n",
       "    <tr>\n",
       "      <th>4</th>\n",
       "      <td>625</td>\n",
       "      <td>535105100</td>\n",
       "      <td>20</td>\n",
       "      <td>RL</td>\n",
       "      <td>0</td>\n",
       "      <td>9500</td>\n",
       "      <td>Pave</td>\n",
       "      <td>NaN</td>\n",
       "      <td>IR1</td>\n",
       "      <td>Lvl</td>\n",
       "      <td>...</td>\n",
       "      <td>0</td>\n",
       "      <td>185</td>\n",
       "      <td>0</td>\n",
       "      <td>NaN</td>\n",
       "      <td>NaN</td>\n",
       "      <td>NaN</td>\n",
       "      <td>0</td>\n",
       "      <td>7</td>\n",
       "      <td>2009</td>\n",
       "      <td>WD</td>\n",
       "    </tr>\n",
       "  </tbody>\n",
       "</table>\n",
       "<p>5 rows × 80 columns</p>\n",
       "</div>"
      ],
      "text/plain": [
       "     id        pid  ms_subclass ms_zoning  lot_frontage  lot_area street  \\\n",
       "0  2658  902301120          190        RM            69      9142   Pave   \n",
       "1  2718  905108090           90        RL             0      9662   Pave   \n",
       "2  2414  528218130           60        RL            58     17104   Pave   \n",
       "3  1989  902207150           30        RM            60      8520   Pave   \n",
       "4   625  535105100           20        RL             0      9500   Pave   \n",
       "\n",
       "  alley lot_shape land_contour  ... 3ssn_porch screen_porch pool_area pool_qc  \\\n",
       "0  Grvl       Reg          Lvl  ...          0            0         0     NaN   \n",
       "1   NaN       IR1          Lvl  ...          0            0         0     NaN   \n",
       "2   NaN       IR1          Lvl  ...          0            0         0     NaN   \n",
       "3   NaN       Reg          Lvl  ...          0            0         0     NaN   \n",
       "4   NaN       IR1          Lvl  ...          0          185         0     NaN   \n",
       "\n",
       "  fence misc_feature misc_val mo_sold  yr_sold  sale_type  \n",
       "0   NaN          NaN        0       4     2006        WD   \n",
       "1   NaN          NaN        0       8     2006        WD   \n",
       "2   NaN          NaN        0       9     2006        New  \n",
       "3   NaN          NaN        0       7     2007        WD   \n",
       "4   NaN          NaN        0       7     2009        WD   \n",
       "\n",
       "[5 rows x 80 columns]"
      ]
     },
     "execution_count": 13,
     "metadata": {},
     "output_type": "execute_result"
    }
   ],
   "source": [
    "ames_df.head(5)"
   ]
  },
  {
   "cell_type": "code",
   "execution_count": 14,
   "id": "3f47e264",
   "metadata": {},
   "outputs": [],
   "source": [
    "#replace NaN with None for 'alley'\n",
    "ames_df['alley'] = ames_df['alley'].replace(np.nan,'None')"
   ]
  },
  {
   "cell_type": "code",
   "execution_count": 15,
   "id": "d35d9932",
   "metadata": {},
   "outputs": [
    {
     "data": {
      "text/html": [
       "<div>\n",
       "<style scoped>\n",
       "    .dataframe tbody tr th:only-of-type {\n",
       "        vertical-align: middle;\n",
       "    }\n",
       "\n",
       "    .dataframe tbody tr th {\n",
       "        vertical-align: top;\n",
       "    }\n",
       "\n",
       "    .dataframe thead th {\n",
       "        text-align: right;\n",
       "    }\n",
       "</style>\n",
       "<table border=\"1\" class=\"dataframe\">\n",
       "  <thead>\n",
       "    <tr style=\"text-align: right;\">\n",
       "      <th></th>\n",
       "      <th>id</th>\n",
       "      <th>pid</th>\n",
       "      <th>ms_subclass</th>\n",
       "      <th>ms_zoning</th>\n",
       "      <th>lot_frontage</th>\n",
       "      <th>lot_area</th>\n",
       "      <th>street</th>\n",
       "      <th>alley</th>\n",
       "      <th>lot_shape</th>\n",
       "      <th>land_contour</th>\n",
       "      <th>...</th>\n",
       "      <th>3ssn_porch</th>\n",
       "      <th>screen_porch</th>\n",
       "      <th>pool_area</th>\n",
       "      <th>pool_qc</th>\n",
       "      <th>fence</th>\n",
       "      <th>misc_feature</th>\n",
       "      <th>misc_val</th>\n",
       "      <th>mo_sold</th>\n",
       "      <th>yr_sold</th>\n",
       "      <th>sale_type</th>\n",
       "    </tr>\n",
       "  </thead>\n",
       "  <tbody>\n",
       "    <tr>\n",
       "      <th>0</th>\n",
       "      <td>2658</td>\n",
       "      <td>902301120</td>\n",
       "      <td>190</td>\n",
       "      <td>RM</td>\n",
       "      <td>69</td>\n",
       "      <td>9142</td>\n",
       "      <td>Pave</td>\n",
       "      <td>Grvl</td>\n",
       "      <td>Reg</td>\n",
       "      <td>Lvl</td>\n",
       "      <td>...</td>\n",
       "      <td>0</td>\n",
       "      <td>0</td>\n",
       "      <td>0</td>\n",
       "      <td>NaN</td>\n",
       "      <td>NaN</td>\n",
       "      <td>NaN</td>\n",
       "      <td>0</td>\n",
       "      <td>4</td>\n",
       "      <td>2006</td>\n",
       "      <td>WD</td>\n",
       "    </tr>\n",
       "    <tr>\n",
       "      <th>1</th>\n",
       "      <td>2718</td>\n",
       "      <td>905108090</td>\n",
       "      <td>90</td>\n",
       "      <td>RL</td>\n",
       "      <td>0</td>\n",
       "      <td>9662</td>\n",
       "      <td>Pave</td>\n",
       "      <td>None</td>\n",
       "      <td>IR1</td>\n",
       "      <td>Lvl</td>\n",
       "      <td>...</td>\n",
       "      <td>0</td>\n",
       "      <td>0</td>\n",
       "      <td>0</td>\n",
       "      <td>NaN</td>\n",
       "      <td>NaN</td>\n",
       "      <td>NaN</td>\n",
       "      <td>0</td>\n",
       "      <td>8</td>\n",
       "      <td>2006</td>\n",
       "      <td>WD</td>\n",
       "    </tr>\n",
       "    <tr>\n",
       "      <th>2</th>\n",
       "      <td>2414</td>\n",
       "      <td>528218130</td>\n",
       "      <td>60</td>\n",
       "      <td>RL</td>\n",
       "      <td>58</td>\n",
       "      <td>17104</td>\n",
       "      <td>Pave</td>\n",
       "      <td>None</td>\n",
       "      <td>IR1</td>\n",
       "      <td>Lvl</td>\n",
       "      <td>...</td>\n",
       "      <td>0</td>\n",
       "      <td>0</td>\n",
       "      <td>0</td>\n",
       "      <td>NaN</td>\n",
       "      <td>NaN</td>\n",
       "      <td>NaN</td>\n",
       "      <td>0</td>\n",
       "      <td>9</td>\n",
       "      <td>2006</td>\n",
       "      <td>New</td>\n",
       "    </tr>\n",
       "    <tr>\n",
       "      <th>3</th>\n",
       "      <td>1989</td>\n",
       "      <td>902207150</td>\n",
       "      <td>30</td>\n",
       "      <td>RM</td>\n",
       "      <td>60</td>\n",
       "      <td>8520</td>\n",
       "      <td>Pave</td>\n",
       "      <td>None</td>\n",
       "      <td>Reg</td>\n",
       "      <td>Lvl</td>\n",
       "      <td>...</td>\n",
       "      <td>0</td>\n",
       "      <td>0</td>\n",
       "      <td>0</td>\n",
       "      <td>NaN</td>\n",
       "      <td>NaN</td>\n",
       "      <td>NaN</td>\n",
       "      <td>0</td>\n",
       "      <td>7</td>\n",
       "      <td>2007</td>\n",
       "      <td>WD</td>\n",
       "    </tr>\n",
       "    <tr>\n",
       "      <th>4</th>\n",
       "      <td>625</td>\n",
       "      <td>535105100</td>\n",
       "      <td>20</td>\n",
       "      <td>RL</td>\n",
       "      <td>0</td>\n",
       "      <td>9500</td>\n",
       "      <td>Pave</td>\n",
       "      <td>None</td>\n",
       "      <td>IR1</td>\n",
       "      <td>Lvl</td>\n",
       "      <td>...</td>\n",
       "      <td>0</td>\n",
       "      <td>185</td>\n",
       "      <td>0</td>\n",
       "      <td>NaN</td>\n",
       "      <td>NaN</td>\n",
       "      <td>NaN</td>\n",
       "      <td>0</td>\n",
       "      <td>7</td>\n",
       "      <td>2009</td>\n",
       "      <td>WD</td>\n",
       "    </tr>\n",
       "  </tbody>\n",
       "</table>\n",
       "<p>5 rows × 80 columns</p>\n",
       "</div>"
      ],
      "text/plain": [
       "     id        pid  ms_subclass ms_zoning  lot_frontage  lot_area street  \\\n",
       "0  2658  902301120          190        RM            69      9142   Pave   \n",
       "1  2718  905108090           90        RL             0      9662   Pave   \n",
       "2  2414  528218130           60        RL            58     17104   Pave   \n",
       "3  1989  902207150           30        RM            60      8520   Pave   \n",
       "4   625  535105100           20        RL             0      9500   Pave   \n",
       "\n",
       "  alley lot_shape land_contour  ... 3ssn_porch screen_porch pool_area pool_qc  \\\n",
       "0  Grvl       Reg          Lvl  ...          0            0         0     NaN   \n",
       "1  None       IR1          Lvl  ...          0            0         0     NaN   \n",
       "2  None       IR1          Lvl  ...          0            0         0     NaN   \n",
       "3  None       Reg          Lvl  ...          0            0         0     NaN   \n",
       "4  None       IR1          Lvl  ...          0          185         0     NaN   \n",
       "\n",
       "  fence misc_feature misc_val mo_sold  yr_sold  sale_type  \n",
       "0   NaN          NaN        0       4     2006        WD   \n",
       "1   NaN          NaN        0       8     2006        WD   \n",
       "2   NaN          NaN        0       9     2006        New  \n",
       "3   NaN          NaN        0       7     2007        WD   \n",
       "4   NaN          NaN        0       7     2009        WD   \n",
       "\n",
       "[5 rows x 80 columns]"
      ]
     },
     "execution_count": 15,
     "metadata": {},
     "output_type": "execute_result"
    }
   ],
   "source": [
    "ames_df.head()"
   ]
  },
  {
   "cell_type": "code",
   "execution_count": 16,
   "id": "27d07569",
   "metadata": {},
   "outputs": [
    {
     "data": {
      "text/plain": [
       "array([['Grvl', 35],\n",
       "       ['None', 820],\n",
       "       ['Pave', 23]], dtype=object)"
      ]
     },
     "execution_count": 16,
     "metadata": {},
     "output_type": "execute_result"
    }
   ],
   "source": [
    "#check for replacement of NaN in 'alley'\n",
    "np.array(np.unique(ames_df['alley'], return_counts=True)).T"
   ]
  },
  {
   "cell_type": "code",
   "execution_count": 17,
   "id": "5a7464d2",
   "metadata": {},
   "outputs": [
    {
     "data": {
      "text/plain": [
       "array([['IR1', 286],\n",
       "       ['IR2', 21],\n",
       "       ['IR3', 7],\n",
       "       ['Reg', 564]], dtype=object)"
      ]
     },
     "execution_count": 17,
     "metadata": {},
     "output_type": "execute_result"
    }
   ],
   "source": [
    "#check for unusual values in 'lot_shape'\n",
    "np.array(np.unique(ames_df['lot_shape'], return_counts=True)).T\n",
    "\n",
    "#no unusual values in 'lot_shape'"
   ]
  },
  {
   "cell_type": "code",
   "execution_count": 18,
   "id": "dc33c850",
   "metadata": {},
   "outputs": [
    {
     "data": {
      "text/plain": [
       "array([['Bnk', 36],\n",
       "       ['HLS', 35],\n",
       "       ['Low', 17],\n",
       "       ['Lvl', 790]], dtype=object)"
      ]
     },
     "execution_count": 18,
     "metadata": {},
     "output_type": "execute_result"
    }
   ],
   "source": [
    "#check for unusual values in 'land_contour'\n",
    "np.array(np.unique(ames_df['land_contour'], return_counts=True)).T\n",
    "\n",
    "#no unusual values in 'land contour'"
   ]
  },
  {
   "cell_type": "code",
   "execution_count": 19,
   "id": "721c3882",
   "metadata": {},
   "outputs": [
    {
     "data": {
      "text/plain": [
       "array([['AllPub', 877],\n",
       "       ['NoSewr', 1]], dtype=object)"
      ]
     },
     "execution_count": 19,
     "metadata": {},
     "output_type": "execute_result"
    }
   ],
   "source": [
    "#check for unusual values in 'utilities'\n",
    "np.array(np.unique(ames_df['utilities'], return_counts=True)).T\n",
    "\n",
    "#no unusual values in 'utilities'"
   ]
  },
  {
   "cell_type": "code",
   "execution_count": 20,
   "id": "9575dab4",
   "metadata": {},
   "outputs": [
    {
     "data": {
      "text/plain": [
       "array([['Corner', 163],\n",
       "       ['CulDSac', 49],\n",
       "       ['FR2', 25],\n",
       "       ['FR3', 5],\n",
       "       ['Inside', 636]], dtype=object)"
      ]
     },
     "execution_count": 20,
     "metadata": {},
     "output_type": "execute_result"
    }
   ],
   "source": [
    "#check for unusual values in 'lot_config'\n",
    "np.array(np.unique(ames_df['lot_config'], return_counts=True)).T\n",
    "\n",
    "#no unusual values in 'lot_config'"
   ]
  },
  {
   "cell_type": "code",
   "execution_count": 21,
   "id": "de8661cb",
   "metadata": {},
   "outputs": [
    {
     "data": {
      "text/plain": [
       "array([['Gtl', 835],\n",
       "       ['Mod', 37],\n",
       "       ['Sev', 6]], dtype=object)"
      ]
     },
     "execution_count": 21,
     "metadata": {},
     "output_type": "execute_result"
    }
   ],
   "source": [
    "#check for unusual values in 'land slope'\n",
    "np.array(np.unique(ames_df['land_slope'], return_counts=True)).T\n",
    "\n",
    "#no unusual values in 'land slope'"
   ]
  },
  {
   "cell_type": "code",
   "execution_count": 22,
   "id": "35433e3d",
   "metadata": {},
   "outputs": [
    {
     "data": {
      "text/plain": [
       "array([['Blmngtn', 6],\n",
       "       ['Blueste', 4],\n",
       "       ['BrDale', 11],\n",
       "       ['BrkSide', 32],\n",
       "       ['ClearCr', 17],\n",
       "       ['CollgCr', 87],\n",
       "       ['Crawfor', 32],\n",
       "       ['Edwards', 50],\n",
       "       ['Gilbert', 49],\n",
       "       ['Greens', 5],\n",
       "       ['IDOTRR', 24],\n",
       "       ['MeadowV', 13],\n",
       "       ['Mitchel', 32],\n",
       "       ['NAmes', 133],\n",
       "       ['NPkVill', 6],\n",
       "       ['NWAmes', 44],\n",
       "       ['NoRidge', 23],\n",
       "       ['NridgHt', 44],\n",
       "       ['OldTown', 76],\n",
       "       ['SWISU', 16],\n",
       "       ['Sawyer', 40],\n",
       "       ['SawyerW', 38],\n",
       "       ['Somerst', 52],\n",
       "       ['StoneBr', 13],\n",
       "       ['Timber', 24],\n",
       "       ['Veenker', 7]], dtype=object)"
      ]
     },
     "execution_count": 22,
     "metadata": {},
     "output_type": "execute_result"
    }
   ],
   "source": [
    "#check for unusual values in 'neighborhood'\n",
    "np.array(np.unique(ames_df['neighborhood'], return_counts=True)).T\n",
    "\n",
    "#no unusual values in 'neighborhood'"
   ]
  },
  {
   "cell_type": "code",
   "execution_count": 23,
   "id": "c5709b2c",
   "metadata": {},
   "outputs": [
    {
     "data": {
      "text/plain": [
       "array([['Artery', 22],\n",
       "       ['Feedr', 55],\n",
       "       ['Norm', 755],\n",
       "       ['PosA', 8],\n",
       "       ['PosN', 11],\n",
       "       ['RRAe', 7],\n",
       "       ['RRAn', 14],\n",
       "       ['RRNe', 3],\n",
       "       ['RRNn', 3]], dtype=object)"
      ]
     },
     "execution_count": 23,
     "metadata": {},
     "output_type": "execute_result"
    }
   ],
   "source": [
    "#check for unusual values in 'condition_1'\n",
    "np.array(np.unique(ames_df['condition_1'], return_counts=True)).T\n",
    "\n",
    "#no unusual values in 'condition_1'"
   ]
  },
  {
   "cell_type": "code",
   "execution_count": 24,
   "id": "957e7f5d",
   "metadata": {},
   "outputs": [
    {
     "data": {
      "text/plain": [
       "array([['Feedr', 2],\n",
       "       ['Norm', 875],\n",
       "       ['PosA', 1]], dtype=object)"
      ]
     },
     "execution_count": 24,
     "metadata": {},
     "output_type": "execute_result"
    }
   ],
   "source": [
    "#check for unusual values in 'condition_2'\n",
    "np.array(np.unique(ames_df['condition_2'], return_counts=True)).T\n",
    "\n",
    "#no unusual values in 'condition_2'"
   ]
  },
  {
   "cell_type": "code",
   "execution_count": 25,
   "id": "ba9bf1c7",
   "metadata": {},
   "outputs": [
    {
     "data": {
      "text/plain": [
       "array([['1Fam', 724],\n",
       "       ['2fmCon', 16],\n",
       "       ['Duplex', 34],\n",
       "       ['Twnhs', 32],\n",
       "       ['TwnhsE', 72]], dtype=object)"
      ]
     },
     "execution_count": 25,
     "metadata": {},
     "output_type": "execute_result"
    }
   ],
   "source": [
    "#check for unusual values in 'bldg_type'\n",
    "np.array(np.unique(ames_df['bldg_type'], return_counts=True)).T\n",
    "\n",
    "#Twnhs should be replaced with TwnhsI in 'bldg_type'"
   ]
  },
  {
   "cell_type": "code",
   "execution_count": 26,
   "id": "884c7272",
   "metadata": {},
   "outputs": [],
   "source": [
    "#replace 'Twnhs' with 'TwnhsI'\n",
    "ames_df['bldg_type'] = ames_df['bldg_type'].replace('Twnhs','TwnhsI')"
   ]
  },
  {
   "cell_type": "code",
   "execution_count": 27,
   "id": "c343fbd8",
   "metadata": {},
   "outputs": [
    {
     "data": {
      "text/plain": [
       "array([['1Fam', 724],\n",
       "       ['2fmCon', 16],\n",
       "       ['Duplex', 34],\n",
       "       ['TwnhsE', 72],\n",
       "       ['TwnhsI', 32]], dtype=object)"
      ]
     },
     "execution_count": 27,
     "metadata": {},
     "output_type": "execute_result"
    }
   ],
   "source": [
    "#check for unusual values in 'bldg_type'\n",
    "\n",
    "np.array(np.unique(ames_df['bldg_type'], return_counts=True)).T\n",
    "\n",
    "#no unusual values in 'bldg_type'"
   ]
  },
  {
   "cell_type": "code",
   "execution_count": 28,
   "id": "c519c380",
   "metadata": {},
   "outputs": [
    {
     "data": {
      "text/plain": [
       "array([['1.5Fin', 96],\n",
       "       ['1.5Unf', 7],\n",
       "       ['1Story', 422],\n",
       "       ['2.5Fin', 2],\n",
       "       ['2.5Unf', 10],\n",
       "       ['2Story', 274],\n",
       "       ['SFoyer', 33],\n",
       "       ['SLvl', 34]], dtype=object)"
      ]
     },
     "execution_count": 28,
     "metadata": {},
     "output_type": "execute_result"
    }
   ],
   "source": [
    "#check for unusual values in 'house_style'\n",
    "np.array(np.unique(ames_df['house_style'], return_counts=True)).T\n",
    "\n",
    "#no unusual values in 'house_style'"
   ]
  },
  {
   "cell_type": "code",
   "execution_count": 29,
   "id": "0c18bf8a",
   "metadata": {},
   "outputs": [
    {
     "data": {
      "text/plain": [
       "array([[  2,   4],\n",
       "       [  3,  11],\n",
       "       [  4,  67],\n",
       "       [  5, 262],\n",
       "       [  6, 226],\n",
       "       [  7, 171],\n",
       "       [  8, 100],\n",
       "       [  9,  30],\n",
       "       [ 10,   7]], dtype=int64)"
      ]
     },
     "execution_count": 29,
     "metadata": {},
     "output_type": "execute_result"
    }
   ],
   "source": [
    "#check for unusual values in 'overall_qual'\n",
    "np.array(np.unique(ames_df['overall_qual'], return_counts=True)).T\n",
    "\n",
    "#no unusual values in 'overall_qual'"
   ]
  },
  {
   "cell_type": "code",
   "execution_count": 30,
   "id": "11ea05ba",
   "metadata": {},
   "outputs": [
    {
     "data": {
      "text/plain": [
       "array([[  1,   3],\n",
       "       [  2,   4],\n",
       "       [  3,  15],\n",
       "       [  4,  31],\n",
       "       [  5, 485],\n",
       "       [  6, 165],\n",
       "       [  7, 120],\n",
       "       [  8,  43],\n",
       "       [  9,  12]], dtype=int64)"
      ]
     },
     "execution_count": 30,
     "metadata": {},
     "output_type": "execute_result"
    }
   ],
   "source": [
    "#check for unusual values in 'overall_cond'\n",
    "np.array(np.unique(ames_df['overall_cond'], return_counts=True)).T\n",
    "\n",
    "#no unusual values in 'overall_cond'"
   ]
  },
  {
   "cell_type": "code",
   "execution_count": 31,
   "id": "499d3fdc",
   "metadata": {},
   "outputs": [
    {
     "data": {
      "text/plain": [
       "array([[1880,    2],\n",
       "       [1882,    1],\n",
       "       [1885,    1],\n",
       "       [1890,    2],\n",
       "       [1892,    1],\n",
       "       [1900,    9],\n",
       "       [1902,    1],\n",
       "       [1904,    1],\n",
       "       [1905,    1],\n",
       "       [1906,    1],\n",
       "       [1907,    1],\n",
       "       [1908,    1],\n",
       "       [1910,   17],\n",
       "       [1912,    2],\n",
       "       [1914,    1],\n",
       "       [1915,    7],\n",
       "       [1916,    2],\n",
       "       [1917,    1],\n",
       "       [1918,    6],\n",
       "       [1919,    3],\n",
       "       [1920,   19],\n",
       "       [1921,    2],\n",
       "       [1922,    4],\n",
       "       [1923,    7],\n",
       "       [1924,    5],\n",
       "       [1925,   12],\n",
       "       [1926,    7],\n",
       "       [1927,    1],\n",
       "       [1928,    1],\n",
       "       [1930,    8],\n",
       "       [1931,    3],\n",
       "       [1932,    2],\n",
       "       [1934,    1],\n",
       "       [1935,    4],\n",
       "       [1936,    2],\n",
       "       [1937,    2],\n",
       "       [1938,    6],\n",
       "       [1939,    5],\n",
       "       [1940,    7],\n",
       "       [1941,    5],\n",
       "       [1945,    4],\n",
       "       [1946,    6],\n",
       "       [1947,    3],\n",
       "       [1948,    7],\n",
       "       [1949,    7],\n",
       "       [1950,   10],\n",
       "       [1951,    5],\n",
       "       [1952,    7],\n",
       "       [1953,    4],\n",
       "       [1954,   15],\n",
       "       [1955,   10],\n",
       "       [1956,   11],\n",
       "       [1957,   12],\n",
       "       [1958,   13],\n",
       "       [1959,   12],\n",
       "       [1960,   14],\n",
       "       [1961,   10],\n",
       "       [1962,   10],\n",
       "       [1963,   11],\n",
       "       [1964,    9],\n",
       "       [1965,   10],\n",
       "       [1966,   10],\n",
       "       [1967,   13],\n",
       "       [1968,   13],\n",
       "       [1969,   12],\n",
       "       [1970,   15],\n",
       "       [1971,   13],\n",
       "       [1972,   17],\n",
       "       [1973,    8],\n",
       "       [1974,   10],\n",
       "       [1975,    4],\n",
       "       [1976,   15],\n",
       "       [1977,   19],\n",
       "       [1978,   10],\n",
       "       [1979,    6],\n",
       "       [1980,   11],\n",
       "       [1981,    4],\n",
       "       [1982,    4],\n",
       "       [1983,    2],\n",
       "       [1984,    8],\n",
       "       [1985,    3],\n",
       "       [1986,    2],\n",
       "       [1987,    1],\n",
       "       [1988,    4],\n",
       "       [1989,    2],\n",
       "       [1990,    3],\n",
       "       [1991,    7],\n",
       "       [1992,    6],\n",
       "       [1993,   13],\n",
       "       [1994,   11],\n",
       "       [1995,    6],\n",
       "       [1996,   10],\n",
       "       [1997,   15],\n",
       "       [1998,   12],\n",
       "       [1999,   15],\n",
       "       [2000,   12],\n",
       "       [2001,   11],\n",
       "       [2002,   11],\n",
       "       [2003,   24],\n",
       "       [2004,   27],\n",
       "       [2005,   40],\n",
       "       [2006,   39],\n",
       "       [2007,   30],\n",
       "       [2008,   13],\n",
       "       [2009,   11],\n",
       "       [2010,    2]], dtype=int64)"
      ]
     },
     "execution_count": 31,
     "metadata": {},
     "output_type": "execute_result"
    }
   ],
   "source": [
    "#check for unusual values in 'year_built'\n",
    "np.array(np.unique(ames_df['year_built'], return_counts=True)).T\n",
    "\n",
    "#no unusual values in 'year_built'"
   ]
  },
  {
   "cell_type": "code",
   "execution_count": 32,
   "id": "d7e5f72d",
   "metadata": {},
   "outputs": [
    {
     "data": {
      "text/plain": [
       "array([[1950,   99],\n",
       "       [1951,    4],\n",
       "       [1952,    6],\n",
       "       [1953,    2],\n",
       "       [1954,   11],\n",
       "       [1955,    7],\n",
       "       [1956,    8],\n",
       "       [1957,    5],\n",
       "       [1958,    6],\n",
       "       [1959,    9],\n",
       "       [1960,    9],\n",
       "       [1961,    7],\n",
       "       [1962,    6],\n",
       "       [1963,   11],\n",
       "       [1964,    9],\n",
       "       [1965,   10],\n",
       "       [1966,    8],\n",
       "       [1967,   12],\n",
       "       [1968,   11],\n",
       "       [1969,   10],\n",
       "       [1970,   13],\n",
       "       [1971,   13],\n",
       "       [1972,   14],\n",
       "       [1973,    8],\n",
       "       [1974,    9],\n",
       "       [1975,    4],\n",
       "       [1976,   16],\n",
       "       [1977,   15],\n",
       "       [1978,    8],\n",
       "       [1979,    8],\n",
       "       [1980,   10],\n",
       "       [1981,    7],\n",
       "       [1982,    6],\n",
       "       [1983,    4],\n",
       "       [1984,    7],\n",
       "       [1985,    5],\n",
       "       [1986,    4],\n",
       "       [1987,    4],\n",
       "       [1988,    3],\n",
       "       [1989,    4],\n",
       "       [1990,    6],\n",
       "       [1991,   10],\n",
       "       [1992,   13],\n",
       "       [1993,   10],\n",
       "       [1994,   13],\n",
       "       [1995,   18],\n",
       "       [1996,   17],\n",
       "       [1997,   20],\n",
       "       [1998,   28],\n",
       "       [1999,   14],\n",
       "       [2000,   35],\n",
       "       [2001,   14],\n",
       "       [2002,   23],\n",
       "       [2003,   31],\n",
       "       [2004,   28],\n",
       "       [2005,   41],\n",
       "       [2006,   63],\n",
       "       [2007,   41],\n",
       "       [2008,   25],\n",
       "       [2009,   11],\n",
       "       [2010,    5]], dtype=int64)"
      ]
     },
     "execution_count": 32,
     "metadata": {},
     "output_type": "execute_result"
    }
   ],
   "source": [
    "#check for unusual values in 'year_remod/add'\n",
    "np.array(np.unique(ames_df['year_remod/add'], return_counts=True)).T\n",
    "\n",
    "#no unusual values in 'year_remod/add'"
   ]
  },
  {
   "cell_type": "code",
   "execution_count": 33,
   "id": "82bd656d",
   "metadata": {},
   "outputs": [
    {
     "data": {
      "text/plain": [
       "array([['Flat', 7],\n",
       "       ['Gable', 702],\n",
       "       ['Gambrel', 10],\n",
       "       ['Hip', 153],\n",
       "       ['Mansard', 4],\n",
       "       ['Shed', 2]], dtype=object)"
      ]
     },
     "execution_count": 33,
     "metadata": {},
     "output_type": "execute_result"
    }
   ],
   "source": [
    "#check for unusual values in 'roof_style'\n",
    "np.array(np.unique(ames_df['roof_style'], return_counts=True)).T\n",
    "\n",
    "#no unusual values in 'roof_style'"
   ]
  },
  {
   "cell_type": "code",
   "execution_count": 34,
   "id": "2e7496a3",
   "metadata": {},
   "outputs": [
    {
     "data": {
      "text/plain": [
       "array([['CompShg', 861],\n",
       "       ['Metal', 1],\n",
       "       ['Roll', 1],\n",
       "       ['Tar&Grv', 8],\n",
       "       ['WdShake', 5],\n",
       "       ['WdShngl', 2]], dtype=object)"
      ]
     },
     "execution_count": 34,
     "metadata": {},
     "output_type": "execute_result"
    }
   ],
   "source": [
    "#check for unusual values in 'roof_matl'\n",
    "np.array(np.unique(ames_df['roof_matl'], return_counts=True)).T\n",
    "\n",
    "#no unusual values in 'roof_matl'"
   ]
  },
  {
   "cell_type": "code",
   "execution_count": 35,
   "id": "67b02ae4",
   "metadata": {},
   "outputs": [
    {
     "data": {
      "text/plain": [
       "array([['AsbShng', 11],\n",
       "       ['AsphShn', 1],\n",
       "       ['BrkComm', 3],\n",
       "       ['BrkFace', 24],\n",
       "       ['CemntBd', 35],\n",
       "       ['HdBoard', 142],\n",
       "       ['MetalSd', 119],\n",
       "       ['Plywood', 69],\n",
       "       ['PreCast', 1],\n",
       "       ['Stucco', 16],\n",
       "       ['VinylSd', 302],\n",
       "       ['Wd Sdng', 144],\n",
       "       ['WdShing', 11]], dtype=object)"
      ]
     },
     "execution_count": 35,
     "metadata": {},
     "output_type": "execute_result"
    }
   ],
   "source": [
    "#check for unusual values in 'exterior_1st'\n",
    "np.array(np.unique(ames_df['exterior_1st'], return_counts=True)).T\n",
    "\n",
    "#no unusual values in 'exterior_1st'"
   ]
  },
  {
   "cell_type": "code",
   "execution_count": 36,
   "id": "f8d85eeb",
   "metadata": {},
   "outputs": [
    {
     "data": {
      "text/plain": [
       "array([['AsbShng', 10],\n",
       "       ['AsphShn', 1],\n",
       "       ['Brk Cmn', 5],\n",
       "       ['BrkFace', 13],\n",
       "       ['CBlock', 1],\n",
       "       ['CmentBd', 35],\n",
       "       ['HdBoard', 131],\n",
       "       ['ImStucc', 4],\n",
       "       ['MetalSd', 123],\n",
       "       ['Other', 1],\n",
       "       ['Plywood', 89],\n",
       "       ['PreCast', 1],\n",
       "       ['Stucco', 17],\n",
       "       ['VinylSd', 294],\n",
       "       ['Wd Sdng', 135],\n",
       "       ['Wd Shng', 18]], dtype=object)"
      ]
     },
     "execution_count": 36,
     "metadata": {},
     "output_type": "execute_result"
    }
   ],
   "source": [
    "#check for unusual values in 'exterior_2nd'\n",
    "np.array(np.unique(ames_df['exterior_2nd'], return_counts=True)).T\n",
    "\n",
    "#no unusual values in 'exterior_2nd'"
   ]
  },
  {
   "cell_type": "code",
   "execution_count": 37,
   "id": "a6c06c12",
   "metadata": {},
   "outputs": [],
   "source": [
    "#fill empty cells in 'mas_vnr_type' column with 'None'\n",
    "ames_df['mas_vnr_type'].fillna('None', inplace = True)"
   ]
  },
  {
   "cell_type": "code",
   "execution_count": 38,
   "id": "0826ba69",
   "metadata": {},
   "outputs": [
    {
     "data": {
      "text/plain": [
       "array([['BrkCmn', 12],\n",
       "       ['BrkFace', 250],\n",
       "       ['CBlock', 1],\n",
       "       ['None', 535],\n",
       "       ['Stone', 80]], dtype=object)"
      ]
     },
     "execution_count": 38,
     "metadata": {},
     "output_type": "execute_result"
    }
   ],
   "source": [
    "#check for unusual values in 'mas_vnr_type'\n",
    "np.array(np.unique(ames_df['mas_vnr_type'], return_counts=True)).T\n",
    "\n",
    "#no unusual values in 'mas_vnr_type'"
   ]
  },
  {
   "cell_type": "code",
   "execution_count": 39,
   "id": "36fb9999",
   "metadata": {},
   "outputs": [
    {
     "data": {
      "text/plain": [
       "array([[0.000e+00, 5.320e+02],\n",
       "       [1.100e+01, 1.000e+00],\n",
       "       [1.400e+01, 2.000e+00],\n",
       "       [1.600e+01, 2.000e+00],\n",
       "       [1.800e+01, 1.000e+00],\n",
       "       [2.000e+01, 2.000e+00],\n",
       "       [2.300e+01, 1.000e+00],\n",
       "       [3.200e+01, 1.000e+00],\n",
       "       [3.400e+01, 1.000e+00],\n",
       "       [4.400e+01, 2.000e+00],\n",
       "       [4.500e+01, 2.000e+00],\n",
       "       [4.800e+01, 1.000e+00],\n",
       "       [5.000e+01, 3.000e+00],\n",
       "       [5.100e+01, 1.000e+00],\n",
       "       [5.200e+01, 1.000e+00],\n",
       "       [5.300e+01, 2.000e+00],\n",
       "       [5.400e+01, 1.000e+00],\n",
       "       [5.800e+01, 1.000e+00],\n",
       "       [6.000e+01, 1.000e+00],\n",
       "       [6.500e+01, 1.000e+00],\n",
       "       [6.600e+01, 1.000e+00],\n",
       "       [6.700e+01, 1.000e+00],\n",
       "       [6.800e+01, 1.000e+00],\n",
       "       [7.000e+01, 2.000e+00],\n",
       "       [7.200e+01, 2.000e+00],\n",
       "       [7.400e+01, 1.000e+00],\n",
       "       [7.500e+01, 1.000e+00],\n",
       "       [7.600e+01, 2.000e+00],\n",
       "       [8.000e+01, 5.000e+00],\n",
       "       [8.100e+01, 1.000e+00],\n",
       "       [8.200e+01, 2.000e+00],\n",
       "       [8.400e+01, 1.000e+00],\n",
       "       [8.500e+01, 1.000e+00],\n",
       "       [8.800e+01, 3.000e+00],\n",
       "       [8.900e+01, 1.000e+00],\n",
       "       [9.000e+01, 3.000e+00],\n",
       "       [9.100e+01, 1.000e+00],\n",
       "       [9.400e+01, 1.000e+00],\n",
       "       [9.500e+01, 1.000e+00],\n",
       "       [9.600e+01, 1.000e+00],\n",
       "       [9.800e+01, 2.000e+00],\n",
       "       [9.900e+01, 2.000e+00],\n",
       "       [1.000e+02, 2.000e+00],\n",
       "       [1.010e+02, 1.000e+00],\n",
       "       [1.040e+02, 2.000e+00],\n",
       "       [1.060e+02, 2.000e+00],\n",
       "       [1.080e+02, 2.000e+00],\n",
       "       [1.120e+02, 1.000e+00],\n",
       "       [1.130e+02, 1.000e+00],\n",
       "       [1.140e+02, 1.000e+00],\n",
       "       [1.150e+02, 1.000e+00],\n",
       "       [1.160e+02, 1.000e+00],\n",
       "       [1.170e+02, 1.000e+00],\n",
       "       [1.200e+02, 4.000e+00],\n",
       "       [1.230e+02, 2.000e+00],\n",
       "       [1.280e+02, 3.000e+00],\n",
       "       [1.300e+02, 2.000e+00],\n",
       "       [1.340e+02, 1.000e+00],\n",
       "       [1.360e+02, 1.000e+00],\n",
       "       [1.370e+02, 1.000e+00],\n",
       "       [1.400e+02, 1.000e+00],\n",
       "       [1.410e+02, 1.000e+00],\n",
       "       [1.420e+02, 1.000e+00],\n",
       "       [1.430e+02, 1.000e+00],\n",
       "       [1.440e+02, 4.000e+00],\n",
       "       [1.450e+02, 1.000e+00],\n",
       "       [1.470e+02, 2.000e+00],\n",
       "       [1.490e+02, 3.000e+00],\n",
       "       [1.500e+02, 2.000e+00],\n",
       "       [1.510e+02, 1.000e+00],\n",
       "       [1.530e+02, 2.000e+00],\n",
       "       [1.560e+02, 2.000e+00],\n",
       "       [1.610e+02, 2.000e+00],\n",
       "       [1.620e+02, 2.000e+00],\n",
       "       [1.640e+02, 2.000e+00],\n",
       "       [1.660e+02, 2.000e+00],\n",
       "       [1.690e+02, 2.000e+00],\n",
       "       [1.700e+02, 1.000e+00],\n",
       "       [1.710e+02, 1.000e+00],\n",
       "       [1.720e+02, 1.000e+00],\n",
       "       [1.740e+02, 2.000e+00],\n",
       "       [1.750e+02, 1.000e+00],\n",
       "       [1.760e+02, 3.000e+00],\n",
       "       [1.780e+02, 2.000e+00],\n",
       "       [1.800e+02, 3.000e+00],\n",
       "       [1.820e+02, 3.000e+00],\n",
       "       [1.870e+02, 1.000e+00],\n",
       "       [1.880e+02, 1.000e+00],\n",
       "       [1.890e+02, 1.000e+00],\n",
       "       [1.900e+02, 1.000e+00],\n",
       "       [1.940e+02, 3.000e+00],\n",
       "       [1.960e+02, 5.000e+00],\n",
       "       [1.980e+02, 3.000e+00],\n",
       "       [2.000e+02, 3.000e+00],\n",
       "       [2.030e+02, 1.000e+00],\n",
       "       [2.050e+02, 2.000e+00],\n",
       "       [2.060e+02, 2.000e+00],\n",
       "       [2.070e+02, 1.000e+00],\n",
       "       [2.080e+02, 1.000e+00],\n",
       "       [2.090e+02, 2.000e+00],\n",
       "       [2.120e+02, 1.000e+00],\n",
       "       [2.150e+02, 2.000e+00],\n",
       "       [2.160e+02, 7.000e+00],\n",
       "       [2.170e+02, 1.000e+00],\n",
       "       [2.180e+02, 1.000e+00],\n",
       "       [2.200e+02, 1.000e+00],\n",
       "       [2.230e+02, 1.000e+00],\n",
       "       [2.260e+02, 2.000e+00],\n",
       "       [2.270e+02, 1.000e+00],\n",
       "       [2.290e+02, 1.000e+00],\n",
       "       [2.300e+02, 1.000e+00],\n",
       "       [2.320e+02, 2.000e+00],\n",
       "       [2.330e+02, 1.000e+00],\n",
       "       [2.360e+02, 1.000e+00],\n",
       "       [2.380e+02, 1.000e+00],\n",
       "       [2.400e+02, 3.000e+00],\n",
       "       [2.460e+02, 2.000e+00],\n",
       "       [2.470e+02, 1.000e+00],\n",
       "       [2.480e+02, 1.000e+00],\n",
       "       [2.500e+02, 1.000e+00],\n",
       "       [2.520e+02, 2.000e+00],\n",
       "       [2.560e+02, 2.000e+00],\n",
       "       [2.580e+02, 1.000e+00],\n",
       "       [2.590e+02, 1.000e+00],\n",
       "       [2.600e+02, 2.000e+00],\n",
       "       [2.610e+02, 1.000e+00],\n",
       "       [2.630e+02, 1.000e+00],\n",
       "       [2.640e+02, 1.000e+00],\n",
       "       [2.650e+02, 2.000e+00],\n",
       "       [2.660e+02, 2.000e+00],\n",
       "       [2.680e+02, 2.000e+00],\n",
       "       [2.700e+02, 3.000e+00],\n",
       "       [2.800e+02, 2.000e+00],\n",
       "       [2.810e+02, 1.000e+00],\n",
       "       [2.840e+02, 1.000e+00],\n",
       "       [2.850e+02, 3.000e+00],\n",
       "       [2.860e+02, 2.000e+00],\n",
       "       [2.870e+02, 1.000e+00],\n",
       "       [2.880e+02, 1.000e+00],\n",
       "       [2.930e+02, 1.000e+00],\n",
       "       [2.950e+02, 1.000e+00],\n",
       "       [2.970e+02, 1.000e+00],\n",
       "       [3.000e+02, 2.000e+00],\n",
       "       [3.020e+02, 3.000e+00],\n",
       "       [3.040e+02, 1.000e+00],\n",
       "       [3.050e+02, 2.000e+00],\n",
       "       [3.060e+02, 3.000e+00],\n",
       "       [3.080e+02, 1.000e+00],\n",
       "       [3.100e+02, 1.000e+00],\n",
       "       [3.120e+02, 1.000e+00],\n",
       "       [3.180e+02, 1.000e+00],\n",
       "       [3.200e+02, 2.000e+00],\n",
       "       [3.280e+02, 1.000e+00],\n",
       "       [3.400e+02, 4.000e+00],\n",
       "       [3.420e+02, 1.000e+00],\n",
       "       [3.500e+02, 2.000e+00],\n",
       "       [3.520e+02, 2.000e+00],\n",
       "       [3.560e+02, 1.000e+00],\n",
       "       [3.590e+02, 1.000e+00],\n",
       "       [3.600e+02, 2.000e+00],\n",
       "       [3.620e+02, 1.000e+00],\n",
       "       [3.640e+02, 1.000e+00],\n",
       "       [3.660e+02, 1.000e+00],\n",
       "       [3.680e+02, 1.000e+00],\n",
       "       [3.710e+02, 1.000e+00],\n",
       "       [3.780e+02, 1.000e+00],\n",
       "       [3.800e+02, 1.000e+00],\n",
       "       [3.880e+02, 1.000e+00],\n",
       "       [3.960e+02, 1.000e+00],\n",
       "       [3.990e+02, 1.000e+00],\n",
       "       [4.050e+02, 1.000e+00],\n",
       "       [4.080e+02, 1.000e+00],\n",
       "       [4.100e+02, 1.000e+00],\n",
       "       [4.150e+02, 1.000e+00],\n",
       "       [4.200e+02, 5.000e+00],\n",
       "       [4.220e+02, 1.000e+00],\n",
       "       [4.230e+02, 2.000e+00],\n",
       "       [4.300e+02, 1.000e+00],\n",
       "       [4.320e+02, 1.000e+00],\n",
       "       [4.350e+02, 1.000e+00],\n",
       "       [4.380e+02, 1.000e+00],\n",
       "       [4.400e+02, 1.000e+00],\n",
       "       [4.440e+02, 1.000e+00],\n",
       "       [4.480e+02, 1.000e+00],\n",
       "       [4.500e+02, 2.000e+00],\n",
       "       [4.560e+02, 3.000e+00],\n",
       "       [4.590e+02, 1.000e+00],\n",
       "       [4.640e+02, 1.000e+00],\n",
       "       [4.680e+02, 1.000e+00],\n",
       "       [4.720e+02, 1.000e+00],\n",
       "       [4.730e+02, 1.000e+00],\n",
       "       [4.800e+02, 1.000e+00],\n",
       "       [4.810e+02, 1.000e+00],\n",
       "       [4.920e+02, 1.000e+00],\n",
       "       [4.950e+02, 1.000e+00],\n",
       "       [5.000e+02, 1.000e+00],\n",
       "       [5.010e+02, 1.000e+00],\n",
       "       [5.040e+02, 1.000e+00],\n",
       "       [5.090e+02, 1.000e+00],\n",
       "       [5.130e+02, 1.000e+00],\n",
       "       [5.150e+02, 1.000e+00],\n",
       "       [5.250e+02, 1.000e+00],\n",
       "       [5.320e+02, 1.000e+00],\n",
       "       [5.490e+02, 1.000e+00],\n",
       "       [5.500e+02, 1.000e+00],\n",
       "       [5.670e+02, 1.000e+00],\n",
       "       [5.680e+02, 1.000e+00],\n",
       "       [5.840e+02, 1.000e+00],\n",
       "       [5.940e+02, 1.000e+00],\n",
       "       [6.000e+02, 1.000e+00],\n",
       "       [6.150e+02, 1.000e+00],\n",
       "       [6.210e+02, 2.000e+00],\n",
       "       [6.320e+02, 1.000e+00],\n",
       "       [6.340e+02, 1.000e+00],\n",
       "       [6.530e+02, 1.000e+00],\n",
       "       [6.570e+02, 1.000e+00],\n",
       "       [6.740e+02, 1.000e+00],\n",
       "       [6.800e+02, 1.000e+00],\n",
       "       [7.260e+02, 1.000e+00],\n",
       "       [7.540e+02, 1.000e+00],\n",
       "       [7.680e+02, 1.000e+00],\n",
       "       [7.710e+02, 1.000e+00],\n",
       "       [7.880e+02, 1.000e+00],\n",
       "       [8.700e+02, 1.000e+00],\n",
       "       [8.770e+02, 1.000e+00],\n",
       "       [9.210e+02, 1.000e+00],\n",
       "       [9.750e+02, 1.000e+00],\n",
       "       [1.159e+03, 1.000e+00],\n",
       "       [1.170e+03, 1.000e+00],\n",
       "       [1.224e+03, 1.000e+00],\n",
       "       [1.290e+03, 1.000e+00],\n",
       "       [1.378e+03, 1.000e+00],\n",
       "       [      nan, 1.000e+00]])"
      ]
     },
     "execution_count": 39,
     "metadata": {},
     "output_type": "execute_result"
    }
   ],
   "source": [
    "#check for unusual values in 'mas_vnr_type'\n",
    "np.array(np.unique(ames_df['mas_vnr_area'], return_counts=True)).T\n",
    "\n",
    "#'mas_vnr_type' contains 22 null values."
   ]
  },
  {
   "cell_type": "code",
   "execution_count": 40,
   "id": "e6e9800d",
   "metadata": {},
   "outputs": [],
   "source": [
    "#fill empty cells in 'mas_vnr_area' column with 0\n",
    "ames_df['mas_vnr_area'].fillna(0, inplace = True)"
   ]
  },
  {
   "cell_type": "code",
   "execution_count": 41,
   "id": "8bdd088a",
   "metadata": {},
   "outputs": [
    {
     "data": {
      "text/plain": [
       "array([['Ex', 25],\n",
       "       ['Fa', 9],\n",
       "       ['Gd', 292],\n",
       "       ['TA', 552]], dtype=object)"
      ]
     },
     "execution_count": 41,
     "metadata": {},
     "output_type": "execute_result"
    }
   ],
   "source": [
    "#check for unusual values in 'exter_qual'\n",
    "np.array(np.unique(ames_df['exter_qual'], return_counts=True)).T\n",
    "\n",
    "#no unusual values in 'exter_qual'"
   ]
  },
  {
   "cell_type": "code",
   "execution_count": 42,
   "id": "e3855ee1",
   "metadata": {},
   "outputs": [
    {
     "data": {
      "text/plain": [
       "array([['Ex', 5],\n",
       "       ['Fa', 18],\n",
       "       ['Gd', 84],\n",
       "       ['Po', 1],\n",
       "       ['TA', 770]], dtype=object)"
      ]
     },
     "execution_count": 42,
     "metadata": {},
     "output_type": "execute_result"
    }
   ],
   "source": [
    "#check for unusual values in 'exter_cond'\n",
    "np.array(np.unique(ames_df['exter_cond'], return_counts=True)).T\n",
    "\n",
    "#no unusual values in 'exter_cond'"
   ]
  },
  {
   "cell_type": "code",
   "execution_count": 43,
   "id": "879c013f",
   "metadata": {},
   "outputs": [
    {
     "data": {
      "text/plain": [
       "array([['BrkTil', 90],\n",
       "       ['CBlock', 381],\n",
       "       ['PConc', 383],\n",
       "       ['Slab', 15],\n",
       "       ['Stone', 6],\n",
       "       ['Wood', 3]], dtype=object)"
      ]
     },
     "execution_count": 43,
     "metadata": {},
     "output_type": "execute_result"
    }
   ],
   "source": [
    "#check for unusual values in 'foundation'\n",
    "np.array(np.unique(ames_df['foundation'], return_counts=True)).T\n",
    "\n",
    "#no unusual values in 'foundation'"
   ]
  },
  {
   "cell_type": "code",
   "execution_count": 44,
   "id": "ee1ee2ef",
   "metadata": {},
   "outputs": [],
   "source": [
    "#fill empty cells in 'bsmt_qual' column with 'None'\n",
    "ames_df['bsmt_qual'].fillna('None', inplace = True)"
   ]
  },
  {
   "cell_type": "code",
   "execution_count": 45,
   "id": "77bb1d62",
   "metadata": {},
   "outputs": [
    {
     "data": {
      "text/plain": [
       "array([['Ex', 73],\n",
       "       ['Fa', 28],\n",
       "       ['Gd', 355],\n",
       "       ['None', 25],\n",
       "       ['Po', 1],\n",
       "       ['TA', 396]], dtype=object)"
      ]
     },
     "execution_count": 45,
     "metadata": {},
     "output_type": "execute_result"
    }
   ],
   "source": [
    "#check for unusual values in 'bsmt_qual'\n",
    "np.array(np.unique(ames_df['bsmt_qual'], return_counts=True)).T\n",
    "\n",
    "#no unusual values in 'bsmt_qual'"
   ]
  },
  {
   "cell_type": "code",
   "execution_count": 46,
   "id": "4bf64a11",
   "metadata": {},
   "outputs": [],
   "source": [
    "#fill empty cells in 'bsmt_cond' column with 'None'\n",
    "ames_df['bsmt_cond'].fillna('None', inplace = True)"
   ]
  },
  {
   "cell_type": "code",
   "execution_count": 47,
   "id": "cee12bfb",
   "metadata": {},
   "outputs": [
    {
     "data": {
      "text/plain": [
       "array([['Fa', 39],\n",
       "       ['Gd', 33],\n",
       "       ['None', 25],\n",
       "       ['TA', 781]], dtype=object)"
      ]
     },
     "execution_count": 47,
     "metadata": {},
     "output_type": "execute_result"
    }
   ],
   "source": [
    "#check for unusual values in 'bsmt_cond'\n",
    "np.array(np.unique(ames_df['bsmt_cond'], return_counts=True)).T\n",
    "\n",
    "#no unusual values in 'bsmt_cond'"
   ]
  },
  {
   "cell_type": "code",
   "execution_count": 48,
   "id": "26414393",
   "metadata": {},
   "outputs": [],
   "source": [
    "#fill empty cells in 'bsmt_exposure' column with 'None'\n",
    "ames_df['bsmt_exposure'].fillna('None', inplace = True)"
   ]
  },
  {
   "cell_type": "code",
   "execution_count": 49,
   "id": "ff325de8",
   "metadata": {},
   "outputs": [
    {
     "data": {
      "text/plain": [
       "array([['Av', 130],\n",
       "       ['Gd', 80],\n",
       "       ['Mn', 76],\n",
       "       ['No', 567],\n",
       "       ['None', 25]], dtype=object)"
      ]
     },
     "execution_count": 49,
     "metadata": {},
     "output_type": "execute_result"
    }
   ],
   "source": [
    "#check for unusual values in 'bsmt_exposure'\n",
    "np.array(np.unique(ames_df['bsmt_exposure'], return_counts=True)).T\n",
    "\n",
    "#no unusual values in 'bsmt_exposure'"
   ]
  },
  {
   "cell_type": "code",
   "execution_count": 50,
   "id": "1b0a3f6f",
   "metadata": {},
   "outputs": [],
   "source": [
    "#fill empty cells in 'bsmtfin_type_1' column with 'None'\n",
    "ames_df['bsmtfin_type_1'].fillna('None', inplace = True)"
   ]
  },
  {
   "cell_type": "code",
   "execution_count": 51,
   "id": "7e408766",
   "metadata": {},
   "outputs": [
    {
     "data": {
      "text/plain": [
       "array([['ALQ', 136],\n",
       "       ['BLQ', 69],\n",
       "       ['GLQ', 243],\n",
       "       ['LwQ', 52],\n",
       "       ['None', 25],\n",
       "       ['Rec', 105],\n",
       "       ['Unf', 248]], dtype=object)"
      ]
     },
     "execution_count": 51,
     "metadata": {},
     "output_type": "execute_result"
    }
   ],
   "source": [
    "#check for unusual values in 'bsmtfin_type_1'\n",
    "np.array(np.unique(ames_df['bsmtfin_type_1'], return_counts=True)).T\n",
    "\n",
    "#no unusual values in 'bsmtfin_type_1'"
   ]
  },
  {
   "cell_type": "code",
   "execution_count": 52,
   "id": "f6a7b415",
   "metadata": {},
   "outputs": [],
   "source": [
    "#replace NaN with 0 in 'bsmtfin_sf_1'\n",
    "ames_df['bsmtfin_sf_1'] = ames_df['bsmtfin_sf_1'].replace(np.nan,0)"
   ]
  },
  {
   "cell_type": "code",
   "execution_count": 53,
   "id": "f8410dba",
   "metadata": {},
   "outputs": [
    {
     "data": {
      "text/plain": [
       "array([[   0,  273],\n",
       "       [  16,    4],\n",
       "       [  20,    1],\n",
       "       [  24,   10],\n",
       "       [  28,    1],\n",
       "       [  33,    1],\n",
       "       [  36,    1],\n",
       "       [  40,    1],\n",
       "       [  48,    2],\n",
       "       [  49,    1],\n",
       "       [  53,    1],\n",
       "       [  54,    1],\n",
       "       [  60,    1],\n",
       "       [  68,    2],\n",
       "       [  70,    1],\n",
       "       [  73,    1],\n",
       "       [  75,    1],\n",
       "       [  77,    1],\n",
       "       [  80,    1],\n",
       "       [ 104,    1],\n",
       "       [ 110,    1],\n",
       "       [ 114,    1],\n",
       "       [ 116,    1],\n",
       "       [ 119,    1],\n",
       "       [ 120,    1],\n",
       "       [ 121,    1],\n",
       "       [ 122,    1],\n",
       "       [ 125,    1],\n",
       "       [ 144,    2],\n",
       "       [ 148,    1],\n",
       "       [ 150,    1],\n",
       "       [ 152,    1],\n",
       "       [ 154,    1],\n",
       "       [ 156,    1],\n",
       "       [ 165,    1],\n",
       "       [ 168,    3],\n",
       "       [ 169,    1],\n",
       "       [ 173,    1],\n",
       "       [ 175,    1],\n",
       "       [ 176,    1],\n",
       "       [ 180,    2],\n",
       "       [ 182,    1],\n",
       "       [ 185,    1],\n",
       "       [ 187,    1],\n",
       "       [ 188,    2],\n",
       "       [ 190,    1],\n",
       "       [ 192,    3],\n",
       "       [ 194,    1],\n",
       "       [ 196,    3],\n",
       "       [ 197,    1],\n",
       "       [ 203,    2],\n",
       "       [ 204,    1],\n",
       "       [ 210,    1],\n",
       "       [ 212,    1],\n",
       "       [ 216,    2],\n",
       "       [ 218,    1],\n",
       "       [ 220,    3],\n",
       "       [ 224,    2],\n",
       "       [ 225,    1],\n",
       "       [ 231,    1],\n",
       "       [ 236,    1],\n",
       "       [ 238,    1],\n",
       "       [ 241,    1],\n",
       "       [ 248,    1],\n",
       "       [ 249,    1],\n",
       "       [ 250,    3],\n",
       "       [ 251,    1],\n",
       "       [ 252,    1],\n",
       "       [ 256,    2],\n",
       "       [ 257,    1],\n",
       "       [ 260,    1],\n",
       "       [ 262,    1],\n",
       "       [ 267,    2],\n",
       "       [ 271,    1],\n",
       "       [ 276,    1],\n",
       "       [ 278,    1],\n",
       "       [ 280,    2],\n",
       "       [ 281,    1],\n",
       "       [ 283,    1],\n",
       "       [ 284,    2],\n",
       "       [ 288,    3],\n",
       "       [ 292,    1],\n",
       "       [ 294,    1],\n",
       "       [ 297,    1],\n",
       "       [ 299,    1],\n",
       "       [ 300,    2],\n",
       "       [ 301,    1],\n",
       "       [ 306,    2],\n",
       "       [ 308,    1],\n",
       "       [ 309,    1],\n",
       "       [ 310,    2],\n",
       "       [ 311,    1],\n",
       "       [ 315,    1],\n",
       "       [ 316,    1],\n",
       "       [ 317,    1],\n",
       "       [ 320,    1],\n",
       "       [ 322,    1],\n",
       "       [ 324,    2],\n",
       "       [ 329,    3],\n",
       "       [ 331,    1],\n",
       "       [ 332,    1],\n",
       "       [ 334,    2],\n",
       "       [ 336,    1],\n",
       "       [ 337,    1],\n",
       "       [ 338,    1],\n",
       "       [ 339,    1],\n",
       "       [ 340,    1],\n",
       "       [ 341,    1],\n",
       "       [ 343,    1],\n",
       "       [ 346,    1],\n",
       "       [ 347,    1],\n",
       "       [ 351,    1],\n",
       "       [ 352,    2],\n",
       "       [ 353,    2],\n",
       "       [ 354,    1],\n",
       "       [ 356,    1],\n",
       "       [ 360,    1],\n",
       "       [ 366,    1],\n",
       "       [ 370,    2],\n",
       "       [ 371,    1],\n",
       "       [ 372,    1],\n",
       "       [ 374,    1],\n",
       "       [ 375,    3],\n",
       "       [ 378,    2],\n",
       "       [ 379,    1],\n",
       "       [ 380,    1],\n",
       "       [ 381,    1],\n",
       "       [ 383,    1],\n",
       "       [ 384,    1],\n",
       "       [ 387,    1],\n",
       "       [ 388,    1],\n",
       "       [ 390,    1],\n",
       "       [ 397,    1],\n",
       "       [ 399,    2],\n",
       "       [ 400,    2],\n",
       "       [ 402,    2],\n",
       "       [ 403,    1],\n",
       "       [ 404,    1],\n",
       "       [ 405,    1],\n",
       "       [ 406,    1],\n",
       "       [ 408,    1],\n",
       "       [ 412,    1],\n",
       "       [ 414,    2],\n",
       "       [ 415,    1],\n",
       "       [ 420,    1],\n",
       "       [ 421,    1],\n",
       "       [ 426,    2],\n",
       "       [ 427,    1],\n",
       "       [ 428,    1],\n",
       "       [ 435,    1],\n",
       "       [ 438,    1],\n",
       "       [ 439,    1],\n",
       "       [ 442,    1],\n",
       "       [ 445,    2],\n",
       "       [ 450,    1],\n",
       "       [ 454,    1],\n",
       "       [ 455,    1],\n",
       "       [ 456,    1],\n",
       "       [ 457,    1],\n",
       "       [ 459,    1],\n",
       "       [ 460,    1],\n",
       "       [ 462,    1],\n",
       "       [ 466,    1],\n",
       "       [ 468,    2],\n",
       "       [ 471,    1],\n",
       "       [ 472,    1],\n",
       "       [ 474,    2],\n",
       "       [ 480,    3],\n",
       "       [ 483,    3],\n",
       "       [ 484,    2],\n",
       "       [ 486,    1],\n",
       "       [ 489,    2],\n",
       "       [ 490,    1],\n",
       "       [ 491,    1],\n",
       "       [ 493,    1],\n",
       "       [ 498,    1],\n",
       "       [ 500,    3],\n",
       "       [ 502,    1],\n",
       "       [ 503,    1],\n",
       "       [ 504,    3],\n",
       "       [ 505,    1],\n",
       "       [ 509,    1],\n",
       "       [ 512,    1],\n",
       "       [ 513,    1],\n",
       "       [ 515,    1],\n",
       "       [ 518,    1],\n",
       "       [ 520,    3],\n",
       "       [ 521,    1],\n",
       "       [ 523,    1],\n",
       "       [ 524,    1],\n",
       "       [ 528,    2],\n",
       "       [ 536,    1],\n",
       "       [ 539,    2],\n",
       "       [ 540,    2],\n",
       "       [ 544,    2],\n",
       "       [ 546,    2],\n",
       "       [ 547,    2],\n",
       "       [ 550,    2],\n",
       "       [ 552,    2],\n",
       "       [ 553,    1],\n",
       "       [ 554,    1],\n",
       "       [ 559,    1],\n",
       "       [ 560,    3],\n",
       "       [ 562,    1],\n",
       "       [ 564,    2],\n",
       "       [ 565,    1],\n",
       "       [ 567,    1],\n",
       "       [ 572,    1],\n",
       "       [ 574,    1],\n",
       "       [ 575,    1],\n",
       "       [ 576,    1],\n",
       "       [ 577,    1],\n",
       "       [ 583,    1],\n",
       "       [ 584,    2],\n",
       "       [ 585,    1],\n",
       "       [ 588,    2],\n",
       "       [ 590,    1],\n",
       "       [ 592,    1],\n",
       "       [ 593,    2],\n",
       "       [ 595,    3],\n",
       "       [ 596,    1],\n",
       "       [ 600,    4],\n",
       "       [ 601,    1],\n",
       "       [ 602,    4],\n",
       "       [ 604,    1],\n",
       "       [ 605,    1],\n",
       "       [ 609,    1],\n",
       "       [ 611,    1],\n",
       "       [ 612,    1],\n",
       "       [ 614,    1],\n",
       "       [ 616,    2],\n",
       "       [ 623,    1],\n",
       "       [ 624,    1],\n",
       "       [ 625,    1],\n",
       "       [ 632,    2],\n",
       "       [ 633,    2],\n",
       "       [ 636,    1],\n",
       "       [ 641,    2],\n",
       "       [ 642,    1],\n",
       "       [ 643,    2],\n",
       "       [ 646,    2],\n",
       "       [ 649,    1],\n",
       "       [ 650,    1],\n",
       "       [ 652,    1],\n",
       "       [ 655,    1],\n",
       "       [ 656,    2],\n",
       "       [ 658,    1],\n",
       "       [ 659,    1],\n",
       "       [ 660,    2],\n",
       "       [ 662,    4],\n",
       "       [ 663,    2],\n",
       "       [ 664,    1],\n",
       "       [ 666,    1],\n",
       "       [ 670,    1],\n",
       "       [ 671,    1],\n",
       "       [ 672,    2],\n",
       "       [ 680,    1],\n",
       "       [ 685,    1],\n",
       "       [ 687,    1],\n",
       "       [ 695,    1],\n",
       "       [ 697,    2],\n",
       "       [ 698,    2],\n",
       "       [ 700,    1],\n",
       "       [ 701,    1],\n",
       "       [ 704,    1],\n",
       "       [ 706,    1],\n",
       "       [ 709,    1],\n",
       "       [ 712,    2],\n",
       "       [ 714,    1],\n",
       "       [ 719,    1],\n",
       "       [ 724,    2],\n",
       "       [ 726,    1],\n",
       "       [ 728,    1],\n",
       "       [ 729,    1],\n",
       "       [ 732,    1],\n",
       "       [ 733,    1],\n",
       "       [ 734,    2],\n",
       "       [ 735,    1],\n",
       "       [ 736,    1],\n",
       "       [ 739,    2],\n",
       "       [ 746,    1],\n",
       "       [ 747,    1],\n",
       "       [ 749,    1],\n",
       "       [ 755,    1],\n",
       "       [ 758,    1],\n",
       "       [ 760,    1],\n",
       "       [ 763,    1],\n",
       "       [ 765,    1],\n",
       "       [ 766,    1],\n",
       "       [ 767,    3],\n",
       "       [ 769,    1],\n",
       "       [ 771,    1],\n",
       "       [ 773,    1],\n",
       "       [ 777,    2],\n",
       "       [ 779,    2],\n",
       "       [ 781,    1],\n",
       "       [ 782,    1],\n",
       "       [ 784,    1],\n",
       "       [ 788,    1],\n",
       "       [ 789,    1],\n",
       "       [ 793,    2],\n",
       "       [ 795,    1],\n",
       "       [ 796,    1],\n",
       "       [ 799,    2],\n",
       "       [ 800,    2],\n",
       "       [ 804,    1],\n",
       "       [ 810,    1],\n",
       "       [ 811,    1],\n",
       "       [ 812,    2],\n",
       "       [ 814,    1],\n",
       "       [ 816,    2],\n",
       "       [ 820,    1],\n",
       "       [ 822,    2],\n",
       "       [ 824,    1],\n",
       "       [ 828,    2],\n",
       "       [ 831,    1],\n",
       "       [ 832,    1],\n",
       "       [ 833,    1],\n",
       "       [ 844,    1],\n",
       "       [ 846,    1],\n",
       "       [ 847,    1],\n",
       "       [ 850,    1],\n",
       "       [ 852,    1],\n",
       "       [ 853,    1],\n",
       "       [ 854,    1],\n",
       "       [ 856,    1],\n",
       "       [ 859,    1],\n",
       "       [ 860,    2],\n",
       "       [ 862,    1],\n",
       "       [ 864,    2],\n",
       "       [ 865,    1],\n",
       "       [ 866,    2],\n",
       "       [ 870,    2],\n",
       "       [ 871,    2],\n",
       "       [ 873,    1],\n",
       "       [ 876,    1],\n",
       "       [ 880,    1],\n",
       "       [ 881,    1],\n",
       "       [ 885,    1],\n",
       "       [ 890,    2],\n",
       "       [ 892,    1],\n",
       "       [ 899,    1],\n",
       "       [ 902,    2],\n",
       "       [ 904,    1],\n",
       "       [ 908,    1],\n",
       "       [ 910,    1],\n",
       "       [ 912,    1],\n",
       "       [ 913,    1],\n",
       "       [ 915,    2],\n",
       "       [ 920,    1],\n",
       "       [ 922,    2],\n",
       "       [ 931,    1],\n",
       "       [ 932,    1],\n",
       "       [ 936,    4],\n",
       "       [ 938,    1],\n",
       "       [ 943,    1],\n",
       "       [ 944,    1],\n",
       "       [ 946,    1],\n",
       "       [ 949,    1],\n",
       "       [ 958,    2],\n",
       "       [ 960,    1],\n",
       "       [ 962,    2],\n",
       "       [ 965,    1],\n",
       "       [ 970,    1],\n",
       "       [ 973,    1],\n",
       "       [ 975,    2],\n",
       "       [ 982,    1],\n",
       "       [ 986,    1],\n",
       "       [ 988,    1],\n",
       "       [ 994,    1],\n",
       "       [ 996,    1],\n",
       "       [ 998,    2],\n",
       "       [1000,    2],\n",
       "       [1005,    1],\n",
       "       [1009,    1],\n",
       "       [1012,    1],\n",
       "       [1022,    1],\n",
       "       [1024,    1],\n",
       "       [1026,    1],\n",
       "       [1029,    1],\n",
       "       [1030,    1],\n",
       "       [1035,    1],\n",
       "       [1036,    1],\n",
       "       [1046,    1],\n",
       "       [1053,    1],\n",
       "       [1056,    1],\n",
       "       [1059,    1],\n",
       "       [1064,    1],\n",
       "       [1065,    1],\n",
       "       [1070,    1],\n",
       "       [1073,    1],\n",
       "       [1079,    1],\n",
       "       [1082,    1],\n",
       "       [1084,    1],\n",
       "       [1094,    1],\n",
       "       [1096,    1],\n",
       "       [1104,    1],\n",
       "       [1111,    1],\n",
       "       [1112,    1],\n",
       "       [1126,    1],\n",
       "       [1127,    1],\n",
       "       [1129,    1],\n",
       "       [1138,    1],\n",
       "       [1141,    1],\n",
       "       [1142,    1],\n",
       "       [1150,    1],\n",
       "       [1151,    1],\n",
       "       [1152,    1],\n",
       "       [1159,    1],\n",
       "       [1181,    1],\n",
       "       [1182,    1],\n",
       "       [1186,    1],\n",
       "       [1191,    1],\n",
       "       [1216,    1],\n",
       "       [1220,    1],\n",
       "       [1224,    1],\n",
       "       [1230,    1],\n",
       "       [1236,    1],\n",
       "       [1249,    2],\n",
       "       [1252,    1],\n",
       "       [1258,    2],\n",
       "       [1260,    1],\n",
       "       [1274,    2],\n",
       "       [1283,    1],\n",
       "       [1294,    1],\n",
       "       [1300,    2],\n",
       "       [1304,    1],\n",
       "       [1308,    1],\n",
       "       [1324,    1],\n",
       "       [1334,    1],\n",
       "       [1350,    1],\n",
       "       [1351,    1],\n",
       "       [1359,    1],\n",
       "       [1360,    2],\n",
       "       [1373,    1],\n",
       "       [1383,    1],\n",
       "       [1387,    1],\n",
       "       [1410,    1],\n",
       "       [1414,    1],\n",
       "       [1416,    1],\n",
       "       [1420,    1],\n",
       "       [1422,    1],\n",
       "       [1436,    1],\n",
       "       [1443,    1],\n",
       "       [1445,    1],\n",
       "       [1455,    1],\n",
       "       [1460,    1],\n",
       "       [1464,    1],\n",
       "       [1500,    1],\n",
       "       [1572,    1],\n",
       "       [1573,    2],\n",
       "       [1576,    1],\n",
       "       [1646,    1],\n",
       "       [1660,    1],\n",
       "       [1721,    1],\n",
       "       [1732,    1],\n",
       "       [1812,    1],\n",
       "       [1836,    1],\n",
       "       [1965,    1],\n",
       "       [2096,    1],\n",
       "       [2257,    1],\n",
       "       [2288,    1]], dtype=int64)"
      ]
     },
     "execution_count": 53,
     "metadata": {},
     "output_type": "execute_result"
    }
   ],
   "source": [
    "#check for unusual values in 'bsmtfin_sf_1'\n",
    "np.array(np.unique(ames_df['bsmtfin_sf_1'], return_counts=True)).T\n",
    "\n",
    "#no unusual values in 'bsmtfin_sf_1'"
   ]
  },
  {
   "cell_type": "code",
   "execution_count": 54,
   "id": "5607e4a5",
   "metadata": {},
   "outputs": [],
   "source": [
    "#fill empty cells in 'bsmtfin_type_2' column with 'None'\n",
    "ames_df['bsmtfin_type_2'].fillna('None', inplace = True)"
   ]
  },
  {
   "cell_type": "code",
   "execution_count": 55,
   "id": "9beca77e",
   "metadata": {},
   "outputs": [
    {
     "data": {
      "text/plain": [
       "array([['ALQ', 18],\n",
       "       ['BLQ', 20],\n",
       "       ['GLQ', 11],\n",
       "       ['LwQ', 29],\n",
       "       ['None', 25],\n",
       "       ['Rec', 26],\n",
       "       ['Unf', 749]], dtype=object)"
      ]
     },
     "execution_count": 55,
     "metadata": {},
     "output_type": "execute_result"
    }
   ],
   "source": [
    "#check for unusual values in 'bsmtfin_type_2'\n",
    "np.array(np.unique(ames_df['bsmtfin_type_2'], return_counts=True)).T\n",
    "\n",
    "#no unusual values in 'bsmtfin_type_2'"
   ]
  },
  {
   "cell_type": "code",
   "execution_count": 56,
   "id": "b498560c",
   "metadata": {},
   "outputs": [],
   "source": [
    "#replace NaN with 0 in 'bsmtfin_sf_2'\n",
    "ames_df['bsmtfin_sf_2'] = ames_df['bsmtfin_sf_2'].replace(np.nan,0)"
   ]
  },
  {
   "cell_type": "code",
   "execution_count": 57,
   "id": "7eee86ab",
   "metadata": {},
   "outputs": [
    {
     "data": {
      "text/plain": [
       "array([[   0,  774],\n",
       "       [  32,    1],\n",
       "       [  40,    1],\n",
       "       [  42,    1],\n",
       "       [  46,    1],\n",
       "       [  48,    1],\n",
       "       [  63,    1],\n",
       "       [  78,    1],\n",
       "       [  93,    1],\n",
       "       [ 121,    1],\n",
       "       [ 136,    1],\n",
       "       [ 139,    1],\n",
       "       [ 144,    1],\n",
       "       [ 147,    2],\n",
       "       [ 153,    1],\n",
       "       [ 165,    1],\n",
       "       [ 168,    2],\n",
       "       [ 174,    1],\n",
       "       [ 176,    1],\n",
       "       [ 180,    2],\n",
       "       [ 182,    2],\n",
       "       [ 184,    1],\n",
       "       [ 193,    1],\n",
       "       [ 210,    1],\n",
       "       [ 216,    1],\n",
       "       [ 240,    1],\n",
       "       [ 243,    1],\n",
       "       [ 250,    1],\n",
       "       [ 252,    1],\n",
       "       [ 264,    1],\n",
       "       [ 276,    1],\n",
       "       [ 279,    1],\n",
       "       [ 287,    2],\n",
       "       [ 288,    1],\n",
       "       [ 319,    1],\n",
       "       [ 336,    1],\n",
       "       [ 337,    1],\n",
       "       [ 344,    1],\n",
       "       [ 350,    1],\n",
       "       [ 352,    1],\n",
       "       [ 360,    1],\n",
       "       [ 362,    1],\n",
       "       [ 374,    2],\n",
       "       [ 391,    2],\n",
       "       [ 393,    1],\n",
       "       [ 396,    1],\n",
       "       [ 398,    1],\n",
       "       [ 400,    1],\n",
       "       [ 402,    1],\n",
       "       [ 435,    2],\n",
       "       [ 438,    1],\n",
       "       [ 448,    1],\n",
       "       [ 449,    1],\n",
       "       [ 453,    1],\n",
       "       [ 456,    1],\n",
       "       [ 468,    1],\n",
       "       [ 472,    1],\n",
       "       [ 480,    2],\n",
       "       [ 491,    1],\n",
       "       [ 492,    1],\n",
       "       [ 512,    1],\n",
       "       [ 530,    1],\n",
       "       [ 543,    1],\n",
       "       [ 544,    1],\n",
       "       [ 606,    1],\n",
       "       [ 627,    1],\n",
       "       [ 630,    1],\n",
       "       [ 634,    1],\n",
       "       [ 668,    1],\n",
       "       [ 679,    1],\n",
       "       [ 682,    1],\n",
       "       [ 684,    1],\n",
       "       [ 690,    1],\n",
       "       [ 691,    1],\n",
       "       [ 694,    1],\n",
       "       [ 712,    1],\n",
       "       [ 723,    1],\n",
       "       [ 755,    1],\n",
       "       [ 764,    1],\n",
       "       [ 791,    1],\n",
       "       [ 799,    1],\n",
       "       [ 820,    1],\n",
       "       [ 826,    1],\n",
       "       [ 831,    1],\n",
       "       [ 841,    1],\n",
       "       [ 873,    1],\n",
       "       [ 884,    1],\n",
       "       [ 904,    1],\n",
       "       [ 912,    1],\n",
       "       [ 972,    1],\n",
       "       [ 981,    1],\n",
       "       [1020,    1],\n",
       "       [1029,    1],\n",
       "       [1031,    1],\n",
       "       [1164,    1],\n",
       "       [1526,    1]], dtype=int64)"
      ]
     },
     "execution_count": 57,
     "metadata": {},
     "output_type": "execute_result"
    }
   ],
   "source": [
    "#check for unusual values in 'bsmtfin_sf_2'\n",
    "np.array(np.unique(ames_df['bsmtfin_sf_2'], return_counts=True)).T\n",
    "\n",
    "#no unusual values in 'bsmtfin_sf_2'"
   ]
  },
  {
   "cell_type": "code",
   "execution_count": 58,
   "id": "dc44baa9",
   "metadata": {},
   "outputs": [],
   "source": [
    "#replace NaN with 0\n",
    "ames_df['bsmt_unf_sf'] = ames_df['bsmt_unf_sf'].replace(np.nan,0)"
   ]
  },
  {
   "cell_type": "code",
   "execution_count": 59,
   "id": "ce9a8c34",
   "metadata": {},
   "outputs": [
    {
     "data": {
      "text/plain": [
       "array([[   0,   79],\n",
       "       [  14,    1],\n",
       "       [  22,    1],\n",
       "       ...,\n",
       "       [2002,    1],\n",
       "       [2042,    1],\n",
       "       [2046,    1]], dtype=int64)"
      ]
     },
     "execution_count": 59,
     "metadata": {},
     "output_type": "execute_result"
    }
   ],
   "source": [
    "#check for unusual values in 'bsmt_unf_sf'\n",
    "np.array(np.unique(ames_df['bsmt_unf_sf'], return_counts=True)).T\n",
    "\n",
    "#no unusual values in 'bsmt_unf_sf'"
   ]
  },
  {
   "cell_type": "code",
   "execution_count": 60,
   "id": "17db7c79",
   "metadata": {},
   "outputs": [],
   "source": [
    "#replace NaN with 0\n",
    "ames_df['total_bsmt_sf'] = ames_df['total_bsmt_sf'].replace(np.nan,0)"
   ]
  },
  {
   "cell_type": "code",
   "execution_count": 61,
   "id": "fd8e277a",
   "metadata": {},
   "outputs": [
    {
     "data": {
      "text/plain": [
       "array([[   0,   25],\n",
       "       [ 105,    1],\n",
       "       [ 240,    1],\n",
       "       ...,\n",
       "       [2535,    1],\n",
       "       [2552,    1],\n",
       "       [2630,    1]], dtype=int64)"
      ]
     },
     "execution_count": 61,
     "metadata": {},
     "output_type": "execute_result"
    }
   ],
   "source": [
    "#check for unusual values in 'total_bsmt_sf'\n",
    "np.array(np.unique(ames_df['total_bsmt_sf'], return_counts=True)).T\n",
    "\n",
    "#no unusual values in 'total_bsmt_sf'"
   ]
  },
  {
   "cell_type": "code",
   "execution_count": 62,
   "id": "f72eea2d",
   "metadata": {},
   "outputs": [
    {
     "data": {
      "text/plain": [
       "array([['Floor', 1],\n",
       "       ['GasA', 866],\n",
       "       ['GasW', 7],\n",
       "       ['Grav', 4]], dtype=object)"
      ]
     },
     "execution_count": 62,
     "metadata": {},
     "output_type": "execute_result"
    }
   ],
   "source": [
    "#check for unusual values\n",
    "np.array(np.unique(ames_df['heating'], return_counts=True)).T"
   ]
  },
  {
   "cell_type": "code",
   "execution_count": 63,
   "id": "f9106593",
   "metadata": {},
   "outputs": [
    {
     "data": {
      "text/plain": [
       "array([['Ex', 429],\n",
       "       ['Fa', 25],\n",
       "       ['Gd', 157],\n",
       "       ['TA', 267]], dtype=object)"
      ]
     },
     "execution_count": 63,
     "metadata": {},
     "output_type": "execute_result"
    }
   ],
   "source": [
    "#check for unusual values\n",
    "np.array(np.unique(ames_df['heating_qc'], return_counts=True)).T"
   ]
  },
  {
   "cell_type": "code",
   "execution_count": 64,
   "id": "f4116dd4",
   "metadata": {},
   "outputs": [
    {
     "data": {
      "text/plain": [
       "array([['N', 55],\n",
       "       ['Y', 823]], dtype=object)"
      ]
     },
     "execution_count": 64,
     "metadata": {},
     "output_type": "execute_result"
    }
   ],
   "source": [
    "#check for unusual values\n",
    "np.array(np.unique(ames_df['central_air'], return_counts=True)).T"
   ]
  },
  {
   "cell_type": "code",
   "execution_count": 65,
   "id": "f2134ddf",
   "metadata": {},
   "outputs": [
    {
     "data": {
      "text/plain": [
       "SBrkr    813\n",
       "FuseA     48\n",
       "FuseF     15\n",
       "NaN        1\n",
       "FuseP      1\n",
       "Name: electrical, dtype: int64"
      ]
     },
     "execution_count": 65,
     "metadata": {},
     "output_type": "execute_result"
    }
   ],
   "source": [
    "ames_df['electrical'].value_counts(dropna=False)"
   ]
  },
  {
   "cell_type": "code",
   "execution_count": 66,
   "id": "de17521c",
   "metadata": {},
   "outputs": [],
   "source": [
    "#replace NaN with 'SBrKr'\n",
    "ames_df['electrical'] = ames_df['electrical'].replace(np.nan,'SBrKr')"
   ]
  },
  {
   "cell_type": "code",
   "execution_count": 67,
   "id": "8d38b637",
   "metadata": {},
   "outputs": [
    {
     "data": {
      "text/plain": [
       "array([['FuseA', 48],\n",
       "       ['FuseF', 15],\n",
       "       ['FuseP', 1],\n",
       "       ['SBrKr', 1],\n",
       "       ['SBrkr', 813]], dtype=object)"
      ]
     },
     "execution_count": 67,
     "metadata": {},
     "output_type": "execute_result"
    }
   ],
   "source": [
    "#check for unusual values\n",
    "np.array(np.unique(ames_df['electrical'], return_counts=True)).T"
   ]
  },
  {
   "cell_type": "code",
   "execution_count": 68,
   "id": "102675af",
   "metadata": {},
   "outputs": [
    {
     "data": {
      "text/plain": [
       "array([[ 407,    1],\n",
       "       [ 432,    1],\n",
       "       [ 442,    1],\n",
       "       ...,\n",
       "       [2522,    1],\n",
       "       [2552,    1],\n",
       "       [2674,    1]], dtype=int64)"
      ]
     },
     "execution_count": 68,
     "metadata": {},
     "output_type": "execute_result"
    }
   ],
   "source": [
    "#check for unusual values\n",
    "np.array(np.unique(ames_df['1st_flr_sf'], return_counts=True)).T"
   ]
  },
  {
   "cell_type": "code",
   "execution_count": 69,
   "id": "d8749fe1",
   "metadata": {},
   "outputs": [
    {
     "data": {
      "text/plain": [
       "array([[   0,  487],\n",
       "       [ 110,    1],\n",
       "       [ 167,    1],\n",
       "       [ 180,    1],\n",
       "       [ 182,    1],\n",
       "       [ 185,    1],\n",
       "       [ 192,    1],\n",
       "       [ 208,    1],\n",
       "       [ 218,    1],\n",
       "       [ 224,    1],\n",
       "       [ 228,    1],\n",
       "       [ 240,    1],\n",
       "       [ 308,    1],\n",
       "       [ 320,    1],\n",
       "       [ 330,    1],\n",
       "       [ 336,    1],\n",
       "       [ 343,    1],\n",
       "       [ 348,    1],\n",
       "       [ 349,    1],\n",
       "       [ 363,    1],\n",
       "       [ 368,    1],\n",
       "       [ 375,    1],\n",
       "       [ 378,    3],\n",
       "       [ 380,    2],\n",
       "       [ 384,    1],\n",
       "       [ 403,    1],\n",
       "       [ 406,    2],\n",
       "       [ 412,    1],\n",
       "       [ 424,    2],\n",
       "       [ 432,    2],\n",
       "       [ 434,    1],\n",
       "       [ 436,    1],\n",
       "       [ 442,    2],\n",
       "       [ 456,    1],\n",
       "       [ 457,    1],\n",
       "       [ 464,    1],\n",
       "       [ 468,    1],\n",
       "       [ 472,    1],\n",
       "       [ 473,    2],\n",
       "       [ 496,    1],\n",
       "       [ 499,    1],\n",
       "       [ 501,    1],\n",
       "       [ 504,    3],\n",
       "       [ 510,    1],\n",
       "       [ 511,    1],\n",
       "       [ 512,    1],\n",
       "       [ 514,    1],\n",
       "       [ 516,    2],\n",
       "       [ 517,    1],\n",
       "       [ 520,    1],\n",
       "       [ 523,    1],\n",
       "       [ 530,    1],\n",
       "       [ 532,    1],\n",
       "       [ 544,    1],\n",
       "       [ 546,   11],\n",
       "       [ 548,    1],\n",
       "       [ 550,    2],\n",
       "       [ 551,    1],\n",
       "       [ 552,    1],\n",
       "       [ 554,    1],\n",
       "       [ 557,    1],\n",
       "       [ 558,    1],\n",
       "       [ 560,    1],\n",
       "       [ 564,    1],\n",
       "       [ 566,    1],\n",
       "       [ 567,    1],\n",
       "       [ 568,    2],\n",
       "       [ 580,    1],\n",
       "       [ 581,    1],\n",
       "       [ 588,    1],\n",
       "       [ 594,    1],\n",
       "       [ 595,    2],\n",
       "       [ 596,    1],\n",
       "       [ 600,    3],\n",
       "       [ 601,    2],\n",
       "       [ 604,    2],\n",
       "       [ 610,    1],\n",
       "       [ 611,    1],\n",
       "       [ 612,    1],\n",
       "       [ 620,    1],\n",
       "       [ 623,    1],\n",
       "       [ 625,    1],\n",
       "       [ 630,    2],\n",
       "       [ 631,    1],\n",
       "       [ 638,    1],\n",
       "       [ 640,    1],\n",
       "       [ 644,    1],\n",
       "       [ 646,    1],\n",
       "       [ 648,    2],\n",
       "       [ 649,    1],\n",
       "       [ 651,    2],\n",
       "       [ 656,    3],\n",
       "       [ 660,    1],\n",
       "       [ 661,    1],\n",
       "       [ 662,    1],\n",
       "       [ 665,    1],\n",
       "       [ 668,    1],\n",
       "       [ 670,    2],\n",
       "       [ 671,    1],\n",
       "       [ 672,    4],\n",
       "       [ 674,    1],\n",
       "       [ 676,    4],\n",
       "       [ 678,    1],\n",
       "       [ 682,    1],\n",
       "       [ 683,    2],\n",
       "       [ 686,    2],\n",
       "       [ 687,    2],\n",
       "       [ 688,    2],\n",
       "       [ 695,    1],\n",
       "       [ 697,    1],\n",
       "       [ 701,    1],\n",
       "       [ 702,    2],\n",
       "       [ 703,    1],\n",
       "       [ 704,    1],\n",
       "       [ 708,    1],\n",
       "       [ 709,    1],\n",
       "       [ 713,    2],\n",
       "       [ 714,    3],\n",
       "       [ 715,    1],\n",
       "       [ 716,    1],\n",
       "       [ 717,    1],\n",
       "       [ 720,    5],\n",
       "       [ 728,    3],\n",
       "       [ 730,    1],\n",
       "       [ 738,    1],\n",
       "       [ 739,    2],\n",
       "       [ 741,    1],\n",
       "       [ 742,    2],\n",
       "       [ 744,    2],\n",
       "       [ 748,    2],\n",
       "       [ 752,    1],\n",
       "       [ 754,    1],\n",
       "       [ 756,    3],\n",
       "       [ 764,    2],\n",
       "       [ 765,    1],\n",
       "       [ 767,    1],\n",
       "       [ 768,    2],\n",
       "       [ 769,    1],\n",
       "       [ 772,    2],\n",
       "       [ 780,    4],\n",
       "       [ 782,    1],\n",
       "       [ 783,    1],\n",
       "       [ 784,    2],\n",
       "       [ 790,    1],\n",
       "       [ 792,    1],\n",
       "       [ 793,    3],\n",
       "       [ 795,    2],\n",
       "       [ 797,    1],\n",
       "       [ 798,    1],\n",
       "       [ 800,    3],\n",
       "       [ 804,    1],\n",
       "       [ 807,    2],\n",
       "       [ 809,    2],\n",
       "       [ 810,    1],\n",
       "       [ 812,    1],\n",
       "       [ 813,    2],\n",
       "       [ 814,    1],\n",
       "       [ 815,    1],\n",
       "       [ 816,    2],\n",
       "       [ 821,    1],\n",
       "       [ 823,    1],\n",
       "       [ 825,    1],\n",
       "       [ 826,    1],\n",
       "       [ 828,    1],\n",
       "       [ 830,    2],\n",
       "       [ 832,    2],\n",
       "       [ 839,    1],\n",
       "       [ 840,    5],\n",
       "       [ 845,    1],\n",
       "       [ 846,    2],\n",
       "       [ 850,    3],\n",
       "       [ 854,    1],\n",
       "       [ 855,    1],\n",
       "       [ 858,    1],\n",
       "       [ 860,    1],\n",
       "       [ 862,    2],\n",
       "       [ 866,    1],\n",
       "       [ 867,    1],\n",
       "       [ 870,    1],\n",
       "       [ 871,    3],\n",
       "       [ 873,    2],\n",
       "       [ 876,    1],\n",
       "       [ 878,    4],\n",
       "       [ 880,    2],\n",
       "       [ 884,    1],\n",
       "       [ 885,    2],\n",
       "       [ 886,    2],\n",
       "       [ 888,    1],\n",
       "       [ 893,    1],\n",
       "       [ 896,    2],\n",
       "       [ 898,    1],\n",
       "       [ 900,    3],\n",
       "       [ 901,    1],\n",
       "       [ 904,    1],\n",
       "       [ 908,    2],\n",
       "       [ 917,    1],\n",
       "       [ 918,    2],\n",
       "       [ 919,    1],\n",
       "       [ 920,    1],\n",
       "       [ 925,    1],\n",
       "       [ 926,    1],\n",
       "       [ 930,    1],\n",
       "       [ 933,    1],\n",
       "       [ 939,    1],\n",
       "       [ 942,    2],\n",
       "       [ 943,    1],\n",
       "       [ 955,    1],\n",
       "       [ 959,    1],\n",
       "       [ 960,    1],\n",
       "       [ 966,    1],\n",
       "       [ 967,    1],\n",
       "       [ 972,    1],\n",
       "       [ 975,    1],\n",
       "       [ 976,    1],\n",
       "       [ 978,    1],\n",
       "       [ 979,    1],\n",
       "       [ 983,    1],\n",
       "       [ 988,    1],\n",
       "       [ 989,    1],\n",
       "       [ 992,    1],\n",
       "       [ 994,    1],\n",
       "       [ 995,    1],\n",
       "       [1000,    1],\n",
       "       [1008,    1],\n",
       "       [1012,    3],\n",
       "       [1015,    1],\n",
       "       [1017,    1],\n",
       "       [1020,    1],\n",
       "       [1031,    1],\n",
       "       [1037,    1],\n",
       "       [1039,    1],\n",
       "       [1048,    1],\n",
       "       [1051,    1],\n",
       "       [1053,    1],\n",
       "       [1054,    1],\n",
       "       [1067,    1],\n",
       "       [1072,    1],\n",
       "       [1075,    1],\n",
       "       [1080,    1],\n",
       "       [1081,    1],\n",
       "       [1087,    1],\n",
       "       [1098,    1],\n",
       "       [1111,    1],\n",
       "       [1112,    1],\n",
       "       [1116,    2],\n",
       "       [1121,    1],\n",
       "       [1124,    1],\n",
       "       [1134,    2],\n",
       "       [1140,    1],\n",
       "       [1141,    1],\n",
       "       [1142,    1],\n",
       "       [1150,    1],\n",
       "       [1164,    1],\n",
       "       [1175,    1],\n",
       "       [1178,    1],\n",
       "       [1182,    1],\n",
       "       [1189,    1],\n",
       "       [1208,    1],\n",
       "       [1215,    1],\n",
       "       [1216,    2],\n",
       "       [1218,    1],\n",
       "       [1240,    1],\n",
       "       [1243,    1],\n",
       "       [1254,    1],\n",
       "       [1281,    1],\n",
       "       [1286,    1],\n",
       "       [1296,    2],\n",
       "       [1315,    1],\n",
       "       [1320,    1],\n",
       "       [1321,    1],\n",
       "       [1332,    1],\n",
       "       [1336,    1],\n",
       "       [1358,    1],\n",
       "       [1360,    1],\n",
       "       [1362,    1],\n",
       "       [1402,    1],\n",
       "       [1405,    1],\n",
       "       [1479,    1],\n",
       "       [1619,    1],\n",
       "       [1629,    1],\n",
       "       [1778,    1],\n",
       "       [1788,    1],\n",
       "       [1796,    1],\n",
       "       [1872,    1],\n",
       "       [2065,    1]], dtype=int64)"
      ]
     },
     "execution_count": 69,
     "metadata": {},
     "output_type": "execute_result"
    }
   ],
   "source": [
    "#check for unusual values\n",
    "np.array(np.unique(ames_df['2nd_flr_sf'], return_counts=True)).T"
   ]
  },
  {
   "cell_type": "code",
   "execution_count": 70,
   "id": "c58c3c31",
   "metadata": {},
   "outputs": [
    {
     "data": {
      "text/plain": [
       "array([[  0, 871],\n",
       "       [ 80,   1],\n",
       "       [232,   1],\n",
       "       [360,   1],\n",
       "       [392,   1],\n",
       "       [420,   1],\n",
       "       [431,   1],\n",
       "       [481,   1]], dtype=int64)"
      ]
     },
     "execution_count": 70,
     "metadata": {},
     "output_type": "execute_result"
    }
   ],
   "source": [
    "#check for unusual values\n",
    "np.array(np.unique(ames_df['low_qual_fin_sf'], return_counts=True)).T"
   ]
  },
  {
   "cell_type": "code",
   "execution_count": 71,
   "id": "ec65619c",
   "metadata": {},
   "outputs": [
    {
     "data": {
      "text/plain": [
       "array([[ 407,    1],\n",
       "       [ 599,    1],\n",
       "       [ 630,    4],\n",
       "       ...,\n",
       "       [3627,    1],\n",
       "       [4316,    1],\n",
       "       [4476,    1]], dtype=int64)"
      ]
     },
     "execution_count": 71,
     "metadata": {},
     "output_type": "execute_result"
    }
   ],
   "source": [
    "#check for unusual values\n",
    "np.array(np.unique(ames_df['gr_liv_area'], return_counts=True)).T"
   ]
  },
  {
   "cell_type": "code",
   "execution_count": 72,
   "id": "bf673d29",
   "metadata": {},
   "outputs": [],
   "source": [
    "#replace NaN with 0\n",
    "ames_df['bsmt_full_bath'] = ames_df['bsmt_full_bath'].replace(np.nan,0)"
   ]
  },
  {
   "cell_type": "code",
   "execution_count": 73,
   "id": "7a14e450",
   "metadata": {},
   "outputs": [
    {
     "data": {
      "text/plain": [
       "array([[  0, 507],\n",
       "       [  1, 356],\n",
       "       [  2,  15]], dtype=int64)"
      ]
     },
     "execution_count": 73,
     "metadata": {},
     "output_type": "execute_result"
    }
   ],
   "source": [
    "#check for unusual values\n",
    "np.array(np.unique(ames_df['bsmt_full_bath'], return_counts=True)).T"
   ]
  },
  {
   "cell_type": "code",
   "execution_count": 74,
   "id": "14a27656",
   "metadata": {},
   "outputs": [],
   "source": [
    "#replace NaN with 0\n",
    "ames_df['bsmt_half_bath'] = ames_df['bsmt_half_bath'].replace(np.nan,0)"
   ]
  },
  {
   "cell_type": "code",
   "execution_count": 75,
   "id": "28ba4ed2",
   "metadata": {},
   "outputs": [
    {
     "data": {
      "text/plain": [
       "array([[  0, 829],\n",
       "       [  1,  49]], dtype=int64)"
      ]
     },
     "execution_count": 75,
     "metadata": {},
     "output_type": "execute_result"
    }
   ],
   "source": [
    "#check for unusual values\n",
    "np.array(np.unique(ames_df['bsmt_half_bath'], return_counts=True)).T"
   ]
  },
  {
   "cell_type": "code",
   "execution_count": 76,
   "id": "5f2ac3bc",
   "metadata": {},
   "outputs": [
    {
     "data": {
      "text/plain": [
       "array([[  0,   4],\n",
       "       [  1, 418],\n",
       "       [  2, 436],\n",
       "       [  3,  18],\n",
       "       [  4,   2]], dtype=int64)"
      ]
     },
     "execution_count": 76,
     "metadata": {},
     "output_type": "execute_result"
    }
   ],
   "source": [
    "#check for unusual values\n",
    "np.array(np.unique(ames_df['full_bath'], return_counts=True)).T"
   ]
  },
  {
   "cell_type": "code",
   "execution_count": 77,
   "id": "4b5cd1a1",
   "metadata": {},
   "outputs": [
    {
     "data": {
      "text/plain": [
       "array([[  0, 535],\n",
       "       [  1, 336],\n",
       "       [  2,   7]], dtype=int64)"
      ]
     },
     "execution_count": 77,
     "metadata": {},
     "output_type": "execute_result"
    }
   ],
   "source": [
    "#check for unusual values\n",
    "np.array(np.unique(ames_df['half_bath'], return_counts=True)).T"
   ]
  },
  {
   "cell_type": "code",
   "execution_count": 78,
   "id": "d14e6b8d",
   "metadata": {},
   "outputs": [
    {
     "data": {
      "text/plain": [
       "array([[  0,   3],\n",
       "       [  1,  37],\n",
       "       [  2, 199],\n",
       "       [  3, 488],\n",
       "       [  4, 135],\n",
       "       [  5,   7],\n",
       "       [  6,   9]], dtype=int64)"
      ]
     },
     "execution_count": 78,
     "metadata": {},
     "output_type": "execute_result"
    }
   ],
   "source": [
    "#check for unusual values\n",
    "np.array(np.unique(ames_df['bedroom_abvgr'], return_counts=True)).T"
   ]
  },
  {
   "cell_type": "code",
   "execution_count": 79,
   "id": "0053ceda",
   "metadata": {},
   "outputs": [
    {
     "data": {
      "text/plain": [
       "array([[  0,   1],\n",
       "       [  1, 835],\n",
       "       [  2,  41],\n",
       "       [  3,   1]], dtype=int64)"
      ]
     },
     "execution_count": 79,
     "metadata": {},
     "output_type": "execute_result"
    }
   ],
   "source": [
    "#check for unusual values\n",
    "np.array(np.unique(ames_df['kitchen_abvgr'], return_counts=True)).T"
   ]
  },
  {
   "cell_type": "code",
   "execution_count": 80,
   "id": "c9ceb25b",
   "metadata": {},
   "outputs": [
    {
     "data": {
      "text/plain": [
       "array([['Ex', 53],\n",
       "       ['Fa', 23],\n",
       "       ['Gd', 354],\n",
       "       ['Po', 1],\n",
       "       ['TA', 447]], dtype=object)"
      ]
     },
     "execution_count": 80,
     "metadata": {},
     "output_type": "execute_result"
    }
   ],
   "source": [
    "#check for unusual values\n",
    "np.array(np.unique(ames_df['kitchen_qual'], return_counts=True)).T"
   ]
  },
  {
   "cell_type": "code",
   "execution_count": 81,
   "id": "a0bc8605",
   "metadata": {},
   "outputs": [
    {
     "data": {
      "text/plain": [
       "array([[  3,  14],\n",
       "       [  4,  57],\n",
       "       [  5, 179],\n",
       "       [  6, 247],\n",
       "       [  7, 174],\n",
       "       [  8, 119],\n",
       "       [  9,  45],\n",
       "       [ 10,  31],\n",
       "       [ 11,   9],\n",
       "       [ 12,   3]], dtype=int64)"
      ]
     },
     "execution_count": 81,
     "metadata": {},
     "output_type": "execute_result"
    }
   ],
   "source": [
    "#check for unusual values\n",
    "np.array(np.unique(ames_df['totrms_abvgrd'], return_counts=True)).T"
   ]
  },
  {
   "cell_type": "code",
   "execution_count": 82,
   "id": "ff62c16e",
   "metadata": {},
   "outputs": [
    {
     "data": {
      "text/plain": [
       "array([['Maj1', 7],\n",
       "       ['Maj2', 2],\n",
       "       ['Min1', 23],\n",
       "       ['Min2', 28],\n",
       "       ['Mod', 6],\n",
       "       ['Typ', 812]], dtype=object)"
      ]
     },
     "execution_count": 82,
     "metadata": {},
     "output_type": "execute_result"
    }
   ],
   "source": [
    "#check for unusual values\n",
    "np.array(np.unique(ames_df['functional'], return_counts=True)).T"
   ]
  },
  {
   "cell_type": "code",
   "execution_count": 83,
   "id": "21436520",
   "metadata": {},
   "outputs": [
    {
     "data": {
      "text/plain": [
       "array([[  0, 422],\n",
       "       [  1, 375],\n",
       "       [  2,  75],\n",
       "       [  3,   6]], dtype=int64)"
      ]
     },
     "execution_count": 83,
     "metadata": {},
     "output_type": "execute_result"
    }
   ],
   "source": [
    "#check for unusual values\n",
    "np.array(np.unique(ames_df['fireplaces'], return_counts=True)).T"
   ]
  },
  {
   "cell_type": "code",
   "execution_count": 84,
   "id": "37b4c413",
   "metadata": {},
   "outputs": [],
   "source": [
    "#replace NaN values with None\n",
    "ames_df['fireplace_qu'] = ames_df['fireplace_qu'].replace(np.nan,'None')"
   ]
  },
  {
   "cell_type": "code",
   "execution_count": 85,
   "id": "767ac798",
   "metadata": {},
   "outputs": [
    {
     "data": {
      "text/plain": [
       "array([['Ex', 12],\n",
       "       ['Fa', 16],\n",
       "       ['Gd', 220],\n",
       "       ['None', 422],\n",
       "       ['Po', 15],\n",
       "       ['TA', 193]], dtype=object)"
      ]
     },
     "execution_count": 85,
     "metadata": {},
     "output_type": "execute_result"
    }
   ],
   "source": [
    "#check for unusual values\n",
    "np.array(np.unique(ames_df['fireplace_qu'], return_counts=True)).T"
   ]
  },
  {
   "cell_type": "code",
   "execution_count": 86,
   "id": "db9bc9ef",
   "metadata": {},
   "outputs": [],
   "source": [
    "#replace NaN values with None\n",
    "ames_df['garage_type'] = ames_df['garage_type'].replace(np.nan,'None')"
   ]
  },
  {
   "cell_type": "code",
   "execution_count": 87,
   "id": "523ea9aa",
   "metadata": {},
   "outputs": [
    {
     "data": {
      "text/plain": [
       "array([['2Types', 4],\n",
       "       ['Attchd', 518],\n",
       "       ['Basment', 9],\n",
       "       ['BuiltIn', 53],\n",
       "       ['CarPort', 4],\n",
       "       ['Detchd', 246],\n",
       "       ['None', 44]], dtype=object)"
      ]
     },
     "execution_count": 87,
     "metadata": {},
     "output_type": "execute_result"
    }
   ],
   "source": [
    "#check for unusual values\n",
    "np.array(np.unique(ames_df['garage_type'], return_counts=True)).T"
   ]
  },
  {
   "cell_type": "code",
   "execution_count": 88,
   "id": "96528b0e",
   "metadata": {},
   "outputs": [],
   "source": [
    "#replace NaN values with 0\n",
    "ames_df['garage_yr_blt'] = ames_df['garage_yr_blt'].replace(np.nan,0)"
   ]
  },
  {
   "cell_type": "code",
   "execution_count": 89,
   "id": "2ee63d42",
   "metadata": {},
   "outputs": [],
   "source": [
    "#convert 'garage_yr_blt' to int type\n",
    "ames_df['garage_yr_blt'] = ames_df['garage_yr_blt'].astype(int)"
   ]
  },
  {
   "cell_type": "code",
   "execution_count": 90,
   "id": "099dda4e",
   "metadata": {},
   "outputs": [
    {
     "data": {
      "text/plain": [
       "dtype('int32')"
      ]
     },
     "execution_count": 90,
     "metadata": {},
     "output_type": "execute_result"
    }
   ],
   "source": [
    "ames_df['garage_yr_blt'].dtypes"
   ]
  },
  {
   "cell_type": "code",
   "execution_count": 91,
   "id": "e225300c",
   "metadata": {},
   "outputs": [],
   "source": [
    "#replace NaN values with None\n",
    "ames_df['garage_finish'] = ames_df['garage_finish'].replace(np.nan,'None')"
   ]
  },
  {
   "cell_type": "code",
   "execution_count": 92,
   "id": "dffd7d05",
   "metadata": {},
   "outputs": [
    {
     "data": {
      "text/plain": [
       "array([['Fin', 218],\n",
       "       ['None', 45],\n",
       "       ['RFn', 233],\n",
       "       ['Unf', 382]], dtype=object)"
      ]
     },
     "execution_count": 92,
     "metadata": {},
     "output_type": "execute_result"
    }
   ],
   "source": [
    "#check for unusual values\n",
    "np.array(np.unique(ames_df['garage_finish'], return_counts=True)).T"
   ]
  },
  {
   "cell_type": "code",
   "execution_count": 93,
   "id": "f3f15e8e",
   "metadata": {},
   "outputs": [],
   "source": [
    "#replace NaN values with 0\n",
    "ames_df['garage_cars'] = ames_df['garage_cars'].replace(np.nan,0)"
   ]
  },
  {
   "cell_type": "code",
   "execution_count": 94,
   "id": "5e84b033",
   "metadata": {},
   "outputs": [],
   "source": [
    "#convert 'garage_cars' to int type\n",
    "ames_df['garage_cars']=ames_df['garage_cars'].astype(int)"
   ]
  },
  {
   "cell_type": "code",
   "execution_count": 95,
   "id": "80940842",
   "metadata": {},
   "outputs": [
    {
     "data": {
      "text/plain": [
       "array([[  0,  44],\n",
       "       [  1, 254],\n",
       "       [  2, 467],\n",
       "       [  3, 110],\n",
       "       [  4,   3]], dtype=int64)"
      ]
     },
     "execution_count": 95,
     "metadata": {},
     "output_type": "execute_result"
    }
   ],
   "source": [
    "#check for unusual values\n",
    "np.array(np.unique(ames_df['garage_cars'], return_counts=True)).T"
   ]
  },
  {
   "cell_type": "code",
   "execution_count": 96,
   "id": "c381377e",
   "metadata": {},
   "outputs": [
    {
     "data": {
      "text/plain": [
       "dtype('int32')"
      ]
     },
     "execution_count": 96,
     "metadata": {},
     "output_type": "execute_result"
    }
   ],
   "source": [
    "ames_df['garage_cars'].dtypes"
   ]
  },
  {
   "cell_type": "code",
   "execution_count": 97,
   "id": "dd8053f7",
   "metadata": {},
   "outputs": [],
   "source": [
    "#replace NaN values with 0\n",
    "ames_df['garage_area'] = ames_df['garage_area'].replace(np.nan,0)"
   ]
  },
  {
   "cell_type": "code",
   "execution_count": 98,
   "id": "c5f3f68a",
   "metadata": {},
   "outputs": [],
   "source": [
    "#convert 'garage_area' to int type\n",
    "ames_df['garage_area']=ames_df['garage_area'].astype(int)"
   ]
  },
  {
   "cell_type": "code",
   "execution_count": 99,
   "id": "8599d3fa",
   "metadata": {},
   "outputs": [
    {
     "data": {
      "text/plain": [
       "array([[   0,   44],\n",
       "       [ 160,    1],\n",
       "       [ 162,    1],\n",
       "       [ 164,    1],\n",
       "       [ 180,    2],\n",
       "       [ 184,    1],\n",
       "       [ 186,    1],\n",
       "       [ 189,    1],\n",
       "       [ 192,    1],\n",
       "       [ 195,    2],\n",
       "       [ 200,    4],\n",
       "       [ 205,    1],\n",
       "       [ 210,    1],\n",
       "       [ 215,    1],\n",
       "       [ 216,    7],\n",
       "       [ 220,    1],\n",
       "       [ 224,    1],\n",
       "       [ 225,    1],\n",
       "       [ 230,    1],\n",
       "       [ 234,    1],\n",
       "       [ 240,   24],\n",
       "       [ 244,    1],\n",
       "       [ 250,    2],\n",
       "       [ 252,    5],\n",
       "       [ 253,    1],\n",
       "       [ 256,    1],\n",
       "       [ 258,    1],\n",
       "       [ 260,    2],\n",
       "       [ 264,   18],\n",
       "       [ 266,    1],\n",
       "       [ 270,    1],\n",
       "       [ 272,    1],\n",
       "       [ 273,    2],\n",
       "       [ 275,    2],\n",
       "       [ 276,    1],\n",
       "       [ 280,    6],\n",
       "       [ 281,    1],\n",
       "       [ 286,   11],\n",
       "       [ 287,    2],\n",
       "       [ 288,    7],\n",
       "       [ 290,    1],\n",
       "       [ 292,    1],\n",
       "       [ 294,    3],\n",
       "       [ 297,    3],\n",
       "       [ 299,    4],\n",
       "       [ 300,    5],\n",
       "       [ 301,    2],\n",
       "       [ 303,    1],\n",
       "       [ 305,    1],\n",
       "       [ 307,    1],\n",
       "       [ 308,   16],\n",
       "       [ 312,    4],\n",
       "       [ 315,    5],\n",
       "       [ 318,    3],\n",
       "       [ 320,    4],\n",
       "       [ 322,    2],\n",
       "       [ 324,    2],\n",
       "       [ 326,    1],\n",
       "       [ 328,    1],\n",
       "       [ 332,    1],\n",
       "       [ 336,   11],\n",
       "       [ 338,    1],\n",
       "       [ 340,    1],\n",
       "       [ 342,    1],\n",
       "       [ 344,    1],\n",
       "       [ 345,    1],\n",
       "       [ 350,    1],\n",
       "       [ 351,    1],\n",
       "       [ 352,    5],\n",
       "       [ 354,    1],\n",
       "       [ 355,    2],\n",
       "       [ 360,    6],\n",
       "       [ 364,    1],\n",
       "       [ 365,    2],\n",
       "       [ 366,    1],\n",
       "       [ 367,    1],\n",
       "       [ 368,    1],\n",
       "       [ 369,    1],\n",
       "       [ 370,    2],\n",
       "       [ 374,    1],\n",
       "       [ 377,    1],\n",
       "       [ 379,    3],\n",
       "       [ 380,    2],\n",
       "       [ 384,    8],\n",
       "       [ 388,    2],\n",
       "       [ 390,    6],\n",
       "       [ 392,    1],\n",
       "       [ 393,    1],\n",
       "       [ 396,    4],\n",
       "       [ 397,    2],\n",
       "       [ 398,    1],\n",
       "       [ 399,    1],\n",
       "       [ 400,   15],\n",
       "       [ 402,    1],\n",
       "       [ 403,    1],\n",
       "       [ 404,    1],\n",
       "       [ 408,    1],\n",
       "       [ 409,    3],\n",
       "       [ 410,    2],\n",
       "       [ 412,    1],\n",
       "       [ 413,    1],\n",
       "       [ 414,    1],\n",
       "       [ 416,    2],\n",
       "       [ 418,    1],\n",
       "       [ 420,   11],\n",
       "       [ 422,    1],\n",
       "       [ 424,    1],\n",
       "       [ 425,    1],\n",
       "       [ 426,    1],\n",
       "       [ 429,    2],\n",
       "       [ 430,    2],\n",
       "       [ 431,    1],\n",
       "       [ 432,    3],\n",
       "       [ 433,    1],\n",
       "       [ 434,    4],\n",
       "       [ 437,    3],\n",
       "       [ 438,    1],\n",
       "       [ 439,    1],\n",
       "       [ 440,   26],\n",
       "       [ 441,    3],\n",
       "       [ 443,    1],\n",
       "       [ 444,    1],\n",
       "       [ 445,    1],\n",
       "       [ 450,    2],\n",
       "       [ 451,    4],\n",
       "       [ 452,    2],\n",
       "       [ 453,    1],\n",
       "       [ 454,    1],\n",
       "       [ 455,    1],\n",
       "       [ 456,    1],\n",
       "       [ 457,    2],\n",
       "       [ 459,    1],\n",
       "       [ 460,    6],\n",
       "       [ 461,    3],\n",
       "       [ 462,    6],\n",
       "       [ 463,    1],\n",
       "       [ 464,    1],\n",
       "       [ 465,    1],\n",
       "       [ 466,    2],\n",
       "       [ 467,    2],\n",
       "       [ 468,    1],\n",
       "       [ 470,    3],\n",
       "       [ 472,    3],\n",
       "       [ 473,    3],\n",
       "       [ 474,    2],\n",
       "       [ 476,    1],\n",
       "       [ 478,    1],\n",
       "       [ 480,   15],\n",
       "       [ 481,    1],\n",
       "       [ 482,    1],\n",
       "       [ 483,    2],\n",
       "       [ 484,   24],\n",
       "       [ 486,    2],\n",
       "       [ 488,    1],\n",
       "       [ 489,    1],\n",
       "       [ 490,    2],\n",
       "       [ 492,    4],\n",
       "       [ 493,    1],\n",
       "       [ 495,    8],\n",
       "       [ 496,    1],\n",
       "       [ 497,    2],\n",
       "       [ 498,    1],\n",
       "       [ 500,    2],\n",
       "       [ 502,    4],\n",
       "       [ 504,    3],\n",
       "       [ 506,    8],\n",
       "       [ 508,    1],\n",
       "       [ 509,    1],\n",
       "       [ 511,    3],\n",
       "       [ 512,    2],\n",
       "       [ 513,    2],\n",
       "       [ 514,    2],\n",
       "       [ 515,    2],\n",
       "       [ 516,    2],\n",
       "       [ 517,    1],\n",
       "       [ 518,    1],\n",
       "       [ 520,    5],\n",
       "       [ 521,    2],\n",
       "       [ 522,    2],\n",
       "       [ 523,    2],\n",
       "       [ 524,    2],\n",
       "       [ 525,    5],\n",
       "       [ 527,    3],\n",
       "       [ 528,   19],\n",
       "       [ 529,    2],\n",
       "       [ 530,    3],\n",
       "       [ 533,    1],\n",
       "       [ 538,    2],\n",
       "       [ 539,    4],\n",
       "       [ 540,    4],\n",
       "       [ 541,    1],\n",
       "       [ 544,    4],\n",
       "       [ 545,    1],\n",
       "       [ 546,    2],\n",
       "       [ 548,    2],\n",
       "       [ 550,    4],\n",
       "       [ 551,    1],\n",
       "       [ 552,    2],\n",
       "       [ 554,    1],\n",
       "       [ 556,    1],\n",
       "       [ 558,    1],\n",
       "       [ 561,    1],\n",
       "       [ 564,    4],\n",
       "       [ 565,    2],\n",
       "       [ 566,    1],\n",
       "       [ 568,    1],\n",
       "       [ 570,    3],\n",
       "       [ 571,    2],\n",
       "       [ 574,    2],\n",
       "       [ 575,    2],\n",
       "       [ 576,   28],\n",
       "       [ 577,    1],\n",
       "       [ 578,    1],\n",
       "       [ 580,    3],\n",
       "       [ 582,    2],\n",
       "       [ 583,    1],\n",
       "       [ 586,    2],\n",
       "       [ 588,    5],\n",
       "       [ 592,    1],\n",
       "       [ 596,    2],\n",
       "       [ 597,    1],\n",
       "       [ 599,    1],\n",
       "       [ 600,    2],\n",
       "       [ 603,    1],\n",
       "       [ 605,    1],\n",
       "       [ 606,    1],\n",
       "       [ 608,    3],\n",
       "       [ 610,    2],\n",
       "       [ 612,    1],\n",
       "       [ 613,    1],\n",
       "       [ 614,    1],\n",
       "       [ 615,    3],\n",
       "       [ 616,    1],\n",
       "       [ 617,    2],\n",
       "       [ 621,    2],\n",
       "       [ 624,    3],\n",
       "       [ 625,    3],\n",
       "       [ 626,    1],\n",
       "       [ 627,    2],\n",
       "       [ 628,    1],\n",
       "       [ 630,    2],\n",
       "       [ 631,    2],\n",
       "       [ 632,    2],\n",
       "       [ 636,    1],\n",
       "       [ 638,    1],\n",
       "       [ 640,    2],\n",
       "       [ 641,    1],\n",
       "       [ 642,    4],\n",
       "       [ 644,    3],\n",
       "       [ 645,    1],\n",
       "       [ 646,    1],\n",
       "       [ 647,    2],\n",
       "       [ 648,    3],\n",
       "       [ 649,    1],\n",
       "       [ 650,    2],\n",
       "       [ 656,    1],\n",
       "       [ 660,    2],\n",
       "       [ 662,    1],\n",
       "       [ 666,    2],\n",
       "       [ 668,    1],\n",
       "       [ 670,    2],\n",
       "       [ 672,    6],\n",
       "       [ 675,    1],\n",
       "       [ 676,    2],\n",
       "       [ 678,    1],\n",
       "       [ 684,    2],\n",
       "       [ 685,    1],\n",
       "       [ 686,    2],\n",
       "       [ 688,    1],\n",
       "       [ 693,    1],\n",
       "       [ 702,    1],\n",
       "       [ 704,    1],\n",
       "       [ 706,    1],\n",
       "       [ 708,    1],\n",
       "       [ 712,    1],\n",
       "       [ 713,    1],\n",
       "       [ 714,    1],\n",
       "       [ 722,    2],\n",
       "       [ 730,    3],\n",
       "       [ 732,    1],\n",
       "       [ 736,    2],\n",
       "       [ 740,    1],\n",
       "       [ 746,    2],\n",
       "       [ 747,    1],\n",
       "       [ 749,    1],\n",
       "       [ 753,    1],\n",
       "       [ 754,    1],\n",
       "       [ 756,    1],\n",
       "       [ 758,    2],\n",
       "       [ 762,    2],\n",
       "       [ 765,    1],\n",
       "       [ 773,    1],\n",
       "       [ 774,    1],\n",
       "       [ 776,    1],\n",
       "       [ 779,    1],\n",
       "       [ 784,    2],\n",
       "       [ 786,    1],\n",
       "       [ 789,    1],\n",
       "       [ 791,    1],\n",
       "       [ 792,    1],\n",
       "       [ 795,    1],\n",
       "       [ 800,    1],\n",
       "       [ 803,    1],\n",
       "       [ 807,    1],\n",
       "       [ 813,    1],\n",
       "       [ 815,    1],\n",
       "       [ 816,    2],\n",
       "       [ 820,    1],\n",
       "       [ 824,    1],\n",
       "       [ 828,    1],\n",
       "       [ 832,    1],\n",
       "       [ 833,    1],\n",
       "       [ 834,    3],\n",
       "       [ 836,    1],\n",
       "       [ 839,    1],\n",
       "       [ 840,    1],\n",
       "       [ 843,    1],\n",
       "       [ 844,    1],\n",
       "       [ 846,    1],\n",
       "       [ 848,    1],\n",
       "       [ 850,    2],\n",
       "       [ 853,    1],\n",
       "       [ 860,    1],\n",
       "       [ 864,    2],\n",
       "       [ 865,    1],\n",
       "       [ 868,    1],\n",
       "       [ 869,    1],\n",
       "       [ 870,    2],\n",
       "       [ 872,    1],\n",
       "       [ 880,    3],\n",
       "       [ 884,    1],\n",
       "       [ 888,    2],\n",
       "       [ 889,    1],\n",
       "       [ 900,    2],\n",
       "       [ 905,    2],\n",
       "       [ 907,    1],\n",
       "       [ 908,    1],\n",
       "       [ 912,    1],\n",
       "       [ 925,    1],\n",
       "       [ 932,    1],\n",
       "       [ 938,    1],\n",
       "       [ 962,    1],\n",
       "       [ 963,    1],\n",
       "       [ 972,    1],\n",
       "       [ 984,    1],\n",
       "       [ 995,    1],\n",
       "       [1003,    1],\n",
       "       [1014,    1],\n",
       "       [1025,    1],\n",
       "       [1040,    1],\n",
       "       [1052,    1],\n",
       "       [1092,    1],\n",
       "       [1134,    1],\n",
       "       [1200,    1],\n",
       "       [1248,    1],\n",
       "       [1390,    1],\n",
       "       [1488,    1]], dtype=int64)"
      ]
     },
     "execution_count": 99,
     "metadata": {},
     "output_type": "execute_result"
    }
   ],
   "source": [
    "#check for unusual values\n",
    "np.array(np.unique(ames_df['garage_area'], return_counts=True)).T"
   ]
  },
  {
   "cell_type": "code",
   "execution_count": 100,
   "id": "9005a542",
   "metadata": {},
   "outputs": [
    {
     "data": {
      "text/plain": [
       "dtype('int32')"
      ]
     },
     "execution_count": 100,
     "metadata": {},
     "output_type": "execute_result"
    }
   ],
   "source": [
    "ames_df['garage_area'].dtypes"
   ]
  },
  {
   "cell_type": "code",
   "execution_count": 101,
   "id": "d72cdadc",
   "metadata": {},
   "outputs": [],
   "source": [
    "#replace NaN values with 'None' \n",
    "ames_df['garage_qual'] = ames_df['garage_qual'].replace(np.nan,'None')"
   ]
  },
  {
   "cell_type": "code",
   "execution_count": 102,
   "id": "c4215f59",
   "metadata": {},
   "outputs": [
    {
     "data": {
      "text/plain": [
       "array([['Fa', 42],\n",
       "       ['Gd', 6],\n",
       "       ['None', 45],\n",
       "       ['Po', 3],\n",
       "       ['TA', 782]], dtype=object)"
      ]
     },
     "execution_count": 102,
     "metadata": {},
     "output_type": "execute_result"
    }
   ],
   "source": [
    "#check for unusual values\n",
    "np.array(np.unique(ames_df['garage_qual'], return_counts=True)).T"
   ]
  },
  {
   "cell_type": "code",
   "execution_count": 103,
   "id": "064dd61f",
   "metadata": {},
   "outputs": [],
   "source": [
    "#replace NaN values with 'None' in 'garage_cond'\n",
    "ames_df['garage_cond'] = ames_df['garage_cond'].replace(np.nan,'None')"
   ]
  },
  {
   "cell_type": "code",
   "execution_count": 104,
   "id": "2239d007",
   "metadata": {},
   "outputs": [
    {
     "data": {
      "text/plain": [
       "array([['Ex', 1],\n",
       "       ['Fa', 27],\n",
       "       ['Gd', 3],\n",
       "       ['None', 45],\n",
       "       ['Po', 6],\n",
       "       ['TA', 796]], dtype=object)"
      ]
     },
     "execution_count": 104,
     "metadata": {},
     "output_type": "execute_result"
    }
   ],
   "source": [
    "#check for unusual values\n",
    "np.array(np.unique(ames_df['garage_cond'], return_counts=True)).T"
   ]
  },
  {
   "cell_type": "code",
   "execution_count": 105,
   "id": "6194eec0",
   "metadata": {},
   "outputs": [
    {
     "data": {
      "text/plain": [
       "array([['N', 65],\n",
       "       ['P', 23],\n",
       "       ['Y', 790]], dtype=object)"
      ]
     },
     "execution_count": 105,
     "metadata": {},
     "output_type": "execute_result"
    }
   ],
   "source": [
    "#check for unusual values\n",
    "np.array(np.unique(ames_df['paved_drive'], return_counts=True)).T"
   ]
  },
  {
   "cell_type": "code",
   "execution_count": 106,
   "id": "3c1199f8",
   "metadata": {},
   "outputs": [
    {
     "data": {
      "text/plain": [
       "array([[  0, 451],\n",
       "       [ 20,   1],\n",
       "       [ 23,   1],\n",
       "       [ 25,   2],\n",
       "       [ 26,   1],\n",
       "       [ 27,   1],\n",
       "       [ 32,   2],\n",
       "       [ 36,   3],\n",
       "       [ 38,   1],\n",
       "       [ 40,   4],\n",
       "       [ 42,   2],\n",
       "       [ 44,   1],\n",
       "       [ 48,   1],\n",
       "       [ 49,   1],\n",
       "       [ 50,   1],\n",
       "       [ 55,   2],\n",
       "       [ 56,   1],\n",
       "       [ 57,   1],\n",
       "       [ 58,   1],\n",
       "       [ 60,   2],\n",
       "       [ 63,   1],\n",
       "       [ 64,   2],\n",
       "       [ 66,   1],\n",
       "       [ 68,   1],\n",
       "       [ 70,   1],\n",
       "       [ 71,   1],\n",
       "       [ 72,   3],\n",
       "       [ 74,   2],\n",
       "       [ 76,   3],\n",
       "       [ 77,   1],\n",
       "       [ 80,   3],\n",
       "       [ 81,   1],\n",
       "       [ 84,   1],\n",
       "       [ 85,   1],\n",
       "       [ 89,   1],\n",
       "       [ 90,   2],\n",
       "       [ 95,   1],\n",
       "       [ 96,   2],\n",
       "       [100,  21],\n",
       "       [104,   1],\n",
       "       [106,   1],\n",
       "       [108,   2],\n",
       "       [110,   2],\n",
       "       [112,   1],\n",
       "       [113,   1],\n",
       "       [115,   1],\n",
       "       [116,   2],\n",
       "       [120,  13],\n",
       "       [121,   1],\n",
       "       [123,   3],\n",
       "       [124,   2],\n",
       "       [125,   2],\n",
       "       [127,   3],\n",
       "       [128,   2],\n",
       "       [129,   1],\n",
       "       [130,   1],\n",
       "       [131,   1],\n",
       "       [132,   2],\n",
       "       [133,   5],\n",
       "       [135,   4],\n",
       "       [136,   1],\n",
       "       [139,   1],\n",
       "       [140,   6],\n",
       "       [141,   1],\n",
       "       [142,   3],\n",
       "       [143,   1],\n",
       "       [144,  15],\n",
       "       [145,   2],\n",
       "       [147,   2],\n",
       "       [149,   3],\n",
       "       [150,   4],\n",
       "       [152,   2],\n",
       "       [154,   2],\n",
       "       [155,   2],\n",
       "       [156,   4],\n",
       "       [158,   1],\n",
       "       [160,   3],\n",
       "       [161,   1],\n",
       "       [164,   1],\n",
       "       [165,   1],\n",
       "       [168,  20],\n",
       "       [169,   1],\n",
       "       [170,   1],\n",
       "       [171,   4],\n",
       "       [172,   4],\n",
       "       [173,   1],\n",
       "       [174,   3],\n",
       "       [175,   1],\n",
       "       [176,   3],\n",
       "       [177,   1],\n",
       "       [178,   1],\n",
       "       [179,   1],\n",
       "       [180,   7],\n",
       "       [181,   1],\n",
       "       [182,   4],\n",
       "       [184,   2],\n",
       "       [185,   2],\n",
       "       [186,   2],\n",
       "       [188,   1],\n",
       "       [190,   1],\n",
       "       [192,  27],\n",
       "       [194,   1],\n",
       "       [196,   2],\n",
       "       [197,   1],\n",
       "       [198,   2],\n",
       "       [199,   1],\n",
       "       [200,   3],\n",
       "       [202,   1],\n",
       "       [204,   3],\n",
       "       [208,   6],\n",
       "       [209,   1],\n",
       "       [210,   4],\n",
       "       [212,   3],\n",
       "       [213,   1],\n",
       "       [215,   1],\n",
       "       [216,   1],\n",
       "       [219,   1],\n",
       "       [220,   2],\n",
       "       [224,   2],\n",
       "       [225,   1],\n",
       "       [228,   2],\n",
       "       [231,   2],\n",
       "       [232,   1],\n",
       "       [233,   1],\n",
       "       [234,   1],\n",
       "       [235,   1],\n",
       "       [237,   2],\n",
       "       [238,   2],\n",
       "       [239,   1],\n",
       "       [240,   8],\n",
       "       [245,   1],\n",
       "       [247,   1],\n",
       "       [248,   2],\n",
       "       [250,   2],\n",
       "       [252,   1],\n",
       "       [253,   1],\n",
       "       [256,   2],\n",
       "       [257,   2],\n",
       "       [261,   1],\n",
       "       [262,   1],\n",
       "       [264,   1],\n",
       "       [268,   2],\n",
       "       [270,   1],\n",
       "       [272,   2],\n",
       "       [274,   1],\n",
       "       [277,   1],\n",
       "       [279,   1],\n",
       "       [280,   2],\n",
       "       [285,   1],\n",
       "       [286,   1],\n",
       "       [290,   1],\n",
       "       [294,   2],\n",
       "       [295,   1],\n",
       "       [296,   1],\n",
       "       [297,   1],\n",
       "       [300,   1],\n",
       "       [301,   1],\n",
       "       [304,   1],\n",
       "       [305,   1],\n",
       "       [306,   1],\n",
       "       [312,   1],\n",
       "       [314,   2],\n",
       "       [315,   1],\n",
       "       [316,   2],\n",
       "       [319,   1],\n",
       "       [320,   1],\n",
       "       [322,   2],\n",
       "       [324,   1],\n",
       "       [325,   1],\n",
       "       [326,   1],\n",
       "       [328,   1],\n",
       "       [330,   1],\n",
       "       [331,   1],\n",
       "       [335,   1],\n",
       "       [339,   1],\n",
       "       [344,   1],\n",
       "       [351,   2],\n",
       "       [353,   1],\n",
       "       [355,   1],\n",
       "       [360,   2],\n",
       "       [361,   1],\n",
       "       [362,   1],\n",
       "       [366,   2],\n",
       "       [370,   1],\n",
       "       [382,   1],\n",
       "       [386,   1],\n",
       "       [390,   1],\n",
       "       [400,   2],\n",
       "       [402,   1],\n",
       "       [403,   1],\n",
       "       [405,   1],\n",
       "       [406,   1],\n",
       "       [411,   1],\n",
       "       [421,   1],\n",
       "       [426,   1],\n",
       "       [448,   1],\n",
       "       [453,   1],\n",
       "       [460,   1],\n",
       "       [467,   1],\n",
       "       [468,   1],\n",
       "       [474,   1],\n",
       "       [483,   1],\n",
       "       [486,   2],\n",
       "       [490,   1],\n",
       "       [501,   1],\n",
       "       [502,   1],\n",
       "       [511,   1],\n",
       "       [574,   1],\n",
       "       [670,   1],\n",
       "       [690,   1]], dtype=int64)"
      ]
     },
     "execution_count": 106,
     "metadata": {},
     "output_type": "execute_result"
    }
   ],
   "source": [
    "#check for unusual values\n",
    "np.array(np.unique(ames_df['wood_deck_sf'], return_counts=True)).T"
   ]
  },
  {
   "cell_type": "code",
   "execution_count": 107,
   "id": "0131f863",
   "metadata": {},
   "outputs": [
    {
     "data": {
      "text/plain": [
       "array([[  0, 388],\n",
       "       [  6,   1],\n",
       "       [ 12,   2],\n",
       "       [ 15,   1],\n",
       "       [ 16,   4],\n",
       "       [ 18,   2],\n",
       "       [ 20,   9],\n",
       "       [ 21,   5],\n",
       "       [ 22,   3],\n",
       "       [ 23,   2],\n",
       "       [ 24,  13],\n",
       "       [ 25,   2],\n",
       "       [ 26,   5],\n",
       "       [ 27,   3],\n",
       "       [ 28,  17],\n",
       "       [ 29,   1],\n",
       "       [ 30,   8],\n",
       "       [ 32,   9],\n",
       "       [ 33,   4],\n",
       "       [ 34,   5],\n",
       "       [ 35,   8],\n",
       "       [ 36,  14],\n",
       "       [ 38,   8],\n",
       "       [ 39,  10],\n",
       "       [ 40,  10],\n",
       "       [ 41,   1],\n",
       "       [ 42,  10],\n",
       "       [ 43,   4],\n",
       "       [ 44,   5],\n",
       "       [ 45,   8],\n",
       "       [ 46,   4],\n",
       "       [ 47,   1],\n",
       "       [ 48,  12],\n",
       "       [ 49,   3],\n",
       "       [ 50,   9],\n",
       "       [ 51,   1],\n",
       "       [ 52,   1],\n",
       "       [ 53,   2],\n",
       "       [ 54,   5],\n",
       "       [ 55,   5],\n",
       "       [ 56,   6],\n",
       "       [ 57,   2],\n",
       "       [ 58,   3],\n",
       "       [ 59,   1],\n",
       "       [ 60,   7],\n",
       "       [ 61,   2],\n",
       "       [ 62,   1],\n",
       "       [ 63,   7],\n",
       "       [ 64,   9],\n",
       "       [ 65,   3],\n",
       "       [ 66,   1],\n",
       "       [ 68,   7],\n",
       "       [ 69,   4],\n",
       "       [ 70,   3],\n",
       "       [ 72,   6],\n",
       "       [ 73,   1],\n",
       "       [ 74,   3],\n",
       "       [ 75,   6],\n",
       "       [ 76,   3],\n",
       "       [ 77,   3],\n",
       "       [ 78,   8],\n",
       "       [ 80,   2],\n",
       "       [ 81,   3],\n",
       "       [ 82,   3],\n",
       "       [ 83,   1],\n",
       "       [ 84,   7],\n",
       "       [ 85,   3],\n",
       "       [ 87,   2],\n",
       "       [ 88,   2],\n",
       "       [ 89,   1],\n",
       "       [ 90,   6],\n",
       "       [ 91,   1],\n",
       "       [ 92,   1],\n",
       "       [ 95,   4],\n",
       "       [ 96,   5],\n",
       "       [ 98,   7],\n",
       "       [ 99,   1],\n",
       "       [100,   4],\n",
       "       [102,   5],\n",
       "       [103,   2],\n",
       "       [104,   2],\n",
       "       [105,   3],\n",
       "       [108,   5],\n",
       "       [110,   2],\n",
       "       [111,   3],\n",
       "       [112,   2],\n",
       "       [113,   3],\n",
       "       [114,   5],\n",
       "       [115,   1],\n",
       "       [116,   5],\n",
       "       [120,   3],\n",
       "       [122,   1],\n",
       "       [124,   1],\n",
       "       [126,   1],\n",
       "       [130,   5],\n",
       "       [131,   1],\n",
       "       [132,   5],\n",
       "       [133,   1],\n",
       "       [134,   1],\n",
       "       [136,   2],\n",
       "       [137,   1],\n",
       "       [138,   1],\n",
       "       [139,   1],\n",
       "       [140,   1],\n",
       "       [144,   4],\n",
       "       [150,   1],\n",
       "       [152,   1],\n",
       "       [154,   2],\n",
       "       [155,   1],\n",
       "       [156,   1],\n",
       "       [160,   1],\n",
       "       [162,   1],\n",
       "       [165,   1],\n",
       "       [166,   1],\n",
       "       [169,   3],\n",
       "       [170,   1],\n",
       "       [172,   1],\n",
       "       [174,   1],\n",
       "       [175,   1],\n",
       "       [177,   1],\n",
       "       [178,   1],\n",
       "       [180,   2],\n",
       "       [182,   2],\n",
       "       [184,   2],\n",
       "       [188,   2],\n",
       "       [189,   1],\n",
       "       [192,   2],\n",
       "       [193,   1],\n",
       "       [194,   1],\n",
       "       [195,   1],\n",
       "       [198,   1],\n",
       "       [201,   1],\n",
       "       [203,   1],\n",
       "       [204,   1],\n",
       "       [208,   1],\n",
       "       [216,   1],\n",
       "       [217,   1],\n",
       "       [222,   1],\n",
       "       [224,   1],\n",
       "       [230,   1],\n",
       "       [234,   1],\n",
       "       [236,   1],\n",
       "       [240,   3],\n",
       "       [241,   1],\n",
       "       [246,   1],\n",
       "       [247,   1],\n",
       "       [250,   1],\n",
       "       [253,   1],\n",
       "       [254,   1],\n",
       "       [262,   1],\n",
       "       [263,   1],\n",
       "       [265,   1],\n",
       "       [266,   1],\n",
       "       [267,   1],\n",
       "       [273,   1],\n",
       "       [274,   1],\n",
       "       [287,   1],\n",
       "       [312,   1],\n",
       "       [341,   1],\n",
       "       [382,   1],\n",
       "       [570,   1],\n",
       "       [742,   1]], dtype=int64)"
      ]
     },
     "execution_count": 107,
     "metadata": {},
     "output_type": "execute_result"
    }
   ],
   "source": [
    "#check for unusual values\n",
    "np.array(np.unique(ames_df['open_porch_sf'], return_counts=True)).T"
   ]
  },
  {
   "cell_type": "code",
   "execution_count": 108,
   "id": "2da17783",
   "metadata": {},
   "outputs": [
    {
     "data": {
      "text/plain": [
       "array([[   0,  746],\n",
       "       [  20,    1],\n",
       "       [  28,    1],\n",
       "       [  32,    2],\n",
       "       [  35,    1],\n",
       "       [  40,    2],\n",
       "       [  41,    2],\n",
       "       [  42,    2],\n",
       "       [  48,    1],\n",
       "       [  51,    1],\n",
       "       [  55,    2],\n",
       "       [  56,    1],\n",
       "       [  60,    2],\n",
       "       [  64,    1],\n",
       "       [  68,    1],\n",
       "       [  70,    1],\n",
       "       [  80,    3],\n",
       "       [  81,    1],\n",
       "       [  84,    2],\n",
       "       [  86,    1],\n",
       "       [  88,    1],\n",
       "       [  90,    1],\n",
       "       [  91,    1],\n",
       "       [  94,    1],\n",
       "       [  96,    3],\n",
       "       [  98,    1],\n",
       "       [ 100,    1],\n",
       "       [ 102,    3],\n",
       "       [ 105,    1],\n",
       "       [ 108,    2],\n",
       "       [ 112,    9],\n",
       "       [ 116,    3],\n",
       "       [ 120,    3],\n",
       "       [ 121,    1],\n",
       "       [ 123,    1],\n",
       "       [ 126,    3],\n",
       "       [ 128,    1],\n",
       "       [ 132,    1],\n",
       "       [ 137,    1],\n",
       "       [ 139,    1],\n",
       "       [ 140,    2],\n",
       "       [ 144,    5],\n",
       "       [ 150,    2],\n",
       "       [ 160,    2],\n",
       "       [ 164,    1],\n",
       "       [ 168,    4],\n",
       "       [ 169,    2],\n",
       "       [ 170,    1],\n",
       "       [ 180,    2],\n",
       "       [ 183,    1],\n",
       "       [ 184,    1],\n",
       "       [ 185,    1],\n",
       "       [ 190,    2],\n",
       "       [ 192,    4],\n",
       "       [ 196,    1],\n",
       "       [ 202,    1],\n",
       "       [ 205,    1],\n",
       "       [ 208,    1],\n",
       "       [ 209,    1],\n",
       "       [ 218,    1],\n",
       "       [ 220,    1],\n",
       "       [ 221,    1],\n",
       "       [ 224,    2],\n",
       "       [ 228,    1],\n",
       "       [ 231,    1],\n",
       "       [ 238,    1],\n",
       "       [ 239,    2],\n",
       "       [ 240,    2],\n",
       "       [ 242,    1],\n",
       "       [ 244,    1],\n",
       "       [ 248,    3],\n",
       "       [ 252,    2],\n",
       "       [ 254,    1],\n",
       "       [ 264,    1],\n",
       "       [ 286,    1],\n",
       "       [ 290,    1],\n",
       "       [ 293,    1],\n",
       "       [ 334,    1],\n",
       "       [ 386,    1],\n",
       "       [ 429,    1],\n",
       "       [ 552,    1],\n",
       "       [ 584,    1],\n",
       "       [1012,    1]], dtype=int64)"
      ]
     },
     "execution_count": 108,
     "metadata": {},
     "output_type": "execute_result"
    }
   ],
   "source": [
    "#check for unusual values\n",
    "np.array(np.unique(ames_df['enclosed_porch'], return_counts=True)).T"
   ]
  },
  {
   "cell_type": "code",
   "execution_count": 109,
   "id": "23a9d8eb",
   "metadata": {},
   "outputs": [
    {
     "data": {
      "text/plain": [
       "array([[  0, 867],\n",
       "       [ 23,   1],\n",
       "       [130,   1],\n",
       "       [174,   1],\n",
       "       [180,   1],\n",
       "       [196,   1],\n",
       "       [216,   1],\n",
       "       [219,   1],\n",
       "       [225,   1],\n",
       "       [238,   1],\n",
       "       [320,   1],\n",
       "       [360,   1]], dtype=int64)"
      ]
     },
     "execution_count": 109,
     "metadata": {},
     "output_type": "execute_result"
    }
   ],
   "source": [
    "#check for unusual values\n",
    "np.array(np.unique(ames_df['3ssn_porch'], return_counts=True)).T"
   ]
  },
  {
   "cell_type": "code",
   "execution_count": 110,
   "id": "7bd078b1",
   "metadata": {},
   "outputs": [
    {
     "data": {
      "text/plain": [
       "array([[  0, 803],\n",
       "       [ 40,   1],\n",
       "       [ 60,   1],\n",
       "       [ 63,   1],\n",
       "       [ 80,   1],\n",
       "       [ 90,   1],\n",
       "       [ 92,   1],\n",
       "       [ 99,   1],\n",
       "       [100,   1],\n",
       "       [108,   1],\n",
       "       [110,   1],\n",
       "       [112,   1],\n",
       "       [115,   2],\n",
       "       [116,   1],\n",
       "       [117,   1],\n",
       "       [119,   1],\n",
       "       [120,   3],\n",
       "       [121,   1],\n",
       "       [123,   1],\n",
       "       [126,   1],\n",
       "       [128,   1],\n",
       "       [138,   1],\n",
       "       [144,   4],\n",
       "       [153,   2],\n",
       "       [155,   1],\n",
       "       [156,   2],\n",
       "       [160,   4],\n",
       "       [166,   1],\n",
       "       [168,   2],\n",
       "       [175,   1],\n",
       "       [178,   1],\n",
       "       [184,   1],\n",
       "       [185,   1],\n",
       "       [189,   1],\n",
       "       [192,   4],\n",
       "       [195,   1],\n",
       "       [196,   1],\n",
       "       [197,   1],\n",
       "       [198,   1],\n",
       "       [200,   4],\n",
       "       [204,   1],\n",
       "       [216,   3],\n",
       "       [221,   1],\n",
       "       [225,   1],\n",
       "       [227,   1],\n",
       "       [228,   1],\n",
       "       [256,   3],\n",
       "       [259,   1],\n",
       "       [263,   1],\n",
       "       [266,   1],\n",
       "       [273,   1],\n",
       "       [287,   1],\n",
       "       [288,   1],\n",
       "       [576,   1]], dtype=int64)"
      ]
     },
     "execution_count": 110,
     "metadata": {},
     "output_type": "execute_result"
    }
   ],
   "source": [
    "#check for unusual values\n",
    "np.array(np.unique(ames_df['screen_porch'], return_counts=True)).T"
   ]
  },
  {
   "cell_type": "code",
   "execution_count": 111,
   "id": "dbff252c",
   "metadata": {},
   "outputs": [
    {
     "data": {
      "text/plain": [
       "array([[  0, 874],\n",
       "       [144,   1],\n",
       "       [444,   1],\n",
       "       [512,   1],\n",
       "       [555,   1]], dtype=int64)"
      ]
     },
     "execution_count": 111,
     "metadata": {},
     "output_type": "execute_result"
    }
   ],
   "source": [
    "#check for unusual values\n",
    "np.array(np.unique(ames_df['pool_area'], return_counts=True)).T"
   ]
  },
  {
   "cell_type": "code",
   "execution_count": 112,
   "id": "6939d9d2",
   "metadata": {},
   "outputs": [],
   "source": [
    "#convert NaN values to 'NA' in 'pool_qc'\n",
    "ames_df['pool_qc'] = ames_df['pool_qc'].replace(np.nan,'None')"
   ]
  },
  {
   "cell_type": "code",
   "execution_count": 113,
   "id": "4dcc3083",
   "metadata": {},
   "outputs": [
    {
     "data": {
      "text/plain": [
       "array([['Ex', 3],\n",
       "       ['None', 874],\n",
       "       ['TA', 1]], dtype=object)"
      ]
     },
     "execution_count": 113,
     "metadata": {},
     "output_type": "execute_result"
    }
   ],
   "source": [
    "#check for unusual values\n",
    "np.array(np.unique(ames_df['pool_qc'], return_counts=True)).T"
   ]
  },
  {
   "cell_type": "code",
   "execution_count": 114,
   "id": "33c9ed41",
   "metadata": {},
   "outputs": [],
   "source": [
    "#convert NaN values to 'None' in 'fence'\n",
    "ames_df['fence'] = ames_df['fence'].replace(np.nan,'None')"
   ]
  },
  {
   "cell_type": "code",
   "execution_count": 115,
   "id": "a1cfffaa",
   "metadata": {},
   "outputs": [
    {
     "data": {
      "text/plain": [
       "array([['GdPrv', 35],\n",
       "       ['GdWo', 32],\n",
       "       ['MnPrv', 103],\n",
       "       ['MnWw', 2],\n",
       "       ['None', 706]], dtype=object)"
      ]
     },
     "execution_count": 115,
     "metadata": {},
     "output_type": "execute_result"
    }
   ],
   "source": [
    "#check for unusual values\n",
    "np.array(np.unique(ames_df['fence'], return_counts=True)).T"
   ]
  },
  {
   "cell_type": "code",
   "execution_count": 116,
   "id": "1769af2d",
   "metadata": {},
   "outputs": [],
   "source": [
    "#convert NaN to 'None' in 'misc_feature'\n",
    "ames_df['misc_feature'] = ames_df['misc_feature'].replace(np.nan,'None')"
   ]
  },
  {
   "cell_type": "code",
   "execution_count": 117,
   "id": "911df328",
   "metadata": {},
   "outputs": [
    {
     "data": {
      "text/plain": [
       "array([['Gar2', 1],\n",
       "       ['None', 837],\n",
       "       ['Othr', 1],\n",
       "       ['Shed', 39]], dtype=object)"
      ]
     },
     "execution_count": 117,
     "metadata": {},
     "output_type": "execute_result"
    }
   ],
   "source": [
    "#check for unusual values\n",
    "np.array(np.unique(ames_df['misc_feature'], return_counts=True)).T"
   ]
  },
  {
   "cell_type": "code",
   "execution_count": 118,
   "id": "35f519eb",
   "metadata": {},
   "outputs": [
    {
     "data": {
      "text/plain": [
       "array([[    0,   840],\n",
       "       [  350,     1],\n",
       "       [  400,     6],\n",
       "       [  420,     1],\n",
       "       [  450,     4],\n",
       "       [  480,     1],\n",
       "       [  490,     1],\n",
       "       [  500,     5],\n",
       "       [  560,     1],\n",
       "       [  600,     2],\n",
       "       [  620,     1],\n",
       "       [  650,     2],\n",
       "       [  700,     3],\n",
       "       [  750,     1],\n",
       "       [ 1000,     1],\n",
       "       [ 1200,     1],\n",
       "       [ 1400,     1],\n",
       "       [ 1500,     2],\n",
       "       [ 1512,     1],\n",
       "       [ 2000,     2],\n",
       "       [15500,     1]], dtype=int64)"
      ]
     },
     "execution_count": 118,
     "metadata": {},
     "output_type": "execute_result"
    }
   ],
   "source": [
    "#check for unusual values\n",
    "np.array(np.unique(ames_df['misc_val'], return_counts=True)).T"
   ]
  },
  {
   "cell_type": "code",
   "execution_count": 119,
   "id": "66b26db4",
   "metadata": {},
   "outputs": [
    {
     "data": {
      "text/plain": [
       "array([[  1,  44],\n",
       "       [  2,  29],\n",
       "       [  3,  64],\n",
       "       [  4,  71],\n",
       "       [  5, 138],\n",
       "       [  6, 153],\n",
       "       [  7, 146],\n",
       "       [  8,  66],\n",
       "       [  9,  52],\n",
       "       [ 10,  49],\n",
       "       [ 11,  40],\n",
       "       [ 12,  26]], dtype=int64)"
      ]
     },
     "execution_count": 119,
     "metadata": {},
     "output_type": "execute_result"
    }
   ],
   "source": [
    "#check for unusual values\n",
    "np.array(np.unique(ames_df['mo_sold'], return_counts=True)).T"
   ]
  },
  {
   "cell_type": "code",
   "execution_count": 120,
   "id": "3925e348",
   "metadata": {},
   "outputs": [
    {
     "data": {
      "text/plain": [
       "array([[2006,  187],\n",
       "       [2007,  195],\n",
       "       [2008,  187],\n",
       "       [2009,  202],\n",
       "       [2010,  107]], dtype=int64)"
      ]
     },
     "execution_count": 120,
     "metadata": {},
     "output_type": "execute_result"
    }
   ],
   "source": [
    "#check for unusual values\n",
    "np.array(np.unique(ames_df['yr_sold'], return_counts=True)).T"
   ]
  },
  {
   "cell_type": "code",
   "execution_count": 121,
   "id": "11b6eac2",
   "metadata": {},
   "outputs": [
    {
     "data": {
      "text/plain": [
       "array([['COD', 24],\n",
       "       ['CWD', 2],\n",
       "       ['Con', 1],\n",
       "       ['ConLD', 9],\n",
       "       ['ConLI', 2],\n",
       "       ['ConLw', 3],\n",
       "       ['New', 78],\n",
       "       ['Oth', 3],\n",
       "       ['VWD', 1],\n",
       "       ['WD ', 755]], dtype=object)"
      ]
     },
     "execution_count": 121,
     "metadata": {},
     "output_type": "execute_result"
    }
   ],
   "source": [
    "#check for unusual values\n",
    "np.array(np.unique(ames_df['sale_type'], return_counts=True)).T"
   ]
  },
  {
   "cell_type": "code",
   "execution_count": 122,
   "id": "dde50a05",
   "metadata": {},
   "outputs": [
    {
     "name": "stdout",
     "output_type": "stream",
     "text": [
      "<class 'pandas.core.frame.DataFrame'>\n",
      "RangeIndex: 878 entries, 0 to 877\n",
      "Data columns (total 80 columns):\n",
      " #   Column           Non-Null Count  Dtype  \n",
      "---  ------           --------------  -----  \n",
      " 0   id               878 non-null    int64  \n",
      " 1   pid              878 non-null    int64  \n",
      " 2   ms_subclass      878 non-null    int64  \n",
      " 3   ms_zoning        878 non-null    object \n",
      " 4   lot_frontage     878 non-null    int32  \n",
      " 5   lot_area         878 non-null    int64  \n",
      " 6   street           878 non-null    object \n",
      " 7   alley            878 non-null    object \n",
      " 8   lot_shape        878 non-null    object \n",
      " 9   land_contour     878 non-null    object \n",
      " 10  utilities        878 non-null    object \n",
      " 11  lot_config       878 non-null    object \n",
      " 12  land_slope       878 non-null    object \n",
      " 13  neighborhood     878 non-null    object \n",
      " 14  condition_1      878 non-null    object \n",
      " 15  condition_2      878 non-null    object \n",
      " 16  bldg_type        878 non-null    object \n",
      " 17  house_style      878 non-null    object \n",
      " 18  overall_qual     878 non-null    int64  \n",
      " 19  overall_cond     878 non-null    int64  \n",
      " 20  year_built       878 non-null    int64  \n",
      " 21  year_remod/add   878 non-null    int64  \n",
      " 22  roof_style       878 non-null    object \n",
      " 23  roof_matl        878 non-null    object \n",
      " 24  exterior_1st     878 non-null    object \n",
      " 25  exterior_2nd     878 non-null    object \n",
      " 26  mas_vnr_type     878 non-null    object \n",
      " 27  mas_vnr_area     878 non-null    float64\n",
      " 28  exter_qual       878 non-null    object \n",
      " 29  exter_cond       878 non-null    object \n",
      " 30  foundation       878 non-null    object \n",
      " 31  bsmt_qual        878 non-null    object \n",
      " 32  bsmt_cond        878 non-null    object \n",
      " 33  bsmt_exposure    878 non-null    object \n",
      " 34  bsmtfin_type_1   878 non-null    object \n",
      " 35  bsmtfin_sf_1     878 non-null    int64  \n",
      " 36  bsmtfin_type_2   878 non-null    object \n",
      " 37  bsmtfin_sf_2     878 non-null    int64  \n",
      " 38  bsmt_unf_sf      878 non-null    int64  \n",
      " 39  total_bsmt_sf    878 non-null    int64  \n",
      " 40  heating          878 non-null    object \n",
      " 41  heating_qc       878 non-null    object \n",
      " 42  central_air      878 non-null    object \n",
      " 43  electrical       878 non-null    object \n",
      " 44  1st_flr_sf       878 non-null    int64  \n",
      " 45  2nd_flr_sf       878 non-null    int64  \n",
      " 46  low_qual_fin_sf  878 non-null    int64  \n",
      " 47  gr_liv_area      878 non-null    int64  \n",
      " 48  bsmt_full_bath   878 non-null    int64  \n",
      " 49  bsmt_half_bath   878 non-null    int64  \n",
      " 50  full_bath        878 non-null    int64  \n",
      " 51  half_bath        878 non-null    int64  \n",
      " 52  bedroom_abvgr    878 non-null    int64  \n",
      " 53  kitchen_abvgr    878 non-null    int64  \n",
      " 54  kitchen_qual     878 non-null    object \n",
      " 55  totrms_abvgrd    878 non-null    int64  \n",
      " 56  functional       878 non-null    object \n",
      " 57  fireplaces       878 non-null    int64  \n",
      " 58  fireplace_qu     878 non-null    object \n",
      " 59  garage_type      878 non-null    object \n",
      " 60  garage_yr_blt    878 non-null    int32  \n",
      " 61  garage_finish    878 non-null    object \n",
      " 62  garage_cars      878 non-null    int32  \n",
      " 63  garage_area      878 non-null    int32  \n",
      " 64  garage_qual      878 non-null    object \n",
      " 65  garage_cond      878 non-null    object \n",
      " 66  paved_drive      878 non-null    object \n",
      " 67  wood_deck_sf     878 non-null    int64  \n",
      " 68  open_porch_sf    878 non-null    int64  \n",
      " 69  enclosed_porch   878 non-null    int64  \n",
      " 70  3ssn_porch       878 non-null    int64  \n",
      " 71  screen_porch     878 non-null    int64  \n",
      " 72  pool_area        878 non-null    int64  \n",
      " 73  pool_qc          878 non-null    object \n",
      " 74  fence            878 non-null    object \n",
      " 75  misc_feature     878 non-null    object \n",
      " 76  misc_val         878 non-null    int64  \n",
      " 77  mo_sold          878 non-null    int64  \n",
      " 78  yr_sold          878 non-null    int64  \n",
      " 79  sale_type        878 non-null    object \n",
      "dtypes: float64(1), int32(4), int64(33), object(42)\n",
      "memory usage: 535.2+ KB\n"
     ]
    }
   ],
   "source": [
    "ames_df.info()"
   ]
  },
  {
   "cell_type": "code",
   "execution_count": 123,
   "id": "4e22bbd8",
   "metadata": {},
   "outputs": [],
   "source": [
    "#save train_dataframe to csv\n",
    "ames_df.to_csv('../data/ames_df_test.csv',index=False)"
   ]
  },
  {
   "cell_type": "code",
   "execution_count": null,
   "id": "f3bb3fe7",
   "metadata": {},
   "outputs": [],
   "source": []
  }
 ],
 "metadata": {
  "kernelspec": {
   "display_name": "Python 3",
   "language": "python",
   "name": "python3"
  },
  "language_info": {
   "codemirror_mode": {
    "name": "ipython",
    "version": 3
   },
   "file_extension": ".py",
   "mimetype": "text/x-python",
   "name": "python",
   "nbconvert_exporter": "python",
   "pygments_lexer": "ipython3",
   "version": "3.8.8"
  }
 },
 "nbformat": 4,
 "nbformat_minor": 5
}
