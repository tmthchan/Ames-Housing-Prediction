{
 "cells": [
  {
   "cell_type": "markdown",
   "id": "ddfc5a5c",
   "metadata": {},
   "source": [
    "# 2. Exploratory Data Analysis"
   ]
  },
  {
   "cell_type": "code",
   "execution_count": 1,
   "id": "0ec17ec3",
   "metadata": {},
   "outputs": [],
   "source": [
    "#import packages\n",
    "import numpy as np\n",
    "import seaborn as sns\n",
    "import matplotlib.pyplot as plt\n",
    "import pandas as pd\n",
    "\n",
    "%config InlineBackend.figure_format='retina'\n",
    "%matplotlib inline"
   ]
  },
  {
   "cell_type": "code",
   "execution_count": 2,
   "id": "5ee8162b",
   "metadata": {},
   "outputs": [
    {
     "data": {
      "text/html": [
       "<div>\n",
       "<style scoped>\n",
       "    .dataframe tbody tr th:only-of-type {\n",
       "        vertical-align: middle;\n",
       "    }\n",
       "\n",
       "    .dataframe tbody tr th {\n",
       "        vertical-align: top;\n",
       "    }\n",
       "\n",
       "    .dataframe thead th {\n",
       "        text-align: right;\n",
       "    }\n",
       "</style>\n",
       "<table border=\"1\" class=\"dataframe\">\n",
       "  <thead>\n",
       "    <tr style=\"text-align: right;\">\n",
       "      <th></th>\n",
       "      <th>id</th>\n",
       "      <th>pid</th>\n",
       "      <th>ms_subclass</th>\n",
       "      <th>ms_zoning</th>\n",
       "      <th>lot_frontage</th>\n",
       "      <th>lot_area</th>\n",
       "      <th>street</th>\n",
       "      <th>alley</th>\n",
       "      <th>lot_shape</th>\n",
       "      <th>land_contour</th>\n",
       "      <th>...</th>\n",
       "      <th>screen_porch</th>\n",
       "      <th>pool_area</th>\n",
       "      <th>pool_qc</th>\n",
       "      <th>fence</th>\n",
       "      <th>misc_feature</th>\n",
       "      <th>misc_val</th>\n",
       "      <th>mo_sold</th>\n",
       "      <th>yr_sold</th>\n",
       "      <th>sale_type</th>\n",
       "      <th>saleprice</th>\n",
       "    </tr>\n",
       "  </thead>\n",
       "  <tbody>\n",
       "    <tr>\n",
       "      <th>0</th>\n",
       "      <td>109</td>\n",
       "      <td>533352170</td>\n",
       "      <td>60</td>\n",
       "      <td>RL</td>\n",
       "      <td>0</td>\n",
       "      <td>13517</td>\n",
       "      <td>Pave</td>\n",
       "      <td>None</td>\n",
       "      <td>IR1</td>\n",
       "      <td>Lvl</td>\n",
       "      <td>...</td>\n",
       "      <td>0</td>\n",
       "      <td>0</td>\n",
       "      <td>None</td>\n",
       "      <td>None</td>\n",
       "      <td>None</td>\n",
       "      <td>0</td>\n",
       "      <td>3</td>\n",
       "      <td>2010</td>\n",
       "      <td>WD</td>\n",
       "      <td>130500</td>\n",
       "    </tr>\n",
       "    <tr>\n",
       "      <th>1</th>\n",
       "      <td>544</td>\n",
       "      <td>531379050</td>\n",
       "      <td>60</td>\n",
       "      <td>RL</td>\n",
       "      <td>43</td>\n",
       "      <td>11492</td>\n",
       "      <td>Pave</td>\n",
       "      <td>None</td>\n",
       "      <td>IR1</td>\n",
       "      <td>Lvl</td>\n",
       "      <td>...</td>\n",
       "      <td>0</td>\n",
       "      <td>0</td>\n",
       "      <td>None</td>\n",
       "      <td>None</td>\n",
       "      <td>None</td>\n",
       "      <td>0</td>\n",
       "      <td>4</td>\n",
       "      <td>2009</td>\n",
       "      <td>WD</td>\n",
       "      <td>220000</td>\n",
       "    </tr>\n",
       "    <tr>\n",
       "      <th>2</th>\n",
       "      <td>153</td>\n",
       "      <td>535304180</td>\n",
       "      <td>20</td>\n",
       "      <td>RL</td>\n",
       "      <td>68</td>\n",
       "      <td>7922</td>\n",
       "      <td>Pave</td>\n",
       "      <td>None</td>\n",
       "      <td>Reg</td>\n",
       "      <td>Lvl</td>\n",
       "      <td>...</td>\n",
       "      <td>0</td>\n",
       "      <td>0</td>\n",
       "      <td>None</td>\n",
       "      <td>None</td>\n",
       "      <td>None</td>\n",
       "      <td>0</td>\n",
       "      <td>1</td>\n",
       "      <td>2010</td>\n",
       "      <td>WD</td>\n",
       "      <td>109000</td>\n",
       "    </tr>\n",
       "    <tr>\n",
       "      <th>3</th>\n",
       "      <td>318</td>\n",
       "      <td>916386060</td>\n",
       "      <td>60</td>\n",
       "      <td>RL</td>\n",
       "      <td>73</td>\n",
       "      <td>9802</td>\n",
       "      <td>Pave</td>\n",
       "      <td>None</td>\n",
       "      <td>Reg</td>\n",
       "      <td>Lvl</td>\n",
       "      <td>...</td>\n",
       "      <td>0</td>\n",
       "      <td>0</td>\n",
       "      <td>None</td>\n",
       "      <td>None</td>\n",
       "      <td>None</td>\n",
       "      <td>0</td>\n",
       "      <td>4</td>\n",
       "      <td>2010</td>\n",
       "      <td>WD</td>\n",
       "      <td>174000</td>\n",
       "    </tr>\n",
       "    <tr>\n",
       "      <th>4</th>\n",
       "      <td>255</td>\n",
       "      <td>906425045</td>\n",
       "      <td>50</td>\n",
       "      <td>RL</td>\n",
       "      <td>82</td>\n",
       "      <td>14235</td>\n",
       "      <td>Pave</td>\n",
       "      <td>None</td>\n",
       "      <td>IR1</td>\n",
       "      <td>Lvl</td>\n",
       "      <td>...</td>\n",
       "      <td>0</td>\n",
       "      <td>0</td>\n",
       "      <td>None</td>\n",
       "      <td>None</td>\n",
       "      <td>None</td>\n",
       "      <td>0</td>\n",
       "      <td>3</td>\n",
       "      <td>2010</td>\n",
       "      <td>WD</td>\n",
       "      <td>138500</td>\n",
       "    </tr>\n",
       "  </tbody>\n",
       "</table>\n",
       "<p>5 rows × 81 columns</p>\n",
       "</div>"
      ],
      "text/plain": [
       "    id        pid  ms_subclass ms_zoning  lot_frontage  lot_area street alley  \\\n",
       "0  109  533352170           60        RL             0     13517   Pave  None   \n",
       "1  544  531379050           60        RL            43     11492   Pave  None   \n",
       "2  153  535304180           20        RL            68      7922   Pave  None   \n",
       "3  318  916386060           60        RL            73      9802   Pave  None   \n",
       "4  255  906425045           50        RL            82     14235   Pave  None   \n",
       "\n",
       "  lot_shape land_contour  ... screen_porch pool_area pool_qc fence  \\\n",
       "0       IR1          Lvl  ...            0         0    None  None   \n",
       "1       IR1          Lvl  ...            0         0    None  None   \n",
       "2       Reg          Lvl  ...            0         0    None  None   \n",
       "3       Reg          Lvl  ...            0         0    None  None   \n",
       "4       IR1          Lvl  ...            0         0    None  None   \n",
       "\n",
       "  misc_feature misc_val mo_sold yr_sold  sale_type  saleprice  \n",
       "0         None        0       3    2010        WD      130500  \n",
       "1         None        0       4    2009        WD      220000  \n",
       "2         None        0       1    2010        WD      109000  \n",
       "3         None        0       4    2010        WD      174000  \n",
       "4         None        0       3    2010        WD      138500  \n",
       "\n",
       "[5 rows x 81 columns]"
      ]
     },
     "execution_count": 2,
     "metadata": {},
     "output_type": "execute_result"
    }
   ],
   "source": [
    "#load dataset\n",
    "ames_df = pd.read_csv('../data/ames_df_train.csv')\n",
    "ames_df.head()"
   ]
  },
  {
   "cell_type": "code",
   "execution_count": 3,
   "id": "a146ced3",
   "metadata": {},
   "outputs": [
    {
     "name": "stdout",
     "output_type": "stream",
     "text": [
      "<class 'pandas.core.frame.DataFrame'>\n",
      "RangeIndex: 2051 entries, 0 to 2050\n",
      "Data columns (total 81 columns):\n",
      " #   Column           Non-Null Count  Dtype  \n",
      "---  ------           --------------  -----  \n",
      " 0   id               2051 non-null   int64  \n",
      " 1   pid              2051 non-null   int64  \n",
      " 2   ms_subclass      2051 non-null   int64  \n",
      " 3   ms_zoning        2051 non-null   object \n",
      " 4   lot_frontage     2051 non-null   int64  \n",
      " 5   lot_area         2051 non-null   int64  \n",
      " 6   street           2051 non-null   object \n",
      " 7   alley            2051 non-null   object \n",
      " 8   lot_shape        2051 non-null   object \n",
      " 9   land_contour     2051 non-null   object \n",
      " 10  utilities        2051 non-null   object \n",
      " 11  lot_config       2051 non-null   object \n",
      " 12  land_slope       2051 non-null   object \n",
      " 13  neighborhood     2051 non-null   object \n",
      " 14  condition_1      2051 non-null   object \n",
      " 15  condition_2      2051 non-null   object \n",
      " 16  bldg_type        2051 non-null   object \n",
      " 17  house_style      2051 non-null   object \n",
      " 18  overall_qual     2051 non-null   int64  \n",
      " 19  overall_cond     2051 non-null   int64  \n",
      " 20  year_built       2051 non-null   int64  \n",
      " 21  year_remod/add   2051 non-null   int64  \n",
      " 22  roof_style       2051 non-null   object \n",
      " 23  roof_matl        2051 non-null   object \n",
      " 24  exterior_1st     2051 non-null   object \n",
      " 25  exterior_2nd     2051 non-null   object \n",
      " 26  mas_vnr_type     2051 non-null   object \n",
      " 27  mas_vnr_area     2051 non-null   float64\n",
      " 28  exter_qual       2051 non-null   object \n",
      " 29  exter_cond       2051 non-null   object \n",
      " 30  foundation       2051 non-null   object \n",
      " 31  bsmt_qual        2051 non-null   object \n",
      " 32  bsmt_cond        2051 non-null   object \n",
      " 33  bsmt_exposure    2051 non-null   object \n",
      " 34  bsmtfin_type_1   2051 non-null   object \n",
      " 35  bsmtfin_sf_1     2051 non-null   float64\n",
      " 36  bsmtfin_type_2   2051 non-null   object \n",
      " 37  bsmtfin_sf_2     2051 non-null   float64\n",
      " 38  bsmt_unf_sf      2051 non-null   float64\n",
      " 39  total_bsmt_sf    2051 non-null   float64\n",
      " 40  heating          2051 non-null   object \n",
      " 41  heating_qc       2051 non-null   object \n",
      " 42  central_air      2051 non-null   object \n",
      " 43  electrical       2051 non-null   object \n",
      " 44  1st_flr_sf       2051 non-null   int64  \n",
      " 45  2nd_flr_sf       2051 non-null   int64  \n",
      " 46  low_qual_fin_sf  2051 non-null   int64  \n",
      " 47  gr_liv_area      2051 non-null   int64  \n",
      " 48  bsmt_full_bath   2051 non-null   float64\n",
      " 49  bsmt_half_bath   2051 non-null   float64\n",
      " 50  full_bath        2051 non-null   int64  \n",
      " 51  half_bath        2051 non-null   int64  \n",
      " 52  bedroom_abvgr    2051 non-null   int64  \n",
      " 53  kitchen_abvgr    2051 non-null   int64  \n",
      " 54  kitchen_qual     2051 non-null   object \n",
      " 55  totrms_abvgrd    2051 non-null   int64  \n",
      " 56  functional       2051 non-null   object \n",
      " 57  fireplaces       2051 non-null   int64  \n",
      " 58  fireplace_qu     2051 non-null   object \n",
      " 59  garage_type      2051 non-null   object \n",
      " 60  garage_yr_blt    2051 non-null   int64  \n",
      " 61  garage_finish    2051 non-null   object \n",
      " 62  garage_cars      2051 non-null   int64  \n",
      " 63  garage_area      2051 non-null   int64  \n",
      " 64  garage_qual      2051 non-null   object \n",
      " 65  garage_cond      2051 non-null   object \n",
      " 66  paved_drive      2051 non-null   object \n",
      " 67  wood_deck_sf     2051 non-null   int64  \n",
      " 68  open_porch_sf    2051 non-null   int64  \n",
      " 69  enclosed_porch   2051 non-null   int64  \n",
      " 70  3ssn_porch       2051 non-null   int64  \n",
      " 71  screen_porch     2051 non-null   int64  \n",
      " 72  pool_area        2051 non-null   int64  \n",
      " 73  pool_qc          2051 non-null   object \n",
      " 74  fence            2051 non-null   object \n",
      " 75  misc_feature     2051 non-null   object \n",
      " 76  misc_val         2051 non-null   int64  \n",
      " 77  mo_sold          2051 non-null   int64  \n",
      " 78  yr_sold          2051 non-null   int64  \n",
      " 79  sale_type        2051 non-null   object \n",
      " 80  saleprice        2051 non-null   int64  \n",
      "dtypes: float64(7), int64(32), object(42)\n",
      "memory usage: 1.3+ MB\n"
     ]
    }
   ],
   "source": [
    "ames_df.info()"
   ]
  },
  {
   "cell_type": "markdown",
   "id": "57c3ee30",
   "metadata": {},
   "source": [
    "## Dropping unwanted columns and rows"
   ]
  },
  {
   "cell_type": "markdown",
   "id": "bc242aaf",
   "metadata": {},
   "source": [
    "### Residential Zoning"
   ]
  },
  {
   "cell_type": "code",
   "execution_count": 4,
   "id": "fc4f5910",
   "metadata": {},
   "outputs": [
    {
     "data": {
      "text/plain": [
       "(2051, 81)"
      ]
     },
     "execution_count": 4,
     "metadata": {},
     "output_type": "execute_result"
    }
   ],
   "source": [
    "ames_df.shape"
   ]
  },
  {
   "cell_type": "code",
   "execution_count": 5,
   "id": "b8dfa102",
   "metadata": {},
   "outputs": [],
   "source": [
    "#drop categories A (agr), C (all) and I (all)\n",
    "ames_df.drop(ames_df[ames_df['ms_zoning'] == 'A (agr)'].index, inplace = True)\n",
    "ames_df.drop(ames_df[ames_df['ms_zoning'] == 'C (all)'].index, inplace = True)\n",
    "ames_df.drop(ames_df[ames_df['ms_zoning'] == 'I (all)'].index, inplace = True)"
   ]
  },
  {
   "cell_type": "code",
   "execution_count": 6,
   "id": "80fe3a75",
   "metadata": {},
   "outputs": [
    {
     "data": {
      "text/plain": [
       "(2029, 81)"
      ]
     },
     "execution_count": 6,
     "metadata": {},
     "output_type": "execute_result"
    }
   ],
   "source": [
    "ames_df.shape"
   ]
  },
  {
   "cell_type": "markdown",
   "id": "d9286bc5",
   "metadata": {},
   "source": [
    "Rows with entries from categories A (Agriculture), C (Commericial) and I (Industrial) are dropped as the analysis concentrates on the zoning for residential properties. Since the entries from these three categories attributed to 22 entries, they will not have a significant impact on the size of data samples."
   ]
  },
  {
   "cell_type": "markdown",
   "id": "e843cf9f",
   "metadata": {},
   "source": [
    "### Basement Area"
   ]
  },
  {
   "cell_type": "code",
   "execution_count": 7,
   "id": "a4fdf996",
   "metadata": {},
   "outputs": [
    {
     "data": {
      "text/html": [
       "<div>\n",
       "<style scoped>\n",
       "    .dataframe tbody tr th:only-of-type {\n",
       "        vertical-align: middle;\n",
       "    }\n",
       "\n",
       "    .dataframe tbody tr th {\n",
       "        vertical-align: top;\n",
       "    }\n",
       "\n",
       "    .dataframe thead th {\n",
       "        text-align: right;\n",
       "    }\n",
       "</style>\n",
       "<table border=\"1\" class=\"dataframe\">\n",
       "  <thead>\n",
       "    <tr style=\"text-align: right;\">\n",
       "      <th></th>\n",
       "      <th>bsmtfin_sf_1</th>\n",
       "      <th>bsmtfin_sf_2</th>\n",
       "      <th>bsmt_unf_sf</th>\n",
       "      <th>total_bsmt_sf</th>\n",
       "    </tr>\n",
       "  </thead>\n",
       "  <tbody>\n",
       "    <tr>\n",
       "      <th>0</th>\n",
       "      <td>533.0</td>\n",
       "      <td>0.0</td>\n",
       "      <td>192.0</td>\n",
       "      <td>725.0</td>\n",
       "    </tr>\n",
       "    <tr>\n",
       "      <th>1</th>\n",
       "      <td>637.0</td>\n",
       "      <td>0.0</td>\n",
       "      <td>276.0</td>\n",
       "      <td>913.0</td>\n",
       "    </tr>\n",
       "    <tr>\n",
       "      <th>2</th>\n",
       "      <td>731.0</td>\n",
       "      <td>0.0</td>\n",
       "      <td>326.0</td>\n",
       "      <td>1057.0</td>\n",
       "    </tr>\n",
       "    <tr>\n",
       "      <th>3</th>\n",
       "      <td>0.0</td>\n",
       "      <td>0.0</td>\n",
       "      <td>384.0</td>\n",
       "      <td>384.0</td>\n",
       "    </tr>\n",
       "    <tr>\n",
       "      <th>4</th>\n",
       "      <td>0.0</td>\n",
       "      <td>0.0</td>\n",
       "      <td>676.0</td>\n",
       "      <td>676.0</td>\n",
       "    </tr>\n",
       "    <tr>\n",
       "      <th>5</th>\n",
       "      <td>247.0</td>\n",
       "      <td>713.0</td>\n",
       "      <td>557.0</td>\n",
       "      <td>1517.0</td>\n",
       "    </tr>\n",
       "    <tr>\n",
       "      <th>6</th>\n",
       "      <td>547.0</td>\n",
       "      <td>0.0</td>\n",
       "      <td>0.0</td>\n",
       "      <td>547.0</td>\n",
       "    </tr>\n",
       "    <tr>\n",
       "      <th>7</th>\n",
       "      <td>1000.0</td>\n",
       "      <td>0.0</td>\n",
       "      <td>188.0</td>\n",
       "      <td>1188.0</td>\n",
       "    </tr>\n",
       "    <tr>\n",
       "      <th>8</th>\n",
       "      <td>292.0</td>\n",
       "      <td>0.0</td>\n",
       "      <td>632.0</td>\n",
       "      <td>924.0</td>\n",
       "    </tr>\n",
       "    <tr>\n",
       "      <th>9</th>\n",
       "      <td>650.0</td>\n",
       "      <td>0.0</td>\n",
       "      <td>390.0</td>\n",
       "      <td>1040.0</td>\n",
       "    </tr>\n",
       "  </tbody>\n",
       "</table>\n",
       "</div>"
      ],
      "text/plain": [
       "   bsmtfin_sf_1  bsmtfin_sf_2  bsmt_unf_sf  total_bsmt_sf\n",
       "0         533.0           0.0        192.0          725.0\n",
       "1         637.0           0.0        276.0          913.0\n",
       "2         731.0           0.0        326.0         1057.0\n",
       "3           0.0           0.0        384.0          384.0\n",
       "4           0.0           0.0        676.0          676.0\n",
       "5         247.0         713.0        557.0         1517.0\n",
       "6         547.0           0.0          0.0          547.0\n",
       "7        1000.0           0.0        188.0         1188.0\n",
       "8         292.0           0.0        632.0          924.0\n",
       "9         650.0           0.0        390.0         1040.0"
      ]
     },
     "execution_count": 7,
     "metadata": {},
     "output_type": "execute_result"
    }
   ],
   "source": [
    "ames_df[['bsmtfin_sf_1','bsmtfin_sf_2','bsmt_unf_sf','total_bsmt_sf']].head(10)"
   ]
  },
  {
   "cell_type": "markdown",
   "id": "a7203d98",
   "metadata": {},
   "source": [
    "The sum of 'bsmtfin_sf_1','bsmtfin_sf_2' & 'bsmt_unf_sf' equals to 'total_bsmt_sf', therefore it would be better to drop these three columns and keep 'total_bsmt_sf'."
   ]
  },
  {
   "cell_type": "code",
   "execution_count": 8,
   "id": "1be4bdac",
   "metadata": {},
   "outputs": [],
   "source": [
    "#drop 'bsmtfin_sf_1','bsmtfin_sf_2','bsmt_unf_sf'\n",
    "ames_df.drop(columns=['bsmtfin_sf_1','bsmtfin_sf_2','bsmt_unf_sf'], inplace=True)"
   ]
  },
  {
   "cell_type": "code",
   "execution_count": 9,
   "id": "937f6dcc",
   "metadata": {},
   "outputs": [
    {
     "data": {
      "text/plain": [
       "(2029, 78)"
      ]
     },
     "execution_count": 9,
     "metadata": {},
     "output_type": "execute_result"
    }
   ],
   "source": [
    "ames_df.shape"
   ]
  },
  {
   "cell_type": "markdown",
   "id": "a3cb18b8",
   "metadata": {},
   "source": [
    "### Garage Year"
   ]
  },
  {
   "cell_type": "code",
   "execution_count": 10,
   "id": "831b2daf",
   "metadata": {},
   "outputs": [
    {
     "data": {
      "text/html": [
       "<div>\n",
       "<style scoped>\n",
       "    .dataframe tbody tr th:only-of-type {\n",
       "        vertical-align: middle;\n",
       "    }\n",
       "\n",
       "    .dataframe tbody tr th {\n",
       "        vertical-align: top;\n",
       "    }\n",
       "\n",
       "    .dataframe thead th {\n",
       "        text-align: right;\n",
       "    }\n",
       "</style>\n",
       "<table border=\"1\" class=\"dataframe\">\n",
       "  <thead>\n",
       "    <tr style=\"text-align: right;\">\n",
       "      <th></th>\n",
       "      <th>garage_yr_blt</th>\n",
       "      <th>year_built</th>\n",
       "    </tr>\n",
       "  </thead>\n",
       "  <tbody>\n",
       "    <tr>\n",
       "      <th>0</th>\n",
       "      <td>1976</td>\n",
       "      <td>1976</td>\n",
       "    </tr>\n",
       "    <tr>\n",
       "      <th>1</th>\n",
       "      <td>1997</td>\n",
       "      <td>1996</td>\n",
       "    </tr>\n",
       "    <tr>\n",
       "      <th>2</th>\n",
       "      <td>1953</td>\n",
       "      <td>1953</td>\n",
       "    </tr>\n",
       "    <tr>\n",
       "      <th>3</th>\n",
       "      <td>2007</td>\n",
       "      <td>2006</td>\n",
       "    </tr>\n",
       "    <tr>\n",
       "      <th>4</th>\n",
       "      <td>1957</td>\n",
       "      <td>1900</td>\n",
       "    </tr>\n",
       "    <tr>\n",
       "      <th>5</th>\n",
       "      <td>1966</td>\n",
       "      <td>1966</td>\n",
       "    </tr>\n",
       "    <tr>\n",
       "      <th>6</th>\n",
       "      <td>2005</td>\n",
       "      <td>2005</td>\n",
       "    </tr>\n",
       "    <tr>\n",
       "      <th>7</th>\n",
       "      <td>1959</td>\n",
       "      <td>1959</td>\n",
       "    </tr>\n",
       "    <tr>\n",
       "      <th>8</th>\n",
       "      <td>1952</td>\n",
       "      <td>1952</td>\n",
       "    </tr>\n",
       "    <tr>\n",
       "      <th>9</th>\n",
       "      <td>1969</td>\n",
       "      <td>1969</td>\n",
       "    </tr>\n",
       "  </tbody>\n",
       "</table>\n",
       "</div>"
      ],
      "text/plain": [
       "   garage_yr_blt  year_built\n",
       "0           1976        1976\n",
       "1           1997        1996\n",
       "2           1953        1953\n",
       "3           2007        2006\n",
       "4           1957        1900\n",
       "5           1966        1966\n",
       "6           2005        2005\n",
       "7           1959        1959\n",
       "8           1952        1952\n",
       "9           1969        1969"
      ]
     },
     "execution_count": 10,
     "metadata": {},
     "output_type": "execute_result"
    }
   ],
   "source": [
    "ames_df[['garage_yr_blt','year_built']].head(10)"
   ]
  },
  {
   "cell_type": "markdown",
   "id": "6d5fdbe0",
   "metadata": {},
   "source": [
    "The columns 'garage_yr_blt' and 'year_built' are very similar, therefore it would be better to drop 'garage_year_blt'."
   ]
  },
  {
   "cell_type": "code",
   "execution_count": 11,
   "id": "82538fcd",
   "metadata": {},
   "outputs": [],
   "source": [
    "#drop 'garage_yr_blt' \n",
    "ames_df.drop(columns=['garage_yr_blt'], inplace=True)"
   ]
  },
  {
   "cell_type": "code",
   "execution_count": 12,
   "id": "4e57892a",
   "metadata": {},
   "outputs": [
    {
     "data": {
      "text/plain": [
       "(2029, 77)"
      ]
     },
     "execution_count": 12,
     "metadata": {},
     "output_type": "execute_result"
    }
   ],
   "source": [
    "ames_df.shape"
   ]
  },
  {
   "cell_type": "markdown",
   "id": "1e81e775",
   "metadata": {},
   "source": [
    "### Above Ground Living Area"
   ]
  },
  {
   "cell_type": "code",
   "execution_count": 13,
   "id": "a65f094a",
   "metadata": {},
   "outputs": [
    {
     "data": {
      "text/html": [
       "<div>\n",
       "<style scoped>\n",
       "    .dataframe tbody tr th:only-of-type {\n",
       "        vertical-align: middle;\n",
       "    }\n",
       "\n",
       "    .dataframe tbody tr th {\n",
       "        vertical-align: top;\n",
       "    }\n",
       "\n",
       "    .dataframe thead th {\n",
       "        text-align: right;\n",
       "    }\n",
       "</style>\n",
       "<table border=\"1\" class=\"dataframe\">\n",
       "  <thead>\n",
       "    <tr style=\"text-align: right;\">\n",
       "      <th></th>\n",
       "      <th>1st_flr_sf</th>\n",
       "      <th>2nd_flr_sf</th>\n",
       "      <th>low_qual_fin_sf</th>\n",
       "      <th>gr_liv_area</th>\n",
       "    </tr>\n",
       "  </thead>\n",
       "  <tbody>\n",
       "    <tr>\n",
       "      <th>249</th>\n",
       "      <td>640</td>\n",
       "      <td>0</td>\n",
       "      <td>205</td>\n",
       "      <td>845</td>\n",
       "    </tr>\n",
       "    <tr>\n",
       "      <th>269</th>\n",
       "      <td>520</td>\n",
       "      <td>600</td>\n",
       "      <td>80</td>\n",
       "      <td>1200</td>\n",
       "    </tr>\n",
       "    <tr>\n",
       "      <th>320</th>\n",
       "      <td>854</td>\n",
       "      <td>0</td>\n",
       "      <td>528</td>\n",
       "      <td>1382</td>\n",
       "    </tr>\n",
       "    <tr>\n",
       "      <th>382</th>\n",
       "      <td>929</td>\n",
       "      <td>929</td>\n",
       "      <td>371</td>\n",
       "      <td>2229</td>\n",
       "    </tr>\n",
       "    <tr>\n",
       "      <th>497</th>\n",
       "      <td>1166</td>\n",
       "      <td>0</td>\n",
       "      <td>473</td>\n",
       "      <td>1639</td>\n",
       "    </tr>\n",
       "  </tbody>\n",
       "</table>\n",
       "</div>"
      ],
      "text/plain": [
       "     1st_flr_sf  2nd_flr_sf  low_qual_fin_sf  gr_liv_area\n",
       "249         640           0              205          845\n",
       "269         520         600               80         1200\n",
       "320         854           0              528         1382\n",
       "382         929         929              371         2229\n",
       "497        1166           0              473         1639"
      ]
     },
     "execution_count": 13,
     "metadata": {},
     "output_type": "execute_result"
    }
   ],
   "source": [
    "#show columns for '1st_flr_sf','2nd_flr_sf','low_qual_fin_sf','gr_liv_area' in rows where 'low_qual_fin_sf' != 0 \n",
    "ames_df.loc[ames_df['low_qual_fin_sf']!= 0,['1st_flr_sf','2nd_flr_sf','low_qual_fin_sf','gr_liv_area']].head()"
   ]
  },
  {
   "cell_type": "markdown",
   "id": "f0b2c48d",
   "metadata": {},
   "source": [
    "Since 'gr_liv_area' is the sum of '1st_flr_sf','2nd_flr_sf' & 'low_qual_fin_sf', we can drop the 3 columns and keep 'gr_liv_area'."
   ]
  },
  {
   "cell_type": "code",
   "execution_count": 14,
   "id": "8f45dbc0",
   "metadata": {},
   "outputs": [],
   "source": [
    "#drop '1st_flr_sf','2nd_flr_sf' & 'low_qual_fin_sf' columns\n",
    "ames_df.drop(columns=['1st_flr_sf','2nd_flr_sf','low_qual_fin_sf'], inplace=True)"
   ]
  },
  {
   "cell_type": "code",
   "execution_count": 15,
   "id": "e85672a9",
   "metadata": {},
   "outputs": [
    {
     "data": {
      "text/plain": [
       "(2029, 74)"
      ]
     },
     "execution_count": 15,
     "metadata": {},
     "output_type": "execute_result"
    }
   ],
   "source": [
    "ames_df.shape"
   ]
  },
  {
   "cell_type": "markdown",
   "id": "efb871c8",
   "metadata": {},
   "source": [
    "### ID & PID  "
   ]
  },
  {
   "cell_type": "markdown",
   "id": "7130b3b0",
   "metadata": {},
   "source": [
    "'ID' & 'PID' columns are dropped as they are identification numbers and are not likely to affect the sale price."
   ]
  },
  {
   "cell_type": "code",
   "execution_count": 16,
   "id": "1d4f996c",
   "metadata": {},
   "outputs": [],
   "source": [
    "#drop 'id' & 'pid' columns\n",
    "ames_df.drop(columns=['id','pid'], inplace=True)"
   ]
  },
  {
   "cell_type": "code",
   "execution_count": 17,
   "id": "fa85fb8a",
   "metadata": {},
   "outputs": [
    {
     "data": {
      "text/plain": [
       "(2029, 72)"
      ]
     },
     "execution_count": 17,
     "metadata": {},
     "output_type": "execute_result"
    }
   ],
   "source": [
    "ames_df.shape"
   ]
  },
  {
   "cell_type": "markdown",
   "id": "da856aeb",
   "metadata": {},
   "source": [
    "### Sale Price"
   ]
  },
  {
   "cell_type": "code",
   "execution_count": 18,
   "id": "bc6f7355",
   "metadata": {},
   "outputs": [
    {
     "data": {
      "image/png": "[encoded data removed]",
      "text/plain": [
       "<Figure size 576x576 with 1 Axes>"
      ]
     },
     "metadata": {
      "image/png": {
       "height": 546,
       "width": 522
      },
      "needs_background": "light"
     },
     "output_type": "display_data"
    }
   ],
   "source": [
    "#assign variable name for plot\n",
    "saleprice_hist = ames_df['saleprice'].hist(figsize = (8,8), bins=30, grid=False, color = '#86bf91', rwidth = 0.9)\n",
    "\n",
    "#set title and x,y labels\n",
    "plt.title(\"Distribution of Sale Price\", pad=30, weight='bold', size=20)\n",
    "plt.xlabel('Sale Price of Property', labelpad=20, size=16)\n",
    "plt.ylabel('No. of Properties Sold', labelpad=20, size=16)\n",
    "\n",
    "#despine top and right\n",
    "saleprice_hist.spines['right'].set_visible(False)\n",
    "saleprice_hist.spines['top'].set_visible(False)"
   ]
  },
  {
   "cell_type": "code",
   "execution_count": 19,
   "id": "78252cd3",
   "metadata": {},
   "outputs": [
    {
     "data": {
      "text/plain": [
       "count      2029.000000\n",
       "mean     182631.801873\n",
       "std       78819.047770\n",
       "min       12789.000000\n",
       "25%      130000.000000\n",
       "50%      163500.000000\n",
       "75%      214900.000000\n",
       "max      611657.000000\n",
       "Name: saleprice, dtype: float64"
      ]
     },
     "execution_count": 19,
     "metadata": {},
     "output_type": "execute_result"
    }
   ],
   "source": [
    "ames_df['saleprice'].describe()"
   ]
  },
  {
   "cell_type": "code",
   "execution_count": 20,
   "id": "a3cfe450",
   "metadata": {},
   "outputs": [
    {
     "data": {
      "image/png": "[encoded data removed]",
      "text/plain": [
       "<Figure size 576x576 with 1 Axes>"
      ]
     },
     "metadata": {
      "image/png": {
       "height": 511,
       "width": 541
      },
      "needs_background": "light"
     },
     "output_type": "display_data"
    }
   ],
   "source": [
    "#boxplot for 'saleprice'\n",
    "saleprice_boxplot = ames_df.boxplot(column=['saleprice'], figsize = (8,8))\n",
    "\n",
    "#set title and y labels\n",
    "plt.title(\"Boxplot of Property Sale Price\", pad=30, weight='bold', size=20)\n",
    "plt.ylabel('Sale Price', labelpad=20, size=16)\n",
    "\n",
    "#despine\n",
    "saleprice_boxplot.spines['right'].set_visible(False)\n",
    "saleprice_boxplot.spines['top'].set_visible(False)\n",
    "saleprice_boxplot.spines['bottom'].set_visible(False)\n",
    "saleprice_boxplot.spines['left'].set_visible(False)"
   ]
  },
  {
   "cell_type": "markdown",
   "id": "7da974a6",
   "metadata": {},
   "source": [
    "From the boxplot, there are a good number of outliers. They represent properties that have a sale price of more than 350,000. \n",
    "To make the distribution less skewed, it will be better to remove the entries that deviate by more than 3 standard deviation from the mean. \n",
    "\n",
    "From the statisical summary, the mean is 182,632 and the standard deviation is 78,819."
   ]
  },
  {
   "cell_type": "code",
   "execution_count": 21,
   "id": "d912dc85",
   "metadata": {},
   "outputs": [
    {
     "name": "stdout",
     "output_type": "stream",
     "text": [
      "-53825 419089\n"
     ]
    }
   ],
   "source": [
    "# upper and lower limits for 'saleprice'\n",
    "lowerLimit = 182632 - (3*78819)\n",
    "upperLimit = 182632 + (3*78819)\n",
    "print(lowerLimit, upperLimit)"
   ]
  },
  {
   "cell_type": "markdown",
   "id": "a0e83ede",
   "metadata": {},
   "source": [
    "Since the lower limit is negative, we will exclude entries with a sale price of more than 419,088."
   ]
  },
  {
   "cell_type": "code",
   "execution_count": 22,
   "id": "e5bfefe4",
   "metadata": {},
   "outputs": [
    {
     "data": {
      "text/plain": [
       "(2029, 72)"
      ]
     },
     "execution_count": 22,
     "metadata": {},
     "output_type": "execute_result"
    }
   ],
   "source": [
    "ames_df.shape"
   ]
  },
  {
   "cell_type": "code",
   "execution_count": 23,
   "id": "ec001e66",
   "metadata": {},
   "outputs": [],
   "source": [
    "# drop entries with 'saleprice' > 419,088\n",
    "ames_df.drop(ames_df[ames_df['saleprice'] > 419088].index, inplace = True)"
   ]
  },
  {
   "cell_type": "code",
   "execution_count": 24,
   "id": "2cbda2e3",
   "metadata": {},
   "outputs": [
    {
     "data": {
      "text/plain": [
       "(1996, 72)"
      ]
     },
     "execution_count": 24,
     "metadata": {},
     "output_type": "execute_result"
    }
   ],
   "source": [
    "ames_df.shape"
   ]
  },
  {
   "cell_type": "code",
   "execution_count": 25,
   "id": "3fe9d2d8",
   "metadata": {},
   "outputs": [
    {
     "data": {
      "image/png": "[encoded data removed]",
      "text/plain": [
       "<Figure size 576x576 with 1 Axes>"
      ]
     },
     "metadata": {
      "image/png": {
       "height": 546,
       "width": 522
      },
      "needs_background": "light"
     },
     "output_type": "display_data"
    }
   ],
   "source": [
    "# assign variable name for plot\n",
    "saleprice_hist = ames_df['saleprice'].hist(figsize = (8,8), bins=30, grid=False, color = '#86bf91', rwidth = 0.9)\n",
    "\n",
    "# set title and x,y labels\n",
    "plt.title(\"Distribution of Sale Price\", pad=30, weight='bold', size=20)\n",
    "plt.xlabel('Sale Price of Property', labelpad=20, size=16)\n",
    "plt.ylabel('No. of Properties Sold', labelpad=20, size=16)\n",
    "\n",
    "# despine top and right\n",
    "saleprice_hist.spines['right'].set_visible(False)\n",
    "saleprice_hist.spines['top'].set_visible(False)"
   ]
  },
  {
   "cell_type": "code",
   "execution_count": 26,
   "id": "8654a12f",
   "metadata": {},
   "outputs": [
    {
     "data": {
      "image/png": "[encoded data removed]",
      "text/plain": [
       "<Figure size 576x576 with 1 Axes>"
      ]
     },
     "metadata": {
      "image/png": {
       "height": 511,
       "width": 541
      },
      "needs_background": "light"
     },
     "output_type": "display_data"
    }
   ],
   "source": [
    "#boxplot for 'saleprice'\n",
    "saleprice_boxplot = ames_df.boxplot(column=['saleprice'], figsize = (8,8))\n",
    "\n",
    "\n",
    "#set title and y labels\n",
    "plt.title(\"Boxplot of Property Sale Price\", pad=30, weight='bold', size=20)\n",
    "plt.ylabel('Sale Price', labelpad=20, size=16)\n",
    "\n",
    "#despine\n",
    "saleprice_boxplot.spines['right'].set_visible(False)\n",
    "saleprice_boxplot.spines['top'].set_visible(False)\n",
    "saleprice_boxplot.spines['bottom'].set_visible(False)\n",
    "saleprice_boxplot.spines['left'].set_visible(False)"
   ]
  },
  {
   "cell_type": "code",
   "execution_count": 27,
   "id": "0eb3f63d",
   "metadata": {},
   "outputs": [
    {
     "data": {
      "text/plain": [
       "(1996, 72)"
      ]
     },
     "execution_count": 27,
     "metadata": {},
     "output_type": "execute_result"
    }
   ],
   "source": [
    "ames_df.shape"
   ]
  },
  {
   "cell_type": "code",
   "execution_count": 28,
   "id": "e0d28a17",
   "metadata": {},
   "outputs": [
    {
     "name": "stdout",
     "output_type": "stream",
     "text": [
      "<class 'pandas.core.frame.DataFrame'>\n",
      "Int64Index: 1996 entries, 0 to 2050\n",
      "Data columns (total 72 columns):\n",
      " #   Column          Non-Null Count  Dtype  \n",
      "---  ------          --------------  -----  \n",
      " 0   ms_subclass     1996 non-null   int64  \n",
      " 1   ms_zoning       1996 non-null   object \n",
      " 2   lot_frontage    1996 non-null   int64  \n",
      " 3   lot_area        1996 non-null   int64  \n",
      " 4   street          1996 non-null   object \n",
      " 5   alley           1996 non-null   object \n",
      " 6   lot_shape       1996 non-null   object \n",
      " 7   land_contour    1996 non-null   object \n",
      " 8   utilities       1996 non-null   object \n",
      " 9   lot_config      1996 non-null   object \n",
      " 10  land_slope      1996 non-null   object \n",
      " 11  neighborhood    1996 non-null   object \n",
      " 12  condition_1     1996 non-null   object \n",
      " 13  condition_2     1996 non-null   object \n",
      " 14  bldg_type       1996 non-null   object \n",
      " 15  house_style     1996 non-null   object \n",
      " 16  overall_qual    1996 non-null   int64  \n",
      " 17  overall_cond    1996 non-null   int64  \n",
      " 18  year_built      1996 non-null   int64  \n",
      " 19  year_remod/add  1996 non-null   int64  \n",
      " 20  roof_style      1996 non-null   object \n",
      " 21  roof_matl       1996 non-null   object \n",
      " 22  exterior_1st    1996 non-null   object \n",
      " 23  exterior_2nd    1996 non-null   object \n",
      " 24  mas_vnr_type    1996 non-null   object \n",
      " 25  mas_vnr_area    1996 non-null   float64\n",
      " 26  exter_qual      1996 non-null   object \n",
      " 27  exter_cond      1996 non-null   object \n",
      " 28  foundation      1996 non-null   object \n",
      " 29  bsmt_qual       1996 non-null   object \n",
      " 30  bsmt_cond       1996 non-null   object \n",
      " 31  bsmt_exposure   1996 non-null   object \n",
      " 32  bsmtfin_type_1  1996 non-null   object \n",
      " 33  bsmtfin_type_2  1996 non-null   object \n",
      " 34  total_bsmt_sf   1996 non-null   float64\n",
      " 35  heating         1996 non-null   object \n",
      " 36  heating_qc      1996 non-null   object \n",
      " 37  central_air     1996 non-null   object \n",
      " 38  electrical      1996 non-null   object \n",
      " 39  gr_liv_area     1996 non-null   int64  \n",
      " 40  bsmt_full_bath  1996 non-null   float64\n",
      " 41  bsmt_half_bath  1996 non-null   float64\n",
      " 42  full_bath       1996 non-null   int64  \n",
      " 43  half_bath       1996 non-null   int64  \n",
      " 44  bedroom_abvgr   1996 non-null   int64  \n",
      " 45  kitchen_abvgr   1996 non-null   int64  \n",
      " 46  kitchen_qual    1996 non-null   object \n",
      " 47  totrms_abvgrd   1996 non-null   int64  \n",
      " 48  functional      1996 non-null   object \n",
      " 49  fireplaces      1996 non-null   int64  \n",
      " 50  fireplace_qu    1996 non-null   object \n",
      " 51  garage_type     1996 non-null   object \n",
      " 52  garage_finish   1996 non-null   object \n",
      " 53  garage_cars     1996 non-null   int64  \n",
      " 54  garage_area     1996 non-null   int64  \n",
      " 55  garage_qual     1996 non-null   object \n",
      " 56  garage_cond     1996 non-null   object \n",
      " 57  paved_drive     1996 non-null   object \n",
      " 58  wood_deck_sf    1996 non-null   int64  \n",
      " 59  open_porch_sf   1996 non-null   int64  \n",
      " 60  enclosed_porch  1996 non-null   int64  \n",
      " 61  3ssn_porch      1996 non-null   int64  \n",
      " 62  screen_porch    1996 non-null   int64  \n",
      " 63  pool_area       1996 non-null   int64  \n",
      " 64  pool_qc         1996 non-null   object \n",
      " 65  fence           1996 non-null   object \n",
      " 66  misc_feature    1996 non-null   object \n",
      " 67  misc_val        1996 non-null   int64  \n",
      " 68  mo_sold         1996 non-null   int64  \n",
      " 69  yr_sold         1996 non-null   int64  \n",
      " 70  sale_type       1996 non-null   object \n",
      " 71  saleprice       1996 non-null   int64  \n",
      "dtypes: float64(4), int64(26), object(42)\n",
      "memory usage: 1.1+ MB\n"
     ]
    }
   ],
   "source": [
    "ames_df.info()"
   ]
  },
  {
   "cell_type": "markdown",
   "id": "64d359f7",
   "metadata": {},
   "source": [
    "### Convert Categorical Variables to Numeric"
   ]
  },
  {
   "cell_type": "code",
   "execution_count": 29,
   "id": "f6aa48cd",
   "metadata": {},
   "outputs": [],
   "source": [
    "#convert nominal variables to numeric using get_dummies\n",
    "ames_df = pd.get_dummies(columns=\n",
    "                    ['ms_subclass', 'ms_zoning','street', 'alley', 'land_contour', 'lot_config',\n",
    "                     'neighborhood', 'condition_1', 'condition_2', 'bldg_type', 'house_style',\n",
    "                     'roof_style', 'roof_matl', 'exterior_1st', 'exterior_2nd','mas_vnr_type','foundation',\n",
    "                     'heating', 'central_air', 'garage_type', 'misc_feature', 'sale_type'], data=ames_df)"
   ]
  },
  {
   "cell_type": "code",
   "execution_count": 30,
   "id": "93cc4840",
   "metadata": {},
   "outputs": [],
   "source": [
    "#replace str with numeric values for 'bsmt_qual', 'bsmt_cond', 'bsmt_exposure', 'bsmtfin_type_1', 'bsmtfin_type_2', \n",
    "#'fireplace_qu', 'garage_finish', 'garage_qual', 'garage_cond', 'pool_qc', 'fence'\n",
    "\n",
    "ames_df.bsmtfin_type_1 = ames_df.bsmtfin_type_1.map({'None': 0, 'Unf': 1, 'LwQ': 2, 'Rec': 3, 'BLQ': 4, 'ALQ': 5, 'GLQ': 6})\n",
    "\n",
    "ames_df.bsmtfin_type_2 = ames_df.bsmtfin_type_2.map({'None': 0, 'Unf': 1, 'LwQ': 2, 'Rec': 3, 'BLQ': 4, 'ALQ': 5, 'GLQ': 6})\n",
    "\n",
    "ames_df.bsmt_qual = ames_df.bsmt_qual.map({'None': 0, 'Po': 1, 'Fa': 2, 'TA': 3, 'Gd': 4, 'Ex': 5})\n",
    "\n",
    "ames_df.bsmt_cond = ames_df.bsmt_cond.map({'None': 0, 'Po': 1, 'Fa': 2, 'TA': 3, 'Gd': 4, 'Ex': 5})\n",
    "\n",
    "ames_df.bsmt_exposure = ames_df.bsmt_exposure.map({'None': 0, 'No': 1, 'Mn': 2, 'Av': 3, 'Gd': 4})\n",
    "\n",
    "ames_df.fireplace_qu = ames_df.fireplace_qu.map({'None': 0, 'Po': 1, 'Fa': 2, 'TA': 3, 'Gd': 4, 'Ex': 5})\n",
    "\n",
    "ames_df.garage_finish = ames_df.garage_finish.map({'None': 0, 'Unf': 1, 'RFn': 2, 'Fin': 3})\n",
    "\n",
    "ames_df.garage_qual = ames_df.garage_qual.map({'None': 0, 'Po': 1, 'Fa': 2, 'TA': 3, 'Gd': 4, 'Ex': 5})\n",
    "\n",
    "ames_df.garage_cond = ames_df.garage_cond.map({'None': 0, 'Po': 1, 'Fa': 2, 'TA': 3, 'Gd': 4, 'Ex': 5})\n",
    "\n",
    "ames_df.pool_qc = ames_df.pool_qc.map({'None': 0, 'Fa': 1, 'TA': 2, 'Gd': 3, 'Ex': 4})\n",
    "\n",
    "ames_df.fence = ames_df.fence.map({'None': 0, 'MnWw': 1, 'GdWo': 2, 'MnPrv': 3, 'GdPrv': 4})"
   ]
  },
  {
   "cell_type": "code",
   "execution_count": 31,
   "id": "a7f52ed5",
   "metadata": {},
   "outputs": [
    {
     "name": "stdout",
     "output_type": "stream",
     "text": [
      "<class 'pandas.core.frame.DataFrame'>\n",
      "Int64Index: 1996 entries, 0 to 2050\n",
      "Columns: 223 entries, lot_frontage to sale_type_WD \n",
      "dtypes: float64(4), int64(36), object(10), uint8(173)\n",
      "memory usage: 1.1+ MB\n"
     ]
    }
   ],
   "source": [
    "ames_df.info()"
   ]
  },
  {
   "cell_type": "code",
   "execution_count": 32,
   "id": "04f67170",
   "metadata": {},
   "outputs": [],
   "source": [
    "#replace str with numeric values for 'lot_shape'\n",
    "ames_df.lot_shape = ames_df.lot_shape.map({'Reg': 1, 'IR1': 2, 'IR2': 3, 'IR3': 4})"
   ]
  },
  {
   "cell_type": "code",
   "execution_count": 33,
   "id": "c4b72e89",
   "metadata": {},
   "outputs": [
    {
     "data": {
      "text/plain": [
       "1    1262\n",
       "2     674\n",
       "3      51\n",
       "4       9\n",
       "Name: lot_shape, dtype: int64"
      ]
     },
     "execution_count": 33,
     "metadata": {},
     "output_type": "execute_result"
    }
   ],
   "source": [
    "ames_df['lot_shape'].value_counts()"
   ]
  },
  {
   "cell_type": "code",
   "execution_count": 34,
   "id": "6e529f9e",
   "metadata": {},
   "outputs": [],
   "source": [
    "#replace str with numeric values for 'utilities'\n",
    "ames_df.utilities = ames_df.utilities.map({'ELO': 1, 'NoSeWa': 2, 'NoSewr': 3, 'AllPub': 4})"
   ]
  },
  {
   "cell_type": "code",
   "execution_count": 35,
   "id": "8b01ba35",
   "metadata": {},
   "outputs": [
    {
     "data": {
      "text/plain": [
       "4    1995\n",
       "2       1\n",
       "Name: utilities, dtype: int64"
      ]
     },
     "execution_count": 35,
     "metadata": {},
     "output_type": "execute_result"
    }
   ],
   "source": [
    "ames_df['utilities'].value_counts()"
   ]
  },
  {
   "cell_type": "code",
   "execution_count": 36,
   "id": "879f1a81",
   "metadata": {},
   "outputs": [],
   "source": [
    "#replace str with numeric values for 'land_slope'\n",
    "ames_df.land_slope = ames_df.land_slope.map({'Gtl': 1, 'Mod': 2, 'Sev': 3})"
   ]
  },
  {
   "cell_type": "code",
   "execution_count": 37,
   "id": "82112931",
   "metadata": {},
   "outputs": [
    {
     "data": {
      "text/plain": [
       "1    1905\n",
       "2      81\n",
       "3      10\n",
       "Name: land_slope, dtype: int64"
      ]
     },
     "execution_count": 37,
     "metadata": {},
     "output_type": "execute_result"
    }
   ],
   "source": [
    "ames_df['land_slope'].value_counts()"
   ]
  },
  {
   "cell_type": "code",
   "execution_count": 38,
   "id": "fb9fd5f7",
   "metadata": {},
   "outputs": [],
   "source": [
    "#replace str with numeric values for 'exter_qual'\n",
    "ames_df.exter_qual = ames_df.exter_qual.map({'Po': 1, 'Fa': 2, 'TA': 3, 'Gd': 4, 'Ex': 5})"
   ]
  },
  {
   "cell_type": "code",
   "execution_count": 39,
   "id": "8ee7444c",
   "metadata": {},
   "outputs": [
    {
     "data": {
      "text/plain": [
       "3    1233\n",
       "4     686\n",
       "5      58\n",
       "2      19\n",
       "Name: exter_qual, dtype: int64"
      ]
     },
     "execution_count": 39,
     "metadata": {},
     "output_type": "execute_result"
    }
   ],
   "source": [
    "ames_df['exter_qual'].value_counts()"
   ]
  },
  {
   "cell_type": "code",
   "execution_count": 40,
   "id": "132218e6",
   "metadata": {},
   "outputs": [],
   "source": [
    "#replace str with numeric values for 'exter_cond'\n",
    "ames_df.exter_cond = ames_df.exter_cond.map({'Po': 1, 'Fa': 2, 'TA': 3, 'Gd': 4, 'Ex': 5})"
   ]
  },
  {
   "cell_type": "code",
   "execution_count": 41,
   "id": "2de1be14",
   "metadata": {},
   "outputs": [
    {
     "data": {
      "text/plain": [
       "3    1737\n",
       "4     211\n",
       "2      41\n",
       "5       6\n",
       "1       1\n",
       "Name: exter_cond, dtype: int64"
      ]
     },
     "execution_count": 41,
     "metadata": {},
     "output_type": "execute_result"
    }
   ],
   "source": [
    "ames_df['exter_cond'].value_counts()"
   ]
  },
  {
   "cell_type": "code",
   "execution_count": 42,
   "id": "c06c555b",
   "metadata": {},
   "outputs": [],
   "source": [
    "#replace str with numeric values for 'heating_qc'\n",
    "ames_df.heating_qc = ames_df.heating_qc.map({'Po': 1, 'Fa': 2, 'TA': 3, 'Gd': 4, 'Ex': 5})"
   ]
  },
  {
   "cell_type": "code",
   "execution_count": 43,
   "id": "f8d740dd",
   "metadata": {},
   "outputs": [
    {
     "data": {
      "text/plain": [
       "5    1030\n",
       "3     586\n",
       "4     315\n",
       "2      63\n",
       "1       2\n",
       "Name: heating_qc, dtype: int64"
      ]
     },
     "execution_count": 43,
     "metadata": {},
     "output_type": "execute_result"
    }
   ],
   "source": [
    "ames_df['heating_qc'].value_counts()"
   ]
  },
  {
   "cell_type": "code",
   "execution_count": 44,
   "id": "ac36807b",
   "metadata": {},
   "outputs": [
    {
     "data": {
      "text/plain": [
       "5    1823\n",
       "4     132\n",
       "3      35\n",
       "2       5\n",
       "1       1\n",
       "Name: electrical, dtype: int64"
      ]
     },
     "execution_count": 44,
     "metadata": {},
     "output_type": "execute_result"
    }
   ],
   "source": [
    "#replace str with numeric values for 'electrical'\n",
    "ames_df.electrical = ames_df.electrical.map({'Mix': 1, 'FuseP': 2, 'FuseF': 3, 'FuseA': 4, 'SBrkr': 5})\n",
    "ames_df['electrical'].value_counts()"
   ]
  },
  {
   "cell_type": "code",
   "execution_count": 45,
   "id": "295c7296",
   "metadata": {},
   "outputs": [
    {
     "data": {
      "text/plain": [
       "5    1823\n",
       "4     132\n",
       "3      35\n",
       "2       5\n",
       "1       1\n",
       "Name: electrical, dtype: int64"
      ]
     },
     "execution_count": 45,
     "metadata": {},
     "output_type": "execute_result"
    }
   ],
   "source": [
    "#replace str with numeric values for 'kitchen_qual'\n",
    "ames_df.kitchen_qual = ames_df.kitchen_qual.map({'Po': 1, 'Fa': 2, 'TA': 3, 'Gd': 4, 'Ex': 5})\n",
    "ames_df['electrical'].value_counts()"
   ]
  },
  {
   "cell_type": "code",
   "execution_count": 46,
   "id": "89e1af76",
   "metadata": {},
   "outputs": [
    {
     "data": {
      "text/plain": [
       "8    1866\n",
       "6      41\n",
       "7      41\n",
       "5      26\n",
       "4      12\n",
       "3       7\n",
       "2       2\n",
       "1       1\n",
       "Name: functional, dtype: int64"
      ]
     },
     "execution_count": 46,
     "metadata": {},
     "output_type": "execute_result"
    }
   ],
   "source": [
    "#replace str with numeric values for 'functional'\n",
    "ames_df.functional = ames_df.functional.map({'Sal': 1, 'Sev': 2, 'Maj2': 3, 'Maj1': 4, 'Mod': 5, 'Min2': 6, 'Min1': 7, 'Typ':8})\n",
    "ames_df['functional'].value_counts()"
   ]
  },
  {
   "cell_type": "code",
   "execution_count": 47,
   "id": "3466f0a8",
   "metadata": {},
   "outputs": [
    {
     "data": {
      "text/plain": [
       "3    1822\n",
       "1     135\n",
       "2      39\n",
       "Name: paved_drive, dtype: int64"
      ]
     },
     "execution_count": 47,
     "metadata": {},
     "output_type": "execute_result"
    }
   ],
   "source": [
    "#replace str with numeric values for 'paved_drive'\n",
    "ames_df.paved_drive = ames_df.paved_drive.map({'N': 1, 'P': 2, 'Y': 3})\n",
    "ames_df['paved_drive'].value_counts()"
   ]
  },
  {
   "cell_type": "code",
   "execution_count": 48,
   "id": "a5e7d0bd",
   "metadata": {},
   "outputs": [
    {
     "name": "stdout",
     "output_type": "stream",
     "text": [
      "<class 'pandas.core.frame.DataFrame'>\n",
      "Int64Index: 1996 entries, 0 to 2050\n",
      "Columns: 223 entries, lot_frontage to sale_type_WD \n",
      "dtypes: float64(4), int64(46), uint8(173)\n",
      "memory usage: 1.1 MB\n"
     ]
    }
   ],
   "source": [
    "#check for non-numeric dtypes\n",
    "ames_df.info()"
   ]
  },
  {
   "cell_type": "markdown",
   "id": "262b4ddd",
   "metadata": {},
   "source": [
    "### Feature Engineering"
   ]
  },
  {
   "cell_type": "markdown",
   "id": "f67f46ad",
   "metadata": {},
   "source": [
    "Since the age of the property is not available in the dataset, we can create a new feature called 'property_age' using feature engineering."
   ]
  },
  {
   "cell_type": "code",
   "execution_count": 49,
   "id": "c8299303",
   "metadata": {},
   "outputs": [],
   "source": [
    "#create new feature 'property_age'\n",
    "ames_df['property_age'] = ames_df['yr_sold'] - ames_df['year_built']"
   ]
  },
  {
   "cell_type": "code",
   "execution_count": 50,
   "id": "74a427b7",
   "metadata": {},
   "outputs": [
    {
     "data": {
      "text/html": [
       "<div>\n",
       "<style scoped>\n",
       "    .dataframe tbody tr th:only-of-type {\n",
       "        vertical-align: middle;\n",
       "    }\n",
       "\n",
       "    .dataframe tbody tr th {\n",
       "        vertical-align: top;\n",
       "    }\n",
       "\n",
       "    .dataframe thead th {\n",
       "        text-align: right;\n",
       "    }\n",
       "</style>\n",
       "<table border=\"1\" class=\"dataframe\">\n",
       "  <thead>\n",
       "    <tr style=\"text-align: right;\">\n",
       "      <th></th>\n",
       "      <th>property_age</th>\n",
       "      <th>yr_sold</th>\n",
       "      <th>year_built</th>\n",
       "    </tr>\n",
       "  </thead>\n",
       "  <tbody>\n",
       "    <tr>\n",
       "      <th>0</th>\n",
       "      <td>34</td>\n",
       "      <td>2010</td>\n",
       "      <td>1976</td>\n",
       "    </tr>\n",
       "    <tr>\n",
       "      <th>1</th>\n",
       "      <td>13</td>\n",
       "      <td>2009</td>\n",
       "      <td>1996</td>\n",
       "    </tr>\n",
       "    <tr>\n",
       "      <th>2</th>\n",
       "      <td>57</td>\n",
       "      <td>2010</td>\n",
       "      <td>1953</td>\n",
       "    </tr>\n",
       "    <tr>\n",
       "      <th>3</th>\n",
       "      <td>4</td>\n",
       "      <td>2010</td>\n",
       "      <td>2006</td>\n",
       "    </tr>\n",
       "    <tr>\n",
       "      <th>4</th>\n",
       "      <td>110</td>\n",
       "      <td>2010</td>\n",
       "      <td>1900</td>\n",
       "    </tr>\n",
       "  </tbody>\n",
       "</table>\n",
       "</div>"
      ],
      "text/plain": [
       "   property_age  yr_sold  year_built\n",
       "0            34     2010        1976\n",
       "1            13     2009        1996\n",
       "2            57     2010        1953\n",
       "3             4     2010        2006\n",
       "4           110     2010        1900"
      ]
     },
     "execution_count": 50,
     "metadata": {},
     "output_type": "execute_result"
    }
   ],
   "source": [
    "ames_df[['property_age','yr_sold','year_built']].head()"
   ]
  },
  {
   "cell_type": "code",
   "execution_count": 53,
   "id": "8c6ae756",
   "metadata": {},
   "outputs": [
    {
     "data": {
      "image/png": "[encoded data removed]",
      "text/plain": [
       "<Figure size 576x576 with 2 Axes>"
      ]
     },
     "metadata": {
      "image/png": {
       "height": 551,
       "width": 682
      },
      "needs_background": "light"
     },
     "output_type": "display_data"
    }
   ],
   "source": [
    "#create heatmap for 'property_age','yr_sold','year_built','saleprice'\n",
    "#create plot\n",
    "plt.figure(figsize=(8,8))\n",
    "\n",
    "#create correlation matrix \n",
    "prop_age = ames_df[['property_age','yr_sold','year_built','saleprice']]\n",
    "corrMatrix = prop_age.corr()\n",
    "\n",
    "#create triangle mask\n",
    "mask = np.zeros_like(prop_age.corr())\n",
    "mask[np.triu_indices_from(mask)] = True\n",
    "\n",
    "#plot heatmap\n",
    "ax = sns.heatmap(corrMatrix, annot=True, annot_kws={\"size\":16}, mask = mask)\n",
    "\n",
    "#set title and x,y labels\n",
    "plt.title(\"Heatmap of Property Age,Year Sold, Year Built & Sale Price\", pad=30, weight='bold', size=20)\n",
    "\n",
    "#set tick labels\n",
    "ax.set_xticklabels(ax.get_xmajorticklabels(), fontsize = 14)\n",
    "ax.set_yticklabels(ax.get_ymajorticklabels(), fontsize = 14, rotation = 0)\n",
    "\n",
    "#set labels\n",
    "plt.xlabel('Features', labelpad=20, size=16)\n",
    "plt.ylabel('Features', labelpad=20, size=16)\n",
    "\n",
    "plt.show()"
   ]
  },
  {
   "cell_type": "markdown",
   "id": "a9a17329",
   "metadata": {},
   "source": [
    "From the heatmap, we can see that the property age has a moderate negative correlation (-0.59) to the sale price. This may be a more useful variable than year sold which has a negligible negative correlation to sale price."
   ]
  },
  {
   "cell_type": "code",
   "execution_count": 52,
   "id": "e5f2ca2a",
   "metadata": {},
   "outputs": [],
   "source": [
    "#save train_dataframe to csv\n",
    "ames_df.to_csv('../data/ames_df_dummied_train.csv',index=False)"
   ]
  },
  {
   "cell_type": "code",
   "execution_count": null,
   "id": "f803180d",
   "metadata": {},
   "outputs": [],
   "source": []
  }
 ],
 "metadata": {
  "kernelspec": {
   "display_name": "Python 3",
   "language": "python",
   "name": "python3"
  },
  "language_info": {
   "codemirror_mode": {
    "name": "ipython",
    "version": 3
   },
   "file_extension": ".py",
   "mimetype": "text/x-python",
   "name": "python",
   "nbconvert_exporter": "python",
   "pygments_lexer": "ipython3",
   "version": "3.8.8"
  }
 },
 "nbformat": 4,
 "nbformat_minor": 5
}
