{
 "cells": [
  {
   "cell_type": "markdown",
   "id": "0f5f71b4",
   "metadata": {},
   "source": [
    "# 3. Data Modelling"
   ]
  },
  {
   "cell_type": "code",
   "execution_count": 1,
   "id": "60036022",
   "metadata": {},
   "outputs": [],
   "source": [
    "import pandas as pd\n",
    "import numpy as np\n",
    "import seaborn as sns\n",
    "import matplotlib.pyplot as plt\n",
    "\n",
    "from sklearn.linear_model import LinearRegression, LassoCV, RidgeCV\n",
    "from sklearn.preprocessing import PolynomialFeatures, StandardScaler\n",
    "from sklearn.model_selection import train_test_split, cross_val_score, cross_val_predict\n",
    "from sklearn import metrics\n",
    "from sklearn.metrics import r2_score\n",
    "\n",
    "%matplotlib inline"
   ]
  },
  {
   "cell_type": "code",
   "execution_count": 2,
   "id": "8417caed",
   "metadata": {},
   "outputs": [],
   "source": [
    "ames_df = pd.read_csv('../data/ames_df_dummied_train.csv')"
   ]
  },
  {
   "cell_type": "code",
   "execution_count": 3,
   "id": "130a813b",
   "metadata": {},
   "outputs": [
    {
     "data": {
      "text/html": [
       "<div>\n",
       "<style scoped>\n",
       "    .dataframe tbody tr th:only-of-type {\n",
       "        vertical-align: middle;\n",
       "    }\n",
       "\n",
       "    .dataframe tbody tr th {\n",
       "        vertical-align: top;\n",
       "    }\n",
       "\n",
       "    .dataframe thead th {\n",
       "        text-align: right;\n",
       "    }\n",
       "</style>\n",
       "<table border=\"1\" class=\"dataframe\">\n",
       "  <thead>\n",
       "    <tr style=\"text-align: right;\">\n",
       "      <th></th>\n",
       "      <th>lot_frontage</th>\n",
       "      <th>lot_area</th>\n",
       "      <th>lot_shape</th>\n",
       "      <th>utilities</th>\n",
       "      <th>land_slope</th>\n",
       "      <th>overall_qual</th>\n",
       "      <th>overall_cond</th>\n",
       "      <th>year_built</th>\n",
       "      <th>year_remod/add</th>\n",
       "      <th>mas_vnr_area</th>\n",
       "      <th>...</th>\n",
       "      <th>sale_type_COD</th>\n",
       "      <th>sale_type_CWD</th>\n",
       "      <th>sale_type_Con</th>\n",
       "      <th>sale_type_ConLD</th>\n",
       "      <th>sale_type_ConLI</th>\n",
       "      <th>sale_type_ConLw</th>\n",
       "      <th>sale_type_New</th>\n",
       "      <th>sale_type_Oth</th>\n",
       "      <th>sale_type_WD</th>\n",
       "      <th>property_age</th>\n",
       "    </tr>\n",
       "  </thead>\n",
       "  <tbody>\n",
       "    <tr>\n",
       "      <th>0</th>\n",
       "      <td>0</td>\n",
       "      <td>13517</td>\n",
       "      <td>2</td>\n",
       "      <td>4</td>\n",
       "      <td>1</td>\n",
       "      <td>6</td>\n",
       "      <td>8</td>\n",
       "      <td>1976</td>\n",
       "      <td>2005</td>\n",
       "      <td>289.0</td>\n",
       "      <td>...</td>\n",
       "      <td>0</td>\n",
       "      <td>0</td>\n",
       "      <td>0</td>\n",
       "      <td>0</td>\n",
       "      <td>0</td>\n",
       "      <td>0</td>\n",
       "      <td>0</td>\n",
       "      <td>0</td>\n",
       "      <td>1</td>\n",
       "      <td>34</td>\n",
       "    </tr>\n",
       "    <tr>\n",
       "      <th>1</th>\n",
       "      <td>43</td>\n",
       "      <td>11492</td>\n",
       "      <td>2</td>\n",
       "      <td>4</td>\n",
       "      <td>1</td>\n",
       "      <td>7</td>\n",
       "      <td>5</td>\n",
       "      <td>1996</td>\n",
       "      <td>1997</td>\n",
       "      <td>132.0</td>\n",
       "      <td>...</td>\n",
       "      <td>0</td>\n",
       "      <td>0</td>\n",
       "      <td>0</td>\n",
       "      <td>0</td>\n",
       "      <td>0</td>\n",
       "      <td>0</td>\n",
       "      <td>0</td>\n",
       "      <td>0</td>\n",
       "      <td>1</td>\n",
       "      <td>13</td>\n",
       "    </tr>\n",
       "    <tr>\n",
       "      <th>2</th>\n",
       "      <td>68</td>\n",
       "      <td>7922</td>\n",
       "      <td>1</td>\n",
       "      <td>4</td>\n",
       "      <td>1</td>\n",
       "      <td>5</td>\n",
       "      <td>7</td>\n",
       "      <td>1953</td>\n",
       "      <td>2007</td>\n",
       "      <td>0.0</td>\n",
       "      <td>...</td>\n",
       "      <td>0</td>\n",
       "      <td>0</td>\n",
       "      <td>0</td>\n",
       "      <td>0</td>\n",
       "      <td>0</td>\n",
       "      <td>0</td>\n",
       "      <td>0</td>\n",
       "      <td>0</td>\n",
       "      <td>1</td>\n",
       "      <td>57</td>\n",
       "    </tr>\n",
       "    <tr>\n",
       "      <th>3</th>\n",
       "      <td>73</td>\n",
       "      <td>9802</td>\n",
       "      <td>1</td>\n",
       "      <td>4</td>\n",
       "      <td>1</td>\n",
       "      <td>5</td>\n",
       "      <td>5</td>\n",
       "      <td>2006</td>\n",
       "      <td>2007</td>\n",
       "      <td>0.0</td>\n",
       "      <td>...</td>\n",
       "      <td>0</td>\n",
       "      <td>0</td>\n",
       "      <td>0</td>\n",
       "      <td>0</td>\n",
       "      <td>0</td>\n",
       "      <td>0</td>\n",
       "      <td>0</td>\n",
       "      <td>0</td>\n",
       "      <td>1</td>\n",
       "      <td>4</td>\n",
       "    </tr>\n",
       "    <tr>\n",
       "      <th>4</th>\n",
       "      <td>82</td>\n",
       "      <td>14235</td>\n",
       "      <td>2</td>\n",
       "      <td>4</td>\n",
       "      <td>1</td>\n",
       "      <td>6</td>\n",
       "      <td>8</td>\n",
       "      <td>1900</td>\n",
       "      <td>1993</td>\n",
       "      <td>0.0</td>\n",
       "      <td>...</td>\n",
       "      <td>0</td>\n",
       "      <td>0</td>\n",
       "      <td>0</td>\n",
       "      <td>0</td>\n",
       "      <td>0</td>\n",
       "      <td>0</td>\n",
       "      <td>0</td>\n",
       "      <td>0</td>\n",
       "      <td>1</td>\n",
       "      <td>110</td>\n",
       "    </tr>\n",
       "  </tbody>\n",
       "</table>\n",
       "<p>5 rows × 224 columns</p>\n",
       "</div>"
      ],
      "text/plain": [
       "   lot_frontage  lot_area  lot_shape  utilities  land_slope  overall_qual  \\\n",
       "0             0     13517          2          4           1             6   \n",
       "1            43     11492          2          4           1             7   \n",
       "2            68      7922          1          4           1             5   \n",
       "3            73      9802          1          4           1             5   \n",
       "4            82     14235          2          4           1             6   \n",
       "\n",
       "   overall_cond  year_built  year_remod/add  mas_vnr_area  ...  sale_type_COD  \\\n",
       "0             8        1976            2005         289.0  ...              0   \n",
       "1             5        1996            1997         132.0  ...              0   \n",
       "2             7        1953            2007           0.0  ...              0   \n",
       "3             5        2006            2007           0.0  ...              0   \n",
       "4             8        1900            1993           0.0  ...              0   \n",
       "\n",
       "   sale_type_CWD  sale_type_Con  sale_type_ConLD  sale_type_ConLI  \\\n",
       "0              0              0                0                0   \n",
       "1              0              0                0                0   \n",
       "2              0              0                0                0   \n",
       "3              0              0                0                0   \n",
       "4              0              0                0                0   \n",
       "\n",
       "   sale_type_ConLw  sale_type_New  sale_type_Oth  sale_type_WD   property_age  \n",
       "0                0              0              0              1            34  \n",
       "1                0              0              0              1            13  \n",
       "2                0              0              0              1            57  \n",
       "3                0              0              0              1             4  \n",
       "4                0              0              0              1           110  \n",
       "\n",
       "[5 rows x 224 columns]"
      ]
     },
     "execution_count": 3,
     "metadata": {},
     "output_type": "execute_result"
    }
   ],
   "source": [
    "ames_df.head()"
   ]
  },
  {
   "cell_type": "markdown",
   "id": "4c309eb9",
   "metadata": {},
   "source": [
    "## Model Prep: Create features matrix ( X ) and target vector ( y ) "
   ]
  },
  {
   "cell_type": "code",
   "execution_count": 4,
   "id": "01811aa6",
   "metadata": {},
   "outputs": [],
   "source": [
    "# Create features matrix (X) and target vector (y)\n",
    "features = [col for col in ames_df._get_numeric_data().columns if col != 'saleprice']\n",
    "X = ames_df[features]\n",
    "y = ames_df['saleprice']"
   ]
  },
  {
   "cell_type": "markdown",
   "id": "aff2faec",
   "metadata": {},
   "source": [
    "## Baseline Model"
   ]
  },
  {
   "cell_type": "code",
   "execution_count": 5,
   "id": "10003f2c",
   "metadata": {},
   "outputs": [
    {
     "data": {
      "text/plain": [
       "177546.35420841683"
      ]
     },
     "execution_count": 5,
     "metadata": {},
     "output_type": "execute_result"
    }
   ],
   "source": [
    "# Baseline Model - prediction for null model\n",
    "baseline_preds = y.mean()\n",
    "baseline_preds"
   ]
  },
  {
   "cell_type": "code",
   "execution_count": 6,
   "id": "ef182f63",
   "metadata": {},
   "outputs": [],
   "source": [
    "# full dataset includes X_train + X_test\n",
    "ames_df['baseline_preds'] = ames_df['saleprice'].mean()"
   ]
  },
  {
   "cell_type": "code",
   "execution_count": 7,
   "id": "2f9e4da6",
   "metadata": {},
   "outputs": [
    {
     "data": {
      "text/plain": [
       "68353.36213533829"
      ]
     },
     "execution_count": 7,
     "metadata": {},
     "output_type": "execute_result"
    }
   ],
   "source": [
    "# root mean square error\n",
    "baseline_rmse = np.sqrt(metrics.mean_squared_error(ames_df['saleprice'], ames_df['baseline_preds']))\n",
    "baseline_rmse"
   ]
  },
  {
   "cell_type": "code",
   "execution_count": 8,
   "id": "56b73a7a",
   "metadata": {},
   "outputs": [],
   "source": [
    "# drop 'baseline_preds'\n",
    "ames_df.drop(['baseline_preds'], axis=1, inplace=True)"
   ]
  },
  {
   "cell_type": "markdown",
   "id": "5ac4d1c8",
   "metadata": {},
   "source": [
    "## Model Prep: Train/test split"
   ]
  },
  {
   "cell_type": "code",
   "execution_count": 9,
   "id": "91116d92",
   "metadata": {},
   "outputs": [],
   "source": [
    "# perform train/test split\n",
    "X_train, X_test, y_train, y_test = train_test_split(X, y, test_size = 0.3, random_state=42)"
   ]
  },
  {
   "cell_type": "markdown",
   "id": "a0bc615d",
   "metadata": {},
   "source": [
    "## Model Prep: Scaling"
   ]
  },
  {
   "cell_type": "code",
   "execution_count": 10,
   "id": "f44d4db6",
   "metadata": {},
   "outputs": [],
   "source": [
    "# perform scaling \n",
    "ss = StandardScaler()\n",
    "ss.fit(X_train)\n",
    "X_train = ss.transform(X_train)\n",
    "X_test = ss.transform(X_test)"
   ]
  },
  {
   "cell_type": "markdown",
   "id": "63f2bafc",
   "metadata": {},
   "source": [
    "## Model 1: Linear Regression"
   ]
  },
  {
   "cell_type": "code",
   "execution_count": 11,
   "id": "9270baa9",
   "metadata": {},
   "outputs": [],
   "source": [
    "# instantiate model\n",
    "lr = LinearRegression()"
   ]
  },
  {
   "cell_type": "code",
   "execution_count": 12,
   "id": "6d370a5e",
   "metadata": {},
   "outputs": [
    {
     "data": {
      "text/plain": [
       "LinearRegression()"
      ]
     },
     "execution_count": 12,
     "metadata": {},
     "output_type": "execute_result"
    }
   ],
   "source": [
    "# fit linear regression model\n",
    "lr.fit(X_train, y_train)"
   ]
  },
  {
   "cell_type": "code",
   "execution_count": 13,
   "id": "e87a76a0",
   "metadata": {},
   "outputs": [
    {
     "data": {
      "text/plain": [
       "0.9344373591113845"
      ]
     },
     "execution_count": 13,
     "metadata": {},
     "output_type": "execute_result"
    }
   ],
   "source": [
    "# train score for linear regression\n",
    "lr.score(X_train, y_train)"
   ]
  },
  {
   "cell_type": "code",
   "execution_count": 14,
   "id": "1b24b627",
   "metadata": {},
   "outputs": [
    {
     "data": {
      "text/plain": [
       "-3.577047395446428e+23"
      ]
     },
     "execution_count": 14,
     "metadata": {},
     "output_type": "execute_result"
    }
   ],
   "source": [
    "# cross val train score\n",
    "lr_scores = cross_val_score(lr, X_train, y_train, cv=5)\n",
    "lr_scores.mean()"
   ]
  },
  {
   "cell_type": "code",
   "execution_count": 15,
   "id": "3ef4c42b",
   "metadata": {},
   "outputs": [
    {
     "data": {
      "text/plain": [
       "-3.18779729006921e+21"
      ]
     },
     "execution_count": 15,
     "metadata": {},
     "output_type": "execute_result"
    }
   ],
   "source": [
    "# test score for linear regression\n",
    "lr.score(X_test, y_test)"
   ]
  },
  {
   "cell_type": "markdown",
   "id": "fadbaefb",
   "metadata": {},
   "source": [
    "The cross validation score and test score for the linear regression model is negative."
   ]
  },
  {
   "cell_type": "markdown",
   "id": "0df2dd1f",
   "metadata": {},
   "source": [
    "## Model 2: Ridge Regression"
   ]
  },
  {
   "cell_type": "code",
   "execution_count": 16,
   "id": "e5a33835",
   "metadata": {},
   "outputs": [],
   "source": [
    "# instatiate model\n",
    "ridge = RidgeCV (alphas=np.linspace(.1, 10, 100))"
   ]
  },
  {
   "cell_type": "code",
   "execution_count": 17,
   "id": "da0afd25",
   "metadata": {},
   "outputs": [
    {
     "data": {
      "text/plain": [
       "0.8500846335924497"
      ]
     },
     "execution_count": 17,
     "metadata": {},
     "output_type": "execute_result"
    }
   ],
   "source": [
    "# perform cross validation using ridge regression\n",
    "ridge_scores = cross_val_score(ridge, X_train, y_train, cv=5)\n",
    "ridge_scores.mean()"
   ]
  },
  {
   "cell_type": "code",
   "execution_count": 18,
   "id": "2c4b5af9",
   "metadata": {},
   "outputs": [
    {
     "data": {
      "text/plain": [
       "10.0"
      ]
     },
     "execution_count": 18,
     "metadata": {},
     "output_type": "execute_result"
    }
   ],
   "source": [
    "# optimal ridge\n",
    "optimal_ridge = RidgeCV(cv=5)\n",
    "optimal_ridge.fit(X_train, y_train)\n",
    "\n",
    "optimal_ridge.alpha_"
   ]
  },
  {
   "cell_type": "code",
   "execution_count": 19,
   "id": "6d4b5541",
   "metadata": {},
   "outputs": [],
   "source": [
    "# perform cross validation using optimal alpha\n",
    "ridge = RidgeCV (alphas=optimal_ridge.alpha_)\n",
    "ridge_scores = cross_val_score(ridge, X_train, y_train, cv=5)"
   ]
  },
  {
   "cell_type": "code",
   "execution_count": 20,
   "id": "a45ff430",
   "metadata": {},
   "outputs": [
    {
     "data": {
      "text/plain": [
       "RidgeCV(alphas=array(10.))"
      ]
     },
     "execution_count": 20,
     "metadata": {},
     "output_type": "execute_result"
    }
   ],
   "source": [
    "ridge.fit(X_train, y_train)"
   ]
  },
  {
   "cell_type": "code",
   "execution_count": 21,
   "id": "31cc2d23",
   "metadata": {},
   "outputs": [
    {
     "data": {
      "text/plain": [
       "0.9343030124903327"
      ]
     },
     "execution_count": 21,
     "metadata": {},
     "output_type": "execute_result"
    }
   ],
   "source": [
    "# ridge train score \n",
    "ridge.score(X_train, y_train)"
   ]
  },
  {
   "cell_type": "code",
   "execution_count": 22,
   "id": "d6ce32e4",
   "metadata": {},
   "outputs": [
    {
     "data": {
      "text/plain": [
       "0.8500846335924497"
      ]
     },
     "execution_count": 22,
     "metadata": {},
     "output_type": "execute_result"
    }
   ],
   "source": [
    "# ridge cross val train score\n",
    "ridge_scores.mean()"
   ]
  },
  {
   "cell_type": "code",
   "execution_count": 23,
   "id": "7dbf5d67",
   "metadata": {},
   "outputs": [
    {
     "data": {
      "text/plain": [
       "0.7853277563100876"
      ]
     },
     "execution_count": 23,
     "metadata": {},
     "output_type": "execute_result"
    }
   ],
   "source": [
    "# ridge test score \n",
    "ridge.score(X_test, y_test)"
   ]
  },
  {
   "cell_type": "markdown",
   "id": "730c97b4",
   "metadata": {},
   "source": [
    "The difference between the ridge cross validation score and the ridge test score is 0.065."
   ]
  },
  {
   "cell_type": "markdown",
   "id": "634c3f52",
   "metadata": {},
   "source": [
    "## Model 3: Lasso Regression"
   ]
  },
  {
   "cell_type": "code",
   "execution_count": 24,
   "id": "2d506bb3",
   "metadata": {},
   "outputs": [],
   "source": [
    "# instantiate model\n",
    "lasso = LassoCV(n_alphas=200)"
   ]
  },
  {
   "cell_type": "code",
   "execution_count": 25,
   "id": "5123dd57",
   "metadata": {},
   "outputs": [
    {
     "data": {
      "text/plain": [
       "LassoCV(n_alphas=200)"
      ]
     },
     "execution_count": 25,
     "metadata": {},
     "output_type": "execute_result"
    }
   ],
   "source": [
    "# fit lasso model to train data\n",
    "lasso.fit(X_train, y_train)"
   ]
  },
  {
   "cell_type": "code",
   "execution_count": 26,
   "id": "2fa5a900",
   "metadata": {},
   "outputs": [
    {
     "data": {
      "text/plain": [
       "0.9231701602750695"
      ]
     },
     "execution_count": 26,
     "metadata": {},
     "output_type": "execute_result"
    }
   ],
   "source": [
    "# lasso train score\n",
    "lasso.score(X_train, y_train)"
   ]
  },
  {
   "cell_type": "code",
   "execution_count": 27,
   "id": "e66f3d36",
   "metadata": {},
   "outputs": [
    {
     "data": {
      "text/plain": [
       "0.8755191933524504"
      ]
     },
     "execution_count": 27,
     "metadata": {},
     "output_type": "execute_result"
    }
   ],
   "source": [
    "# perform cross validation using lasso regression\n",
    "lasso_scores = cross_val_score(lasso, X_train, y_train, cv=5)\n",
    "lasso_scores.mean()"
   ]
  },
  {
   "cell_type": "code",
   "execution_count": 28,
   "id": "39eb9530",
   "metadata": {},
   "outputs": [
    {
     "data": {
      "text/plain": [
       "0.8084454499116965"
      ]
     },
     "execution_count": 28,
     "metadata": {},
     "output_type": "execute_result"
    }
   ],
   "source": [
    "# lasso test score\n",
    "lasso.score(X_test, y_test)"
   ]
  },
  {
   "cell_type": "markdown",
   "id": "d2353f2e",
   "metadata": {},
   "source": [
    "The difference between the lasso cross validation score and the lasso test score is 0.0675."
   ]
  },
  {
   "cell_type": "markdown",
   "id": "3cce2361",
   "metadata": {},
   "source": [
    "## Model Evaluation"
   ]
  },
  {
   "cell_type": "markdown",
   "id": "ba6737fe",
   "metadata": {},
   "source": [
    "Since the ridge regression model has the smallest difference of 0.065 between cross validation score and test score, and the cross validation score is 0.850, this model will be chosen to predict our saleprice."
   ]
  },
  {
   "cell_type": "markdown",
   "id": "f591746f",
   "metadata": {},
   "source": [
    "## Prediction of sale price"
   ]
  },
  {
   "cell_type": "code",
   "execution_count": 29,
   "id": "bcd32cb0",
   "metadata": {},
   "outputs": [],
   "source": [
    "# predict sale price from x_test\n",
    "y_pred = ridge.predict(X_test)"
   ]
  },
  {
   "cell_type": "code",
   "execution_count": 30,
   "id": "ea75f1a0",
   "metadata": {},
   "outputs": [
    {
     "data": {
      "text/plain": [
       "0.7853277563100876"
      ]
     },
     "execution_count": 30,
     "metadata": {},
     "output_type": "execute_result"
    }
   ],
   "source": [
    "# R^2 score for test and predictions\n",
    "r2_score(y_test, y_pred)"
   ]
  },
  {
   "cell_type": "markdown",
   "id": "04df2477",
   "metadata": {},
   "source": [
    "The R2 score of 0.785 for the test and predicted sale price implies that 78.5% of the variability in y is explained by the x-variables in our model."
   ]
  },
  {
   "cell_type": "code",
   "execution_count": 31,
   "id": "de5220c7",
   "metadata": {},
   "outputs": [],
   "source": [
    "# residuals for test and predictions\n",
    "residuals = y_test - y_pred"
   ]
  },
  {
   "cell_type": "code",
   "execution_count": 32,
   "id": "cfa7b15d",
   "metadata": {},
   "outputs": [
    {
     "data": {
      "image/png": "[encoded data removed]",
      "text/plain": [
       "<Figure size 576x432 with 1 Axes>"
      ]
     },
     "metadata": {
      "needs_background": "light"
     },
     "output_type": "display_data"
    }
   ],
   "source": [
    "# histogram for distribution of residuals\n",
    "plt.figure(figsize=(8, 6))\n",
    "plt.hist(residuals, bins=50)\n",
    "\n",
    "# set limits for x-axis\n",
    "plt.xlim(-150000,150000)\n",
    "\n",
    "#set title and x,y labels\n",
    "plt.title(\"Distribution of Residuals\", pad=30, weight='bold', size=20)\n",
    "plt.xlabel('Residuals', labelpad=20, size=14)\n",
    "plt.ylabel('No. of Residuals', labelpad=20, size=14);"
   ]
  },
  {
   "cell_type": "markdown",
   "id": "cd595654",
   "metadata": {},
   "source": [
    "The above histogram shows that the errors are normally distributed."
   ]
  },
  {
   "cell_type": "code",
   "execution_count": 33,
   "id": "61095b3a",
   "metadata": {},
   "outputs": [
    {
     "data": {
      "image/png": "[encoded data removed]",
      "text/plain": [
       "<Figure size 576x432 with 1 Axes>"
      ]
     },
     "metadata": {
      "needs_background": "light"
     },
     "output_type": "display_data"
    }
   ],
   "source": [
    "#scatter plot for predicted sale price and residuals\n",
    "plt.figure(figsize=(8, 6))\n",
    "\n",
    "#create scatter plot and horizontal line \n",
    "plt.scatter(y_pred, residuals);\n",
    "plt.axhline(0, color='orange');\n",
    "\n",
    "#set title and x,y labels\n",
    "plt.title(\"Scatter plot of Predicted Sale Price and Residuals\", pad=30, weight='bold', size=20)\n",
    "plt.xlabel('Predicted Sale Price', labelpad=20, size=14)\n",
    "plt.ylabel('Residuals', labelpad=20, size=14);"
   ]
  },
  {
   "cell_type": "markdown",
   "id": "515cfecb",
   "metadata": {},
   "source": [
    "From the scatter plot of the predicted sale price and residuals, there is an equal variance of errors with the exception of a single outlier. "
   ]
  },
  {
   "cell_type": "markdown",
   "id": "45c7eecc",
   "metadata": {},
   "source": [
    "From the above plots, the model satistfies the 5 assumptions of LINEM.\n",
    "1. L - There is a linear relationship.\n",
    "2. I - The errors are independent\n",
    "3. N - The errors are normally distributed\n",
    "4. E - There is an equal variance of errors\n",
    "5. M - There is no multicollinearity"
   ]
  },
  {
   "cell_type": "code",
   "execution_count": 34,
   "id": "8fae45a9",
   "metadata": {},
   "outputs": [
    {
     "data": {
      "text/plain": [
       "178493.38511095205"
      ]
     },
     "execution_count": 34,
     "metadata": {},
     "output_type": "execute_result"
    }
   ],
   "source": [
    "y_train.mean()"
   ]
  },
  {
   "cell_type": "code",
   "execution_count": 35,
   "id": "a7a29b98",
   "metadata": {},
   "outputs": [
    {
     "data": {
      "text/plain": [
       "175337.6694490818"
      ]
     },
     "execution_count": 35,
     "metadata": {},
     "output_type": "execute_result"
    }
   ],
   "source": [
    "y_test.mean()"
   ]
  },
  {
   "cell_type": "code",
   "execution_count": 36,
   "id": "edc07d3f",
   "metadata": {},
   "outputs": [
    {
     "data": {
      "text/plain": [
       "176442.61491507676"
      ]
     },
     "execution_count": 36,
     "metadata": {},
     "output_type": "execute_result"
    }
   ],
   "source": [
    "y_pred.mean()"
   ]
  },
  {
   "cell_type": "code",
   "execution_count": 37,
   "id": "be9ffcf3",
   "metadata": {},
   "outputs": [
    {
     "data": {
      "text/plain": [
       "1104.9454659949697"
      ]
     },
     "execution_count": 37,
     "metadata": {},
     "output_type": "execute_result"
    }
   ],
   "source": [
    "y_pred.mean() - y_test.mean()"
   ]
  },
  {
   "cell_type": "markdown",
   "id": "134bc7d8",
   "metadata": {},
   "source": [
    "Comparing the means of the y_test and y_pred, the difference is 1104. "
   ]
  },
  {
   "cell_type": "markdown",
   "id": "8f94b0f3",
   "metadata": {},
   "source": [
    "## Comparison of RMSE for Ridge Model and Null Model"
   ]
  },
  {
   "cell_type": "code",
   "execution_count": 38,
   "id": "587b2759",
   "metadata": {},
   "outputs": [
    {
     "data": {
      "text/plain": [
       "68353.36213533829"
      ]
     },
     "execution_count": 38,
     "metadata": {},
     "output_type": "execute_result"
    }
   ],
   "source": [
    "# RMSE for null model\n",
    "baseline_rmse"
   ]
  },
  {
   "cell_type": "code",
   "execution_count": 39,
   "id": "d8031610",
   "metadata": {},
   "outputs": [
    {
     "data": {
      "text/plain": [
       "30795.63591502156"
      ]
     },
     "execution_count": 39,
     "metadata": {},
     "output_type": "execute_result"
    }
   ],
   "source": [
    "# RMSE for ridge model\n",
    "np.sqrt(metrics.mean_squared_error(y_test, y_pred))"
   ]
  },
  {
   "cell_type": "markdown",
   "id": "4f04d5d7",
   "metadata": {},
   "source": [
    "The RMSE for the ridge model is 30,796 while the RMSE for the null model is 68,353. Therefore, the ridge model performs better than the null model in predicting the sale price. "
   ]
  },
  {
   "cell_type": "markdown",
   "id": "7657e339",
   "metadata": {},
   "source": [
    "# 4. Conclusions and Recommendations"
   ]
  },
  {
   "cell_type": "markdown",
   "id": "3b5c85da",
   "metadata": {},
   "source": [
    "The Ridge Regression model is a good model to use to predict the sale price of properties in Ames. It would perform better than the baseline model since it has a lower RMSE score. However, the model performance can be improved by refining the features in the dataset. More analysis can be done to examine the collinearity between the features. Those that show high collinearity can be refined by dropping the feature that has lower colinearity to the sale price. "
   ]
  },
  {
   "cell_type": "code",
   "execution_count": null,
   "id": "a8826a2b",
   "metadata": {},
   "outputs": [],
   "source": []
  }
 ],
 "metadata": {
  "kernelspec": {
   "display_name": "Python 3",
   "language": "python",
   "name": "python3"
  },
  "language_info": {
   "codemirror_mode": {
    "name": "ipython",
    "version": 3
   },
   "file_extension": ".py",
   "mimetype": "text/x-python",
   "name": "python",
   "nbconvert_exporter": "python",
   "pygments_lexer": "ipython3",
   "version": "3.8.8"
  }
 },
 "nbformat": 4,
 "nbformat_minor": 5
}
